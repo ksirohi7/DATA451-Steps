{
 "cells": [
  {
   "cell_type": "markdown",
   "source": [
    "# Merge Behavioral Ground Truth with Accelerometer Features"
   ],
   "metadata": {
    "collapsed": false
   },
   "id": "41719ca01cabf522"
  },
  {
   "cell_type": "markdown",
   "source": [
    "## Setup"
   ],
   "metadata": {
    "collapsed": false
   },
   "id": "3b731ed001d9b8d8"
  },
  {
   "cell_type": "code",
   "execution_count": 26,
   "id": "initial_id",
   "metadata": {
    "collapsed": true,
    "ExecuteTime": {
     "end_time": "2024-04-02T20:16:27.455045800Z",
     "start_time": "2024-04-02T20:16:27.449970200Z"
    }
   },
   "outputs": [],
   "source": [
    "import pandas as pd\n",
    "import numpy as np\n",
    "import os"
   ]
  },
  {
   "cell_type": "markdown",
   "source": [
    "## Merge"
   ],
   "metadata": {
    "collapsed": false
   },
   "id": "f45fb748cd5e2a03"
  },
  {
   "cell_type": "markdown",
   "source": [
    "**1. Get list of obs + id**"
   ],
   "metadata": {
    "collapsed": false
   },
   "id": "33e3a01c9bac507c"
  },
  {
   "cell_type": "code",
   "execution_count": 21,
   "outputs": [
    {
     "data": {
      "text/plain": "0     102_1\n1     102_2\n2     116_1\n3     116_2\n4     117_1\n5     117_2\n6     122_1\n7     122_2\n8     124_1\n9     124_2\n10    126_1\n11    126_2\n12    127_1\n13    127_2\n14    128_1\n15    128_2\n16    129_1\n17    129_2\n18    130_1\n19    130_2\n20    131_1\n21    131_2\n22    132_1\n23    132_2\n24    133_1\n25    133_2\n26    134_1\n27    134_2\n28    135_1\n29    135_2\n30    136_1\n31    136_2\n32    138_1\n33    138_2\n34    139_1\n35    139_2\n36    140_1\n37    140_2\n38    141_1\n39    141_2\n40    143_1\n41    143_2\n42    144_1\n43    144_2\n44    150_1\n45    150_2\n46    154_1\n47    154_2\ndtype: object"
     },
     "execution_count": 21,
     "metadata": {},
     "output_type": "execute_result"
    }
   ],
   "source": [
    "log = pd.read_csv(\"do_log_final.csv\")\n",
    "id_obs = log[\"id\"].astype(str) + \"_\" + log[\"do\"].astype(str)\n",
    "id_obs"
   ],
   "metadata": {
    "collapsed": false,
    "ExecuteTime": {
     "end_time": "2024-04-02T20:07:04.424947300Z",
     "start_time": "2024-04-02T20:07:04.409655800Z"
    }
   },
   "id": "b92e1fb96b74eb3d"
  },
  {
   "cell_type": "markdown",
   "source": [
    "**2. Get ground truth**"
   ],
   "metadata": {
    "collapsed": false
   },
   "id": "af08a598dcc0bb03"
  },
  {
   "cell_type": "code",
   "execution_count": 10,
   "outputs": [
    {
     "data": {
      "text/plain": "         id  observation        date            date_time  \\\n0       102            1  2019-07-24  2019-07-24 08:20:19   \n1       102            1  2019-07-24  2019-07-24 08:20:20   \n2       102            1  2019-07-24  2019-07-24 08:20:21   \n3       102            1  2019-07-24  2019-07-24 08:20:22   \n4       102            1  2019-07-24  2019-07-24 08:20:23   \n...     ...          ...         ...                  ...   \n414579  154            2  2020-02-23  2020-02-23 15:55:56   \n414580  154            2  2020-02-23  2020-02-23 15:55:57   \n414581  154            2  2020-02-23  2020-02-23 15:55:58   \n414582  154            2  2020-02-23  2020-02-23 15:55:59   \n414583  154            2  2020-02-23  2020-02-23 15:56:00   \n\n                                activity_type broad_activity_type  \\\n0                                WRK- general      work_education   \n1                                WRK- general      work_education   \n2                                WRK- general      work_education   \n3                                WRK- general      work_education   \n4                                WRK- general      work_education   \n...                                       ...                 ...   \n414579  EDU- taking class, research, homework      work_education   \n414580  EDU- taking class, research, homework      work_education   \n414581  EDU- taking class, research, homework      work_education   \n414582  EDU- taking class, research, homework      work_education   \n414583  EDU- taking class, research, homework      work_education   \n\n                                work_type  posture  sedentary_not  \\\n0       SP- Education and Health Services    stand  not_sedentary   \n1       SP- Education and Health Services    stand  not_sedentary   \n2       SP- Education and Health Services    stand  not_sedentary   \n3       SP- Education and Health Services    stand  not_sedentary   \n4       SP- Education and Health Services    stand  not_sedentary   \n...                                   ...      ...            ...   \n414579                                NaN  sitting      sedentary   \n414580                                NaN  sitting      sedentary   \n414581                                NaN  sitting      sedentary   \n414582                                NaN  sitting      sedentary   \n414583                                NaN  sitting      sedentary   \n\n        walking_not activity_intensity  quality  step  \n0       not_walking              light  Codable     0  \n1       not_walking              light  Codable     0  \n2       not_walking              light  Codable     0  \n3       not_walking              light  Codable     0  \n4       not_walking              light  Codable     0  \n...             ...                ...      ...   ...  \n414579  not_walking          sedentary  Codable     0  \n414580  not_walking          sedentary  Codable     0  \n414581  not_walking          sedentary  Codable     0  \n414582  not_walking          sedentary  Codable     0  \n414583  not_walking          sedentary  Codable     0  \n\n[414584 rows x 13 columns]",
      "text/html": "<div>\n<style scoped>\n    .dataframe tbody tr th:only-of-type {\n        vertical-align: middle;\n    }\n\n    .dataframe tbody tr th {\n        vertical-align: top;\n    }\n\n    .dataframe thead th {\n        text-align: right;\n    }\n</style>\n<table border=\"1\" class=\"dataframe\">\n  <thead>\n    <tr style=\"text-align: right;\">\n      <th></th>\n      <th>id</th>\n      <th>observation</th>\n      <th>date</th>\n      <th>date_time</th>\n      <th>activity_type</th>\n      <th>broad_activity_type</th>\n      <th>work_type</th>\n      <th>posture</th>\n      <th>sedentary_not</th>\n      <th>walking_not</th>\n      <th>activity_intensity</th>\n      <th>quality</th>\n      <th>step</th>\n    </tr>\n  </thead>\n  <tbody>\n    <tr>\n      <th>0</th>\n      <td>102</td>\n      <td>1</td>\n      <td>2019-07-24</td>\n      <td>2019-07-24 08:20:19</td>\n      <td>WRK- general</td>\n      <td>work_education</td>\n      <td>SP- Education and Health Services</td>\n      <td>stand</td>\n      <td>not_sedentary</td>\n      <td>not_walking</td>\n      <td>light</td>\n      <td>Codable</td>\n      <td>0</td>\n    </tr>\n    <tr>\n      <th>1</th>\n      <td>102</td>\n      <td>1</td>\n      <td>2019-07-24</td>\n      <td>2019-07-24 08:20:20</td>\n      <td>WRK- general</td>\n      <td>work_education</td>\n      <td>SP- Education and Health Services</td>\n      <td>stand</td>\n      <td>not_sedentary</td>\n      <td>not_walking</td>\n      <td>light</td>\n      <td>Codable</td>\n      <td>0</td>\n    </tr>\n    <tr>\n      <th>2</th>\n      <td>102</td>\n      <td>1</td>\n      <td>2019-07-24</td>\n      <td>2019-07-24 08:20:21</td>\n      <td>WRK- general</td>\n      <td>work_education</td>\n      <td>SP- Education and Health Services</td>\n      <td>stand</td>\n      <td>not_sedentary</td>\n      <td>not_walking</td>\n      <td>light</td>\n      <td>Codable</td>\n      <td>0</td>\n    </tr>\n    <tr>\n      <th>3</th>\n      <td>102</td>\n      <td>1</td>\n      <td>2019-07-24</td>\n      <td>2019-07-24 08:20:22</td>\n      <td>WRK- general</td>\n      <td>work_education</td>\n      <td>SP- Education and Health Services</td>\n      <td>stand</td>\n      <td>not_sedentary</td>\n      <td>not_walking</td>\n      <td>light</td>\n      <td>Codable</td>\n      <td>0</td>\n    </tr>\n    <tr>\n      <th>4</th>\n      <td>102</td>\n      <td>1</td>\n      <td>2019-07-24</td>\n      <td>2019-07-24 08:20:23</td>\n      <td>WRK- general</td>\n      <td>work_education</td>\n      <td>SP- Education and Health Services</td>\n      <td>stand</td>\n      <td>not_sedentary</td>\n      <td>not_walking</td>\n      <td>light</td>\n      <td>Codable</td>\n      <td>0</td>\n    </tr>\n    <tr>\n      <th>...</th>\n      <td>...</td>\n      <td>...</td>\n      <td>...</td>\n      <td>...</td>\n      <td>...</td>\n      <td>...</td>\n      <td>...</td>\n      <td>...</td>\n      <td>...</td>\n      <td>...</td>\n      <td>...</td>\n      <td>...</td>\n      <td>...</td>\n    </tr>\n    <tr>\n      <th>414579</th>\n      <td>154</td>\n      <td>2</td>\n      <td>2020-02-23</td>\n      <td>2020-02-23 15:55:56</td>\n      <td>EDU- taking class, research, homework</td>\n      <td>work_education</td>\n      <td>NaN</td>\n      <td>sitting</td>\n      <td>sedentary</td>\n      <td>not_walking</td>\n      <td>sedentary</td>\n      <td>Codable</td>\n      <td>0</td>\n    </tr>\n    <tr>\n      <th>414580</th>\n      <td>154</td>\n      <td>2</td>\n      <td>2020-02-23</td>\n      <td>2020-02-23 15:55:57</td>\n      <td>EDU- taking class, research, homework</td>\n      <td>work_education</td>\n      <td>NaN</td>\n      <td>sitting</td>\n      <td>sedentary</td>\n      <td>not_walking</td>\n      <td>sedentary</td>\n      <td>Codable</td>\n      <td>0</td>\n    </tr>\n    <tr>\n      <th>414581</th>\n      <td>154</td>\n      <td>2</td>\n      <td>2020-02-23</td>\n      <td>2020-02-23 15:55:58</td>\n      <td>EDU- taking class, research, homework</td>\n      <td>work_education</td>\n      <td>NaN</td>\n      <td>sitting</td>\n      <td>sedentary</td>\n      <td>not_walking</td>\n      <td>sedentary</td>\n      <td>Codable</td>\n      <td>0</td>\n    </tr>\n    <tr>\n      <th>414582</th>\n      <td>154</td>\n      <td>2</td>\n      <td>2020-02-23</td>\n      <td>2020-02-23 15:55:59</td>\n      <td>EDU- taking class, research, homework</td>\n      <td>work_education</td>\n      <td>NaN</td>\n      <td>sitting</td>\n      <td>sedentary</td>\n      <td>not_walking</td>\n      <td>sedentary</td>\n      <td>Codable</td>\n      <td>0</td>\n    </tr>\n    <tr>\n      <th>414583</th>\n      <td>154</td>\n      <td>2</td>\n      <td>2020-02-23</td>\n      <td>2020-02-23 15:56:00</td>\n      <td>EDU- taking class, research, homework</td>\n      <td>work_education</td>\n      <td>NaN</td>\n      <td>sitting</td>\n      <td>sedentary</td>\n      <td>not_walking</td>\n      <td>sedentary</td>\n      <td>Codable</td>\n      <td>0</td>\n    </tr>\n  </tbody>\n</table>\n<p>414584 rows × 13 columns</p>\n</div>"
     },
     "execution_count": 10,
     "metadata": {},
     "output_type": "execute_result"
    }
   ],
   "source": [
    "gt = pd.read_csv(\"merged_groundtruth_secbysec.csv\", low_memory=False)\n",
    "gt"
   ],
   "metadata": {
    "collapsed": false,
    "ExecuteTime": {
     "end_time": "2024-04-02T19:58:57.666666900Z",
     "start_time": "2024-04-02T19:58:56.162137100Z"
    }
   },
   "id": "c3f6cf67b1927d5e"
  },
  {
   "cell_type": "markdown",
   "source": [
    "**3. Create merged datasets destination directory**"
   ],
   "metadata": {
    "collapsed": false
   },
   "id": "86b69881c02339a"
  },
  {
   "cell_type": "code",
   "execution_count": null,
   "outputs": [],
   "source": [
    "folder_path = \"classifier_trainsets\"\n",
    "if not os.path.exists(folder_path):\n",
    "    os.makedirs(folder_path)"
   ],
   "metadata": {
    "collapsed": false
   },
   "id": "e3be15c8d47fbf60"
  },
  {
   "cell_type": "markdown",
   "source": [
    "**4. Merge and output**\n",
    "\n",
    "NOTE: No step ground truth, this training set to be used for classifier only. Will add additional code to output ground truth with steps for peak detection"
   ],
   "metadata": {
    "collapsed": false
   },
   "id": "b98aad7a3b6d69b9"
  },
  {
   "cell_type": "code",
   "execution_count": 31,
   "outputs": [
    {
     "name": "stdout",
     "output_type": "stream",
     "text": [
      "File not found: ACT24_102_1.csv\n",
      "File not found: ACT24_102_2.csv\n",
      "File output:    classifier_trainsets/ACT24_116_1_CTRAIN.csv\n",
      "File output:    classifier_trainsets/ACT24_116_2_CTRAIN.csv\n",
      "File output:    classifier_trainsets/ACT24_117_1_CTRAIN.csv\n",
      "File output:    classifier_trainsets/ACT24_117_2_CTRAIN.csv\n",
      "File output:    classifier_trainsets/ACT24_122_1_CTRAIN.csv\n",
      "File output:    classifier_trainsets/ACT24_122_2_CTRAIN.csv\n",
      "File output:    classifier_trainsets/ACT24_124_1_CTRAIN.csv\n",
      "File output:    classifier_trainsets/ACT24_124_2_CTRAIN.csv\n",
      "File output:    classifier_trainsets/ACT24_126_1_CTRAIN.csv\n",
      "File output:    classifier_trainsets/ACT24_126_2_CTRAIN.csv\n",
      "File output:    classifier_trainsets/ACT24_127_1_CTRAIN.csv\n",
      "File output:    classifier_trainsets/ACT24_127_2_CTRAIN.csv\n",
      "File output:    classifier_trainsets/ACT24_128_1_CTRAIN.csv\n",
      "File output:    classifier_trainsets/ACT24_128_2_CTRAIN.csv\n",
      "File output:    classifier_trainsets/ACT24_129_1_CTRAIN.csv\n",
      "File output:    classifier_trainsets/ACT24_129_2_CTRAIN.csv\n",
      "File output:    classifier_trainsets/ACT24_130_1_CTRAIN.csv\n",
      "File output:    classifier_trainsets/ACT24_130_2_CTRAIN.csv\n",
      "File output:    classifier_trainsets/ACT24_131_1_CTRAIN.csv\n",
      "File output:    classifier_trainsets/ACT24_131_2_CTRAIN.csv\n",
      "File output:    classifier_trainsets/ACT24_132_1_CTRAIN.csv\n",
      "File output:    classifier_trainsets/ACT24_132_2_CTRAIN.csv\n",
      "File output:    classifier_trainsets/ACT24_133_1_CTRAIN.csv\n",
      "File output:    classifier_trainsets/ACT24_133_2_CTRAIN.csv\n",
      "File output:    classifier_trainsets/ACT24_134_1_CTRAIN.csv\n",
      "File output:    classifier_trainsets/ACT24_134_2_CTRAIN.csv\n",
      "File not found: ACT24_135_1.csv\n",
      "File not found: ACT24_135_2.csv\n",
      "File output:    classifier_trainsets/ACT24_136_1_CTRAIN.csv\n",
      "File output:    classifier_trainsets/ACT24_136_2_CTRAIN.csv\n",
      "File output:    classifier_trainsets/ACT24_138_1_CTRAIN.csv\n",
      "File output:    classifier_trainsets/ACT24_138_2_CTRAIN.csv\n",
      "File not found: ACT24_139_1.csv\n",
      "File not found: ACT24_139_2.csv\n",
      "File output:    classifier_trainsets/ACT24_140_1_CTRAIN.csv\n",
      "File output:    classifier_trainsets/ACT24_140_2_CTRAIN.csv\n",
      "File output:    classifier_trainsets/ACT24_141_1_CTRAIN.csv\n",
      "File output:    classifier_trainsets/ACT24_141_2_CTRAIN.csv\n",
      "File output:    classifier_trainsets/ACT24_143_1_CTRAIN.csv\n",
      "File output:    classifier_trainsets/ACT24_143_2_CTRAIN.csv\n",
      "File output:    classifier_trainsets/ACT24_144_1_CTRAIN.csv\n",
      "File output:    classifier_trainsets/ACT24_144_2_CTRAIN.csv\n",
      "File output:    classifier_trainsets/ACT24_150_1_CTRAIN.csv\n",
      "File output:    classifier_trainsets/ACT24_150_2_CTRAIN.csv\n",
      "File output:    classifier_trainsets/ACT24_154_1_CTRAIN.csv\n",
      "File output:    classifier_trainsets/ACT24_154_2_CTRAIN.csv\n"
     ]
    }
   ],
   "source": [
    "merged_final = pd.DataFrame()\n",
    "for obs in id_obs:\n",
    "    try:\n",
    "        act24_obs_path = \"ACT24_\" + obs + \".csv\"\n",
    "        act24_obs = pd.read_csv(\"process_sessions_output/\" + act24_obs_path)\n",
    "        act24_obs[\"id\"] = [act24_obs_path.split(\"_\")[1]] * len(act24_obs)\n",
    "        act24_obs[\"id\"] = act24_obs[\"id\"].astype(int)\n",
    "        # get session from file name\n",
    "        act24_obs[\"observation\"] = [int(act24_obs_path.split(\".\")[0][-1])] * len(act24_obs)\n",
    "        # get only the HH:MM:SS in accelerometer to merge on date_time\n",
    "        act24_obs[\"date_time\"] = act24_obs[\"time\"].str.split(\".\").str[0]\n",
    "        \n",
    "        merged_obs = pd.merge(act24_obs, gt, on = [\"id\", \"observation\", \"date_time\"])[[\"id\", \"observation\", \"time\", \"date_time\", \"date\", \"activity_type\", \"broad_activity_type\", \"work_type\", \"posture\", \"sedentary_not\", \"walking_not\", \"activity_intensity\", \"quality\", \"x\", \"y\", \"z\"]]\n",
    "        \n",
    "        merged_obs.to_csv(\"classifier_trainsets/ACT24_\" + obs + \"_CTRAIN.csv\", index=False)\n",
    "        print(\"File output:    \" + \"classifier_trainsets/ACT24_\" + obs + \"_CTRAIN.csv\")\n",
    "    except FileNotFoundError:\n",
    "        print(\"File not found: \" + \"ACT24_\" + obs + \".csv\")"
   ],
   "metadata": {
    "collapsed": false,
    "ExecuteTime": {
     "end_time": "2024-04-02T20:31:53.053578300Z",
     "start_time": "2024-04-02T20:23:02.362706900Z"
    }
   },
   "id": "852b6ccf2ccc7b2"
  }
 ],
 "metadata": {
  "kernelspec": {
   "display_name": "Python 3",
   "language": "python",
   "name": "python3"
  },
  "language_info": {
   "codemirror_mode": {
    "name": "ipython",
    "version": 2
   },
   "file_extension": ".py",
   "mimetype": "text/x-python",
   "name": "python",
   "nbconvert_exporter": "python",
   "pygments_lexer": "ipython2",
   "version": "2.7.6"
  }
 },
 "nbformat": 4,
 "nbformat_minor": 5
}
