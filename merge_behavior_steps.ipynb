{
 "cells": [
  {
   "cell_type": "markdown",
   "id": "348dbe1e-88dc-489c-9c95-679588838db4",
   "metadata": {},
   "source": [
    "# Ground Truth and Step Count Merge"
   ]
  },
  {
   "cell_type": "markdown",
   "id": "9e6df9c06827e874",
   "metadata": {},
   "source": [
    "## Setup"
   ]
  },
  {
   "cell_type": "code",
   "execution_count": 54,
   "id": "ab1f8046-cdbc-45e2-90cc-c0d55578cc92",
   "metadata": {
    "ExecuteTime": {
     "end_time": "2024-03-06T23:21:03.013776500Z",
     "start_time": "2024-03-06T23:21:02.197472700Z"
    }
   },
   "outputs": [],
   "source": [
    "import pandas as pd\n",
    "import numpy as np"
   ]
  },
  {
   "cell_type": "code",
   "execution_count": 55,
   "id": "13a896a7b9924399",
   "metadata": {
    "collapsed": false,
    "ExecuteTime": {
     "end_time": "2024-03-06T23:21:03.138601900Z",
     "start_time": "2024-03-06T23:21:02.995595100Z"
    }
   },
   "outputs": [],
   "source": [
    "import warnings\n",
    "warnings.filterwarnings(\"ignore\")"
   ]
  },
  {
   "cell_type": "markdown",
   "id": "3a987e8b4b2fd806",
   "metadata": {},
   "source": [
    "## Load and Check Data Integrity"
   ]
  },
  {
   "cell_type": "markdown",
   "id": "670d5c5a341f6cb",
   "metadata": {},
   "source": [
    "**Coding Ground Truth**"
   ]
  },
  {
   "cell_type": "code",
   "execution_count": 56,
   "id": "a24344a5-6919-4d15-b5f5-221abb91747f",
   "metadata": {
    "ExecuteTime": {
     "end_time": "2024-03-06T23:21:04.636977700Z",
     "start_time": "2024-03-06T23:21:03.143927Z"
    }
   },
   "outputs": [],
   "source": [
    "# Import coding ground truth\n",
    "ground_truth = pd.read_csv(\"ACT24_groundtruth_secbysec.csv\", dtype={\"work_type\": \"string\"}) #dtype since missing values were stored as NaN, should be as pd.na"
   ]
  },
  {
   "cell_type": "code",
   "execution_count": 57,
   "id": "c85a77f4-8b52-441d-9410-5c261dc12b03",
   "metadata": {
    "ExecuteTime": {
     "end_time": "2024-03-06T23:21:04.710452700Z",
     "start_time": "2024-03-06T23:21:04.591260200Z"
    }
   },
   "outputs": [
    {
     "data": {
      "text/plain": "    id  observation        date            date_time activity_type  \\\n0  102            1  2019-07-24  2019-07-24 08:20:19  WRK- general   \n1  102            1  2019-07-24  2019-07-24 08:20:20  WRK- general   \n2  102            1  2019-07-24  2019-07-24 08:20:21  WRK- general   \n3  102            1  2019-07-24  2019-07-24 08:20:22  WRK- general   \n4  102            1  2019-07-24  2019-07-24 08:20:23  WRK- general   \n\n  broad_activity_type                          work_type posture  \\\n0      work_education  SP- Education and Health Services   stand   \n1      work_education  SP- Education and Health Services   stand   \n2      work_education  SP- Education and Health Services   stand   \n3      work_education  SP- Education and Health Services   stand   \n4      work_education  SP- Education and Health Services   stand   \n\n   sedentary_not  walking_not activity_intensity  \n0  not_sedentary  not_walking              light  \n1  not_sedentary  not_walking              light  \n2  not_sedentary  not_walking              light  \n3  not_sedentary  not_walking              light  \n4  not_sedentary  not_walking              light  ",
      "text/html": "<div>\n<style scoped>\n    .dataframe tbody tr th:only-of-type {\n        vertical-align: middle;\n    }\n\n    .dataframe tbody tr th {\n        vertical-align: top;\n    }\n\n    .dataframe thead th {\n        text-align: right;\n    }\n</style>\n<table border=\"1\" class=\"dataframe\">\n  <thead>\n    <tr style=\"text-align: right;\">\n      <th></th>\n      <th>id</th>\n      <th>observation</th>\n      <th>date</th>\n      <th>date_time</th>\n      <th>activity_type</th>\n      <th>broad_activity_type</th>\n      <th>work_type</th>\n      <th>posture</th>\n      <th>sedentary_not</th>\n      <th>walking_not</th>\n      <th>activity_intensity</th>\n    </tr>\n  </thead>\n  <tbody>\n    <tr>\n      <th>0</th>\n      <td>102</td>\n      <td>1</td>\n      <td>2019-07-24</td>\n      <td>2019-07-24 08:20:19</td>\n      <td>WRK- general</td>\n      <td>work_education</td>\n      <td>SP- Education and Health Services</td>\n      <td>stand</td>\n      <td>not_sedentary</td>\n      <td>not_walking</td>\n      <td>light</td>\n    </tr>\n    <tr>\n      <th>1</th>\n      <td>102</td>\n      <td>1</td>\n      <td>2019-07-24</td>\n      <td>2019-07-24 08:20:20</td>\n      <td>WRK- general</td>\n      <td>work_education</td>\n      <td>SP- Education and Health Services</td>\n      <td>stand</td>\n      <td>not_sedentary</td>\n      <td>not_walking</td>\n      <td>light</td>\n    </tr>\n    <tr>\n      <th>2</th>\n      <td>102</td>\n      <td>1</td>\n      <td>2019-07-24</td>\n      <td>2019-07-24 08:20:21</td>\n      <td>WRK- general</td>\n      <td>work_education</td>\n      <td>SP- Education and Health Services</td>\n      <td>stand</td>\n      <td>not_sedentary</td>\n      <td>not_walking</td>\n      <td>light</td>\n    </tr>\n    <tr>\n      <th>3</th>\n      <td>102</td>\n      <td>1</td>\n      <td>2019-07-24</td>\n      <td>2019-07-24 08:20:22</td>\n      <td>WRK- general</td>\n      <td>work_education</td>\n      <td>SP- Education and Health Services</td>\n      <td>stand</td>\n      <td>not_sedentary</td>\n      <td>not_walking</td>\n      <td>light</td>\n    </tr>\n    <tr>\n      <th>4</th>\n      <td>102</td>\n      <td>1</td>\n      <td>2019-07-24</td>\n      <td>2019-07-24 08:20:23</td>\n      <td>WRK- general</td>\n      <td>work_education</td>\n      <td>SP- Education and Health Services</td>\n      <td>stand</td>\n      <td>not_sedentary</td>\n      <td>not_walking</td>\n      <td>light</td>\n    </tr>\n  </tbody>\n</table>\n</div>"
     },
     "execution_count": 57,
     "metadata": {},
     "output_type": "execute_result"
    }
   ],
   "source": [
    "# Display first 5 rows for inspection\n",
    "ground_truth.head()"
   ]
  },
  {
   "cell_type": "code",
   "execution_count": 58,
   "id": "7349436c9e58a588",
   "metadata": {
    "collapsed": false,
    "ExecuteTime": {
     "end_time": "2024-03-06T23:21:05.377747500Z",
     "start_time": "2024-03-06T23:21:04.609436Z"
    }
   },
   "outputs": [
    {
     "data": {
      "text/plain": "Series([], Name: count, dtype: int64)"
     },
     "execution_count": 58,
     "metadata": {},
     "output_type": "execute_result"
    }
   ],
   "source": [
    "# Check for duplicate timestamps\n",
    "check = ground_truth[[\"id\", \"observation\", \"date_time\"]].value_counts()\n",
    "check[check > 1]"
   ]
  },
  {
   "cell_type": "markdown",
   "id": "23ae23bdf3e0484e",
   "metadata": {},
   "source": [
    "**Steps Ground Truth**"
   ]
  },
  {
   "cell_type": "code",
   "execution_count": 59,
   "id": "b8579375-bd44-4da7-816a-02a2aff36fb6",
   "metadata": {
    "ExecuteTime": {
     "end_time": "2024-03-06T23:21:05.904705Z",
     "start_time": "2024-03-06T23:21:05.374417500Z"
    }
   },
   "outputs": [],
   "source": [
    "# Import seconds ground truth\n",
    "seconds = pd.read_csv(\"seconds_ground_truth.csv\")"
   ]
  },
  {
   "cell_type": "code",
   "execution_count": 60,
   "id": "92d4e096-1c81-4f29-8b4a-bd88778a613f",
   "metadata": {
    "ExecuteTime": {
     "end_time": "2024-03-06T23:21:06.120805100Z",
     "start_time": "2024-03-06T23:21:05.881458800Z"
    }
   },
   "outputs": [
    {
     "data": {
      "text/plain": "         ID  Session Relative Time       Date      Time  Quality  Step\n114078  102        1       0:00:01  7/24/2019  08:20:20  Codable     0\n114079  102        1       0:00:02  7/24/2019  08:20:21  Codable     0\n114080  102        1       0:00:03  7/24/2019  08:20:22  Codable     0\n114081  102        1       0:00:04  7/24/2019  08:20:23  Codable     0\n114082  102        1       0:00:05  7/24/2019  08:20:24  Codable     1",
      "text/html": "<div>\n<style scoped>\n    .dataframe tbody tr th:only-of-type {\n        vertical-align: middle;\n    }\n\n    .dataframe tbody tr th {\n        vertical-align: top;\n    }\n\n    .dataframe thead th {\n        text-align: right;\n    }\n</style>\n<table border=\"1\" class=\"dataframe\">\n  <thead>\n    <tr style=\"text-align: right;\">\n      <th></th>\n      <th>ID</th>\n      <th>Session</th>\n      <th>Relative Time</th>\n      <th>Date</th>\n      <th>Time</th>\n      <th>Quality</th>\n      <th>Step</th>\n    </tr>\n  </thead>\n  <tbody>\n    <tr>\n      <th>114078</th>\n      <td>102</td>\n      <td>1</td>\n      <td>0:00:01</td>\n      <td>7/24/2019</td>\n      <td>08:20:20</td>\n      <td>Codable</td>\n      <td>0</td>\n    </tr>\n    <tr>\n      <th>114079</th>\n      <td>102</td>\n      <td>1</td>\n      <td>0:00:02</td>\n      <td>7/24/2019</td>\n      <td>08:20:21</td>\n      <td>Codable</td>\n      <td>0</td>\n    </tr>\n    <tr>\n      <th>114080</th>\n      <td>102</td>\n      <td>1</td>\n      <td>0:00:03</td>\n      <td>7/24/2019</td>\n      <td>08:20:22</td>\n      <td>Codable</td>\n      <td>0</td>\n    </tr>\n    <tr>\n      <th>114081</th>\n      <td>102</td>\n      <td>1</td>\n      <td>0:00:04</td>\n      <td>7/24/2019</td>\n      <td>08:20:23</td>\n      <td>Codable</td>\n      <td>0</td>\n    </tr>\n    <tr>\n      <th>114082</th>\n      <td>102</td>\n      <td>1</td>\n      <td>0:00:05</td>\n      <td>7/24/2019</td>\n      <td>08:20:24</td>\n      <td>Codable</td>\n      <td>1</td>\n    </tr>\n  </tbody>\n</table>\n</div>"
     },
     "execution_count": 60,
     "metadata": {},
     "output_type": "execute_result"
    }
   ],
   "source": [
    "# Display first 5 rows for inspection\n",
    "seconds.sort_values([\"ID\", \"Session\", \"Date\", \"Time\"]).head()"
   ]
  },
  {
   "cell_type": "code",
   "execution_count": 61,
   "id": "4b2bc5a6a6a435ad",
   "metadata": {
    "collapsed": false,
    "ExecuteTime": {
     "end_time": "2024-03-06T23:21:06.929504300Z",
     "start_time": "2024-03-06T23:21:06.122968200Z"
    }
   },
   "outputs": [
    {
     "data": {
      "text/plain": "         ID  Session        Date      Time  count Relative Time  Quality  Step\n0       117        1   8/20/2019  05:36:54      2       2:19:08  Codable     0\n1       117        1   8/20/2019  05:36:54      2       2:19:08  Codable     0\n2       127        1    9/5/2019  04:24:03      2       0:16:07  Codable     0\n3       127        1    9/5/2019  04:24:03      2       0:16:07  Codable     0\n4       127        1    9/5/2019  04:24:10      2       0:16:14  Codable     0\n...     ...      ...         ...       ...    ...           ...      ...   ...\n152065  133        1  10/10/2019  04:02:10      2       1:30:14  Codable     1\n152066  133        1  10/10/2019  03:37:28      2       1:05:32  Codable     0\n152067  133        1  10/10/2019  03:37:28      2       1:05:32  Codable     0\n152068  127        1    9/5/2019  04:30:03      2       0:22:07  Codable     0\n152069  127        1    9/5/2019  04:30:03      2       0:22:07  Codable     0\n\n[152070 rows x 8 columns]",
      "text/html": "<div>\n<style scoped>\n    .dataframe tbody tr th:only-of-type {\n        vertical-align: middle;\n    }\n\n    .dataframe tbody tr th {\n        vertical-align: top;\n    }\n\n    .dataframe thead th {\n        text-align: right;\n    }\n</style>\n<table border=\"1\" class=\"dataframe\">\n  <thead>\n    <tr style=\"text-align: right;\">\n      <th></th>\n      <th>ID</th>\n      <th>Session</th>\n      <th>Date</th>\n      <th>Time</th>\n      <th>count</th>\n      <th>Relative Time</th>\n      <th>Quality</th>\n      <th>Step</th>\n    </tr>\n  </thead>\n  <tbody>\n    <tr>\n      <th>0</th>\n      <td>117</td>\n      <td>1</td>\n      <td>8/20/2019</td>\n      <td>05:36:54</td>\n      <td>2</td>\n      <td>2:19:08</td>\n      <td>Codable</td>\n      <td>0</td>\n    </tr>\n    <tr>\n      <th>1</th>\n      <td>117</td>\n      <td>1</td>\n      <td>8/20/2019</td>\n      <td>05:36:54</td>\n      <td>2</td>\n      <td>2:19:08</td>\n      <td>Codable</td>\n      <td>0</td>\n    </tr>\n    <tr>\n      <th>2</th>\n      <td>127</td>\n      <td>1</td>\n      <td>9/5/2019</td>\n      <td>04:24:03</td>\n      <td>2</td>\n      <td>0:16:07</td>\n      <td>Codable</td>\n      <td>0</td>\n    </tr>\n    <tr>\n      <th>3</th>\n      <td>127</td>\n      <td>1</td>\n      <td>9/5/2019</td>\n      <td>04:24:03</td>\n      <td>2</td>\n      <td>0:16:07</td>\n      <td>Codable</td>\n      <td>0</td>\n    </tr>\n    <tr>\n      <th>4</th>\n      <td>127</td>\n      <td>1</td>\n      <td>9/5/2019</td>\n      <td>04:24:10</td>\n      <td>2</td>\n      <td>0:16:14</td>\n      <td>Codable</td>\n      <td>0</td>\n    </tr>\n    <tr>\n      <th>...</th>\n      <td>...</td>\n      <td>...</td>\n      <td>...</td>\n      <td>...</td>\n      <td>...</td>\n      <td>...</td>\n      <td>...</td>\n      <td>...</td>\n    </tr>\n    <tr>\n      <th>152065</th>\n      <td>133</td>\n      <td>1</td>\n      <td>10/10/2019</td>\n      <td>04:02:10</td>\n      <td>2</td>\n      <td>1:30:14</td>\n      <td>Codable</td>\n      <td>1</td>\n    </tr>\n    <tr>\n      <th>152066</th>\n      <td>133</td>\n      <td>1</td>\n      <td>10/10/2019</td>\n      <td>03:37:28</td>\n      <td>2</td>\n      <td>1:05:32</td>\n      <td>Codable</td>\n      <td>0</td>\n    </tr>\n    <tr>\n      <th>152067</th>\n      <td>133</td>\n      <td>1</td>\n      <td>10/10/2019</td>\n      <td>03:37:28</td>\n      <td>2</td>\n      <td>1:05:32</td>\n      <td>Codable</td>\n      <td>0</td>\n    </tr>\n    <tr>\n      <th>152068</th>\n      <td>127</td>\n      <td>1</td>\n      <td>9/5/2019</td>\n      <td>04:30:03</td>\n      <td>2</td>\n      <td>0:22:07</td>\n      <td>Codable</td>\n      <td>0</td>\n    </tr>\n    <tr>\n      <th>152069</th>\n      <td>127</td>\n      <td>1</td>\n      <td>9/5/2019</td>\n      <td>04:30:03</td>\n      <td>2</td>\n      <td>0:22:07</td>\n      <td>Codable</td>\n      <td>0</td>\n    </tr>\n  </tbody>\n</table>\n<p>152070 rows × 8 columns</p>\n</div>"
     },
     "execution_count": 61,
     "metadata": {},
     "output_type": "execute_result"
    }
   ],
   "source": [
    "# Check for duplicate timestamps\n",
    "check = seconds[[\"ID\", \"Session\", \"Date\", \"Time\"]].value_counts()\n",
    "# Duplicate timestamps were found, check for specific rows and step counts\n",
    "check[check > 1].reset_index().merge(right = seconds, on=[\"ID\", \"Session\", \"Date\", \"Time\"])"
   ]
  },
  {
   "cell_type": "markdown",
   "id": "b38a761e-0781-41c2-94a7-0307258ae630",
   "metadata": {},
   "source": [
    "## Ground Truth Data Cleaning"
   ]
  },
  {
   "cell_type": "code",
   "execution_count": 62,
   "id": "fdc02fb46fff7fb5",
   "metadata": {
    "collapsed": false,
    "ExecuteTime": {
     "end_time": "2024-03-06T23:21:06.937276700Z",
     "start_time": "2024-03-06T23:21:06.931366900Z"
    }
   },
   "outputs": [],
   "source": [
    "def quality_agg(srs):\n",
    "    if len(srs) > 1:\n",
    "        return \"Ambiguous\"\n",
    "    return srs.iloc[0]"
   ]
  },
  {
   "cell_type": "code",
   "execution_count": 63,
   "id": "4a224f88-eb38-4bcc-87ac-c18969b49e7a",
   "metadata": {
    "ExecuteTime": {
     "end_time": "2024-03-06T23:21:22.086389100Z",
     "start_time": "2024-03-06T23:21:06.939500100Z"
    }
   },
   "outputs": [
    {
     "data": {
      "text/plain": "         id  observation       Date      Time Relative Time  Quality  Step  \\\n0       102            1  7/24/2019  08:20:20       0:00:01  Codable     0   \n1       102            1  7/24/2019  08:20:21       0:00:02  Codable     0   \n2       102            1  7/24/2019  08:20:22       0:00:03  Codable     0   \n3       102            1  7/24/2019  08:20:23       0:00:04  Codable     0   \n4       102            1  7/24/2019  08:20:24       0:00:05  Codable     1   \n...     ...          ...        ...       ...           ...      ...   ...   \n376600  154            2  2/23/2020  01:06:29       0:02:20  Codable     1   \n376601  154            2  2/23/2020  01:06:30       0:02:21  Codable     2   \n376602  154            2  2/23/2020  01:06:31       0:02:22  Codable     2   \n376603  154            2  2/23/2020  01:06:32       0:02:23  Codable     1   \n376604  154            2  2/23/2020  01:06:33       0:02:24  Codable     2   \n\n                 date_time  \n0      2019-07-24 08:20:20  \n1      2019-07-24 08:20:21  \n2      2019-07-24 08:20:22  \n3      2019-07-24 08:20:23  \n4      2019-07-24 08:20:24  \n...                    ...  \n376600 2020-02-23 01:06:29  \n376601 2020-02-23 01:06:30  \n376602 2020-02-23 01:06:31  \n376603 2020-02-23 01:06:32  \n376604 2020-02-23 01:06:33  \n\n[376605 rows x 8 columns]",
      "text/html": "<div>\n<style scoped>\n    .dataframe tbody tr th:only-of-type {\n        vertical-align: middle;\n    }\n\n    .dataframe tbody tr th {\n        vertical-align: top;\n    }\n\n    .dataframe thead th {\n        text-align: right;\n    }\n</style>\n<table border=\"1\" class=\"dataframe\">\n  <thead>\n    <tr style=\"text-align: right;\">\n      <th></th>\n      <th>id</th>\n      <th>observation</th>\n      <th>Date</th>\n      <th>Time</th>\n      <th>Relative Time</th>\n      <th>Quality</th>\n      <th>Step</th>\n      <th>date_time</th>\n    </tr>\n  </thead>\n  <tbody>\n    <tr>\n      <th>0</th>\n      <td>102</td>\n      <td>1</td>\n      <td>7/24/2019</td>\n      <td>08:20:20</td>\n      <td>0:00:01</td>\n      <td>Codable</td>\n      <td>0</td>\n      <td>2019-07-24 08:20:20</td>\n    </tr>\n    <tr>\n      <th>1</th>\n      <td>102</td>\n      <td>1</td>\n      <td>7/24/2019</td>\n      <td>08:20:21</td>\n      <td>0:00:02</td>\n      <td>Codable</td>\n      <td>0</td>\n      <td>2019-07-24 08:20:21</td>\n    </tr>\n    <tr>\n      <th>2</th>\n      <td>102</td>\n      <td>1</td>\n      <td>7/24/2019</td>\n      <td>08:20:22</td>\n      <td>0:00:03</td>\n      <td>Codable</td>\n      <td>0</td>\n      <td>2019-07-24 08:20:22</td>\n    </tr>\n    <tr>\n      <th>3</th>\n      <td>102</td>\n      <td>1</td>\n      <td>7/24/2019</td>\n      <td>08:20:23</td>\n      <td>0:00:04</td>\n      <td>Codable</td>\n      <td>0</td>\n      <td>2019-07-24 08:20:23</td>\n    </tr>\n    <tr>\n      <th>4</th>\n      <td>102</td>\n      <td>1</td>\n      <td>7/24/2019</td>\n      <td>08:20:24</td>\n      <td>0:00:05</td>\n      <td>Codable</td>\n      <td>1</td>\n      <td>2019-07-24 08:20:24</td>\n    </tr>\n    <tr>\n      <th>...</th>\n      <td>...</td>\n      <td>...</td>\n      <td>...</td>\n      <td>...</td>\n      <td>...</td>\n      <td>...</td>\n      <td>...</td>\n      <td>...</td>\n    </tr>\n    <tr>\n      <th>376600</th>\n      <td>154</td>\n      <td>2</td>\n      <td>2/23/2020</td>\n      <td>01:06:29</td>\n      <td>0:02:20</td>\n      <td>Codable</td>\n      <td>1</td>\n      <td>2020-02-23 01:06:29</td>\n    </tr>\n    <tr>\n      <th>376601</th>\n      <td>154</td>\n      <td>2</td>\n      <td>2/23/2020</td>\n      <td>01:06:30</td>\n      <td>0:02:21</td>\n      <td>Codable</td>\n      <td>2</td>\n      <td>2020-02-23 01:06:30</td>\n    </tr>\n    <tr>\n      <th>376602</th>\n      <td>154</td>\n      <td>2</td>\n      <td>2/23/2020</td>\n      <td>01:06:31</td>\n      <td>0:02:22</td>\n      <td>Codable</td>\n      <td>2</td>\n      <td>2020-02-23 01:06:31</td>\n    </tr>\n    <tr>\n      <th>376603</th>\n      <td>154</td>\n      <td>2</td>\n      <td>2/23/2020</td>\n      <td>01:06:32</td>\n      <td>0:02:23</td>\n      <td>Codable</td>\n      <td>1</td>\n      <td>2020-02-23 01:06:32</td>\n    </tr>\n    <tr>\n      <th>376604</th>\n      <td>154</td>\n      <td>2</td>\n      <td>2/23/2020</td>\n      <td>01:06:33</td>\n      <td>0:02:24</td>\n      <td>Codable</td>\n      <td>2</td>\n      <td>2020-02-23 01:06:33</td>\n    </tr>\n  </tbody>\n</table>\n<p>376605 rows × 8 columns</p>\n</div>"
     },
     "execution_count": 63,
     "metadata": {},
     "output_type": "execute_result"
    }
   ],
   "source": [
    "seconds_2 = seconds.copy()\n",
    "# Rename columns\n",
    "seconds_2.rename(columns={\"ID\": \"id\", \"Session\": \"observation\"}, inplace=True)\n",
    "# Remove duplicates\n",
    "# Logic: Get max step count for each timestamp\n",
    "seconds_2 = seconds_2.groupby([\"id\", \"observation\", \"Date\", \"Time\", \"Relative Time\"]).agg({'Quality': quality_agg, 'Step': 'max'}).reset_index()\n",
    "# Create datetime column\n",
    "seconds_2[\"date_time\"] = pd.to_datetime(seconds_2['Date'] + ' ' + seconds_2['Time'])\n",
    "seconds_2"
   ]
  },
  {
   "cell_type": "code",
   "execution_count": 64,
   "id": "b6b0e0acd362fc05",
   "metadata": {
    "collapsed": false,
    "ExecuteTime": {
     "end_time": "2024-03-06T23:21:22.326392800Z",
     "start_time": "2024-03-06T23:21:22.091710100Z"
    }
   },
   "outputs": [
    {
     "data": {
      "text/plain": "Series([], Name: count, dtype: int64)"
     },
     "execution_count": 64,
     "metadata": {},
     "output_type": "execute_result"
    }
   ],
   "source": [
    "# Check for duplicates again\n",
    "check = seconds_2[[\"id\", \"observation\", \"date_time\"]].value_counts()\n",
    "check[check > 1]"
   ]
  },
  {
   "cell_type": "code",
   "execution_count": 65,
   "id": "e9b904e6-6cee-47b1-b57d-fccb6152172b",
   "metadata": {
    "ExecuteTime": {
     "end_time": "2024-03-06T23:21:23.133013900Z",
     "start_time": "2024-03-06T23:21:22.282071500Z"
    }
   },
   "outputs": [
    {
     "data": {
      "text/plain": "         id  observation        date           date_time  \\\n0       102            1  2019-07-24 2019-07-24 08:20:19   \n1       102            1  2019-07-24 2019-07-24 08:20:20   \n2       102            1  2019-07-24 2019-07-24 08:20:21   \n3       102            1  2019-07-24 2019-07-24 08:20:22   \n4       102            1  2019-07-24 2019-07-24 08:20:23   \n...     ...          ...         ...                 ...   \n511814  154            2  2020-02-23 2020-02-23 15:55:56   \n511815  154            2  2020-02-23 2020-02-23 15:55:57   \n511816  154            2  2020-02-23 2020-02-23 15:55:58   \n511817  154            2  2020-02-23 2020-02-23 15:55:59   \n511818  154            2  2020-02-23 2020-02-23 15:56:00   \n\n                                activity_type broad_activity_type  \\\n0                                WRK- general      work_education   \n1                                WRK- general      work_education   \n2                                WRK- general      work_education   \n3                                WRK- general      work_education   \n4                                WRK- general      work_education   \n...                                       ...                 ...   \n511814  EDU- taking class, research, homework      work_education   \n511815  EDU- taking class, research, homework      work_education   \n511816  EDU- taking class, research, homework      work_education   \n511817  EDU- taking class, research, homework      work_education   \n511818  EDU- taking class, research, homework      work_education   \n\n                                work_type  posture  sedentary_not  \\\n0       SP- Education and Health Services    stand  not_sedentary   \n1       SP- Education and Health Services    stand  not_sedentary   \n2       SP- Education and Health Services    stand  not_sedentary   \n3       SP- Education and Health Services    stand  not_sedentary   \n4       SP- Education and Health Services    stand  not_sedentary   \n...                                   ...      ...            ...   \n511814                               <NA>  sitting      sedentary   \n511815                               <NA>  sitting      sedentary   \n511816                               <NA>  sitting      sedentary   \n511817                               <NA>  sitting      sedentary   \n511818                               <NA>  sitting      sedentary   \n\n        walking_not activity_intensity  \n0       not_walking              light  \n1       not_walking              light  \n2       not_walking              light  \n3       not_walking              light  \n4       not_walking              light  \n...             ...                ...  \n511814  not_walking          sedentary  \n511815  not_walking          sedentary  \n511816  not_walking          sedentary  \n511817  not_walking          sedentary  \n511818  not_walking          sedentary  \n\n[511819 rows x 11 columns]",
      "text/html": "<div>\n<style scoped>\n    .dataframe tbody tr th:only-of-type {\n        vertical-align: middle;\n    }\n\n    .dataframe tbody tr th {\n        vertical-align: top;\n    }\n\n    .dataframe thead th {\n        text-align: right;\n    }\n</style>\n<table border=\"1\" class=\"dataframe\">\n  <thead>\n    <tr style=\"text-align: right;\">\n      <th></th>\n      <th>id</th>\n      <th>observation</th>\n      <th>date</th>\n      <th>date_time</th>\n      <th>activity_type</th>\n      <th>broad_activity_type</th>\n      <th>work_type</th>\n      <th>posture</th>\n      <th>sedentary_not</th>\n      <th>walking_not</th>\n      <th>activity_intensity</th>\n    </tr>\n  </thead>\n  <tbody>\n    <tr>\n      <th>0</th>\n      <td>102</td>\n      <td>1</td>\n      <td>2019-07-24</td>\n      <td>2019-07-24 08:20:19</td>\n      <td>WRK- general</td>\n      <td>work_education</td>\n      <td>SP- Education and Health Services</td>\n      <td>stand</td>\n      <td>not_sedentary</td>\n      <td>not_walking</td>\n      <td>light</td>\n    </tr>\n    <tr>\n      <th>1</th>\n      <td>102</td>\n      <td>1</td>\n      <td>2019-07-24</td>\n      <td>2019-07-24 08:20:20</td>\n      <td>WRK- general</td>\n      <td>work_education</td>\n      <td>SP- Education and Health Services</td>\n      <td>stand</td>\n      <td>not_sedentary</td>\n      <td>not_walking</td>\n      <td>light</td>\n    </tr>\n    <tr>\n      <th>2</th>\n      <td>102</td>\n      <td>1</td>\n      <td>2019-07-24</td>\n      <td>2019-07-24 08:20:21</td>\n      <td>WRK- general</td>\n      <td>work_education</td>\n      <td>SP- Education and Health Services</td>\n      <td>stand</td>\n      <td>not_sedentary</td>\n      <td>not_walking</td>\n      <td>light</td>\n    </tr>\n    <tr>\n      <th>3</th>\n      <td>102</td>\n      <td>1</td>\n      <td>2019-07-24</td>\n      <td>2019-07-24 08:20:22</td>\n      <td>WRK- general</td>\n      <td>work_education</td>\n      <td>SP- Education and Health Services</td>\n      <td>stand</td>\n      <td>not_sedentary</td>\n      <td>not_walking</td>\n      <td>light</td>\n    </tr>\n    <tr>\n      <th>4</th>\n      <td>102</td>\n      <td>1</td>\n      <td>2019-07-24</td>\n      <td>2019-07-24 08:20:23</td>\n      <td>WRK- general</td>\n      <td>work_education</td>\n      <td>SP- Education and Health Services</td>\n      <td>stand</td>\n      <td>not_sedentary</td>\n      <td>not_walking</td>\n      <td>light</td>\n    </tr>\n    <tr>\n      <th>...</th>\n      <td>...</td>\n      <td>...</td>\n      <td>...</td>\n      <td>...</td>\n      <td>...</td>\n      <td>...</td>\n      <td>...</td>\n      <td>...</td>\n      <td>...</td>\n      <td>...</td>\n      <td>...</td>\n    </tr>\n    <tr>\n      <th>511814</th>\n      <td>154</td>\n      <td>2</td>\n      <td>2020-02-23</td>\n      <td>2020-02-23 15:55:56</td>\n      <td>EDU- taking class, research, homework</td>\n      <td>work_education</td>\n      <td>&lt;NA&gt;</td>\n      <td>sitting</td>\n      <td>sedentary</td>\n      <td>not_walking</td>\n      <td>sedentary</td>\n    </tr>\n    <tr>\n      <th>511815</th>\n      <td>154</td>\n      <td>2</td>\n      <td>2020-02-23</td>\n      <td>2020-02-23 15:55:57</td>\n      <td>EDU- taking class, research, homework</td>\n      <td>work_education</td>\n      <td>&lt;NA&gt;</td>\n      <td>sitting</td>\n      <td>sedentary</td>\n      <td>not_walking</td>\n      <td>sedentary</td>\n    </tr>\n    <tr>\n      <th>511816</th>\n      <td>154</td>\n      <td>2</td>\n      <td>2020-02-23</td>\n      <td>2020-02-23 15:55:58</td>\n      <td>EDU- taking class, research, homework</td>\n      <td>work_education</td>\n      <td>&lt;NA&gt;</td>\n      <td>sitting</td>\n      <td>sedentary</td>\n      <td>not_walking</td>\n      <td>sedentary</td>\n    </tr>\n    <tr>\n      <th>511817</th>\n      <td>154</td>\n      <td>2</td>\n      <td>2020-02-23</td>\n      <td>2020-02-23 15:55:59</td>\n      <td>EDU- taking class, research, homework</td>\n      <td>work_education</td>\n      <td>&lt;NA&gt;</td>\n      <td>sitting</td>\n      <td>sedentary</td>\n      <td>not_walking</td>\n      <td>sedentary</td>\n    </tr>\n    <tr>\n      <th>511818</th>\n      <td>154</td>\n      <td>2</td>\n      <td>2020-02-23</td>\n      <td>2020-02-23 15:56:00</td>\n      <td>EDU- taking class, research, homework</td>\n      <td>work_education</td>\n      <td>&lt;NA&gt;</td>\n      <td>sitting</td>\n      <td>sedentary</td>\n      <td>not_walking</td>\n      <td>sedentary</td>\n    </tr>\n  </tbody>\n</table>\n<p>511819 rows × 11 columns</p>\n</div>"
     },
     "execution_count": 65,
     "metadata": {},
     "output_type": "execute_result"
    }
   ],
   "source": [
    "ground_truth_2 = ground_truth.copy()\n",
    "# Create datetime column\n",
    "ground_truth_2[\"date_time\"] = pd.to_datetime(ground_truth[\"date_time\"])\n",
    "ground_truth_2"
   ]
  },
  {
   "cell_type": "markdown",
   "id": "2f6cad58-0f75-4808-8eea-0fa8266f29ee",
   "metadata": {},
   "source": [
    "## Check Start and End Times of Both Files"
   ]
  },
  {
   "cell_type": "code",
   "execution_count": 66,
   "id": "121b6253-3fa7-40e0-bb8f-7f12a33f495c",
   "metadata": {
    "ExecuteTime": {
     "end_time": "2024-03-06T23:21:23.166105900Z",
     "start_time": "2024-03-06T23:21:23.137406600Z"
    }
   },
   "outputs": [],
   "source": [
    "# Function to get start and end info for each id and session\n",
    "def start_end(GT, id, session): \n",
    "    subset = GT[(GT[\"id\"] == id) & (GT[\"observation\"] == session)].reset_index(drop=True)\n",
    "    start = min(subset[\"date_time\"])\n",
    "    end = max(subset[\"date_time\"])\n",
    "    # for i, row in subset.iterrows():\n",
    "    #     if i != 0:\n",
    "    #         if row[\"date_time\"] < start:\n",
    "    #             start = row[\"date_time\"]\n",
    "    #         elif row[\"date_time\"] > end:\n",
    "    #             end = row[\"date_time\"]\n",
    "    return [start, end]\n",
    "    #print(f\"ID = {id}, Session = {session}, Start = {start}, End = {end}\")\n",
    "        "
   ]
  },
  {
   "cell_type": "code",
   "execution_count": 67,
   "id": "67103dfd-1e31-4ea6-bd90-5cb348fd0de7",
   "metadata": {
    "ExecuteTime": {
     "end_time": "2024-03-06T23:21:23.234933400Z",
     "start_time": "2024-03-06T23:21:23.148327600Z"
    }
   },
   "outputs": [],
   "source": [
    "# Function to apply start_end to entire dataframe (ie. each id and session)\n",
    "def start_time_dataframe(df):\n",
    "    id_ses = df.groupby([\"id\", \"observation\"]).size().reset_index().rename(columns={0: \"count\"})\n",
    "    times = {\"ID\": [], \n",
    "                   \"Session\": [],\n",
    "                   \"Start\": [],\n",
    "                   \"End\": []}\n",
    "    for i, row in id_ses.iterrows():\n",
    "        times[\"ID\"].append(row[\"id\"])\n",
    "        times[\"Session\"].append(row[\"observation\"])\n",
    "        ls = start_end(df, row[\"id\"], row[\"observation\"])\n",
    "        times[\"Start\"].append(ls[0])\n",
    "        times[\"End\"].append(ls[1])\n",
    "    return pd.DataFrame(times)"
   ]
  },
  {
   "cell_type": "code",
   "execution_count": 68,
   "id": "b9dc105c27d66813",
   "metadata": {
    "collapsed": false,
    "ExecuteTime": {
     "end_time": "2024-03-06T23:21:28.155228700Z",
     "start_time": "2024-03-06T23:21:23.158356400Z"
    }
   },
   "outputs": [],
   "source": [
    "# Get start and end times from both coding and step ground truths\n",
    "GT_times = start_time_dataframe(ground_truth_2)\n",
    "seconds_times = start_time_dataframe(seconds_2)"
   ]
  },
  {
   "cell_type": "code",
   "execution_count": 69,
   "id": "6398607b-3a87-4d16-ae82-c24083a2033c",
   "metadata": {
    "ExecuteTime": {
     "end_time": "2024-03-06T23:21:28.231844900Z",
     "start_time": "2024-03-06T23:21:28.165908200Z"
    }
   },
   "outputs": [
    {
     "data": {
      "text/plain": "     ID  Session            Start_GT              End_GT   Start_secondsFile  \\\n0   102        1 2019-07-24 08:20:19 2019-07-24 11:21:13 2019-07-24 08:20:20   \n1   102        2 2019-07-25 12:42:08 2019-07-25 15:42:00 2019-07-25 12:42:09   \n2   116        1 2019-08-20 08:08:45 2019-08-20 11:09:00 2019-08-20 08:08:46   \n3   116        2 2019-08-21 11:10:12 2019-08-21 13:28:00 2019-08-21 11:09:48   \n4   117        1 2019-08-20 15:17:46 2019-08-20 18:18:00 2019-08-20 03:17:47   \n5   117        2 2019-08-21 07:11:45 2019-08-21 10:13:00 2019-08-21 07:11:46   \n6   122        1 2019-08-28 10:06:41 2019-08-28 13:07:00 2019-08-28 10:06:42   \n7   122        2 2019-08-29 15:19:51 2019-08-29 18:23:00 2019-08-29 03:19:52   \n8   124        1 2019-08-28 14:59:09 2019-08-28 17:59:05 2019-08-28 02:59:10   \n9   124        2 2019-08-29 09:31:00 2019-08-29 12:31:00 2019-08-29 09:31:01   \n10  126        1 2019-09-02 11:14:51 2019-09-02 14:15:00                 NaT   \n11  126        2 2019-09-06 10:36:00 2019-09-06 13:36:00 2019-09-06 10:36:01   \n12  127        1 2019-09-05 16:07:56 2019-09-05 19:08:00 2019-09-05 04:07:57   \n13  127        2 2019-09-09 10:56:04 2019-09-09 13:56:00 2019-09-09 10:56:01   \n14  128        1 2019-09-06 07:00:01 2019-09-06 10:00:00                 NaT   \n15  128        2 2019-09-10 13:21:00 2019-09-10 16:17:00 2019-09-10 01:21:01   \n16  129        1 2019-09-07 08:55:00 2019-09-07 11:55:00 2019-09-07 08:55:01   \n17  129        2 2019-09-10 16:31:46 2019-09-10 19:32:00 2019-09-10 04:31:47   \n18  130        1 2019-09-08 17:28:00 2019-09-08 20:28:00 2019-09-08 05:28:01   \n19  130        2 2019-09-10 08:02:01 2019-09-10 11:02:00 2019-09-10 08:02:02   \n20  131        1 2019-09-12 10:57:42 2019-09-12 13:58:00 2019-09-12 10:57:43   \n21  131        2 2019-09-16 09:04:54 2019-09-16 11:55:00 2019-09-16 09:04:55   \n22  132        1 2019-10-04 13:31:18 2019-10-04 16:31:00 2019-10-04 01:31:19   \n23  132        2 2019-10-10 09:24:58 2019-10-10 12:07:00 2019-10-10 09:24:45   \n24  133        1 2019-10-10 14:31:56 2019-10-10 17:31:26 2019-10-10 02:31:57   \n25  133        2 2019-10-11 10:23:20 2019-10-11 13:23:00 2019-10-11 10:23:21   \n26  134        1 2019-10-09 12:57:15 2019-10-09 15:42:00 2019-10-09 12:57:16   \n27  134        2 2019-10-13 12:56:53 2019-10-13 15:57:00                 NaT   \n28  135        1 2019-10-15 15:32:01 2019-10-15 18:32:00 2019-10-15 03:32:02   \n29  135        2 2019-10-19 12:49:51 2019-10-19 15:50:01 2019-10-19 12:49:52   \n30  136        1 2019-10-17 13:41:00 2019-10-17 16:41:00 2019-10-17 01:41:01   \n31  136        2 2019-10-19 09:00:51 2019-10-19 12:01:00                 NaT   \n32  138        1 2019-11-01 16:11:00 2019-11-01 18:01:00 2019-11-01 04:11:01   \n33  138        2 2019-11-02 09:23:00 2019-11-02 12:24:00                 NaT   \n34  139        1 2019-11-03 14:19:59 2019-11-03 17:20:00                 NaT   \n35  139        2 2019-11-05 15:04:59 2019-11-05 18:05:00                 NaT   \n36  140        1 2019-11-09 08:59:21 2019-11-09 11:59:00 2019-11-09 08:59:22   \n37  140        2 2019-11-09 13:04:00 2019-11-09 16:04:00 2019-11-09 01:04:01   \n38  141        1 2019-11-06 12:27:52 2019-11-06 15:29:00 2019-11-06 12:27:53   \n39  141        2 2019-11-10 10:01:00 2019-11-10 13:01:00 2019-11-10 10:01:01   \n40  143        1 2019-11-16 10:07:00 2019-11-16 13:07:00                 NaT   \n41  143        2 2019-11-18 13:02:00 2019-11-18 16:02:00 2019-11-18 01:02:01   \n42  144        1 2019-11-22 12:38:00 2019-11-22 15:39:00 2019-11-22 12:38:01   \n43  144        2 2019-11-23 16:35:01 2019-11-23 19:35:00 2019-11-23 04:35:02   \n44  150        1 2020-01-19 09:29:05 2020-01-19 13:18:25 2020-01-19 09:29:06   \n45  150        2 2020-01-21 19:31:59 2020-01-21 22:32:00 2020-01-21 07:31:53   \n46  154        1 2020-02-22 13:07:59 2020-02-22 16:06:59                 NaT   \n47  154        2 2020-02-23 13:04:09 2020-02-23 15:56:00 2020-02-23 01:04:10   \n\n       End_secondsFile  StartDiffSecs(GT-seconds)  EndDiffSecs(GT-seconds)  \n0  2019-07-24 11:05:37                       -1.0                    936.0  \n1  2019-07-25 15:28:35                       -1.0                    805.0  \n2  2019-08-20 11:08:56                       -1.0                      4.0  \n3  2019-08-21 13:26:58                       24.0                     62.0  \n4  2019-08-20 06:05:55                    43199.0                  43925.0  \n5  2019-08-21 09:41:43                       -1.0                   1877.0  \n6  2019-08-28 12:42:21                       -1.0                   1479.0  \n7  2019-08-29 06:22:41                    43199.0                  43219.0  \n8  2019-08-28 04:49:57                    43199.0                  47348.0  \n9  2019-08-29 12:19:15                       -1.0                    705.0  \n10                 NaT                        NaN                      NaN  \n11 2019-09-06 12:51:16                       -1.0                   2684.0  \n12 2019-09-05 06:28:24                    43199.0                  45576.0  \n13 2019-09-09 13:37:29                        3.0                   1111.0  \n14                 NaT                        NaN                      NaN  \n15 2019-09-10 04:16:36                    43199.0                  43224.0  \n16 2019-09-07 11:53:07                       -1.0                    113.0  \n17 2019-09-10 07:28:35                    43199.0                  43405.0  \n18 2019-09-08 08:25:55                    43199.0                  43325.0  \n19 2019-09-10 10:49:00                       -1.0                    780.0  \n20 2019-09-12 13:57:50                       -1.0                     10.0  \n21 2019-09-16 11:54:51                       -1.0                      9.0  \n22 2019-10-04 04:27:53                    43199.0                  43387.0  \n23 2019-10-10 12:06:59                       13.0                      1.0  \n24 2019-10-10 04:41:34                    43199.0                  46192.0  \n25 2019-10-11 13:23:27                       -1.0                    -27.0  \n26 2019-10-09 15:42:27                       -1.0                    -27.0  \n27                 NaT                        NaN                      NaN  \n28 2019-10-15 06:31:17                    43199.0                  43243.0  \n29 2019-10-19 15:40:11                       -1.0                    590.0  \n30 2019-10-17 04:40:57                    43199.0                  43203.0  \n31                 NaT                        NaN                      NaN  \n32 2019-11-01 06:00:36                    43199.0                  43224.0  \n33                 NaT                        NaN                      NaN  \n34                 NaT                        NaN                      NaN  \n35                 NaT                        NaN                      NaN  \n36 2019-11-09 11:39:53                       -1.0                   1147.0  \n37 2019-11-09 03:23:20                    43199.0                  45640.0  \n38 2019-11-06 15:27:59                       -1.0                     61.0  \n39 2019-11-10 13:00:16                       -1.0                     44.0  \n40                 NaT                        NaN                      NaN  \n41 2019-11-18 04:02:05                    43199.0                  43195.0  \n42 2019-11-22 15:38:11                       -1.0                     49.0  \n43 2019-11-23 07:06:33                    43199.0                  44907.0  \n44 2020-01-19 13:17:59                       -1.0                     26.0  \n45 2020-01-21 10:25:49                    43206.0                  43571.0  \n46                 NaT                        NaN                      NaN  \n47 2020-02-23 01:06:33                    43199.0                  53367.0  ",
      "text/html": "<div>\n<style scoped>\n    .dataframe tbody tr th:only-of-type {\n        vertical-align: middle;\n    }\n\n    .dataframe tbody tr th {\n        vertical-align: top;\n    }\n\n    .dataframe thead th {\n        text-align: right;\n    }\n</style>\n<table border=\"1\" class=\"dataframe\">\n  <thead>\n    <tr style=\"text-align: right;\">\n      <th></th>\n      <th>ID</th>\n      <th>Session</th>\n      <th>Start_GT</th>\n      <th>End_GT</th>\n      <th>Start_secondsFile</th>\n      <th>End_secondsFile</th>\n      <th>StartDiffSecs(GT-seconds)</th>\n      <th>EndDiffSecs(GT-seconds)</th>\n    </tr>\n  </thead>\n  <tbody>\n    <tr>\n      <th>0</th>\n      <td>102</td>\n      <td>1</td>\n      <td>2019-07-24 08:20:19</td>\n      <td>2019-07-24 11:21:13</td>\n      <td>2019-07-24 08:20:20</td>\n      <td>2019-07-24 11:05:37</td>\n      <td>-1.0</td>\n      <td>936.0</td>\n    </tr>\n    <tr>\n      <th>1</th>\n      <td>102</td>\n      <td>2</td>\n      <td>2019-07-25 12:42:08</td>\n      <td>2019-07-25 15:42:00</td>\n      <td>2019-07-25 12:42:09</td>\n      <td>2019-07-25 15:28:35</td>\n      <td>-1.0</td>\n      <td>805.0</td>\n    </tr>\n    <tr>\n      <th>2</th>\n      <td>116</td>\n      <td>1</td>\n      <td>2019-08-20 08:08:45</td>\n      <td>2019-08-20 11:09:00</td>\n      <td>2019-08-20 08:08:46</td>\n      <td>2019-08-20 11:08:56</td>\n      <td>-1.0</td>\n      <td>4.0</td>\n    </tr>\n    <tr>\n      <th>3</th>\n      <td>116</td>\n      <td>2</td>\n      <td>2019-08-21 11:10:12</td>\n      <td>2019-08-21 13:28:00</td>\n      <td>2019-08-21 11:09:48</td>\n      <td>2019-08-21 13:26:58</td>\n      <td>24.0</td>\n      <td>62.0</td>\n    </tr>\n    <tr>\n      <th>4</th>\n      <td>117</td>\n      <td>1</td>\n      <td>2019-08-20 15:17:46</td>\n      <td>2019-08-20 18:18:00</td>\n      <td>2019-08-20 03:17:47</td>\n      <td>2019-08-20 06:05:55</td>\n      <td>43199.0</td>\n      <td>43925.0</td>\n    </tr>\n    <tr>\n      <th>5</th>\n      <td>117</td>\n      <td>2</td>\n      <td>2019-08-21 07:11:45</td>\n      <td>2019-08-21 10:13:00</td>\n      <td>2019-08-21 07:11:46</td>\n      <td>2019-08-21 09:41:43</td>\n      <td>-1.0</td>\n      <td>1877.0</td>\n    </tr>\n    <tr>\n      <th>6</th>\n      <td>122</td>\n      <td>1</td>\n      <td>2019-08-28 10:06:41</td>\n      <td>2019-08-28 13:07:00</td>\n      <td>2019-08-28 10:06:42</td>\n      <td>2019-08-28 12:42:21</td>\n      <td>-1.0</td>\n      <td>1479.0</td>\n    </tr>\n    <tr>\n      <th>7</th>\n      <td>122</td>\n      <td>2</td>\n      <td>2019-08-29 15:19:51</td>\n      <td>2019-08-29 18:23:00</td>\n      <td>2019-08-29 03:19:52</td>\n      <td>2019-08-29 06:22:41</td>\n      <td>43199.0</td>\n      <td>43219.0</td>\n    </tr>\n    <tr>\n      <th>8</th>\n      <td>124</td>\n      <td>1</td>\n      <td>2019-08-28 14:59:09</td>\n      <td>2019-08-28 17:59:05</td>\n      <td>2019-08-28 02:59:10</td>\n      <td>2019-08-28 04:49:57</td>\n      <td>43199.0</td>\n      <td>47348.0</td>\n    </tr>\n    <tr>\n      <th>9</th>\n      <td>124</td>\n      <td>2</td>\n      <td>2019-08-29 09:31:00</td>\n      <td>2019-08-29 12:31:00</td>\n      <td>2019-08-29 09:31:01</td>\n      <td>2019-08-29 12:19:15</td>\n      <td>-1.0</td>\n      <td>705.0</td>\n    </tr>\n    <tr>\n      <th>10</th>\n      <td>126</td>\n      <td>1</td>\n      <td>2019-09-02 11:14:51</td>\n      <td>2019-09-02 14:15:00</td>\n      <td>NaT</td>\n      <td>NaT</td>\n      <td>NaN</td>\n      <td>NaN</td>\n    </tr>\n    <tr>\n      <th>11</th>\n      <td>126</td>\n      <td>2</td>\n      <td>2019-09-06 10:36:00</td>\n      <td>2019-09-06 13:36:00</td>\n      <td>2019-09-06 10:36:01</td>\n      <td>2019-09-06 12:51:16</td>\n      <td>-1.0</td>\n      <td>2684.0</td>\n    </tr>\n    <tr>\n      <th>12</th>\n      <td>127</td>\n      <td>1</td>\n      <td>2019-09-05 16:07:56</td>\n      <td>2019-09-05 19:08:00</td>\n      <td>2019-09-05 04:07:57</td>\n      <td>2019-09-05 06:28:24</td>\n      <td>43199.0</td>\n      <td>45576.0</td>\n    </tr>\n    <tr>\n      <th>13</th>\n      <td>127</td>\n      <td>2</td>\n      <td>2019-09-09 10:56:04</td>\n      <td>2019-09-09 13:56:00</td>\n      <td>2019-09-09 10:56:01</td>\n      <td>2019-09-09 13:37:29</td>\n      <td>3.0</td>\n      <td>1111.0</td>\n    </tr>\n    <tr>\n      <th>14</th>\n      <td>128</td>\n      <td>1</td>\n      <td>2019-09-06 07:00:01</td>\n      <td>2019-09-06 10:00:00</td>\n      <td>NaT</td>\n      <td>NaT</td>\n      <td>NaN</td>\n      <td>NaN</td>\n    </tr>\n    <tr>\n      <th>15</th>\n      <td>128</td>\n      <td>2</td>\n      <td>2019-09-10 13:21:00</td>\n      <td>2019-09-10 16:17:00</td>\n      <td>2019-09-10 01:21:01</td>\n      <td>2019-09-10 04:16:36</td>\n      <td>43199.0</td>\n      <td>43224.0</td>\n    </tr>\n    <tr>\n      <th>16</th>\n      <td>129</td>\n      <td>1</td>\n      <td>2019-09-07 08:55:00</td>\n      <td>2019-09-07 11:55:00</td>\n      <td>2019-09-07 08:55:01</td>\n      <td>2019-09-07 11:53:07</td>\n      <td>-1.0</td>\n      <td>113.0</td>\n    </tr>\n    <tr>\n      <th>17</th>\n      <td>129</td>\n      <td>2</td>\n      <td>2019-09-10 16:31:46</td>\n      <td>2019-09-10 19:32:00</td>\n      <td>2019-09-10 04:31:47</td>\n      <td>2019-09-10 07:28:35</td>\n      <td>43199.0</td>\n      <td>43405.0</td>\n    </tr>\n    <tr>\n      <th>18</th>\n      <td>130</td>\n      <td>1</td>\n      <td>2019-09-08 17:28:00</td>\n      <td>2019-09-08 20:28:00</td>\n      <td>2019-09-08 05:28:01</td>\n      <td>2019-09-08 08:25:55</td>\n      <td>43199.0</td>\n      <td>43325.0</td>\n    </tr>\n    <tr>\n      <th>19</th>\n      <td>130</td>\n      <td>2</td>\n      <td>2019-09-10 08:02:01</td>\n      <td>2019-09-10 11:02:00</td>\n      <td>2019-09-10 08:02:02</td>\n      <td>2019-09-10 10:49:00</td>\n      <td>-1.0</td>\n      <td>780.0</td>\n    </tr>\n    <tr>\n      <th>20</th>\n      <td>131</td>\n      <td>1</td>\n      <td>2019-09-12 10:57:42</td>\n      <td>2019-09-12 13:58:00</td>\n      <td>2019-09-12 10:57:43</td>\n      <td>2019-09-12 13:57:50</td>\n      <td>-1.0</td>\n      <td>10.0</td>\n    </tr>\n    <tr>\n      <th>21</th>\n      <td>131</td>\n      <td>2</td>\n      <td>2019-09-16 09:04:54</td>\n      <td>2019-09-16 11:55:00</td>\n      <td>2019-09-16 09:04:55</td>\n      <td>2019-09-16 11:54:51</td>\n      <td>-1.0</td>\n      <td>9.0</td>\n    </tr>\n    <tr>\n      <th>22</th>\n      <td>132</td>\n      <td>1</td>\n      <td>2019-10-04 13:31:18</td>\n      <td>2019-10-04 16:31:00</td>\n      <td>2019-10-04 01:31:19</td>\n      <td>2019-10-04 04:27:53</td>\n      <td>43199.0</td>\n      <td>43387.0</td>\n    </tr>\n    <tr>\n      <th>23</th>\n      <td>132</td>\n      <td>2</td>\n      <td>2019-10-10 09:24:58</td>\n      <td>2019-10-10 12:07:00</td>\n      <td>2019-10-10 09:24:45</td>\n      <td>2019-10-10 12:06:59</td>\n      <td>13.0</td>\n      <td>1.0</td>\n    </tr>\n    <tr>\n      <th>24</th>\n      <td>133</td>\n      <td>1</td>\n      <td>2019-10-10 14:31:56</td>\n      <td>2019-10-10 17:31:26</td>\n      <td>2019-10-10 02:31:57</td>\n      <td>2019-10-10 04:41:34</td>\n      <td>43199.0</td>\n      <td>46192.0</td>\n    </tr>\n    <tr>\n      <th>25</th>\n      <td>133</td>\n      <td>2</td>\n      <td>2019-10-11 10:23:20</td>\n      <td>2019-10-11 13:23:00</td>\n      <td>2019-10-11 10:23:21</td>\n      <td>2019-10-11 13:23:27</td>\n      <td>-1.0</td>\n      <td>-27.0</td>\n    </tr>\n    <tr>\n      <th>26</th>\n      <td>134</td>\n      <td>1</td>\n      <td>2019-10-09 12:57:15</td>\n      <td>2019-10-09 15:42:00</td>\n      <td>2019-10-09 12:57:16</td>\n      <td>2019-10-09 15:42:27</td>\n      <td>-1.0</td>\n      <td>-27.0</td>\n    </tr>\n    <tr>\n      <th>27</th>\n      <td>134</td>\n      <td>2</td>\n      <td>2019-10-13 12:56:53</td>\n      <td>2019-10-13 15:57:00</td>\n      <td>NaT</td>\n      <td>NaT</td>\n      <td>NaN</td>\n      <td>NaN</td>\n    </tr>\n    <tr>\n      <th>28</th>\n      <td>135</td>\n      <td>1</td>\n      <td>2019-10-15 15:32:01</td>\n      <td>2019-10-15 18:32:00</td>\n      <td>2019-10-15 03:32:02</td>\n      <td>2019-10-15 06:31:17</td>\n      <td>43199.0</td>\n      <td>43243.0</td>\n    </tr>\n    <tr>\n      <th>29</th>\n      <td>135</td>\n      <td>2</td>\n      <td>2019-10-19 12:49:51</td>\n      <td>2019-10-19 15:50:01</td>\n      <td>2019-10-19 12:49:52</td>\n      <td>2019-10-19 15:40:11</td>\n      <td>-1.0</td>\n      <td>590.0</td>\n    </tr>\n    <tr>\n      <th>30</th>\n      <td>136</td>\n      <td>1</td>\n      <td>2019-10-17 13:41:00</td>\n      <td>2019-10-17 16:41:00</td>\n      <td>2019-10-17 01:41:01</td>\n      <td>2019-10-17 04:40:57</td>\n      <td>43199.0</td>\n      <td>43203.0</td>\n    </tr>\n    <tr>\n      <th>31</th>\n      <td>136</td>\n      <td>2</td>\n      <td>2019-10-19 09:00:51</td>\n      <td>2019-10-19 12:01:00</td>\n      <td>NaT</td>\n      <td>NaT</td>\n      <td>NaN</td>\n      <td>NaN</td>\n    </tr>\n    <tr>\n      <th>32</th>\n      <td>138</td>\n      <td>1</td>\n      <td>2019-11-01 16:11:00</td>\n      <td>2019-11-01 18:01:00</td>\n      <td>2019-11-01 04:11:01</td>\n      <td>2019-11-01 06:00:36</td>\n      <td>43199.0</td>\n      <td>43224.0</td>\n    </tr>\n    <tr>\n      <th>33</th>\n      <td>138</td>\n      <td>2</td>\n      <td>2019-11-02 09:23:00</td>\n      <td>2019-11-02 12:24:00</td>\n      <td>NaT</td>\n      <td>NaT</td>\n      <td>NaN</td>\n      <td>NaN</td>\n    </tr>\n    <tr>\n      <th>34</th>\n      <td>139</td>\n      <td>1</td>\n      <td>2019-11-03 14:19:59</td>\n      <td>2019-11-03 17:20:00</td>\n      <td>NaT</td>\n      <td>NaT</td>\n      <td>NaN</td>\n      <td>NaN</td>\n    </tr>\n    <tr>\n      <th>35</th>\n      <td>139</td>\n      <td>2</td>\n      <td>2019-11-05 15:04:59</td>\n      <td>2019-11-05 18:05:00</td>\n      <td>NaT</td>\n      <td>NaT</td>\n      <td>NaN</td>\n      <td>NaN</td>\n    </tr>\n    <tr>\n      <th>36</th>\n      <td>140</td>\n      <td>1</td>\n      <td>2019-11-09 08:59:21</td>\n      <td>2019-11-09 11:59:00</td>\n      <td>2019-11-09 08:59:22</td>\n      <td>2019-11-09 11:39:53</td>\n      <td>-1.0</td>\n      <td>1147.0</td>\n    </tr>\n    <tr>\n      <th>37</th>\n      <td>140</td>\n      <td>2</td>\n      <td>2019-11-09 13:04:00</td>\n      <td>2019-11-09 16:04:00</td>\n      <td>2019-11-09 01:04:01</td>\n      <td>2019-11-09 03:23:20</td>\n      <td>43199.0</td>\n      <td>45640.0</td>\n    </tr>\n    <tr>\n      <th>38</th>\n      <td>141</td>\n      <td>1</td>\n      <td>2019-11-06 12:27:52</td>\n      <td>2019-11-06 15:29:00</td>\n      <td>2019-11-06 12:27:53</td>\n      <td>2019-11-06 15:27:59</td>\n      <td>-1.0</td>\n      <td>61.0</td>\n    </tr>\n    <tr>\n      <th>39</th>\n      <td>141</td>\n      <td>2</td>\n      <td>2019-11-10 10:01:00</td>\n      <td>2019-11-10 13:01:00</td>\n      <td>2019-11-10 10:01:01</td>\n      <td>2019-11-10 13:00:16</td>\n      <td>-1.0</td>\n      <td>44.0</td>\n    </tr>\n    <tr>\n      <th>40</th>\n      <td>143</td>\n      <td>1</td>\n      <td>2019-11-16 10:07:00</td>\n      <td>2019-11-16 13:07:00</td>\n      <td>NaT</td>\n      <td>NaT</td>\n      <td>NaN</td>\n      <td>NaN</td>\n    </tr>\n    <tr>\n      <th>41</th>\n      <td>143</td>\n      <td>2</td>\n      <td>2019-11-18 13:02:00</td>\n      <td>2019-11-18 16:02:00</td>\n      <td>2019-11-18 01:02:01</td>\n      <td>2019-11-18 04:02:05</td>\n      <td>43199.0</td>\n      <td>43195.0</td>\n    </tr>\n    <tr>\n      <th>42</th>\n      <td>144</td>\n      <td>1</td>\n      <td>2019-11-22 12:38:00</td>\n      <td>2019-11-22 15:39:00</td>\n      <td>2019-11-22 12:38:01</td>\n      <td>2019-11-22 15:38:11</td>\n      <td>-1.0</td>\n      <td>49.0</td>\n    </tr>\n    <tr>\n      <th>43</th>\n      <td>144</td>\n      <td>2</td>\n      <td>2019-11-23 16:35:01</td>\n      <td>2019-11-23 19:35:00</td>\n      <td>2019-11-23 04:35:02</td>\n      <td>2019-11-23 07:06:33</td>\n      <td>43199.0</td>\n      <td>44907.0</td>\n    </tr>\n    <tr>\n      <th>44</th>\n      <td>150</td>\n      <td>1</td>\n      <td>2020-01-19 09:29:05</td>\n      <td>2020-01-19 13:18:25</td>\n      <td>2020-01-19 09:29:06</td>\n      <td>2020-01-19 13:17:59</td>\n      <td>-1.0</td>\n      <td>26.0</td>\n    </tr>\n    <tr>\n      <th>45</th>\n      <td>150</td>\n      <td>2</td>\n      <td>2020-01-21 19:31:59</td>\n      <td>2020-01-21 22:32:00</td>\n      <td>2020-01-21 07:31:53</td>\n      <td>2020-01-21 10:25:49</td>\n      <td>43206.0</td>\n      <td>43571.0</td>\n    </tr>\n    <tr>\n      <th>46</th>\n      <td>154</td>\n      <td>1</td>\n      <td>2020-02-22 13:07:59</td>\n      <td>2020-02-22 16:06:59</td>\n      <td>NaT</td>\n      <td>NaT</td>\n      <td>NaN</td>\n      <td>NaN</td>\n    </tr>\n    <tr>\n      <th>47</th>\n      <td>154</td>\n      <td>2</td>\n      <td>2020-02-23 13:04:09</td>\n      <td>2020-02-23 15:56:00</td>\n      <td>2020-02-23 01:04:10</td>\n      <td>2020-02-23 01:06:33</td>\n      <td>43199.0</td>\n      <td>53367.0</td>\n    </tr>\n  </tbody>\n</table>\n</div>"
     },
     "execution_count": 69,
     "metadata": {},
     "output_type": "execute_result"
    }
   ],
   "source": [
    "start_end_info = pd.merge(GT_times, seconds_times, on=[\"ID\", \"Session\"], how=\"outer\", suffixes=(\"_GT\", '_secondsFile'))\n",
    "# Get differences between seconds/coding ground truth, in seconds\n",
    "start_end_info[\"StartDiffSecs(GT-seconds)\"] = (start_end_info[\"Start_GT\"] - start_end_info[\"Start_secondsFile\"]).dt.total_seconds()\n",
    "start_end_info[\"EndDiffSecs(GT-seconds)\"] = (start_end_info[\"End_GT\"] - start_end_info[\"End_secondsFile\"]).dt.total_seconds()\n",
    "start_end_info"
   ]
  },
  {
   "cell_type": "markdown",
   "id": "19833436-f136-4298-8e81-fd5094f6a008",
   "metadata": {},
   "source": [
    "**Add Issue Flags in Columns**"
   ]
  },
  {
   "cell_type": "code",
   "execution_count": 70,
   "id": "c8834f91-77e2-4cba-892c-9fe73d6c89f6",
   "metadata": {
    "ExecuteTime": {
     "end_time": "2024-03-06T23:21:28.257241400Z",
     "start_time": "2024-03-06T23:21:28.204596700Z"
    }
   },
   "outputs": [],
   "source": [
    "# Function that flags id/observation pairs if the times between step and coding ground truth are off by around 12 hrs\n",
    "def flag_military(row):\n",
    "    if row > 40000:\n",
    "        return True\n",
    "    else:\n",
    "        return False"
   ]
  },
  {
   "cell_type": "code",
   "execution_count": 71,
   "id": "13bc487f-2a3c-4008-988f-2fc71bdefd97",
   "metadata": {
    "ExecuteTime": {
     "end_time": "2024-03-06T23:21:28.361136700Z",
     "start_time": "2024-03-06T23:21:28.220918500Z"
    }
   },
   "outputs": [
    {
     "data": {
      "text/plain": "     ID  Session            Start_GT              End_GT   Start_secondsFile  \\\n0   102        1 2019-07-24 08:20:19 2019-07-24 11:21:13 2019-07-24 08:20:20   \n1   102        2 2019-07-25 12:42:08 2019-07-25 15:42:00 2019-07-25 12:42:09   \n2   116        1 2019-08-20 08:08:45 2019-08-20 11:09:00 2019-08-20 08:08:46   \n3   116        2 2019-08-21 11:10:12 2019-08-21 13:28:00 2019-08-21 11:09:48   \n4   117        1 2019-08-20 15:17:46 2019-08-20 18:18:00 2019-08-20 03:17:47   \n5   117        2 2019-08-21 07:11:45 2019-08-21 10:13:00 2019-08-21 07:11:46   \n6   122        1 2019-08-28 10:06:41 2019-08-28 13:07:00 2019-08-28 10:06:42   \n7   122        2 2019-08-29 15:19:51 2019-08-29 18:23:00 2019-08-29 03:19:52   \n8   124        1 2019-08-28 14:59:09 2019-08-28 17:59:05 2019-08-28 02:59:10   \n9   124        2 2019-08-29 09:31:00 2019-08-29 12:31:00 2019-08-29 09:31:01   \n10  126        1 2019-09-02 11:14:51 2019-09-02 14:15:00                 NaT   \n11  126        2 2019-09-06 10:36:00 2019-09-06 13:36:00 2019-09-06 10:36:01   \n12  127        1 2019-09-05 16:07:56 2019-09-05 19:08:00 2019-09-05 04:07:57   \n13  127        2 2019-09-09 10:56:04 2019-09-09 13:56:00 2019-09-09 10:56:01   \n14  128        1 2019-09-06 07:00:01 2019-09-06 10:00:00                 NaT   \n15  128        2 2019-09-10 13:21:00 2019-09-10 16:17:00 2019-09-10 01:21:01   \n16  129        1 2019-09-07 08:55:00 2019-09-07 11:55:00 2019-09-07 08:55:01   \n17  129        2 2019-09-10 16:31:46 2019-09-10 19:32:00 2019-09-10 04:31:47   \n18  130        1 2019-09-08 17:28:00 2019-09-08 20:28:00 2019-09-08 05:28:01   \n19  130        2 2019-09-10 08:02:01 2019-09-10 11:02:00 2019-09-10 08:02:02   \n20  131        1 2019-09-12 10:57:42 2019-09-12 13:58:00 2019-09-12 10:57:43   \n21  131        2 2019-09-16 09:04:54 2019-09-16 11:55:00 2019-09-16 09:04:55   \n22  132        1 2019-10-04 13:31:18 2019-10-04 16:31:00 2019-10-04 01:31:19   \n23  132        2 2019-10-10 09:24:58 2019-10-10 12:07:00 2019-10-10 09:24:45   \n24  133        1 2019-10-10 14:31:56 2019-10-10 17:31:26 2019-10-10 02:31:57   \n25  133        2 2019-10-11 10:23:20 2019-10-11 13:23:00 2019-10-11 10:23:21   \n26  134        1 2019-10-09 12:57:15 2019-10-09 15:42:00 2019-10-09 12:57:16   \n27  134        2 2019-10-13 12:56:53 2019-10-13 15:57:00                 NaT   \n28  135        1 2019-10-15 15:32:01 2019-10-15 18:32:00 2019-10-15 03:32:02   \n29  135        2 2019-10-19 12:49:51 2019-10-19 15:50:01 2019-10-19 12:49:52   \n30  136        1 2019-10-17 13:41:00 2019-10-17 16:41:00 2019-10-17 01:41:01   \n31  136        2 2019-10-19 09:00:51 2019-10-19 12:01:00                 NaT   \n32  138        1 2019-11-01 16:11:00 2019-11-01 18:01:00 2019-11-01 04:11:01   \n33  138        2 2019-11-02 09:23:00 2019-11-02 12:24:00                 NaT   \n34  139        1 2019-11-03 14:19:59 2019-11-03 17:20:00                 NaT   \n35  139        2 2019-11-05 15:04:59 2019-11-05 18:05:00                 NaT   \n36  140        1 2019-11-09 08:59:21 2019-11-09 11:59:00 2019-11-09 08:59:22   \n37  140        2 2019-11-09 13:04:00 2019-11-09 16:04:00 2019-11-09 01:04:01   \n38  141        1 2019-11-06 12:27:52 2019-11-06 15:29:00 2019-11-06 12:27:53   \n39  141        2 2019-11-10 10:01:00 2019-11-10 13:01:00 2019-11-10 10:01:01   \n40  143        1 2019-11-16 10:07:00 2019-11-16 13:07:00                 NaT   \n41  143        2 2019-11-18 13:02:00 2019-11-18 16:02:00 2019-11-18 01:02:01   \n42  144        1 2019-11-22 12:38:00 2019-11-22 15:39:00 2019-11-22 12:38:01   \n43  144        2 2019-11-23 16:35:01 2019-11-23 19:35:00 2019-11-23 04:35:02   \n44  150        1 2020-01-19 09:29:05 2020-01-19 13:18:25 2020-01-19 09:29:06   \n45  150        2 2020-01-21 19:31:59 2020-01-21 22:32:00 2020-01-21 07:31:53   \n46  154        1 2020-02-22 13:07:59 2020-02-22 16:06:59                 NaT   \n47  154        2 2020-02-23 13:04:09 2020-02-23 15:56:00 2020-02-23 01:04:10   \n\n       End_secondsFile  StartDiffSecs(GT-seconds)  EndDiffSecs(GT-seconds)  \\\n0  2019-07-24 11:05:37                       -1.0                    936.0   \n1  2019-07-25 15:28:35                       -1.0                    805.0   \n2  2019-08-20 11:08:56                       -1.0                      4.0   \n3  2019-08-21 13:26:58                       24.0                     62.0   \n4  2019-08-20 06:05:55                    43199.0                  43925.0   \n5  2019-08-21 09:41:43                       -1.0                   1877.0   \n6  2019-08-28 12:42:21                       -1.0                   1479.0   \n7  2019-08-29 06:22:41                    43199.0                  43219.0   \n8  2019-08-28 04:49:57                    43199.0                  47348.0   \n9  2019-08-29 12:19:15                       -1.0                    705.0   \n10                 NaT                        NaN                      NaN   \n11 2019-09-06 12:51:16                       -1.0                   2684.0   \n12 2019-09-05 06:28:24                    43199.0                  45576.0   \n13 2019-09-09 13:37:29                        3.0                   1111.0   \n14                 NaT                        NaN                      NaN   \n15 2019-09-10 04:16:36                    43199.0                  43224.0   \n16 2019-09-07 11:53:07                       -1.0                    113.0   \n17 2019-09-10 07:28:35                    43199.0                  43405.0   \n18 2019-09-08 08:25:55                    43199.0                  43325.0   \n19 2019-09-10 10:49:00                       -1.0                    780.0   \n20 2019-09-12 13:57:50                       -1.0                     10.0   \n21 2019-09-16 11:54:51                       -1.0                      9.0   \n22 2019-10-04 04:27:53                    43199.0                  43387.0   \n23 2019-10-10 12:06:59                       13.0                      1.0   \n24 2019-10-10 04:41:34                    43199.0                  46192.0   \n25 2019-10-11 13:23:27                       -1.0                    -27.0   \n26 2019-10-09 15:42:27                       -1.0                    -27.0   \n27                 NaT                        NaN                      NaN   \n28 2019-10-15 06:31:17                    43199.0                  43243.0   \n29 2019-10-19 15:40:11                       -1.0                    590.0   \n30 2019-10-17 04:40:57                    43199.0                  43203.0   \n31                 NaT                        NaN                      NaN   \n32 2019-11-01 06:00:36                    43199.0                  43224.0   \n33                 NaT                        NaN                      NaN   \n34                 NaT                        NaN                      NaN   \n35                 NaT                        NaN                      NaN   \n36 2019-11-09 11:39:53                       -1.0                   1147.0   \n37 2019-11-09 03:23:20                    43199.0                  45640.0   \n38 2019-11-06 15:27:59                       -1.0                     61.0   \n39 2019-11-10 13:00:16                       -1.0                     44.0   \n40                 NaT                        NaN                      NaN   \n41 2019-11-18 04:02:05                    43199.0                  43195.0   \n42 2019-11-22 15:38:11                       -1.0                     49.0   \n43 2019-11-23 07:06:33                    43199.0                  44907.0   \n44 2020-01-19 13:17:59                       -1.0                     26.0   \n45 2020-01-21 10:25:49                    43206.0                  43571.0   \n46                 NaT                        NaN                      NaN   \n47 2020-02-23 01:06:33                    43199.0                  53367.0   \n\n    MilitaryTimeFlag  \n0              False  \n1              False  \n2              False  \n3              False  \n4               True  \n5              False  \n6              False  \n7               True  \n8               True  \n9              False  \n10             False  \n11             False  \n12              True  \n13             False  \n14             False  \n15              True  \n16             False  \n17              True  \n18              True  \n19             False  \n20             False  \n21             False  \n22              True  \n23             False  \n24              True  \n25             False  \n26             False  \n27             False  \n28              True  \n29             False  \n30              True  \n31             False  \n32              True  \n33             False  \n34             False  \n35             False  \n36             False  \n37              True  \n38             False  \n39             False  \n40             False  \n41              True  \n42             False  \n43              True  \n44             False  \n45              True  \n46             False  \n47              True  ",
      "text/html": "<div>\n<style scoped>\n    .dataframe tbody tr th:only-of-type {\n        vertical-align: middle;\n    }\n\n    .dataframe tbody tr th {\n        vertical-align: top;\n    }\n\n    .dataframe thead th {\n        text-align: right;\n    }\n</style>\n<table border=\"1\" class=\"dataframe\">\n  <thead>\n    <tr style=\"text-align: right;\">\n      <th></th>\n      <th>ID</th>\n      <th>Session</th>\n      <th>Start_GT</th>\n      <th>End_GT</th>\n      <th>Start_secondsFile</th>\n      <th>End_secondsFile</th>\n      <th>StartDiffSecs(GT-seconds)</th>\n      <th>EndDiffSecs(GT-seconds)</th>\n      <th>MilitaryTimeFlag</th>\n    </tr>\n  </thead>\n  <tbody>\n    <tr>\n      <th>0</th>\n      <td>102</td>\n      <td>1</td>\n      <td>2019-07-24 08:20:19</td>\n      <td>2019-07-24 11:21:13</td>\n      <td>2019-07-24 08:20:20</td>\n      <td>2019-07-24 11:05:37</td>\n      <td>-1.0</td>\n      <td>936.0</td>\n      <td>False</td>\n    </tr>\n    <tr>\n      <th>1</th>\n      <td>102</td>\n      <td>2</td>\n      <td>2019-07-25 12:42:08</td>\n      <td>2019-07-25 15:42:00</td>\n      <td>2019-07-25 12:42:09</td>\n      <td>2019-07-25 15:28:35</td>\n      <td>-1.0</td>\n      <td>805.0</td>\n      <td>False</td>\n    </tr>\n    <tr>\n      <th>2</th>\n      <td>116</td>\n      <td>1</td>\n      <td>2019-08-20 08:08:45</td>\n      <td>2019-08-20 11:09:00</td>\n      <td>2019-08-20 08:08:46</td>\n      <td>2019-08-20 11:08:56</td>\n      <td>-1.0</td>\n      <td>4.0</td>\n      <td>False</td>\n    </tr>\n    <tr>\n      <th>3</th>\n      <td>116</td>\n      <td>2</td>\n      <td>2019-08-21 11:10:12</td>\n      <td>2019-08-21 13:28:00</td>\n      <td>2019-08-21 11:09:48</td>\n      <td>2019-08-21 13:26:58</td>\n      <td>24.0</td>\n      <td>62.0</td>\n      <td>False</td>\n    </tr>\n    <tr>\n      <th>4</th>\n      <td>117</td>\n      <td>1</td>\n      <td>2019-08-20 15:17:46</td>\n      <td>2019-08-20 18:18:00</td>\n      <td>2019-08-20 03:17:47</td>\n      <td>2019-08-20 06:05:55</td>\n      <td>43199.0</td>\n      <td>43925.0</td>\n      <td>True</td>\n    </tr>\n    <tr>\n      <th>5</th>\n      <td>117</td>\n      <td>2</td>\n      <td>2019-08-21 07:11:45</td>\n      <td>2019-08-21 10:13:00</td>\n      <td>2019-08-21 07:11:46</td>\n      <td>2019-08-21 09:41:43</td>\n      <td>-1.0</td>\n      <td>1877.0</td>\n      <td>False</td>\n    </tr>\n    <tr>\n      <th>6</th>\n      <td>122</td>\n      <td>1</td>\n      <td>2019-08-28 10:06:41</td>\n      <td>2019-08-28 13:07:00</td>\n      <td>2019-08-28 10:06:42</td>\n      <td>2019-08-28 12:42:21</td>\n      <td>-1.0</td>\n      <td>1479.0</td>\n      <td>False</td>\n    </tr>\n    <tr>\n      <th>7</th>\n      <td>122</td>\n      <td>2</td>\n      <td>2019-08-29 15:19:51</td>\n      <td>2019-08-29 18:23:00</td>\n      <td>2019-08-29 03:19:52</td>\n      <td>2019-08-29 06:22:41</td>\n      <td>43199.0</td>\n      <td>43219.0</td>\n      <td>True</td>\n    </tr>\n    <tr>\n      <th>8</th>\n      <td>124</td>\n      <td>1</td>\n      <td>2019-08-28 14:59:09</td>\n      <td>2019-08-28 17:59:05</td>\n      <td>2019-08-28 02:59:10</td>\n      <td>2019-08-28 04:49:57</td>\n      <td>43199.0</td>\n      <td>47348.0</td>\n      <td>True</td>\n    </tr>\n    <tr>\n      <th>9</th>\n      <td>124</td>\n      <td>2</td>\n      <td>2019-08-29 09:31:00</td>\n      <td>2019-08-29 12:31:00</td>\n      <td>2019-08-29 09:31:01</td>\n      <td>2019-08-29 12:19:15</td>\n      <td>-1.0</td>\n      <td>705.0</td>\n      <td>False</td>\n    </tr>\n    <tr>\n      <th>10</th>\n      <td>126</td>\n      <td>1</td>\n      <td>2019-09-02 11:14:51</td>\n      <td>2019-09-02 14:15:00</td>\n      <td>NaT</td>\n      <td>NaT</td>\n      <td>NaN</td>\n      <td>NaN</td>\n      <td>False</td>\n    </tr>\n    <tr>\n      <th>11</th>\n      <td>126</td>\n      <td>2</td>\n      <td>2019-09-06 10:36:00</td>\n      <td>2019-09-06 13:36:00</td>\n      <td>2019-09-06 10:36:01</td>\n      <td>2019-09-06 12:51:16</td>\n      <td>-1.0</td>\n      <td>2684.0</td>\n      <td>False</td>\n    </tr>\n    <tr>\n      <th>12</th>\n      <td>127</td>\n      <td>1</td>\n      <td>2019-09-05 16:07:56</td>\n      <td>2019-09-05 19:08:00</td>\n      <td>2019-09-05 04:07:57</td>\n      <td>2019-09-05 06:28:24</td>\n      <td>43199.0</td>\n      <td>45576.0</td>\n      <td>True</td>\n    </tr>\n    <tr>\n      <th>13</th>\n      <td>127</td>\n      <td>2</td>\n      <td>2019-09-09 10:56:04</td>\n      <td>2019-09-09 13:56:00</td>\n      <td>2019-09-09 10:56:01</td>\n      <td>2019-09-09 13:37:29</td>\n      <td>3.0</td>\n      <td>1111.0</td>\n      <td>False</td>\n    </tr>\n    <tr>\n      <th>14</th>\n      <td>128</td>\n      <td>1</td>\n      <td>2019-09-06 07:00:01</td>\n      <td>2019-09-06 10:00:00</td>\n      <td>NaT</td>\n      <td>NaT</td>\n      <td>NaN</td>\n      <td>NaN</td>\n      <td>False</td>\n    </tr>\n    <tr>\n      <th>15</th>\n      <td>128</td>\n      <td>2</td>\n      <td>2019-09-10 13:21:00</td>\n      <td>2019-09-10 16:17:00</td>\n      <td>2019-09-10 01:21:01</td>\n      <td>2019-09-10 04:16:36</td>\n      <td>43199.0</td>\n      <td>43224.0</td>\n      <td>True</td>\n    </tr>\n    <tr>\n      <th>16</th>\n      <td>129</td>\n      <td>1</td>\n      <td>2019-09-07 08:55:00</td>\n      <td>2019-09-07 11:55:00</td>\n      <td>2019-09-07 08:55:01</td>\n      <td>2019-09-07 11:53:07</td>\n      <td>-1.0</td>\n      <td>113.0</td>\n      <td>False</td>\n    </tr>\n    <tr>\n      <th>17</th>\n      <td>129</td>\n      <td>2</td>\n      <td>2019-09-10 16:31:46</td>\n      <td>2019-09-10 19:32:00</td>\n      <td>2019-09-10 04:31:47</td>\n      <td>2019-09-10 07:28:35</td>\n      <td>43199.0</td>\n      <td>43405.0</td>\n      <td>True</td>\n    </tr>\n    <tr>\n      <th>18</th>\n      <td>130</td>\n      <td>1</td>\n      <td>2019-09-08 17:28:00</td>\n      <td>2019-09-08 20:28:00</td>\n      <td>2019-09-08 05:28:01</td>\n      <td>2019-09-08 08:25:55</td>\n      <td>43199.0</td>\n      <td>43325.0</td>\n      <td>True</td>\n    </tr>\n    <tr>\n      <th>19</th>\n      <td>130</td>\n      <td>2</td>\n      <td>2019-09-10 08:02:01</td>\n      <td>2019-09-10 11:02:00</td>\n      <td>2019-09-10 08:02:02</td>\n      <td>2019-09-10 10:49:00</td>\n      <td>-1.0</td>\n      <td>780.0</td>\n      <td>False</td>\n    </tr>\n    <tr>\n      <th>20</th>\n      <td>131</td>\n      <td>1</td>\n      <td>2019-09-12 10:57:42</td>\n      <td>2019-09-12 13:58:00</td>\n      <td>2019-09-12 10:57:43</td>\n      <td>2019-09-12 13:57:50</td>\n      <td>-1.0</td>\n      <td>10.0</td>\n      <td>False</td>\n    </tr>\n    <tr>\n      <th>21</th>\n      <td>131</td>\n      <td>2</td>\n      <td>2019-09-16 09:04:54</td>\n      <td>2019-09-16 11:55:00</td>\n      <td>2019-09-16 09:04:55</td>\n      <td>2019-09-16 11:54:51</td>\n      <td>-1.0</td>\n      <td>9.0</td>\n      <td>False</td>\n    </tr>\n    <tr>\n      <th>22</th>\n      <td>132</td>\n      <td>1</td>\n      <td>2019-10-04 13:31:18</td>\n      <td>2019-10-04 16:31:00</td>\n      <td>2019-10-04 01:31:19</td>\n      <td>2019-10-04 04:27:53</td>\n      <td>43199.0</td>\n      <td>43387.0</td>\n      <td>True</td>\n    </tr>\n    <tr>\n      <th>23</th>\n      <td>132</td>\n      <td>2</td>\n      <td>2019-10-10 09:24:58</td>\n      <td>2019-10-10 12:07:00</td>\n      <td>2019-10-10 09:24:45</td>\n      <td>2019-10-10 12:06:59</td>\n      <td>13.0</td>\n      <td>1.0</td>\n      <td>False</td>\n    </tr>\n    <tr>\n      <th>24</th>\n      <td>133</td>\n      <td>1</td>\n      <td>2019-10-10 14:31:56</td>\n      <td>2019-10-10 17:31:26</td>\n      <td>2019-10-10 02:31:57</td>\n      <td>2019-10-10 04:41:34</td>\n      <td>43199.0</td>\n      <td>46192.0</td>\n      <td>True</td>\n    </tr>\n    <tr>\n      <th>25</th>\n      <td>133</td>\n      <td>2</td>\n      <td>2019-10-11 10:23:20</td>\n      <td>2019-10-11 13:23:00</td>\n      <td>2019-10-11 10:23:21</td>\n      <td>2019-10-11 13:23:27</td>\n      <td>-1.0</td>\n      <td>-27.0</td>\n      <td>False</td>\n    </tr>\n    <tr>\n      <th>26</th>\n      <td>134</td>\n      <td>1</td>\n      <td>2019-10-09 12:57:15</td>\n      <td>2019-10-09 15:42:00</td>\n      <td>2019-10-09 12:57:16</td>\n      <td>2019-10-09 15:42:27</td>\n      <td>-1.0</td>\n      <td>-27.0</td>\n      <td>False</td>\n    </tr>\n    <tr>\n      <th>27</th>\n      <td>134</td>\n      <td>2</td>\n      <td>2019-10-13 12:56:53</td>\n      <td>2019-10-13 15:57:00</td>\n      <td>NaT</td>\n      <td>NaT</td>\n      <td>NaN</td>\n      <td>NaN</td>\n      <td>False</td>\n    </tr>\n    <tr>\n      <th>28</th>\n      <td>135</td>\n      <td>1</td>\n      <td>2019-10-15 15:32:01</td>\n      <td>2019-10-15 18:32:00</td>\n      <td>2019-10-15 03:32:02</td>\n      <td>2019-10-15 06:31:17</td>\n      <td>43199.0</td>\n      <td>43243.0</td>\n      <td>True</td>\n    </tr>\n    <tr>\n      <th>29</th>\n      <td>135</td>\n      <td>2</td>\n      <td>2019-10-19 12:49:51</td>\n      <td>2019-10-19 15:50:01</td>\n      <td>2019-10-19 12:49:52</td>\n      <td>2019-10-19 15:40:11</td>\n      <td>-1.0</td>\n      <td>590.0</td>\n      <td>False</td>\n    </tr>\n    <tr>\n      <th>30</th>\n      <td>136</td>\n      <td>1</td>\n      <td>2019-10-17 13:41:00</td>\n      <td>2019-10-17 16:41:00</td>\n      <td>2019-10-17 01:41:01</td>\n      <td>2019-10-17 04:40:57</td>\n      <td>43199.0</td>\n      <td>43203.0</td>\n      <td>True</td>\n    </tr>\n    <tr>\n      <th>31</th>\n      <td>136</td>\n      <td>2</td>\n      <td>2019-10-19 09:00:51</td>\n      <td>2019-10-19 12:01:00</td>\n      <td>NaT</td>\n      <td>NaT</td>\n      <td>NaN</td>\n      <td>NaN</td>\n      <td>False</td>\n    </tr>\n    <tr>\n      <th>32</th>\n      <td>138</td>\n      <td>1</td>\n      <td>2019-11-01 16:11:00</td>\n      <td>2019-11-01 18:01:00</td>\n      <td>2019-11-01 04:11:01</td>\n      <td>2019-11-01 06:00:36</td>\n      <td>43199.0</td>\n      <td>43224.0</td>\n      <td>True</td>\n    </tr>\n    <tr>\n      <th>33</th>\n      <td>138</td>\n      <td>2</td>\n      <td>2019-11-02 09:23:00</td>\n      <td>2019-11-02 12:24:00</td>\n      <td>NaT</td>\n      <td>NaT</td>\n      <td>NaN</td>\n      <td>NaN</td>\n      <td>False</td>\n    </tr>\n    <tr>\n      <th>34</th>\n      <td>139</td>\n      <td>1</td>\n      <td>2019-11-03 14:19:59</td>\n      <td>2019-11-03 17:20:00</td>\n      <td>NaT</td>\n      <td>NaT</td>\n      <td>NaN</td>\n      <td>NaN</td>\n      <td>False</td>\n    </tr>\n    <tr>\n      <th>35</th>\n      <td>139</td>\n      <td>2</td>\n      <td>2019-11-05 15:04:59</td>\n      <td>2019-11-05 18:05:00</td>\n      <td>NaT</td>\n      <td>NaT</td>\n      <td>NaN</td>\n      <td>NaN</td>\n      <td>False</td>\n    </tr>\n    <tr>\n      <th>36</th>\n      <td>140</td>\n      <td>1</td>\n      <td>2019-11-09 08:59:21</td>\n      <td>2019-11-09 11:59:00</td>\n      <td>2019-11-09 08:59:22</td>\n      <td>2019-11-09 11:39:53</td>\n      <td>-1.0</td>\n      <td>1147.0</td>\n      <td>False</td>\n    </tr>\n    <tr>\n      <th>37</th>\n      <td>140</td>\n      <td>2</td>\n      <td>2019-11-09 13:04:00</td>\n      <td>2019-11-09 16:04:00</td>\n      <td>2019-11-09 01:04:01</td>\n      <td>2019-11-09 03:23:20</td>\n      <td>43199.0</td>\n      <td>45640.0</td>\n      <td>True</td>\n    </tr>\n    <tr>\n      <th>38</th>\n      <td>141</td>\n      <td>1</td>\n      <td>2019-11-06 12:27:52</td>\n      <td>2019-11-06 15:29:00</td>\n      <td>2019-11-06 12:27:53</td>\n      <td>2019-11-06 15:27:59</td>\n      <td>-1.0</td>\n      <td>61.0</td>\n      <td>False</td>\n    </tr>\n    <tr>\n      <th>39</th>\n      <td>141</td>\n      <td>2</td>\n      <td>2019-11-10 10:01:00</td>\n      <td>2019-11-10 13:01:00</td>\n      <td>2019-11-10 10:01:01</td>\n      <td>2019-11-10 13:00:16</td>\n      <td>-1.0</td>\n      <td>44.0</td>\n      <td>False</td>\n    </tr>\n    <tr>\n      <th>40</th>\n      <td>143</td>\n      <td>1</td>\n      <td>2019-11-16 10:07:00</td>\n      <td>2019-11-16 13:07:00</td>\n      <td>NaT</td>\n      <td>NaT</td>\n      <td>NaN</td>\n      <td>NaN</td>\n      <td>False</td>\n    </tr>\n    <tr>\n      <th>41</th>\n      <td>143</td>\n      <td>2</td>\n      <td>2019-11-18 13:02:00</td>\n      <td>2019-11-18 16:02:00</td>\n      <td>2019-11-18 01:02:01</td>\n      <td>2019-11-18 04:02:05</td>\n      <td>43199.0</td>\n      <td>43195.0</td>\n      <td>True</td>\n    </tr>\n    <tr>\n      <th>42</th>\n      <td>144</td>\n      <td>1</td>\n      <td>2019-11-22 12:38:00</td>\n      <td>2019-11-22 15:39:00</td>\n      <td>2019-11-22 12:38:01</td>\n      <td>2019-11-22 15:38:11</td>\n      <td>-1.0</td>\n      <td>49.0</td>\n      <td>False</td>\n    </tr>\n    <tr>\n      <th>43</th>\n      <td>144</td>\n      <td>2</td>\n      <td>2019-11-23 16:35:01</td>\n      <td>2019-11-23 19:35:00</td>\n      <td>2019-11-23 04:35:02</td>\n      <td>2019-11-23 07:06:33</td>\n      <td>43199.0</td>\n      <td>44907.0</td>\n      <td>True</td>\n    </tr>\n    <tr>\n      <th>44</th>\n      <td>150</td>\n      <td>1</td>\n      <td>2020-01-19 09:29:05</td>\n      <td>2020-01-19 13:18:25</td>\n      <td>2020-01-19 09:29:06</td>\n      <td>2020-01-19 13:17:59</td>\n      <td>-1.0</td>\n      <td>26.0</td>\n      <td>False</td>\n    </tr>\n    <tr>\n      <th>45</th>\n      <td>150</td>\n      <td>2</td>\n      <td>2020-01-21 19:31:59</td>\n      <td>2020-01-21 22:32:00</td>\n      <td>2020-01-21 07:31:53</td>\n      <td>2020-01-21 10:25:49</td>\n      <td>43206.0</td>\n      <td>43571.0</td>\n      <td>True</td>\n    </tr>\n    <tr>\n      <th>46</th>\n      <td>154</td>\n      <td>1</td>\n      <td>2020-02-22 13:07:59</td>\n      <td>2020-02-22 16:06:59</td>\n      <td>NaT</td>\n      <td>NaT</td>\n      <td>NaN</td>\n      <td>NaN</td>\n      <td>False</td>\n    </tr>\n    <tr>\n      <th>47</th>\n      <td>154</td>\n      <td>2</td>\n      <td>2020-02-23 13:04:09</td>\n      <td>2020-02-23 15:56:00</td>\n      <td>2020-02-23 01:04:10</td>\n      <td>2020-02-23 01:06:33</td>\n      <td>43199.0</td>\n      <td>53367.0</td>\n      <td>True</td>\n    </tr>\n  </tbody>\n</table>\n</div>"
     },
     "execution_count": 71,
     "metadata": {},
     "output_type": "execute_result"
    }
   ],
   "source": [
    "start_end_info_2 = start_end_info.copy()\n",
    "start_end_info_2[\"MilitaryTimeFlag\"] = start_end_info_2[\"StartDiffSecs(GT-seconds)\"].apply(flag_military)\n",
    "start_end_info_2"
   ]
  },
  {
   "cell_type": "markdown",
   "id": "21c75aef-a817-4369-ab9c-1a28ba986c8f",
   "metadata": {},
   "source": [
    "**Issues:** \n",
    "* Negative start second differences implies that the ground truth start times are OUTSIDE the seconds file session times\n",
    "* Positive end second differences implies that the ground truth end times are OUTSIDE the seconds file session times\n",
    "\n",
    "**This implies that we have tagged times for this (ID, Session) pair in our ground truth file that have no information about steps taken :(**"
   ]
  },
  {
   "cell_type": "markdown",
   "id": "e3a1605c-9a43-4371-bc9b-359b48df1cdb",
   "metadata": {},
   "source": [
    "**1\\. Ground Truth File contains military time timestamps but seconds file is in AM/PM**\n",
    "* MilitaryTimeFlag = True means this row has this problem\n",
    "* **NOTE**: Fixed.\n",
    "\n",
    "**2\\. (ID, Session) pairs missing in seconds file (9 total)**\n",
    "* Probably just need to throw these out since we do not have step info for these :("
   ]
  },
  {
   "cell_type": "markdown",
   "id": "31c359b46ddab9ba",
   "metadata": {},
   "source": [
    "## Fix AM/PM Disparity"
   ]
  },
  {
   "cell_type": "code",
   "execution_count": 72,
   "id": "51084e64-7680-456c-a646-dd073c018292",
   "metadata": {
    "ExecuteTime": {
     "end_time": "2024-03-06T23:21:28.436087600Z",
     "start_time": "2024-03-06T23:21:28.263723900Z"
    }
   },
   "outputs": [
    {
     "data": {
      "text/plain": "     ID  Session            Start_GT              End_GT   Start_secondsFile  \\\n0   102        1 2019-07-24 08:20:19 2019-07-24 11:21:13 2019-07-24 08:20:20   \n1   102        2 2019-07-25 12:42:08 2019-07-25 15:42:00 2019-07-25 12:42:09   \n2   116        1 2019-08-20 08:08:45 2019-08-20 11:09:00 2019-08-20 08:08:46   \n3   116        2 2019-08-21 11:10:12 2019-08-21 13:28:00 2019-08-21 11:09:48   \n4   117        1 2019-08-20 15:17:46 2019-08-20 18:18:00 2019-08-20 15:17:47   \n5   117        2 2019-08-21 07:11:45 2019-08-21 10:13:00 2019-08-21 07:11:46   \n6   122        1 2019-08-28 10:06:41 2019-08-28 13:07:00 2019-08-28 10:06:42   \n7   122        2 2019-08-29 15:19:51 2019-08-29 18:23:00 2019-08-29 15:19:52   \n8   124        1 2019-08-28 14:59:09 2019-08-28 17:59:05 2019-08-28 14:59:10   \n9   124        2 2019-08-29 09:31:00 2019-08-29 12:31:00 2019-08-29 09:31:01   \n10  126        1 2019-09-02 11:14:51 2019-09-02 14:15:00                 NaT   \n11  126        2 2019-09-06 10:36:00 2019-09-06 13:36:00 2019-09-06 10:36:01   \n12  127        1 2019-09-05 16:07:56 2019-09-05 19:08:00 2019-09-05 16:07:57   \n13  127        2 2019-09-09 10:56:04 2019-09-09 13:56:00 2019-09-09 10:56:01   \n14  128        1 2019-09-06 07:00:01 2019-09-06 10:00:00                 NaT   \n15  128        2 2019-09-10 13:21:00 2019-09-10 16:17:00 2019-09-10 13:21:01   \n16  129        1 2019-09-07 08:55:00 2019-09-07 11:55:00 2019-09-07 08:55:01   \n17  129        2 2019-09-10 16:31:46 2019-09-10 19:32:00 2019-09-10 16:31:47   \n18  130        1 2019-09-08 17:28:00 2019-09-08 20:28:00 2019-09-08 17:28:01   \n19  130        2 2019-09-10 08:02:01 2019-09-10 11:02:00 2019-09-10 08:02:02   \n20  131        1 2019-09-12 10:57:42 2019-09-12 13:58:00 2019-09-12 10:57:43   \n21  131        2 2019-09-16 09:04:54 2019-09-16 11:55:00 2019-09-16 09:04:55   \n22  132        1 2019-10-04 13:31:18 2019-10-04 16:31:00 2019-10-04 13:31:19   \n23  132        2 2019-10-10 09:24:58 2019-10-10 12:07:00 2019-10-10 09:24:45   \n24  133        1 2019-10-10 14:31:56 2019-10-10 17:31:26 2019-10-10 14:31:57   \n25  133        2 2019-10-11 10:23:20 2019-10-11 13:23:00 2019-10-11 10:23:21   \n26  134        1 2019-10-09 12:57:15 2019-10-09 15:42:00 2019-10-09 12:57:16   \n27  134        2 2019-10-13 12:56:53 2019-10-13 15:57:00                 NaT   \n28  135        1 2019-10-15 15:32:01 2019-10-15 18:32:00 2019-10-15 15:32:02   \n29  135        2 2019-10-19 12:49:51 2019-10-19 15:50:01 2019-10-19 12:49:52   \n30  136        1 2019-10-17 13:41:00 2019-10-17 16:41:00 2019-10-17 13:41:01   \n31  136        2 2019-10-19 09:00:51 2019-10-19 12:01:00                 NaT   \n32  138        1 2019-11-01 16:11:00 2019-11-01 18:01:00 2019-11-01 16:11:01   \n33  138        2 2019-11-02 09:23:00 2019-11-02 12:24:00                 NaT   \n34  139        1 2019-11-03 14:19:59 2019-11-03 17:20:00                 NaT   \n35  139        2 2019-11-05 15:04:59 2019-11-05 18:05:00                 NaT   \n36  140        1 2019-11-09 08:59:21 2019-11-09 11:59:00 2019-11-09 08:59:22   \n37  140        2 2019-11-09 13:04:00 2019-11-09 16:04:00 2019-11-09 13:04:01   \n38  141        1 2019-11-06 12:27:52 2019-11-06 15:29:00 2019-11-06 12:27:53   \n39  141        2 2019-11-10 10:01:00 2019-11-10 13:01:00 2019-11-10 10:01:01   \n40  143        1 2019-11-16 10:07:00 2019-11-16 13:07:00                 NaT   \n41  143        2 2019-11-18 13:02:00 2019-11-18 16:02:00 2019-11-18 13:02:01   \n42  144        1 2019-11-22 12:38:00 2019-11-22 15:39:00 2019-11-22 12:38:01   \n43  144        2 2019-11-23 16:35:01 2019-11-23 19:35:00 2019-11-23 16:35:02   \n44  150        1 2020-01-19 09:29:05 2020-01-19 13:18:25 2020-01-19 09:29:06   \n45  150        2 2020-01-21 19:31:59 2020-01-21 22:32:00 2020-01-21 19:31:53   \n46  154        1 2020-02-22 13:07:59 2020-02-22 16:06:59                 NaT   \n47  154        2 2020-02-23 13:04:09 2020-02-23 15:56:00 2020-02-23 13:04:10   \n\n       End_secondsFile  StartDiffSecs(GT-seconds)  EndDiffSecs(GT-seconds)  \\\n0  2019-07-24 11:05:37                       -1.0                    936.0   \n1  2019-07-25 15:28:35                       -1.0                    805.0   \n2  2019-08-20 11:08:56                       -1.0                      4.0   \n3  2019-08-21 13:26:58                       24.0                     62.0   \n4  2019-08-20 18:05:55                       -1.0                    725.0   \n5  2019-08-21 09:41:43                       -1.0                   1877.0   \n6  2019-08-28 12:42:21                       -1.0                   1479.0   \n7  2019-08-29 18:22:41                       -1.0                     19.0   \n8  2019-08-28 16:49:57                       -1.0                   4148.0   \n9  2019-08-29 12:19:15                       -1.0                    705.0   \n10                 NaT                        NaN                      NaN   \n11 2019-09-06 12:51:16                       -1.0                   2684.0   \n12 2019-09-05 18:28:24                       -1.0                   2376.0   \n13 2019-09-09 13:37:29                        3.0                   1111.0   \n14                 NaT                        NaN                      NaN   \n15 2019-09-10 16:16:36                       -1.0                     24.0   \n16 2019-09-07 11:53:07                       -1.0                    113.0   \n17 2019-09-10 19:28:35                       -1.0                    205.0   \n18 2019-09-08 20:25:55                       -1.0                    125.0   \n19 2019-09-10 10:49:00                       -1.0                    780.0   \n20 2019-09-12 13:57:50                       -1.0                     10.0   \n21 2019-09-16 11:54:51                       -1.0                      9.0   \n22 2019-10-04 16:27:53                       -1.0                    187.0   \n23 2019-10-10 12:06:59                       13.0                      1.0   \n24 2019-10-10 16:41:34                       -1.0                   2992.0   \n25 2019-10-11 13:23:27                       -1.0                    -27.0   \n26 2019-10-09 15:42:27                       -1.0                    -27.0   \n27                 NaT                        NaN                      NaN   \n28 2019-10-15 18:31:17                       -1.0                     43.0   \n29 2019-10-19 15:40:11                       -1.0                    590.0   \n30 2019-10-17 16:40:57                       -1.0                      3.0   \n31                 NaT                        NaN                      NaN   \n32 2019-11-01 18:00:36                       -1.0                     24.0   \n33                 NaT                        NaN                      NaN   \n34                 NaT                        NaN                      NaN   \n35                 NaT                        NaN                      NaN   \n36 2019-11-09 11:39:53                       -1.0                   1147.0   \n37 2019-11-09 15:23:20                       -1.0                   2440.0   \n38 2019-11-06 15:27:59                       -1.0                     61.0   \n39 2019-11-10 13:00:16                       -1.0                     44.0   \n40                 NaT                        NaN                      NaN   \n41 2019-11-18 16:02:05                       -1.0                     -5.0   \n42 2019-11-22 15:38:11                       -1.0                     49.0   \n43 2019-11-23 19:06:33                       -1.0                   1707.0   \n44 2020-01-19 13:17:59                       -1.0                     26.0   \n45 2020-01-21 22:25:49                        6.0                    371.0   \n46                 NaT                        NaN                      NaN   \n47 2020-02-23 13:06:33                       -1.0                  10167.0   \n\n    MilitaryTimeFlag           max_start             min_end  \n0              False 2019-07-24 08:20:20 2019-07-24 11:05:37  \n1              False 2019-07-25 12:42:09 2019-07-25 15:28:35  \n2              False 2019-08-20 08:08:46 2019-08-20 11:08:56  \n3              False 2019-08-21 11:10:12 2019-08-21 13:26:58  \n4              False 2019-08-20 15:17:47 2019-08-20 18:05:55  \n5              False 2019-08-21 07:11:46 2019-08-21 09:41:43  \n6              False 2019-08-28 10:06:42 2019-08-28 12:42:21  \n7              False 2019-08-29 15:19:52 2019-08-29 18:22:41  \n8              False 2019-08-28 14:59:10 2019-08-28 16:49:57  \n9              False 2019-08-29 09:31:01 2019-08-29 12:19:15  \n10             False 2019-09-02 11:14:51 2019-09-02 14:15:00  \n11             False 2019-09-06 10:36:01 2019-09-06 12:51:16  \n12             False 2019-09-05 16:07:57 2019-09-05 18:28:24  \n13             False 2019-09-09 10:56:04 2019-09-09 13:37:29  \n14             False 2019-09-06 07:00:01 2019-09-06 10:00:00  \n15             False 2019-09-10 13:21:01 2019-09-10 16:16:36  \n16             False 2019-09-07 08:55:01 2019-09-07 11:53:07  \n17             False 2019-09-10 16:31:47 2019-09-10 19:28:35  \n18             False 2019-09-08 17:28:01 2019-09-08 20:25:55  \n19             False 2019-09-10 08:02:02 2019-09-10 10:49:00  \n20             False 2019-09-12 10:57:43 2019-09-12 13:57:50  \n21             False 2019-09-16 09:04:55 2019-09-16 11:54:51  \n22             False 2019-10-04 13:31:19 2019-10-04 16:27:53  \n23             False 2019-10-10 09:24:58 2019-10-10 12:06:59  \n24             False 2019-10-10 14:31:57 2019-10-10 16:41:34  \n25             False 2019-10-11 10:23:21 2019-10-11 13:23:00  \n26             False 2019-10-09 12:57:16 2019-10-09 15:42:00  \n27             False 2019-10-13 12:56:53 2019-10-13 15:57:00  \n28             False 2019-10-15 15:32:02 2019-10-15 18:31:17  \n29             False 2019-10-19 12:49:52 2019-10-19 15:40:11  \n30             False 2019-10-17 13:41:01 2019-10-17 16:40:57  \n31             False 2019-10-19 09:00:51 2019-10-19 12:01:00  \n32             False 2019-11-01 16:11:01 2019-11-01 18:00:36  \n33             False 2019-11-02 09:23:00 2019-11-02 12:24:00  \n34             False 2019-11-03 14:19:59 2019-11-03 17:20:00  \n35             False 2019-11-05 15:04:59 2019-11-05 18:05:00  \n36             False 2019-11-09 08:59:22 2019-11-09 11:39:53  \n37             False 2019-11-09 13:04:01 2019-11-09 15:23:20  \n38             False 2019-11-06 12:27:53 2019-11-06 15:27:59  \n39             False 2019-11-10 10:01:01 2019-11-10 13:00:16  \n40             False 2019-11-16 10:07:00 2019-11-16 13:07:00  \n41             False 2019-11-18 13:02:01 2019-11-18 16:02:00  \n42             False 2019-11-22 12:38:01 2019-11-22 15:38:11  \n43             False 2019-11-23 16:35:02 2019-11-23 19:06:33  \n44             False 2020-01-19 09:29:06 2020-01-19 13:17:59  \n45             False 2020-01-21 19:31:59 2020-01-21 22:25:49  \n46             False 2020-02-22 13:07:59 2020-02-22 16:06:59  \n47             False 2020-02-23 13:04:10 2020-02-23 13:06:33  ",
      "text/html": "<div>\n<style scoped>\n    .dataframe tbody tr th:only-of-type {\n        vertical-align: middle;\n    }\n\n    .dataframe tbody tr th {\n        vertical-align: top;\n    }\n\n    .dataframe thead th {\n        text-align: right;\n    }\n</style>\n<table border=\"1\" class=\"dataframe\">\n  <thead>\n    <tr style=\"text-align: right;\">\n      <th></th>\n      <th>ID</th>\n      <th>Session</th>\n      <th>Start_GT</th>\n      <th>End_GT</th>\n      <th>Start_secondsFile</th>\n      <th>End_secondsFile</th>\n      <th>StartDiffSecs(GT-seconds)</th>\n      <th>EndDiffSecs(GT-seconds)</th>\n      <th>MilitaryTimeFlag</th>\n      <th>max_start</th>\n      <th>min_end</th>\n    </tr>\n  </thead>\n  <tbody>\n    <tr>\n      <th>0</th>\n      <td>102</td>\n      <td>1</td>\n      <td>2019-07-24 08:20:19</td>\n      <td>2019-07-24 11:21:13</td>\n      <td>2019-07-24 08:20:20</td>\n      <td>2019-07-24 11:05:37</td>\n      <td>-1.0</td>\n      <td>936.0</td>\n      <td>False</td>\n      <td>2019-07-24 08:20:20</td>\n      <td>2019-07-24 11:05:37</td>\n    </tr>\n    <tr>\n      <th>1</th>\n      <td>102</td>\n      <td>2</td>\n      <td>2019-07-25 12:42:08</td>\n      <td>2019-07-25 15:42:00</td>\n      <td>2019-07-25 12:42:09</td>\n      <td>2019-07-25 15:28:35</td>\n      <td>-1.0</td>\n      <td>805.0</td>\n      <td>False</td>\n      <td>2019-07-25 12:42:09</td>\n      <td>2019-07-25 15:28:35</td>\n    </tr>\n    <tr>\n      <th>2</th>\n      <td>116</td>\n      <td>1</td>\n      <td>2019-08-20 08:08:45</td>\n      <td>2019-08-20 11:09:00</td>\n      <td>2019-08-20 08:08:46</td>\n      <td>2019-08-20 11:08:56</td>\n      <td>-1.0</td>\n      <td>4.0</td>\n      <td>False</td>\n      <td>2019-08-20 08:08:46</td>\n      <td>2019-08-20 11:08:56</td>\n    </tr>\n    <tr>\n      <th>3</th>\n      <td>116</td>\n      <td>2</td>\n      <td>2019-08-21 11:10:12</td>\n      <td>2019-08-21 13:28:00</td>\n      <td>2019-08-21 11:09:48</td>\n      <td>2019-08-21 13:26:58</td>\n      <td>24.0</td>\n      <td>62.0</td>\n      <td>False</td>\n      <td>2019-08-21 11:10:12</td>\n      <td>2019-08-21 13:26:58</td>\n    </tr>\n    <tr>\n      <th>4</th>\n      <td>117</td>\n      <td>1</td>\n      <td>2019-08-20 15:17:46</td>\n      <td>2019-08-20 18:18:00</td>\n      <td>2019-08-20 15:17:47</td>\n      <td>2019-08-20 18:05:55</td>\n      <td>-1.0</td>\n      <td>725.0</td>\n      <td>False</td>\n      <td>2019-08-20 15:17:47</td>\n      <td>2019-08-20 18:05:55</td>\n    </tr>\n    <tr>\n      <th>5</th>\n      <td>117</td>\n      <td>2</td>\n      <td>2019-08-21 07:11:45</td>\n      <td>2019-08-21 10:13:00</td>\n      <td>2019-08-21 07:11:46</td>\n      <td>2019-08-21 09:41:43</td>\n      <td>-1.0</td>\n      <td>1877.0</td>\n      <td>False</td>\n      <td>2019-08-21 07:11:46</td>\n      <td>2019-08-21 09:41:43</td>\n    </tr>\n    <tr>\n      <th>6</th>\n      <td>122</td>\n      <td>1</td>\n      <td>2019-08-28 10:06:41</td>\n      <td>2019-08-28 13:07:00</td>\n      <td>2019-08-28 10:06:42</td>\n      <td>2019-08-28 12:42:21</td>\n      <td>-1.0</td>\n      <td>1479.0</td>\n      <td>False</td>\n      <td>2019-08-28 10:06:42</td>\n      <td>2019-08-28 12:42:21</td>\n    </tr>\n    <tr>\n      <th>7</th>\n      <td>122</td>\n      <td>2</td>\n      <td>2019-08-29 15:19:51</td>\n      <td>2019-08-29 18:23:00</td>\n      <td>2019-08-29 15:19:52</td>\n      <td>2019-08-29 18:22:41</td>\n      <td>-1.0</td>\n      <td>19.0</td>\n      <td>False</td>\n      <td>2019-08-29 15:19:52</td>\n      <td>2019-08-29 18:22:41</td>\n    </tr>\n    <tr>\n      <th>8</th>\n      <td>124</td>\n      <td>1</td>\n      <td>2019-08-28 14:59:09</td>\n      <td>2019-08-28 17:59:05</td>\n      <td>2019-08-28 14:59:10</td>\n      <td>2019-08-28 16:49:57</td>\n      <td>-1.0</td>\n      <td>4148.0</td>\n      <td>False</td>\n      <td>2019-08-28 14:59:10</td>\n      <td>2019-08-28 16:49:57</td>\n    </tr>\n    <tr>\n      <th>9</th>\n      <td>124</td>\n      <td>2</td>\n      <td>2019-08-29 09:31:00</td>\n      <td>2019-08-29 12:31:00</td>\n      <td>2019-08-29 09:31:01</td>\n      <td>2019-08-29 12:19:15</td>\n      <td>-1.0</td>\n      <td>705.0</td>\n      <td>False</td>\n      <td>2019-08-29 09:31:01</td>\n      <td>2019-08-29 12:19:15</td>\n    </tr>\n    <tr>\n      <th>10</th>\n      <td>126</td>\n      <td>1</td>\n      <td>2019-09-02 11:14:51</td>\n      <td>2019-09-02 14:15:00</td>\n      <td>NaT</td>\n      <td>NaT</td>\n      <td>NaN</td>\n      <td>NaN</td>\n      <td>False</td>\n      <td>2019-09-02 11:14:51</td>\n      <td>2019-09-02 14:15:00</td>\n    </tr>\n    <tr>\n      <th>11</th>\n      <td>126</td>\n      <td>2</td>\n      <td>2019-09-06 10:36:00</td>\n      <td>2019-09-06 13:36:00</td>\n      <td>2019-09-06 10:36:01</td>\n      <td>2019-09-06 12:51:16</td>\n      <td>-1.0</td>\n      <td>2684.0</td>\n      <td>False</td>\n      <td>2019-09-06 10:36:01</td>\n      <td>2019-09-06 12:51:16</td>\n    </tr>\n    <tr>\n      <th>12</th>\n      <td>127</td>\n      <td>1</td>\n      <td>2019-09-05 16:07:56</td>\n      <td>2019-09-05 19:08:00</td>\n      <td>2019-09-05 16:07:57</td>\n      <td>2019-09-05 18:28:24</td>\n      <td>-1.0</td>\n      <td>2376.0</td>\n      <td>False</td>\n      <td>2019-09-05 16:07:57</td>\n      <td>2019-09-05 18:28:24</td>\n    </tr>\n    <tr>\n      <th>13</th>\n      <td>127</td>\n      <td>2</td>\n      <td>2019-09-09 10:56:04</td>\n      <td>2019-09-09 13:56:00</td>\n      <td>2019-09-09 10:56:01</td>\n      <td>2019-09-09 13:37:29</td>\n      <td>3.0</td>\n      <td>1111.0</td>\n      <td>False</td>\n      <td>2019-09-09 10:56:04</td>\n      <td>2019-09-09 13:37:29</td>\n    </tr>\n    <tr>\n      <th>14</th>\n      <td>128</td>\n      <td>1</td>\n      <td>2019-09-06 07:00:01</td>\n      <td>2019-09-06 10:00:00</td>\n      <td>NaT</td>\n      <td>NaT</td>\n      <td>NaN</td>\n      <td>NaN</td>\n      <td>False</td>\n      <td>2019-09-06 07:00:01</td>\n      <td>2019-09-06 10:00:00</td>\n    </tr>\n    <tr>\n      <th>15</th>\n      <td>128</td>\n      <td>2</td>\n      <td>2019-09-10 13:21:00</td>\n      <td>2019-09-10 16:17:00</td>\n      <td>2019-09-10 13:21:01</td>\n      <td>2019-09-10 16:16:36</td>\n      <td>-1.0</td>\n      <td>24.0</td>\n      <td>False</td>\n      <td>2019-09-10 13:21:01</td>\n      <td>2019-09-10 16:16:36</td>\n    </tr>\n    <tr>\n      <th>16</th>\n      <td>129</td>\n      <td>1</td>\n      <td>2019-09-07 08:55:00</td>\n      <td>2019-09-07 11:55:00</td>\n      <td>2019-09-07 08:55:01</td>\n      <td>2019-09-07 11:53:07</td>\n      <td>-1.0</td>\n      <td>113.0</td>\n      <td>False</td>\n      <td>2019-09-07 08:55:01</td>\n      <td>2019-09-07 11:53:07</td>\n    </tr>\n    <tr>\n      <th>17</th>\n      <td>129</td>\n      <td>2</td>\n      <td>2019-09-10 16:31:46</td>\n      <td>2019-09-10 19:32:00</td>\n      <td>2019-09-10 16:31:47</td>\n      <td>2019-09-10 19:28:35</td>\n      <td>-1.0</td>\n      <td>205.0</td>\n      <td>False</td>\n      <td>2019-09-10 16:31:47</td>\n      <td>2019-09-10 19:28:35</td>\n    </tr>\n    <tr>\n      <th>18</th>\n      <td>130</td>\n      <td>1</td>\n      <td>2019-09-08 17:28:00</td>\n      <td>2019-09-08 20:28:00</td>\n      <td>2019-09-08 17:28:01</td>\n      <td>2019-09-08 20:25:55</td>\n      <td>-1.0</td>\n      <td>125.0</td>\n      <td>False</td>\n      <td>2019-09-08 17:28:01</td>\n      <td>2019-09-08 20:25:55</td>\n    </tr>\n    <tr>\n      <th>19</th>\n      <td>130</td>\n      <td>2</td>\n      <td>2019-09-10 08:02:01</td>\n      <td>2019-09-10 11:02:00</td>\n      <td>2019-09-10 08:02:02</td>\n      <td>2019-09-10 10:49:00</td>\n      <td>-1.0</td>\n      <td>780.0</td>\n      <td>False</td>\n      <td>2019-09-10 08:02:02</td>\n      <td>2019-09-10 10:49:00</td>\n    </tr>\n    <tr>\n      <th>20</th>\n      <td>131</td>\n      <td>1</td>\n      <td>2019-09-12 10:57:42</td>\n      <td>2019-09-12 13:58:00</td>\n      <td>2019-09-12 10:57:43</td>\n      <td>2019-09-12 13:57:50</td>\n      <td>-1.0</td>\n      <td>10.0</td>\n      <td>False</td>\n      <td>2019-09-12 10:57:43</td>\n      <td>2019-09-12 13:57:50</td>\n    </tr>\n    <tr>\n      <th>21</th>\n      <td>131</td>\n      <td>2</td>\n      <td>2019-09-16 09:04:54</td>\n      <td>2019-09-16 11:55:00</td>\n      <td>2019-09-16 09:04:55</td>\n      <td>2019-09-16 11:54:51</td>\n      <td>-1.0</td>\n      <td>9.0</td>\n      <td>False</td>\n      <td>2019-09-16 09:04:55</td>\n      <td>2019-09-16 11:54:51</td>\n    </tr>\n    <tr>\n      <th>22</th>\n      <td>132</td>\n      <td>1</td>\n      <td>2019-10-04 13:31:18</td>\n      <td>2019-10-04 16:31:00</td>\n      <td>2019-10-04 13:31:19</td>\n      <td>2019-10-04 16:27:53</td>\n      <td>-1.0</td>\n      <td>187.0</td>\n      <td>False</td>\n      <td>2019-10-04 13:31:19</td>\n      <td>2019-10-04 16:27:53</td>\n    </tr>\n    <tr>\n      <th>23</th>\n      <td>132</td>\n      <td>2</td>\n      <td>2019-10-10 09:24:58</td>\n      <td>2019-10-10 12:07:00</td>\n      <td>2019-10-10 09:24:45</td>\n      <td>2019-10-10 12:06:59</td>\n      <td>13.0</td>\n      <td>1.0</td>\n      <td>False</td>\n      <td>2019-10-10 09:24:58</td>\n      <td>2019-10-10 12:06:59</td>\n    </tr>\n    <tr>\n      <th>24</th>\n      <td>133</td>\n      <td>1</td>\n      <td>2019-10-10 14:31:56</td>\n      <td>2019-10-10 17:31:26</td>\n      <td>2019-10-10 14:31:57</td>\n      <td>2019-10-10 16:41:34</td>\n      <td>-1.0</td>\n      <td>2992.0</td>\n      <td>False</td>\n      <td>2019-10-10 14:31:57</td>\n      <td>2019-10-10 16:41:34</td>\n    </tr>\n    <tr>\n      <th>25</th>\n      <td>133</td>\n      <td>2</td>\n      <td>2019-10-11 10:23:20</td>\n      <td>2019-10-11 13:23:00</td>\n      <td>2019-10-11 10:23:21</td>\n      <td>2019-10-11 13:23:27</td>\n      <td>-1.0</td>\n      <td>-27.0</td>\n      <td>False</td>\n      <td>2019-10-11 10:23:21</td>\n      <td>2019-10-11 13:23:00</td>\n    </tr>\n    <tr>\n      <th>26</th>\n      <td>134</td>\n      <td>1</td>\n      <td>2019-10-09 12:57:15</td>\n      <td>2019-10-09 15:42:00</td>\n      <td>2019-10-09 12:57:16</td>\n      <td>2019-10-09 15:42:27</td>\n      <td>-1.0</td>\n      <td>-27.0</td>\n      <td>False</td>\n      <td>2019-10-09 12:57:16</td>\n      <td>2019-10-09 15:42:00</td>\n    </tr>\n    <tr>\n      <th>27</th>\n      <td>134</td>\n      <td>2</td>\n      <td>2019-10-13 12:56:53</td>\n      <td>2019-10-13 15:57:00</td>\n      <td>NaT</td>\n      <td>NaT</td>\n      <td>NaN</td>\n      <td>NaN</td>\n      <td>False</td>\n      <td>2019-10-13 12:56:53</td>\n      <td>2019-10-13 15:57:00</td>\n    </tr>\n    <tr>\n      <th>28</th>\n      <td>135</td>\n      <td>1</td>\n      <td>2019-10-15 15:32:01</td>\n      <td>2019-10-15 18:32:00</td>\n      <td>2019-10-15 15:32:02</td>\n      <td>2019-10-15 18:31:17</td>\n      <td>-1.0</td>\n      <td>43.0</td>\n      <td>False</td>\n      <td>2019-10-15 15:32:02</td>\n      <td>2019-10-15 18:31:17</td>\n    </tr>\n    <tr>\n      <th>29</th>\n      <td>135</td>\n      <td>2</td>\n      <td>2019-10-19 12:49:51</td>\n      <td>2019-10-19 15:50:01</td>\n      <td>2019-10-19 12:49:52</td>\n      <td>2019-10-19 15:40:11</td>\n      <td>-1.0</td>\n      <td>590.0</td>\n      <td>False</td>\n      <td>2019-10-19 12:49:52</td>\n      <td>2019-10-19 15:40:11</td>\n    </tr>\n    <tr>\n      <th>30</th>\n      <td>136</td>\n      <td>1</td>\n      <td>2019-10-17 13:41:00</td>\n      <td>2019-10-17 16:41:00</td>\n      <td>2019-10-17 13:41:01</td>\n      <td>2019-10-17 16:40:57</td>\n      <td>-1.0</td>\n      <td>3.0</td>\n      <td>False</td>\n      <td>2019-10-17 13:41:01</td>\n      <td>2019-10-17 16:40:57</td>\n    </tr>\n    <tr>\n      <th>31</th>\n      <td>136</td>\n      <td>2</td>\n      <td>2019-10-19 09:00:51</td>\n      <td>2019-10-19 12:01:00</td>\n      <td>NaT</td>\n      <td>NaT</td>\n      <td>NaN</td>\n      <td>NaN</td>\n      <td>False</td>\n      <td>2019-10-19 09:00:51</td>\n      <td>2019-10-19 12:01:00</td>\n    </tr>\n    <tr>\n      <th>32</th>\n      <td>138</td>\n      <td>1</td>\n      <td>2019-11-01 16:11:00</td>\n      <td>2019-11-01 18:01:00</td>\n      <td>2019-11-01 16:11:01</td>\n      <td>2019-11-01 18:00:36</td>\n      <td>-1.0</td>\n      <td>24.0</td>\n      <td>False</td>\n      <td>2019-11-01 16:11:01</td>\n      <td>2019-11-01 18:00:36</td>\n    </tr>\n    <tr>\n      <th>33</th>\n      <td>138</td>\n      <td>2</td>\n      <td>2019-11-02 09:23:00</td>\n      <td>2019-11-02 12:24:00</td>\n      <td>NaT</td>\n      <td>NaT</td>\n      <td>NaN</td>\n      <td>NaN</td>\n      <td>False</td>\n      <td>2019-11-02 09:23:00</td>\n      <td>2019-11-02 12:24:00</td>\n    </tr>\n    <tr>\n      <th>34</th>\n      <td>139</td>\n      <td>1</td>\n      <td>2019-11-03 14:19:59</td>\n      <td>2019-11-03 17:20:00</td>\n      <td>NaT</td>\n      <td>NaT</td>\n      <td>NaN</td>\n      <td>NaN</td>\n      <td>False</td>\n      <td>2019-11-03 14:19:59</td>\n      <td>2019-11-03 17:20:00</td>\n    </tr>\n    <tr>\n      <th>35</th>\n      <td>139</td>\n      <td>2</td>\n      <td>2019-11-05 15:04:59</td>\n      <td>2019-11-05 18:05:00</td>\n      <td>NaT</td>\n      <td>NaT</td>\n      <td>NaN</td>\n      <td>NaN</td>\n      <td>False</td>\n      <td>2019-11-05 15:04:59</td>\n      <td>2019-11-05 18:05:00</td>\n    </tr>\n    <tr>\n      <th>36</th>\n      <td>140</td>\n      <td>1</td>\n      <td>2019-11-09 08:59:21</td>\n      <td>2019-11-09 11:59:00</td>\n      <td>2019-11-09 08:59:22</td>\n      <td>2019-11-09 11:39:53</td>\n      <td>-1.0</td>\n      <td>1147.0</td>\n      <td>False</td>\n      <td>2019-11-09 08:59:22</td>\n      <td>2019-11-09 11:39:53</td>\n    </tr>\n    <tr>\n      <th>37</th>\n      <td>140</td>\n      <td>2</td>\n      <td>2019-11-09 13:04:00</td>\n      <td>2019-11-09 16:04:00</td>\n      <td>2019-11-09 13:04:01</td>\n      <td>2019-11-09 15:23:20</td>\n      <td>-1.0</td>\n      <td>2440.0</td>\n      <td>False</td>\n      <td>2019-11-09 13:04:01</td>\n      <td>2019-11-09 15:23:20</td>\n    </tr>\n    <tr>\n      <th>38</th>\n      <td>141</td>\n      <td>1</td>\n      <td>2019-11-06 12:27:52</td>\n      <td>2019-11-06 15:29:00</td>\n      <td>2019-11-06 12:27:53</td>\n      <td>2019-11-06 15:27:59</td>\n      <td>-1.0</td>\n      <td>61.0</td>\n      <td>False</td>\n      <td>2019-11-06 12:27:53</td>\n      <td>2019-11-06 15:27:59</td>\n    </tr>\n    <tr>\n      <th>39</th>\n      <td>141</td>\n      <td>2</td>\n      <td>2019-11-10 10:01:00</td>\n      <td>2019-11-10 13:01:00</td>\n      <td>2019-11-10 10:01:01</td>\n      <td>2019-11-10 13:00:16</td>\n      <td>-1.0</td>\n      <td>44.0</td>\n      <td>False</td>\n      <td>2019-11-10 10:01:01</td>\n      <td>2019-11-10 13:00:16</td>\n    </tr>\n    <tr>\n      <th>40</th>\n      <td>143</td>\n      <td>1</td>\n      <td>2019-11-16 10:07:00</td>\n      <td>2019-11-16 13:07:00</td>\n      <td>NaT</td>\n      <td>NaT</td>\n      <td>NaN</td>\n      <td>NaN</td>\n      <td>False</td>\n      <td>2019-11-16 10:07:00</td>\n      <td>2019-11-16 13:07:00</td>\n    </tr>\n    <tr>\n      <th>41</th>\n      <td>143</td>\n      <td>2</td>\n      <td>2019-11-18 13:02:00</td>\n      <td>2019-11-18 16:02:00</td>\n      <td>2019-11-18 13:02:01</td>\n      <td>2019-11-18 16:02:05</td>\n      <td>-1.0</td>\n      <td>-5.0</td>\n      <td>False</td>\n      <td>2019-11-18 13:02:01</td>\n      <td>2019-11-18 16:02:00</td>\n    </tr>\n    <tr>\n      <th>42</th>\n      <td>144</td>\n      <td>1</td>\n      <td>2019-11-22 12:38:00</td>\n      <td>2019-11-22 15:39:00</td>\n      <td>2019-11-22 12:38:01</td>\n      <td>2019-11-22 15:38:11</td>\n      <td>-1.0</td>\n      <td>49.0</td>\n      <td>False</td>\n      <td>2019-11-22 12:38:01</td>\n      <td>2019-11-22 15:38:11</td>\n    </tr>\n    <tr>\n      <th>43</th>\n      <td>144</td>\n      <td>2</td>\n      <td>2019-11-23 16:35:01</td>\n      <td>2019-11-23 19:35:00</td>\n      <td>2019-11-23 16:35:02</td>\n      <td>2019-11-23 19:06:33</td>\n      <td>-1.0</td>\n      <td>1707.0</td>\n      <td>False</td>\n      <td>2019-11-23 16:35:02</td>\n      <td>2019-11-23 19:06:33</td>\n    </tr>\n    <tr>\n      <th>44</th>\n      <td>150</td>\n      <td>1</td>\n      <td>2020-01-19 09:29:05</td>\n      <td>2020-01-19 13:18:25</td>\n      <td>2020-01-19 09:29:06</td>\n      <td>2020-01-19 13:17:59</td>\n      <td>-1.0</td>\n      <td>26.0</td>\n      <td>False</td>\n      <td>2020-01-19 09:29:06</td>\n      <td>2020-01-19 13:17:59</td>\n    </tr>\n    <tr>\n      <th>45</th>\n      <td>150</td>\n      <td>2</td>\n      <td>2020-01-21 19:31:59</td>\n      <td>2020-01-21 22:32:00</td>\n      <td>2020-01-21 19:31:53</td>\n      <td>2020-01-21 22:25:49</td>\n      <td>6.0</td>\n      <td>371.0</td>\n      <td>False</td>\n      <td>2020-01-21 19:31:59</td>\n      <td>2020-01-21 22:25:49</td>\n    </tr>\n    <tr>\n      <th>46</th>\n      <td>154</td>\n      <td>1</td>\n      <td>2020-02-22 13:07:59</td>\n      <td>2020-02-22 16:06:59</td>\n      <td>NaT</td>\n      <td>NaT</td>\n      <td>NaN</td>\n      <td>NaN</td>\n      <td>False</td>\n      <td>2020-02-22 13:07:59</td>\n      <td>2020-02-22 16:06:59</td>\n    </tr>\n    <tr>\n      <th>47</th>\n      <td>154</td>\n      <td>2</td>\n      <td>2020-02-23 13:04:09</td>\n      <td>2020-02-23 15:56:00</td>\n      <td>2020-02-23 13:04:10</td>\n      <td>2020-02-23 13:06:33</td>\n      <td>-1.0</td>\n      <td>10167.0</td>\n      <td>False</td>\n      <td>2020-02-23 13:04:10</td>\n      <td>2020-02-23 13:06:33</td>\n    </tr>\n  </tbody>\n</table>\n</div>"
     },
     "execution_count": 72,
     "metadata": {},
     "output_type": "execute_result"
    }
   ],
   "source": [
    "start_end_info_3 = start_end_info_2.copy()\n",
    "# Fix start AM/PM\n",
    "start_end_info_3['Start_secondsFile'] = start_end_info_3['Start_secondsFile'] + pd.to_timedelta(\"12:00:00\") * start_end_info_3['MilitaryTimeFlag']\n",
    "# Fix end AM/PM\n",
    "start_end_info_3['End_secondsFile'] = start_end_info_3['End_secondsFile'] + pd.to_timedelta(\"12:00:00\") * start_end_info_3['MilitaryTimeFlag']\n",
    "# Recalculate differences\n",
    "start_end_info_3[\"StartDiffSecs(GT-seconds)\"] = (start_end_info_3[\"Start_GT\"] - start_end_info_3[\"Start_secondsFile\"]).dt.total_seconds()\n",
    "start_end_info_3[\"EndDiffSecs(GT-seconds)\"] = (start_end_info_3[\"End_GT\"] - start_end_info_3[\"End_secondsFile\"]).dt.total_seconds()\n",
    "# Recode military time flag\n",
    "start_end_info_3['MilitaryTimeFlag'] = start_end_info_3[\"StartDiffSecs(GT-seconds)\"].apply(flag_military)\n",
    "# We need to determine which rows in the second-by-second data fall within the intersection of the groundtruth time intervals, since they don't match up\n",
    "# Find the greatest start time\n",
    "start_end_info_3['max_start'] = start_end_info_3[['Start_GT', 'Start_secondsFile']].max(axis=1)\n",
    "# Find the smallest end time\n",
    "start_end_info_3['min_end'] = start_end_info_3[['End_GT', 'End_secondsFile']].min(axis=1)\n",
    "start_end_info_3"
   ]
  },
  {
   "cell_type": "code",
   "execution_count": 73,
   "id": "1b290a6437f7dec6",
   "metadata": {
    "collapsed": false,
    "ExecuteTime": {
     "end_time": "2024-03-06T23:21:28.485031900Z",
     "start_time": "2024-03-06T23:21:28.312068100Z"
    }
   },
   "outputs": [
    {
     "data": {
      "text/plain": "Empty DataFrame\nColumns: [ID, Session, Start_GT, End_GT, Start_secondsFile, End_secondsFile, StartDiffSecs(GT-seconds), EndDiffSecs(GT-seconds), MilitaryTimeFlag, max_start, min_end]\nIndex: []",
      "text/html": "<div>\n<style scoped>\n    .dataframe tbody tr th:only-of-type {\n        vertical-align: middle;\n    }\n\n    .dataframe tbody tr th {\n        vertical-align: top;\n    }\n\n    .dataframe thead th {\n        text-align: right;\n    }\n</style>\n<table border=\"1\" class=\"dataframe\">\n  <thead>\n    <tr style=\"text-align: right;\">\n      <th></th>\n      <th>ID</th>\n      <th>Session</th>\n      <th>Start_GT</th>\n      <th>End_GT</th>\n      <th>Start_secondsFile</th>\n      <th>End_secondsFile</th>\n      <th>StartDiffSecs(GT-seconds)</th>\n      <th>EndDiffSecs(GT-seconds)</th>\n      <th>MilitaryTimeFlag</th>\n      <th>max_start</th>\n      <th>min_end</th>\n    </tr>\n  </thead>\n  <tbody>\n  </tbody>\n</table>\n</div>"
     },
     "execution_count": 73,
     "metadata": {},
     "output_type": "execute_result"
    }
   ],
   "source": [
    "# Check to make sure there are no more AM/PM disparities\n",
    "start_end_info_3[start_end_info_3['MilitaryTimeFlag']]"
   ]
  },
  {
   "cell_type": "code",
   "execution_count": 74,
   "id": "6ae64940ded8ac13",
   "metadata": {
    "collapsed": false,
    "ExecuteTime": {
     "end_time": "2024-03-06T23:21:28.731693600Z",
     "start_time": "2024-03-06T23:21:28.331722200Z"
    }
   },
   "outputs": [
    {
     "data": {
      "text/plain": "         id  observation           date_time  Quality  Step\n0       102            1 2019-07-24 08:20:20  Codable     0\n1       102            1 2019-07-24 08:20:21  Codable     0\n2       102            1 2019-07-24 08:20:22  Codable     0\n3       102            1 2019-07-24 08:20:23  Codable     0\n4       102            1 2019-07-24 08:20:24  Codable     1\n...     ...          ...                 ...      ...   ...\n376600  154            2 2020-02-23 13:06:29  Codable     1\n376601  154            2 2020-02-23 13:06:30  Codable     2\n376602  154            2 2020-02-23 13:06:31  Codable     2\n376603  154            2 2020-02-23 13:06:32  Codable     1\n376604  154            2 2020-02-23 13:06:33  Codable     2\n\n[376605 rows x 5 columns]",
      "text/html": "<div>\n<style scoped>\n    .dataframe tbody tr th:only-of-type {\n        vertical-align: middle;\n    }\n\n    .dataframe tbody tr th {\n        vertical-align: top;\n    }\n\n    .dataframe thead th {\n        text-align: right;\n    }\n</style>\n<table border=\"1\" class=\"dataframe\">\n  <thead>\n    <tr style=\"text-align: right;\">\n      <th></th>\n      <th>id</th>\n      <th>observation</th>\n      <th>date_time</th>\n      <th>Quality</th>\n      <th>Step</th>\n    </tr>\n  </thead>\n  <tbody>\n    <tr>\n      <th>0</th>\n      <td>102</td>\n      <td>1</td>\n      <td>2019-07-24 08:20:20</td>\n      <td>Codable</td>\n      <td>0</td>\n    </tr>\n    <tr>\n      <th>1</th>\n      <td>102</td>\n      <td>1</td>\n      <td>2019-07-24 08:20:21</td>\n      <td>Codable</td>\n      <td>0</td>\n    </tr>\n    <tr>\n      <th>2</th>\n      <td>102</td>\n      <td>1</td>\n      <td>2019-07-24 08:20:22</td>\n      <td>Codable</td>\n      <td>0</td>\n    </tr>\n    <tr>\n      <th>3</th>\n      <td>102</td>\n      <td>1</td>\n      <td>2019-07-24 08:20:23</td>\n      <td>Codable</td>\n      <td>0</td>\n    </tr>\n    <tr>\n      <th>4</th>\n      <td>102</td>\n      <td>1</td>\n      <td>2019-07-24 08:20:24</td>\n      <td>Codable</td>\n      <td>1</td>\n    </tr>\n    <tr>\n      <th>...</th>\n      <td>...</td>\n      <td>...</td>\n      <td>...</td>\n      <td>...</td>\n      <td>...</td>\n    </tr>\n    <tr>\n      <th>376600</th>\n      <td>154</td>\n      <td>2</td>\n      <td>2020-02-23 13:06:29</td>\n      <td>Codable</td>\n      <td>1</td>\n    </tr>\n    <tr>\n      <th>376601</th>\n      <td>154</td>\n      <td>2</td>\n      <td>2020-02-23 13:06:30</td>\n      <td>Codable</td>\n      <td>2</td>\n    </tr>\n    <tr>\n      <th>376602</th>\n      <td>154</td>\n      <td>2</td>\n      <td>2020-02-23 13:06:31</td>\n      <td>Codable</td>\n      <td>2</td>\n    </tr>\n    <tr>\n      <th>376603</th>\n      <td>154</td>\n      <td>2</td>\n      <td>2020-02-23 13:06:32</td>\n      <td>Codable</td>\n      <td>1</td>\n    </tr>\n    <tr>\n      <th>376604</th>\n      <td>154</td>\n      <td>2</td>\n      <td>2020-02-23 13:06:33</td>\n      <td>Codable</td>\n      <td>2</td>\n    </tr>\n  </tbody>\n</table>\n<p>376605 rows × 5 columns</p>\n</div>"
     },
     "execution_count": 74,
     "metadata": {},
     "output_type": "execute_result"
    }
   ],
   "source": [
    "# Edit steps ground truth to fix AM/PM disparities\n",
    "seconds_3 = seconds_2.merge(right = start_end_info_2[[\"ID\", \"Session\", \"MilitaryTimeFlag\", \"StartDiffSecs(GT-seconds)\"]], how = 'left',\n",
    "              left_on = [\"id\", \"observation\"], right_on = [\"ID\", \"Session\"])\n",
    "seconds_3[\"date_time\"] = seconds_3[\"date_time\"] + pd.to_timedelta(\"12:00:00\") * seconds_3[\"MilitaryTimeFlag\"]\n",
    "seconds_3 = seconds_3[[\"id\", \"observation\", \"date_time\", \"Quality\", \"Step\"]]\n",
    "seconds_3"
   ]
  },
  {
   "cell_type": "code",
   "execution_count": 75,
   "id": "2a981397dddc2f2a",
   "metadata": {
    "collapsed": false,
    "ExecuteTime": {
     "end_time": "2024-03-06T23:21:28.997734900Z",
     "start_time": "2024-03-06T23:21:28.501991300Z"
    }
   },
   "outputs": [
    {
     "data": {
      "text/plain": "Series([], Name: count, dtype: int64)"
     },
     "execution_count": 75,
     "metadata": {},
     "output_type": "execute_result"
    }
   ],
   "source": [
    "# Check for duplicate times\n",
    "check = seconds_3[[\"id\", \"observation\", \"date_time\"]].value_counts()\n",
    "check[check>1]"
   ]
  },
  {
   "cell_type": "markdown",
   "id": "23def48c3737513",
   "metadata": {},
   "source": [
    "## Merge Ground Truth Datasets"
   ]
  },
  {
   "cell_type": "code",
   "execution_count": 76,
   "id": "16d9aaba545140c9",
   "metadata": {
    "collapsed": false,
    "ExecuteTime": {
     "end_time": "2024-03-06T23:21:29.601544Z",
     "start_time": "2024-03-06T23:21:28.703682500Z"
    }
   },
   "outputs": [
    {
     "data": {
      "text/plain": "         id  observation        date           date_time  \\\n0       102            1  2019-07-24 2019-07-24 08:20:19   \n1       102            1  2019-07-24 2019-07-24 08:20:20   \n2       102            1  2019-07-24 2019-07-24 08:20:21   \n3       102            1  2019-07-24 2019-07-24 08:20:22   \n4       102            1  2019-07-24 2019-07-24 08:20:23   \n...     ...          ...         ...                 ...   \n511919  154            2  2020-02-23 2020-02-23 15:55:56   \n511920  154            2  2020-02-23 2020-02-23 15:55:57   \n511921  154            2  2020-02-23 2020-02-23 15:55:58   \n511922  154            2  2020-02-23 2020-02-23 15:55:59   \n511923  154            2  2020-02-23 2020-02-23 15:56:00   \n\n                                activity_type broad_activity_type  \\\n0                                WRK- general      work_education   \n1                                WRK- general      work_education   \n2                                WRK- general      work_education   \n3                                WRK- general      work_education   \n4                                WRK- general      work_education   \n...                                       ...                 ...   \n511919  EDU- taking class, research, homework      work_education   \n511920  EDU- taking class, research, homework      work_education   \n511921  EDU- taking class, research, homework      work_education   \n511922  EDU- taking class, research, homework      work_education   \n511923  EDU- taking class, research, homework      work_education   \n\n                                work_type  posture  sedentary_not  \\\n0       SP- Education and Health Services    stand  not_sedentary   \n1       SP- Education and Health Services    stand  not_sedentary   \n2       SP- Education and Health Services    stand  not_sedentary   \n3       SP- Education and Health Services    stand  not_sedentary   \n4       SP- Education and Health Services    stand  not_sedentary   \n...                                   ...      ...            ...   \n511919                               <NA>  sitting      sedentary   \n511920                               <NA>  sitting      sedentary   \n511921                               <NA>  sitting      sedentary   \n511922                               <NA>  sitting      sedentary   \n511923                               <NA>  sitting      sedentary   \n\n        walking_not activity_intensity  Step  inside_flag  \n0       not_walking              light   NaN        False  \n1       not_walking              light   0.0         True  \n2       not_walking              light   0.0         True  \n3       not_walking              light   0.0         True  \n4       not_walking              light   0.0         True  \n...             ...                ...   ...          ...  \n511919  not_walking          sedentary   NaN        False  \n511920  not_walking          sedentary   NaN        False  \n511921  not_walking          sedentary   NaN        False  \n511922  not_walking          sedentary   NaN        False  \n511923  not_walking          sedentary   NaN        False  \n\n[511924 rows x 13 columns]",
      "text/html": "<div>\n<style scoped>\n    .dataframe tbody tr th:only-of-type {\n        vertical-align: middle;\n    }\n\n    .dataframe tbody tr th {\n        vertical-align: top;\n    }\n\n    .dataframe thead th {\n        text-align: right;\n    }\n</style>\n<table border=\"1\" class=\"dataframe\">\n  <thead>\n    <tr style=\"text-align: right;\">\n      <th></th>\n      <th>id</th>\n      <th>observation</th>\n      <th>date</th>\n      <th>date_time</th>\n      <th>activity_type</th>\n      <th>broad_activity_type</th>\n      <th>work_type</th>\n      <th>posture</th>\n      <th>sedentary_not</th>\n      <th>walking_not</th>\n      <th>activity_intensity</th>\n      <th>Step</th>\n      <th>inside_flag</th>\n    </tr>\n  </thead>\n  <tbody>\n    <tr>\n      <th>0</th>\n      <td>102</td>\n      <td>1</td>\n      <td>2019-07-24</td>\n      <td>2019-07-24 08:20:19</td>\n      <td>WRK- general</td>\n      <td>work_education</td>\n      <td>SP- Education and Health Services</td>\n      <td>stand</td>\n      <td>not_sedentary</td>\n      <td>not_walking</td>\n      <td>light</td>\n      <td>NaN</td>\n      <td>False</td>\n    </tr>\n    <tr>\n      <th>1</th>\n      <td>102</td>\n      <td>1</td>\n      <td>2019-07-24</td>\n      <td>2019-07-24 08:20:20</td>\n      <td>WRK- general</td>\n      <td>work_education</td>\n      <td>SP- Education and Health Services</td>\n      <td>stand</td>\n      <td>not_sedentary</td>\n      <td>not_walking</td>\n      <td>light</td>\n      <td>0.0</td>\n      <td>True</td>\n    </tr>\n    <tr>\n      <th>2</th>\n      <td>102</td>\n      <td>1</td>\n      <td>2019-07-24</td>\n      <td>2019-07-24 08:20:21</td>\n      <td>WRK- general</td>\n      <td>work_education</td>\n      <td>SP- Education and Health Services</td>\n      <td>stand</td>\n      <td>not_sedentary</td>\n      <td>not_walking</td>\n      <td>light</td>\n      <td>0.0</td>\n      <td>True</td>\n    </tr>\n    <tr>\n      <th>3</th>\n      <td>102</td>\n      <td>1</td>\n      <td>2019-07-24</td>\n      <td>2019-07-24 08:20:22</td>\n      <td>WRK- general</td>\n      <td>work_education</td>\n      <td>SP- Education and Health Services</td>\n      <td>stand</td>\n      <td>not_sedentary</td>\n      <td>not_walking</td>\n      <td>light</td>\n      <td>0.0</td>\n      <td>True</td>\n    </tr>\n    <tr>\n      <th>4</th>\n      <td>102</td>\n      <td>1</td>\n      <td>2019-07-24</td>\n      <td>2019-07-24 08:20:23</td>\n      <td>WRK- general</td>\n      <td>work_education</td>\n      <td>SP- Education and Health Services</td>\n      <td>stand</td>\n      <td>not_sedentary</td>\n      <td>not_walking</td>\n      <td>light</td>\n      <td>0.0</td>\n      <td>True</td>\n    </tr>\n    <tr>\n      <th>...</th>\n      <td>...</td>\n      <td>...</td>\n      <td>...</td>\n      <td>...</td>\n      <td>...</td>\n      <td>...</td>\n      <td>...</td>\n      <td>...</td>\n      <td>...</td>\n      <td>...</td>\n      <td>...</td>\n      <td>...</td>\n      <td>...</td>\n    </tr>\n    <tr>\n      <th>511919</th>\n      <td>154</td>\n      <td>2</td>\n      <td>2020-02-23</td>\n      <td>2020-02-23 15:55:56</td>\n      <td>EDU- taking class, research, homework</td>\n      <td>work_education</td>\n      <td>&lt;NA&gt;</td>\n      <td>sitting</td>\n      <td>sedentary</td>\n      <td>not_walking</td>\n      <td>sedentary</td>\n      <td>NaN</td>\n      <td>False</td>\n    </tr>\n    <tr>\n      <th>511920</th>\n      <td>154</td>\n      <td>2</td>\n      <td>2020-02-23</td>\n      <td>2020-02-23 15:55:57</td>\n      <td>EDU- taking class, research, homework</td>\n      <td>work_education</td>\n      <td>&lt;NA&gt;</td>\n      <td>sitting</td>\n      <td>sedentary</td>\n      <td>not_walking</td>\n      <td>sedentary</td>\n      <td>NaN</td>\n      <td>False</td>\n    </tr>\n    <tr>\n      <th>511921</th>\n      <td>154</td>\n      <td>2</td>\n      <td>2020-02-23</td>\n      <td>2020-02-23 15:55:58</td>\n      <td>EDU- taking class, research, homework</td>\n      <td>work_education</td>\n      <td>&lt;NA&gt;</td>\n      <td>sitting</td>\n      <td>sedentary</td>\n      <td>not_walking</td>\n      <td>sedentary</td>\n      <td>NaN</td>\n      <td>False</td>\n    </tr>\n    <tr>\n      <th>511922</th>\n      <td>154</td>\n      <td>2</td>\n      <td>2020-02-23</td>\n      <td>2020-02-23 15:55:59</td>\n      <td>EDU- taking class, research, homework</td>\n      <td>work_education</td>\n      <td>&lt;NA&gt;</td>\n      <td>sitting</td>\n      <td>sedentary</td>\n      <td>not_walking</td>\n      <td>sedentary</td>\n      <td>NaN</td>\n      <td>False</td>\n    </tr>\n    <tr>\n      <th>511923</th>\n      <td>154</td>\n      <td>2</td>\n      <td>2020-02-23</td>\n      <td>2020-02-23 15:56:00</td>\n      <td>EDU- taking class, research, homework</td>\n      <td>work_education</td>\n      <td>&lt;NA&gt;</td>\n      <td>sitting</td>\n      <td>sedentary</td>\n      <td>not_walking</td>\n      <td>sedentary</td>\n      <td>NaN</td>\n      <td>False</td>\n    </tr>\n  </tbody>\n</table>\n<p>511924 rows × 13 columns</p>\n</div>"
     },
     "execution_count": 76,
     "metadata": {},
     "output_type": "execute_result"
    }
   ],
   "source": [
    "# Outer merge coding with steps ground truth\n",
    "merged = pd.merge(left = ground_truth_2, right = seconds_3.drop(\"Quality\", axis=1), how=\"outer\", on=[\"id\", \"observation\", \"date_time\"])\n",
    "# Add flag for times that are inside the max start and min end interval\n",
    "merged = merged.merge(right = start_end_info_3[[\"ID\", \"Session\", \"max_start\", \"min_end\"]], how = 'left',\n",
    "                            left_on = [\"id\", \"observation\"], right_on = [\"ID\", \"Session\"])\n",
    "merged[\"inside_flag\"] = (merged[\"date_time\"] >= merged[\"max_start\"]) & (merged[\"date_time\"] <= merged[\"min_end\"])\n",
    "merged = merged.drop([\"ID\", \"Session\", \"max_start\", \"min_end\"], axis=1)\n",
    "merged"
   ]
  },
  {
   "cell_type": "code",
   "execution_count": 77,
   "id": "ab212167abafb7d",
   "metadata": {
    "collapsed": false,
    "ExecuteTime": {
     "end_time": "2024-03-06T23:21:29.928133200Z",
     "start_time": "2024-03-06T23:21:29.577399400Z"
    }
   },
   "outputs": [
    {
     "data": {
      "text/plain": "Series([], Name: count, dtype: int64)"
     },
     "execution_count": 77,
     "metadata": {},
     "output_type": "execute_result"
    }
   ],
   "source": [
    "# Check to make sure that there is only one row per second\n",
    "check = merged[[\"id\", \"observation\", \"date_time\"]].value_counts()\n",
    "check[check > 1]"
   ]
  },
  {
   "cell_type": "markdown",
   "id": "cc3c29a4a13e5230",
   "metadata": {},
   "source": [
    "## Check Valid Rows (Intersection of Steps, Coding Tables)"
   ]
  },
  {
   "cell_type": "markdown",
   "id": "aa528ff7cd0de40e",
   "metadata": {},
   "source": [
    "At this point, we know that the rows are invalid if:\n",
    "\n",
    "1. The ID and Session/observation are missing from the seconds ground truth entirely, not partially\n",
    "2. OR They fall outside of where the time intervals of the two ground truth files intersect.\n",
    "\n",
    "We need to know if any more rows are invalid. The only rows that could be invalid at this point are rows that:\n",
    "\n",
    "1. Have a valid ID/Session\n",
    "2. AND they fall within the time interval\n",
    "3. AND they either don't have steps or coding ground truth\n",
    "\n",
    "We need to check if any such rows exist."
   ]
  },
  {
   "cell_type": "code",
   "execution_count": 78,
   "id": "35e52dba6d6d240f",
   "metadata": {
    "collapsed": false,
    "ExecuteTime": {
     "end_time": "2024-03-06T23:21:29.996402700Z",
     "start_time": "2024-03-06T23:21:29.830735800Z"
    }
   },
   "outputs": [
    {
     "data": {
      "text/plain": "     ID  Session\n0   102        1\n1   102        2\n2   116        1\n3   116        2\n4   117        1\n5   117        2\n6   122        1\n7   122        2\n8   124        1\n9   124        2\n11  126        2\n12  127        1\n13  127        2\n15  128        2\n16  129        1\n17  129        2\n18  130        1\n19  130        2\n20  131        1\n21  131        2\n22  132        1\n23  132        2\n24  133        1\n25  133        2\n26  134        1\n28  135        1\n29  135        2\n30  136        1\n32  138        1\n36  140        1\n37  140        2\n38  141        1\n39  141        2\n41  143        2\n42  144        1\n43  144        2\n44  150        1\n45  150        2\n47  154        2",
      "text/html": "<div>\n<style scoped>\n    .dataframe tbody tr th:only-of-type {\n        vertical-align: middle;\n    }\n\n    .dataframe tbody tr th {\n        vertical-align: top;\n    }\n\n    .dataframe thead th {\n        text-align: right;\n    }\n</style>\n<table border=\"1\" class=\"dataframe\">\n  <thead>\n    <tr style=\"text-align: right;\">\n      <th></th>\n      <th>ID</th>\n      <th>Session</th>\n    </tr>\n  </thead>\n  <tbody>\n    <tr>\n      <th>0</th>\n      <td>102</td>\n      <td>1</td>\n    </tr>\n    <tr>\n      <th>1</th>\n      <td>102</td>\n      <td>2</td>\n    </tr>\n    <tr>\n      <th>2</th>\n      <td>116</td>\n      <td>1</td>\n    </tr>\n    <tr>\n      <th>3</th>\n      <td>116</td>\n      <td>2</td>\n    </tr>\n    <tr>\n      <th>4</th>\n      <td>117</td>\n      <td>1</td>\n    </tr>\n    <tr>\n      <th>5</th>\n      <td>117</td>\n      <td>2</td>\n    </tr>\n    <tr>\n      <th>6</th>\n      <td>122</td>\n      <td>1</td>\n    </tr>\n    <tr>\n      <th>7</th>\n      <td>122</td>\n      <td>2</td>\n    </tr>\n    <tr>\n      <th>8</th>\n      <td>124</td>\n      <td>1</td>\n    </tr>\n    <tr>\n      <th>9</th>\n      <td>124</td>\n      <td>2</td>\n    </tr>\n    <tr>\n      <th>11</th>\n      <td>126</td>\n      <td>2</td>\n    </tr>\n    <tr>\n      <th>12</th>\n      <td>127</td>\n      <td>1</td>\n    </tr>\n    <tr>\n      <th>13</th>\n      <td>127</td>\n      <td>2</td>\n    </tr>\n    <tr>\n      <th>15</th>\n      <td>128</td>\n      <td>2</td>\n    </tr>\n    <tr>\n      <th>16</th>\n      <td>129</td>\n      <td>1</td>\n    </tr>\n    <tr>\n      <th>17</th>\n      <td>129</td>\n      <td>2</td>\n    </tr>\n    <tr>\n      <th>18</th>\n      <td>130</td>\n      <td>1</td>\n    </tr>\n    <tr>\n      <th>19</th>\n      <td>130</td>\n      <td>2</td>\n    </tr>\n    <tr>\n      <th>20</th>\n      <td>131</td>\n      <td>1</td>\n    </tr>\n    <tr>\n      <th>21</th>\n      <td>131</td>\n      <td>2</td>\n    </tr>\n    <tr>\n      <th>22</th>\n      <td>132</td>\n      <td>1</td>\n    </tr>\n    <tr>\n      <th>23</th>\n      <td>132</td>\n      <td>2</td>\n    </tr>\n    <tr>\n      <th>24</th>\n      <td>133</td>\n      <td>1</td>\n    </tr>\n    <tr>\n      <th>25</th>\n      <td>133</td>\n      <td>2</td>\n    </tr>\n    <tr>\n      <th>26</th>\n      <td>134</td>\n      <td>1</td>\n    </tr>\n    <tr>\n      <th>28</th>\n      <td>135</td>\n      <td>1</td>\n    </tr>\n    <tr>\n      <th>29</th>\n      <td>135</td>\n      <td>2</td>\n    </tr>\n    <tr>\n      <th>30</th>\n      <td>136</td>\n      <td>1</td>\n    </tr>\n    <tr>\n      <th>32</th>\n      <td>138</td>\n      <td>1</td>\n    </tr>\n    <tr>\n      <th>36</th>\n      <td>140</td>\n      <td>1</td>\n    </tr>\n    <tr>\n      <th>37</th>\n      <td>140</td>\n      <td>2</td>\n    </tr>\n    <tr>\n      <th>38</th>\n      <td>141</td>\n      <td>1</td>\n    </tr>\n    <tr>\n      <th>39</th>\n      <td>141</td>\n      <td>2</td>\n    </tr>\n    <tr>\n      <th>41</th>\n      <td>143</td>\n      <td>2</td>\n    </tr>\n    <tr>\n      <th>42</th>\n      <td>144</td>\n      <td>1</td>\n    </tr>\n    <tr>\n      <th>43</th>\n      <td>144</td>\n      <td>2</td>\n    </tr>\n    <tr>\n      <th>44</th>\n      <td>150</td>\n      <td>1</td>\n    </tr>\n    <tr>\n      <th>45</th>\n      <td>150</td>\n      <td>2</td>\n    </tr>\n    <tr>\n      <th>47</th>\n      <td>154</td>\n      <td>2</td>\n    </tr>\n  </tbody>\n</table>\n</div>"
     },
     "execution_count": 78,
     "metadata": {},
     "output_type": "execute_result"
    }
   ],
   "source": [
    "# List of id/session that were found in the seconds file and in ground truth file\n",
    "id_session_notna = start_end_info_3[[\"ID\", \"Session\"]][~start_end_info_3[\"Start_secondsFile\"].isna()]\n",
    "id_session_notna"
   ]
  },
  {
   "cell_type": "code",
   "execution_count": 79,
   "id": "68f734a9add19071",
   "metadata": {
    "collapsed": false,
    "ExecuteTime": {
     "end_time": "2024-03-06T23:21:30.389580Z",
     "start_time": "2024-03-06T23:21:29.852823Z"
    }
   },
   "outputs": [
    {
     "data": {
      "text/plain": "         id  observation        date           date_time  \\\n1       102            1  2019-07-24 2019-07-24 08:20:20   \n2       102            1  2019-07-24 2019-07-24 08:20:21   \n3       102            1  2019-07-24 2019-07-24 08:20:22   \n4       102            1  2019-07-24 2019-07-24 08:20:23   \n5       102            1  2019-07-24 2019-07-24 08:20:24   \n...     ...          ...         ...                 ...   \n404517  154            2  2020-02-23 2020-02-23 13:06:29   \n404518  154            2  2020-02-23 2020-02-23 13:06:30   \n404519  154            2  2020-02-23 2020-02-23 13:06:31   \n404520  154            2  2020-02-23 2020-02-23 13:06:32   \n404521  154            2  2020-02-23 2020-02-23 13:06:33   \n\n                                activity_type broad_activity_type  \\\n1                                WRK- general      work_education   \n2                                WRK- general      work_education   \n3                                WRK- general      work_education   \n4                                WRK- general      work_education   \n5                                WRK- general      work_education   \n...                                       ...                 ...   \n404517  EDU- taking class, research, homework      work_education   \n404518  EDU- taking class, research, homework      work_education   \n404519  EDU- taking class, research, homework      work_education   \n404520  EDU- taking class, research, homework      work_education   \n404521  EDU- taking class, research, homework      work_education   \n\n                                work_type  posture  sedentary_not  \\\n1       SP- Education and Health Services    stand  not_sedentary   \n2       SP- Education and Health Services    stand  not_sedentary   \n3       SP- Education and Health Services    stand  not_sedentary   \n4       SP- Education and Health Services    stand  not_sedentary   \n5       SP- Education and Health Services    stand  not_sedentary   \n...                                   ...      ...            ...   \n404517                               <NA>  sitting      sedentary   \n404518                               <NA>  sitting      sedentary   \n404519                               <NA>  sitting      sedentary   \n404520                               <NA>  sitting      sedentary   \n404521                               <NA>  sitting      sedentary   \n\n        walking_not activity_intensity  Step  inside_flag  \n1       not_walking              light   0.0         True  \n2       not_walking              light   0.0         True  \n3       not_walking              light   0.0         True  \n4       not_walking              light   0.0         True  \n5       not_walking              light   1.0         True  \n...             ...                ...   ...          ...  \n404517  not_walking          sedentary   1.0         True  \n404518  not_walking          sedentary   2.0         True  \n404519  not_walking          sedentary   2.0         True  \n404520  not_walking          sedentary   1.0         True  \n404521  not_walking          sedentary   2.0         True  \n\n[376500 rows x 13 columns]",
      "text/html": "<div>\n<style scoped>\n    .dataframe tbody tr th:only-of-type {\n        vertical-align: middle;\n    }\n\n    .dataframe tbody tr th {\n        vertical-align: top;\n    }\n\n    .dataframe thead th {\n        text-align: right;\n    }\n</style>\n<table border=\"1\" class=\"dataframe\">\n  <thead>\n    <tr style=\"text-align: right;\">\n      <th></th>\n      <th>id</th>\n      <th>observation</th>\n      <th>date</th>\n      <th>date_time</th>\n      <th>activity_type</th>\n      <th>broad_activity_type</th>\n      <th>work_type</th>\n      <th>posture</th>\n      <th>sedentary_not</th>\n      <th>walking_not</th>\n      <th>activity_intensity</th>\n      <th>Step</th>\n      <th>inside_flag</th>\n    </tr>\n  </thead>\n  <tbody>\n    <tr>\n      <th>1</th>\n      <td>102</td>\n      <td>1</td>\n      <td>2019-07-24</td>\n      <td>2019-07-24 08:20:20</td>\n      <td>WRK- general</td>\n      <td>work_education</td>\n      <td>SP- Education and Health Services</td>\n      <td>stand</td>\n      <td>not_sedentary</td>\n      <td>not_walking</td>\n      <td>light</td>\n      <td>0.0</td>\n      <td>True</td>\n    </tr>\n    <tr>\n      <th>2</th>\n      <td>102</td>\n      <td>1</td>\n      <td>2019-07-24</td>\n      <td>2019-07-24 08:20:21</td>\n      <td>WRK- general</td>\n      <td>work_education</td>\n      <td>SP- Education and Health Services</td>\n      <td>stand</td>\n      <td>not_sedentary</td>\n      <td>not_walking</td>\n      <td>light</td>\n      <td>0.0</td>\n      <td>True</td>\n    </tr>\n    <tr>\n      <th>3</th>\n      <td>102</td>\n      <td>1</td>\n      <td>2019-07-24</td>\n      <td>2019-07-24 08:20:22</td>\n      <td>WRK- general</td>\n      <td>work_education</td>\n      <td>SP- Education and Health Services</td>\n      <td>stand</td>\n      <td>not_sedentary</td>\n      <td>not_walking</td>\n      <td>light</td>\n      <td>0.0</td>\n      <td>True</td>\n    </tr>\n    <tr>\n      <th>4</th>\n      <td>102</td>\n      <td>1</td>\n      <td>2019-07-24</td>\n      <td>2019-07-24 08:20:23</td>\n      <td>WRK- general</td>\n      <td>work_education</td>\n      <td>SP- Education and Health Services</td>\n      <td>stand</td>\n      <td>not_sedentary</td>\n      <td>not_walking</td>\n      <td>light</td>\n      <td>0.0</td>\n      <td>True</td>\n    </tr>\n    <tr>\n      <th>5</th>\n      <td>102</td>\n      <td>1</td>\n      <td>2019-07-24</td>\n      <td>2019-07-24 08:20:24</td>\n      <td>WRK- general</td>\n      <td>work_education</td>\n      <td>SP- Education and Health Services</td>\n      <td>stand</td>\n      <td>not_sedentary</td>\n      <td>not_walking</td>\n      <td>light</td>\n      <td>1.0</td>\n      <td>True</td>\n    </tr>\n    <tr>\n      <th>...</th>\n      <td>...</td>\n      <td>...</td>\n      <td>...</td>\n      <td>...</td>\n      <td>...</td>\n      <td>...</td>\n      <td>...</td>\n      <td>...</td>\n      <td>...</td>\n      <td>...</td>\n      <td>...</td>\n      <td>...</td>\n      <td>...</td>\n    </tr>\n    <tr>\n      <th>404517</th>\n      <td>154</td>\n      <td>2</td>\n      <td>2020-02-23</td>\n      <td>2020-02-23 13:06:29</td>\n      <td>EDU- taking class, research, homework</td>\n      <td>work_education</td>\n      <td>&lt;NA&gt;</td>\n      <td>sitting</td>\n      <td>sedentary</td>\n      <td>not_walking</td>\n      <td>sedentary</td>\n      <td>1.0</td>\n      <td>True</td>\n    </tr>\n    <tr>\n      <th>404518</th>\n      <td>154</td>\n      <td>2</td>\n      <td>2020-02-23</td>\n      <td>2020-02-23 13:06:30</td>\n      <td>EDU- taking class, research, homework</td>\n      <td>work_education</td>\n      <td>&lt;NA&gt;</td>\n      <td>sitting</td>\n      <td>sedentary</td>\n      <td>not_walking</td>\n      <td>sedentary</td>\n      <td>2.0</td>\n      <td>True</td>\n    </tr>\n    <tr>\n      <th>404519</th>\n      <td>154</td>\n      <td>2</td>\n      <td>2020-02-23</td>\n      <td>2020-02-23 13:06:31</td>\n      <td>EDU- taking class, research, homework</td>\n      <td>work_education</td>\n      <td>&lt;NA&gt;</td>\n      <td>sitting</td>\n      <td>sedentary</td>\n      <td>not_walking</td>\n      <td>sedentary</td>\n      <td>2.0</td>\n      <td>True</td>\n    </tr>\n    <tr>\n      <th>404520</th>\n      <td>154</td>\n      <td>2</td>\n      <td>2020-02-23</td>\n      <td>2020-02-23 13:06:32</td>\n      <td>EDU- taking class, research, homework</td>\n      <td>work_education</td>\n      <td>&lt;NA&gt;</td>\n      <td>sitting</td>\n      <td>sedentary</td>\n      <td>not_walking</td>\n      <td>sedentary</td>\n      <td>1.0</td>\n      <td>True</td>\n    </tr>\n    <tr>\n      <th>404521</th>\n      <td>154</td>\n      <td>2</td>\n      <td>2020-02-23</td>\n      <td>2020-02-23 13:06:33</td>\n      <td>EDU- taking class, research, homework</td>\n      <td>work_education</td>\n      <td>&lt;NA&gt;</td>\n      <td>sitting</td>\n      <td>sedentary</td>\n      <td>not_walking</td>\n      <td>sedentary</td>\n      <td>2.0</td>\n      <td>True</td>\n    </tr>\n  </tbody>\n</table>\n<p>376500 rows × 13 columns</p>\n</div>"
     },
     "execution_count": 79,
     "metadata": {},
     "output_type": "execute_result"
    }
   ],
   "source": [
    "# Find all valid rows - rows that should have data from both coding and step ground truth\n",
    "# They should be in the valid id/sessions\n",
    "merged_valid = id_session_notna.merge(right = merged, left_on = [\"ID\", \"Session\"], right_on = [\"id\", \"observation\"]).drop([\"ID\", \"Session\"], axis=1)\n",
    "# They should also fall within the time interval between the max start and min end of both coding/step ground truth\n",
    "merged_valid = merged_valid[merged_valid[\"inside_flag\"] == True]\n",
    "merged_valid"
   ]
  },
  {
   "cell_type": "code",
   "execution_count": 80,
   "id": "bf852747f20dce7d",
   "metadata": {
    "collapsed": false,
    "ExecuteTime": {
     "end_time": "2024-03-06T23:21:30.516247100Z",
     "start_time": "2024-03-06T23:21:30.243801Z"
    }
   },
   "outputs": [
    {
     "data": {
      "text/plain": "Empty DataFrame\nColumns: [id, observation, date, date_time, activity_type, broad_activity_type, work_type, posture, sedentary_not, walking_not, activity_intensity, Step, inside_flag]\nIndex: []",
      "text/html": "<div>\n<style scoped>\n    .dataframe tbody tr th:only-of-type {\n        vertical-align: middle;\n    }\n\n    .dataframe tbody tr th {\n        vertical-align: top;\n    }\n\n    .dataframe thead th {\n        text-align: right;\n    }\n</style>\n<table border=\"1\" class=\"dataframe\">\n  <thead>\n    <tr style=\"text-align: right;\">\n      <th></th>\n      <th>id</th>\n      <th>observation</th>\n      <th>date</th>\n      <th>date_time</th>\n      <th>activity_type</th>\n      <th>broad_activity_type</th>\n      <th>work_type</th>\n      <th>posture</th>\n      <th>sedentary_not</th>\n      <th>walking_not</th>\n      <th>activity_intensity</th>\n      <th>Step</th>\n      <th>inside_flag</th>\n    </tr>\n  </thead>\n  <tbody>\n  </tbody>\n</table>\n</div>"
     },
     "execution_count": 80,
     "metadata": {},
     "output_type": "execute_result"
    }
   ],
   "source": [
    "# Check if there are any invalid rows remaining - there should be none\n",
    "merged_valid[(merged_valid[\"walking_not\"].isna()) | (merged_valid[\"Step\"].isna())]"
   ]
  },
  {
   "cell_type": "markdown",
   "id": "8f17a2dbfe9d0e5d",
   "metadata": {},
   "source": [
    "Based on our analysis, there are no invalid rows that:\n",
    "\n",
    "1. Have a valid ID/Session\n",
    "2. AND they fall within the time interval\n",
    "3. AND they either don't have steps or coding ground truth"
   ]
  },
  {
   "cell_type": "markdown",
   "id": "529c8cf2eeab7d79",
   "metadata": {},
   "source": [
    "## Analyze Time Interval Disparity"
   ]
  },
  {
   "cell_type": "markdown",
   "id": "c9017756190f54c6",
   "metadata": {},
   "source": [
    "Here we show the rows that have a valid ID/Session but fall outside the time interval intersection of the two ground truth tables. They should match the sum of the difference in seconds of the start/end that we calculated in the start_end_info tables."
   ]
  },
  {
   "cell_type": "code",
   "execution_count": 81,
   "id": "f47c21e3acce93ca",
   "metadata": {
    "collapsed": false,
    "ExecuteTime": {
     "end_time": "2024-03-06T23:21:30.540412600Z",
     "start_time": "2024-03-06T23:21:30.288900200Z"
    }
   },
   "outputs": [
    {
     "data": {
      "text/plain": "38189.0"
     },
     "execution_count": 81,
     "metadata": {},
     "output_type": "execute_result"
    }
   ],
   "source": [
    "# Find the total number of seconds/rows that fall outside the max start/min end interval\n",
    "total_outside = start_end_info_3['StartDiffSecs(GT-seconds)'].abs().sum() + start_end_info_3['EndDiffSecs(GT-seconds)'].abs().sum()\n",
    "total_outside"
   ]
  },
  {
   "cell_type": "code",
   "execution_count": 82,
   "id": "eafee2e7828fca4b",
   "metadata": {
    "collapsed": false,
    "ExecuteTime": {
     "end_time": "2024-03-06T23:21:30.565459800Z",
     "start_time": "2024-03-06T23:21:30.296991100Z"
    }
   },
   "outputs": [
    {
     "data": {
      "text/plain": "         id  observation        date           date_time  \\\n0       102            1  2019-07-24 2019-07-24 08:20:19   \n9919    102            1  2019-07-24 2019-07-24 11:05:38   \n9920    102            1  2019-07-24 2019-07-24 11:05:39   \n9921    102            1  2019-07-24 2019-07-24 11:05:40   \n9922    102            1  2019-07-24 2019-07-24 11:05:41   \n...     ...          ...         ...                 ...   \n511919  154            2  2020-02-23 2020-02-23 15:55:56   \n511920  154            2  2020-02-23 2020-02-23 15:55:57   \n511921  154            2  2020-02-23 2020-02-23 15:55:58   \n511922  154            2  2020-02-23 2020-02-23 15:55:59   \n511923  154            2  2020-02-23 2020-02-23 15:56:00   \n\n                                activity_type broad_activity_type  \\\n0                                WRK- general      work_education   \n9919                             WRK- general      work_education   \n9920                        WRK- screen based      work_education   \n9921                        WRK- screen based      work_education   \n9922                        WRK- screen based      work_education   \n...                                       ...                 ...   \n511919  EDU- taking class, research, homework      work_education   \n511920  EDU- taking class, research, homework      work_education   \n511921  EDU- taking class, research, homework      work_education   \n511922  EDU- taking class, research, homework      work_education   \n511923  EDU- taking class, research, homework      work_education   \n\n                                                work_type  posture  \\\n0                       SP- Education and Health Services    stand   \n9919    SP- Office (business, professional services, f...     walk   \n9920    SP- Office (business, professional services, f...  sitting   \n9921    SP- Office (business, professional services, f...  sitting   \n9922    SP- Office (business, professional services, f...  sitting   \n...                                                   ...      ...   \n511919                                               <NA>  sitting   \n511920                                               <NA>  sitting   \n511921                                               <NA>  sitting   \n511922                                               <NA>  sitting   \n511923                                               <NA>  sitting   \n\n        sedentary_not  walking_not activity_intensity  Step  inside_flag  \n0       not_sedentary  not_walking              light   NaN        False  \n9919    not_sedentary      walking           moderate   NaN        False  \n9920        sedentary  not_walking          sedentary   NaN        False  \n9921        sedentary  not_walking          sedentary   NaN        False  \n9922        sedentary  not_walking          sedentary   NaN        False  \n...               ...          ...                ...   ...          ...  \n511919      sedentary  not_walking          sedentary   NaN        False  \n511920      sedentary  not_walking          sedentary   NaN        False  \n511921      sedentary  not_walking          sedentary   NaN        False  \n511922      sedentary  not_walking          sedentary   NaN        False  \n511923      sedentary  not_walking          sedentary   NaN        False  \n\n[38189 rows x 13 columns]",
      "text/html": "<div>\n<style scoped>\n    .dataframe tbody tr th:only-of-type {\n        vertical-align: middle;\n    }\n\n    .dataframe tbody tr th {\n        vertical-align: top;\n    }\n\n    .dataframe thead th {\n        text-align: right;\n    }\n</style>\n<table border=\"1\" class=\"dataframe\">\n  <thead>\n    <tr style=\"text-align: right;\">\n      <th></th>\n      <th>id</th>\n      <th>observation</th>\n      <th>date</th>\n      <th>date_time</th>\n      <th>activity_type</th>\n      <th>broad_activity_type</th>\n      <th>work_type</th>\n      <th>posture</th>\n      <th>sedentary_not</th>\n      <th>walking_not</th>\n      <th>activity_intensity</th>\n      <th>Step</th>\n      <th>inside_flag</th>\n    </tr>\n  </thead>\n  <tbody>\n    <tr>\n      <th>0</th>\n      <td>102</td>\n      <td>1</td>\n      <td>2019-07-24</td>\n      <td>2019-07-24 08:20:19</td>\n      <td>WRK- general</td>\n      <td>work_education</td>\n      <td>SP- Education and Health Services</td>\n      <td>stand</td>\n      <td>not_sedentary</td>\n      <td>not_walking</td>\n      <td>light</td>\n      <td>NaN</td>\n      <td>False</td>\n    </tr>\n    <tr>\n      <th>9919</th>\n      <td>102</td>\n      <td>1</td>\n      <td>2019-07-24</td>\n      <td>2019-07-24 11:05:38</td>\n      <td>WRK- general</td>\n      <td>work_education</td>\n      <td>SP- Office (business, professional services, f...</td>\n      <td>walk</td>\n      <td>not_sedentary</td>\n      <td>walking</td>\n      <td>moderate</td>\n      <td>NaN</td>\n      <td>False</td>\n    </tr>\n    <tr>\n      <th>9920</th>\n      <td>102</td>\n      <td>1</td>\n      <td>2019-07-24</td>\n      <td>2019-07-24 11:05:39</td>\n      <td>WRK- screen based</td>\n      <td>work_education</td>\n      <td>SP- Office (business, professional services, f...</td>\n      <td>sitting</td>\n      <td>sedentary</td>\n      <td>not_walking</td>\n      <td>sedentary</td>\n      <td>NaN</td>\n      <td>False</td>\n    </tr>\n    <tr>\n      <th>9921</th>\n      <td>102</td>\n      <td>1</td>\n      <td>2019-07-24</td>\n      <td>2019-07-24 11:05:40</td>\n      <td>WRK- screen based</td>\n      <td>work_education</td>\n      <td>SP- Office (business, professional services, f...</td>\n      <td>sitting</td>\n      <td>sedentary</td>\n      <td>not_walking</td>\n      <td>sedentary</td>\n      <td>NaN</td>\n      <td>False</td>\n    </tr>\n    <tr>\n      <th>9922</th>\n      <td>102</td>\n      <td>1</td>\n      <td>2019-07-24</td>\n      <td>2019-07-24 11:05:41</td>\n      <td>WRK- screen based</td>\n      <td>work_education</td>\n      <td>SP- Office (business, professional services, f...</td>\n      <td>sitting</td>\n      <td>sedentary</td>\n      <td>not_walking</td>\n      <td>sedentary</td>\n      <td>NaN</td>\n      <td>False</td>\n    </tr>\n    <tr>\n      <th>...</th>\n      <td>...</td>\n      <td>...</td>\n      <td>...</td>\n      <td>...</td>\n      <td>...</td>\n      <td>...</td>\n      <td>...</td>\n      <td>...</td>\n      <td>...</td>\n      <td>...</td>\n      <td>...</td>\n      <td>...</td>\n      <td>...</td>\n    </tr>\n    <tr>\n      <th>511919</th>\n      <td>154</td>\n      <td>2</td>\n      <td>2020-02-23</td>\n      <td>2020-02-23 15:55:56</td>\n      <td>EDU- taking class, research, homework</td>\n      <td>work_education</td>\n      <td>&lt;NA&gt;</td>\n      <td>sitting</td>\n      <td>sedentary</td>\n      <td>not_walking</td>\n      <td>sedentary</td>\n      <td>NaN</td>\n      <td>False</td>\n    </tr>\n    <tr>\n      <th>511920</th>\n      <td>154</td>\n      <td>2</td>\n      <td>2020-02-23</td>\n      <td>2020-02-23 15:55:57</td>\n      <td>EDU- taking class, research, homework</td>\n      <td>work_education</td>\n      <td>&lt;NA&gt;</td>\n      <td>sitting</td>\n      <td>sedentary</td>\n      <td>not_walking</td>\n      <td>sedentary</td>\n      <td>NaN</td>\n      <td>False</td>\n    </tr>\n    <tr>\n      <th>511921</th>\n      <td>154</td>\n      <td>2</td>\n      <td>2020-02-23</td>\n      <td>2020-02-23 15:55:58</td>\n      <td>EDU- taking class, research, homework</td>\n      <td>work_education</td>\n      <td>&lt;NA&gt;</td>\n      <td>sitting</td>\n      <td>sedentary</td>\n      <td>not_walking</td>\n      <td>sedentary</td>\n      <td>NaN</td>\n      <td>False</td>\n    </tr>\n    <tr>\n      <th>511922</th>\n      <td>154</td>\n      <td>2</td>\n      <td>2020-02-23</td>\n      <td>2020-02-23 15:55:59</td>\n      <td>EDU- taking class, research, homework</td>\n      <td>work_education</td>\n      <td>&lt;NA&gt;</td>\n      <td>sitting</td>\n      <td>sedentary</td>\n      <td>not_walking</td>\n      <td>sedentary</td>\n      <td>NaN</td>\n      <td>False</td>\n    </tr>\n    <tr>\n      <th>511923</th>\n      <td>154</td>\n      <td>2</td>\n      <td>2020-02-23</td>\n      <td>2020-02-23 15:56:00</td>\n      <td>EDU- taking class, research, homework</td>\n      <td>work_education</td>\n      <td>&lt;NA&gt;</td>\n      <td>sitting</td>\n      <td>sedentary</td>\n      <td>not_walking</td>\n      <td>sedentary</td>\n      <td>NaN</td>\n      <td>False</td>\n    </tr>\n  </tbody>\n</table>\n<p>38189 rows × 13 columns</p>\n</div>"
     },
     "execution_count": 82,
     "metadata": {},
     "output_type": "execute_result"
    }
   ],
   "source": [
    "merged_outside = merged[merged[\"inside_flag\"] == False]\n",
    "merged_outside"
   ]
  },
  {
   "cell_type": "markdown",
   "id": "c06415859cd5ebad",
   "metadata": {},
   "source": [
    "The numbers match up. We have the correct number of rows that fall outside the interval. Because they fall outside of the interval intersection, they will only have steps or coding ground truth, not both.\n",
    "\n",
    "We can further separate the two into rows that are in only coding and rows that are only in step count (that fall outside the common time interval intersection)."
   ]
  },
  {
   "cell_type": "code",
   "execution_count": 83,
   "id": "1afa8a270aa9ddff",
   "metadata": {
    "collapsed": false,
    "ExecuteTime": {
     "end_time": "2024-03-06T23:21:30.624279700Z",
     "start_time": "2024-03-06T23:21:30.337888600Z"
    }
   },
   "outputs": [
    {
     "data": {
      "text/plain": "         id  observation date           date_time activity_type  \\\n32464   116            2  NaN 2019-08-21 11:09:48           NaN   \n32465   116            2  NaN 2019-08-21 11:09:49           NaN   \n32466   116            2  NaN 2019-08-21 11:09:50           NaN   \n32467   116            2  NaN 2019-08-21 11:09:51           NaN   \n32468   116            2  NaN 2019-08-21 11:09:52           NaN   \n...     ...          ...  ...                 ...           ...   \n480064  150            2  NaN 2020-01-21 19:31:54           NaN   \n480065  150            2  NaN 2020-01-21 19:31:55           NaN   \n480066  150            2  NaN 2020-01-21 19:31:56           NaN   \n480067  150            2  NaN 2020-01-21 19:31:57           NaN   \n480068  150            2  NaN 2020-01-21 19:31:58           NaN   \n\n       broad_activity_type work_type posture sedentary_not walking_not  \\\n32464                  NaN      <NA>     NaN           NaN         NaN   \n32465                  NaN      <NA>     NaN           NaN         NaN   \n32466                  NaN      <NA>     NaN           NaN         NaN   \n32467                  NaN      <NA>     NaN           NaN         NaN   \n32468                  NaN      <NA>     NaN           NaN         NaN   \n...                    ...       ...     ...           ...         ...   \n480064                 NaN      <NA>     NaN           NaN         NaN   \n480065                 NaN      <NA>     NaN           NaN         NaN   \n480066                 NaN      <NA>     NaN           NaN         NaN   \n480067                 NaN      <NA>     NaN           NaN         NaN   \n480068                 NaN      <NA>     NaN           NaN         NaN   \n\n       activity_intensity  Step  inside_flag  \n32464                 NaN   0.0        False  \n32465                 NaN   0.0        False  \n32466                 NaN   0.0        False  \n32467                 NaN   0.0        False  \n32468                 NaN   0.0        False  \n...                   ...   ...          ...  \n480064                NaN   0.0        False  \n480065                NaN   0.0        False  \n480066                NaN   0.0        False  \n480067                NaN   0.0        False  \n480068                NaN   0.0        False  \n\n[105 rows x 13 columns]",
      "text/html": "<div>\n<style scoped>\n    .dataframe tbody tr th:only-of-type {\n        vertical-align: middle;\n    }\n\n    .dataframe tbody tr th {\n        vertical-align: top;\n    }\n\n    .dataframe thead th {\n        text-align: right;\n    }\n</style>\n<table border=\"1\" class=\"dataframe\">\n  <thead>\n    <tr style=\"text-align: right;\">\n      <th></th>\n      <th>id</th>\n      <th>observation</th>\n      <th>date</th>\n      <th>date_time</th>\n      <th>activity_type</th>\n      <th>broad_activity_type</th>\n      <th>work_type</th>\n      <th>posture</th>\n      <th>sedentary_not</th>\n      <th>walking_not</th>\n      <th>activity_intensity</th>\n      <th>Step</th>\n      <th>inside_flag</th>\n    </tr>\n  </thead>\n  <tbody>\n    <tr>\n      <th>32464</th>\n      <td>116</td>\n      <td>2</td>\n      <td>NaN</td>\n      <td>2019-08-21 11:09:48</td>\n      <td>NaN</td>\n      <td>NaN</td>\n      <td>&lt;NA&gt;</td>\n      <td>NaN</td>\n      <td>NaN</td>\n      <td>NaN</td>\n      <td>NaN</td>\n      <td>0.0</td>\n      <td>False</td>\n    </tr>\n    <tr>\n      <th>32465</th>\n      <td>116</td>\n      <td>2</td>\n      <td>NaN</td>\n      <td>2019-08-21 11:09:49</td>\n      <td>NaN</td>\n      <td>NaN</td>\n      <td>&lt;NA&gt;</td>\n      <td>NaN</td>\n      <td>NaN</td>\n      <td>NaN</td>\n      <td>NaN</td>\n      <td>0.0</td>\n      <td>False</td>\n    </tr>\n    <tr>\n      <th>32466</th>\n      <td>116</td>\n      <td>2</td>\n      <td>NaN</td>\n      <td>2019-08-21 11:09:50</td>\n      <td>NaN</td>\n      <td>NaN</td>\n      <td>&lt;NA&gt;</td>\n      <td>NaN</td>\n      <td>NaN</td>\n      <td>NaN</td>\n      <td>NaN</td>\n      <td>0.0</td>\n      <td>False</td>\n    </tr>\n    <tr>\n      <th>32467</th>\n      <td>116</td>\n      <td>2</td>\n      <td>NaN</td>\n      <td>2019-08-21 11:09:51</td>\n      <td>NaN</td>\n      <td>NaN</td>\n      <td>&lt;NA&gt;</td>\n      <td>NaN</td>\n      <td>NaN</td>\n      <td>NaN</td>\n      <td>NaN</td>\n      <td>0.0</td>\n      <td>False</td>\n    </tr>\n    <tr>\n      <th>32468</th>\n      <td>116</td>\n      <td>2</td>\n      <td>NaN</td>\n      <td>2019-08-21 11:09:52</td>\n      <td>NaN</td>\n      <td>NaN</td>\n      <td>&lt;NA&gt;</td>\n      <td>NaN</td>\n      <td>NaN</td>\n      <td>NaN</td>\n      <td>NaN</td>\n      <td>0.0</td>\n      <td>False</td>\n    </tr>\n    <tr>\n      <th>...</th>\n      <td>...</td>\n      <td>...</td>\n      <td>...</td>\n      <td>...</td>\n      <td>...</td>\n      <td>...</td>\n      <td>...</td>\n      <td>...</td>\n      <td>...</td>\n      <td>...</td>\n      <td>...</td>\n      <td>...</td>\n      <td>...</td>\n    </tr>\n    <tr>\n      <th>480064</th>\n      <td>150</td>\n      <td>2</td>\n      <td>NaN</td>\n      <td>2020-01-21 19:31:54</td>\n      <td>NaN</td>\n      <td>NaN</td>\n      <td>&lt;NA&gt;</td>\n      <td>NaN</td>\n      <td>NaN</td>\n      <td>NaN</td>\n      <td>NaN</td>\n      <td>0.0</td>\n      <td>False</td>\n    </tr>\n    <tr>\n      <th>480065</th>\n      <td>150</td>\n      <td>2</td>\n      <td>NaN</td>\n      <td>2020-01-21 19:31:55</td>\n      <td>NaN</td>\n      <td>NaN</td>\n      <td>&lt;NA&gt;</td>\n      <td>NaN</td>\n      <td>NaN</td>\n      <td>NaN</td>\n      <td>NaN</td>\n      <td>0.0</td>\n      <td>False</td>\n    </tr>\n    <tr>\n      <th>480066</th>\n      <td>150</td>\n      <td>2</td>\n      <td>NaN</td>\n      <td>2020-01-21 19:31:56</td>\n      <td>NaN</td>\n      <td>NaN</td>\n      <td>&lt;NA&gt;</td>\n      <td>NaN</td>\n      <td>NaN</td>\n      <td>NaN</td>\n      <td>NaN</td>\n      <td>0.0</td>\n      <td>False</td>\n    </tr>\n    <tr>\n      <th>480067</th>\n      <td>150</td>\n      <td>2</td>\n      <td>NaN</td>\n      <td>2020-01-21 19:31:57</td>\n      <td>NaN</td>\n      <td>NaN</td>\n      <td>&lt;NA&gt;</td>\n      <td>NaN</td>\n      <td>NaN</td>\n      <td>NaN</td>\n      <td>NaN</td>\n      <td>0.0</td>\n      <td>False</td>\n    </tr>\n    <tr>\n      <th>480068</th>\n      <td>150</td>\n      <td>2</td>\n      <td>NaN</td>\n      <td>2020-01-21 19:31:58</td>\n      <td>NaN</td>\n      <td>NaN</td>\n      <td>&lt;NA&gt;</td>\n      <td>NaN</td>\n      <td>NaN</td>\n      <td>NaN</td>\n      <td>NaN</td>\n      <td>0.0</td>\n      <td>False</td>\n    </tr>\n  </tbody>\n</table>\n<p>105 rows × 13 columns</p>\n</div>"
     },
     "execution_count": 83,
     "metadata": {},
     "output_type": "execute_result"
    }
   ],
   "source": [
    "# Only in step count\n",
    "sc_only = merged_outside[merged_outside[\"activity_type\"].isna()]\n",
    "sc_only"
   ]
  },
  {
   "cell_type": "code",
   "execution_count": 84,
   "id": "cbc9bf5d7a3bd19e",
   "metadata": {
    "collapsed": false,
    "ExecuteTime": {
     "end_time": "2024-03-06T23:21:30.648100100Z",
     "start_time": "2024-03-06T23:21:30.368724900Z"
    }
   },
   "outputs": [
    {
     "data": {
      "text/plain": "         id  observation        date           date_time  \\\n0       102            1  2019-07-24 2019-07-24 08:20:19   \n9919    102            1  2019-07-24 2019-07-24 11:05:38   \n9920    102            1  2019-07-24 2019-07-24 11:05:39   \n9921    102            1  2019-07-24 2019-07-24 11:05:40   \n9922    102            1  2019-07-24 2019-07-24 11:05:41   \n...     ...          ...         ...                 ...   \n511919  154            2  2020-02-23 2020-02-23 15:55:56   \n511920  154            2  2020-02-23 2020-02-23 15:55:57   \n511921  154            2  2020-02-23 2020-02-23 15:55:58   \n511922  154            2  2020-02-23 2020-02-23 15:55:59   \n511923  154            2  2020-02-23 2020-02-23 15:56:00   \n\n                                activity_type broad_activity_type  \\\n0                                WRK- general      work_education   \n9919                             WRK- general      work_education   \n9920                        WRK- screen based      work_education   \n9921                        WRK- screen based      work_education   \n9922                        WRK- screen based      work_education   \n...                                       ...                 ...   \n511919  EDU- taking class, research, homework      work_education   \n511920  EDU- taking class, research, homework      work_education   \n511921  EDU- taking class, research, homework      work_education   \n511922  EDU- taking class, research, homework      work_education   \n511923  EDU- taking class, research, homework      work_education   \n\n                                                work_type  posture  \\\n0                       SP- Education and Health Services    stand   \n9919    SP- Office (business, professional services, f...     walk   \n9920    SP- Office (business, professional services, f...  sitting   \n9921    SP- Office (business, professional services, f...  sitting   \n9922    SP- Office (business, professional services, f...  sitting   \n...                                                   ...      ...   \n511919                                               <NA>  sitting   \n511920                                               <NA>  sitting   \n511921                                               <NA>  sitting   \n511922                                               <NA>  sitting   \n511923                                               <NA>  sitting   \n\n        sedentary_not  walking_not activity_intensity  Step  inside_flag  \n0       not_sedentary  not_walking              light   NaN        False  \n9919    not_sedentary      walking           moderate   NaN        False  \n9920        sedentary  not_walking          sedentary   NaN        False  \n9921        sedentary  not_walking          sedentary   NaN        False  \n9922        sedentary  not_walking          sedentary   NaN        False  \n...               ...          ...                ...   ...          ...  \n511919      sedentary  not_walking          sedentary   NaN        False  \n511920      sedentary  not_walking          sedentary   NaN        False  \n511921      sedentary  not_walking          sedentary   NaN        False  \n511922      sedentary  not_walking          sedentary   NaN        False  \n511923      sedentary  not_walking          sedentary   NaN        False  \n\n[38084 rows x 13 columns]",
      "text/html": "<div>\n<style scoped>\n    .dataframe tbody tr th:only-of-type {\n        vertical-align: middle;\n    }\n\n    .dataframe tbody tr th {\n        vertical-align: top;\n    }\n\n    .dataframe thead th {\n        text-align: right;\n    }\n</style>\n<table border=\"1\" class=\"dataframe\">\n  <thead>\n    <tr style=\"text-align: right;\">\n      <th></th>\n      <th>id</th>\n      <th>observation</th>\n      <th>date</th>\n      <th>date_time</th>\n      <th>activity_type</th>\n      <th>broad_activity_type</th>\n      <th>work_type</th>\n      <th>posture</th>\n      <th>sedentary_not</th>\n      <th>walking_not</th>\n      <th>activity_intensity</th>\n      <th>Step</th>\n      <th>inside_flag</th>\n    </tr>\n  </thead>\n  <tbody>\n    <tr>\n      <th>0</th>\n      <td>102</td>\n      <td>1</td>\n      <td>2019-07-24</td>\n      <td>2019-07-24 08:20:19</td>\n      <td>WRK- general</td>\n      <td>work_education</td>\n      <td>SP- Education and Health Services</td>\n      <td>stand</td>\n      <td>not_sedentary</td>\n      <td>not_walking</td>\n      <td>light</td>\n      <td>NaN</td>\n      <td>False</td>\n    </tr>\n    <tr>\n      <th>9919</th>\n      <td>102</td>\n      <td>1</td>\n      <td>2019-07-24</td>\n      <td>2019-07-24 11:05:38</td>\n      <td>WRK- general</td>\n      <td>work_education</td>\n      <td>SP- Office (business, professional services, f...</td>\n      <td>walk</td>\n      <td>not_sedentary</td>\n      <td>walking</td>\n      <td>moderate</td>\n      <td>NaN</td>\n      <td>False</td>\n    </tr>\n    <tr>\n      <th>9920</th>\n      <td>102</td>\n      <td>1</td>\n      <td>2019-07-24</td>\n      <td>2019-07-24 11:05:39</td>\n      <td>WRK- screen based</td>\n      <td>work_education</td>\n      <td>SP- Office (business, professional services, f...</td>\n      <td>sitting</td>\n      <td>sedentary</td>\n      <td>not_walking</td>\n      <td>sedentary</td>\n      <td>NaN</td>\n      <td>False</td>\n    </tr>\n    <tr>\n      <th>9921</th>\n      <td>102</td>\n      <td>1</td>\n      <td>2019-07-24</td>\n      <td>2019-07-24 11:05:40</td>\n      <td>WRK- screen based</td>\n      <td>work_education</td>\n      <td>SP- Office (business, professional services, f...</td>\n      <td>sitting</td>\n      <td>sedentary</td>\n      <td>not_walking</td>\n      <td>sedentary</td>\n      <td>NaN</td>\n      <td>False</td>\n    </tr>\n    <tr>\n      <th>9922</th>\n      <td>102</td>\n      <td>1</td>\n      <td>2019-07-24</td>\n      <td>2019-07-24 11:05:41</td>\n      <td>WRK- screen based</td>\n      <td>work_education</td>\n      <td>SP- Office (business, professional services, f...</td>\n      <td>sitting</td>\n      <td>sedentary</td>\n      <td>not_walking</td>\n      <td>sedentary</td>\n      <td>NaN</td>\n      <td>False</td>\n    </tr>\n    <tr>\n      <th>...</th>\n      <td>...</td>\n      <td>...</td>\n      <td>...</td>\n      <td>...</td>\n      <td>...</td>\n      <td>...</td>\n      <td>...</td>\n      <td>...</td>\n      <td>...</td>\n      <td>...</td>\n      <td>...</td>\n      <td>...</td>\n      <td>...</td>\n    </tr>\n    <tr>\n      <th>511919</th>\n      <td>154</td>\n      <td>2</td>\n      <td>2020-02-23</td>\n      <td>2020-02-23 15:55:56</td>\n      <td>EDU- taking class, research, homework</td>\n      <td>work_education</td>\n      <td>&lt;NA&gt;</td>\n      <td>sitting</td>\n      <td>sedentary</td>\n      <td>not_walking</td>\n      <td>sedentary</td>\n      <td>NaN</td>\n      <td>False</td>\n    </tr>\n    <tr>\n      <th>511920</th>\n      <td>154</td>\n      <td>2</td>\n      <td>2020-02-23</td>\n      <td>2020-02-23 15:55:57</td>\n      <td>EDU- taking class, research, homework</td>\n      <td>work_education</td>\n      <td>&lt;NA&gt;</td>\n      <td>sitting</td>\n      <td>sedentary</td>\n      <td>not_walking</td>\n      <td>sedentary</td>\n      <td>NaN</td>\n      <td>False</td>\n    </tr>\n    <tr>\n      <th>511921</th>\n      <td>154</td>\n      <td>2</td>\n      <td>2020-02-23</td>\n      <td>2020-02-23 15:55:58</td>\n      <td>EDU- taking class, research, homework</td>\n      <td>work_education</td>\n      <td>&lt;NA&gt;</td>\n      <td>sitting</td>\n      <td>sedentary</td>\n      <td>not_walking</td>\n      <td>sedentary</td>\n      <td>NaN</td>\n      <td>False</td>\n    </tr>\n    <tr>\n      <th>511922</th>\n      <td>154</td>\n      <td>2</td>\n      <td>2020-02-23</td>\n      <td>2020-02-23 15:55:59</td>\n      <td>EDU- taking class, research, homework</td>\n      <td>work_education</td>\n      <td>&lt;NA&gt;</td>\n      <td>sitting</td>\n      <td>sedentary</td>\n      <td>not_walking</td>\n      <td>sedentary</td>\n      <td>NaN</td>\n      <td>False</td>\n    </tr>\n    <tr>\n      <th>511923</th>\n      <td>154</td>\n      <td>2</td>\n      <td>2020-02-23</td>\n      <td>2020-02-23 15:56:00</td>\n      <td>EDU- taking class, research, homework</td>\n      <td>work_education</td>\n      <td>&lt;NA&gt;</td>\n      <td>sitting</td>\n      <td>sedentary</td>\n      <td>not_walking</td>\n      <td>sedentary</td>\n      <td>NaN</td>\n      <td>False</td>\n    </tr>\n  </tbody>\n</table>\n<p>38084 rows × 13 columns</p>\n</div>"
     },
     "execution_count": 84,
     "metadata": {},
     "output_type": "execute_result"
    }
   ],
   "source": [
    "# Only in coding\n",
    "gt_only = merged_outside[merged_outside[\"Step\"].isna()]\n",
    "gt_only"
   ]
  },
  {
   "cell_type": "markdown",
   "id": "a63a28a8338524b0",
   "metadata": {},
   "source": [
    "Some further analysis on the rows that are only in the coding ground truth:"
   ]
  },
  {
   "cell_type": "code",
   "execution_count": 85,
   "id": "182266e34664496c",
   "metadata": {
    "collapsed": false,
    "ExecuteTime": {
     "end_time": "2024-03-06T23:21:30.657055200Z",
     "start_time": "2024-03-06T23:21:30.414167500Z"
    }
   },
   "outputs": [
    {
     "data": {
      "text/plain": "                                                                        count\ncolumn              category                                                 \nactivity_type       CA- caring for and helping children                   384\n                    EAT- eating and drinking, waiting                    9488\n                    EDU- taking class, research, homework               11759\n                    EX- other                                               1\n                    EX- surfing/water sport                                 1\n                    EX- weight training                                     1\n                    HA- food prep and cleanup                               1\n                    HA- household management/other household activi...    436\n                    HA- lawn, garden and houseplants                       19\n                    LES- screen based leisure time (TV, video game,...   3041\n                    LES- socializing, communicating, leisure time n...   3212\n                    OTHER- non codable                                    167\n                    SL- sleep                                               1\n                    TRAV- passenger (car/truck/motorcycle)                  1\n                    TRAV- walking                                           4\n                    WRK- general                                          929\n                    WRK- screen based                                    8639\nbroad_activity_type active_transportation                                   4\n                    exercise                                                3\n                    household_personal                                    822\n                    lawn_garden                                            19\n                    leisure                                             15741\n                    non_codable                                           167\n                    transportation                                          1\n                    work_education                                      21327\nposture             kneeling/ squatting                                    56\n                    lying                                                   1\n                    muscle strengthening                                    1\n                    private/not coded                                     234\n                    sitting                                             37023\n                    stand                                                 512\n                    stand and move                                        195\n                    walk                                                   59\n                    walk with load                                          3\nsedentary_not       non_codable                                           234\n                    not_sedentary                                         770\n                    sedentary                                           37080\nwalking_not         non_codable                                           234\n                    not_walking                                         37788\n                    walking                                                62\nwork_type           Other                                                   1\n                    SP- Education and Health Services                    2644\n                    SP- Leisure and Hospiltality                          638\n                    SP- Office (business, professional services, fi...   6122\n                    SP- Trade, Retail, Transportation, and Utilities      163",
      "text/html": "<div>\n<style scoped>\n    .dataframe tbody tr th:only-of-type {\n        vertical-align: middle;\n    }\n\n    .dataframe tbody tr th {\n        vertical-align: top;\n    }\n\n    .dataframe thead th {\n        text-align: right;\n    }\n</style>\n<table border=\"1\" class=\"dataframe\">\n  <thead>\n    <tr style=\"text-align: right;\">\n      <th></th>\n      <th></th>\n      <th>count</th>\n    </tr>\n    <tr>\n      <th>column</th>\n      <th>category</th>\n      <th></th>\n    </tr>\n  </thead>\n  <tbody>\n    <tr>\n      <th rowspan=\"17\" valign=\"top\">activity_type</th>\n      <th>CA- caring for and helping children</th>\n      <td>384</td>\n    </tr>\n    <tr>\n      <th>EAT- eating and drinking, waiting</th>\n      <td>9488</td>\n    </tr>\n    <tr>\n      <th>EDU- taking class, research, homework</th>\n      <td>11759</td>\n    </tr>\n    <tr>\n      <th>EX- other</th>\n      <td>1</td>\n    </tr>\n    <tr>\n      <th>EX- surfing/water sport</th>\n      <td>1</td>\n    </tr>\n    <tr>\n      <th>EX- weight training</th>\n      <td>1</td>\n    </tr>\n    <tr>\n      <th>HA- food prep and cleanup</th>\n      <td>1</td>\n    </tr>\n    <tr>\n      <th>HA- household management/other household activities</th>\n      <td>436</td>\n    </tr>\n    <tr>\n      <th>HA- lawn, garden and houseplants</th>\n      <td>19</td>\n    </tr>\n    <tr>\n      <th>LES- screen based leisure time (TV, video game, computer)</th>\n      <td>3041</td>\n    </tr>\n    <tr>\n      <th>LES- socializing, communicating, leisure time not screen</th>\n      <td>3212</td>\n    </tr>\n    <tr>\n      <th>OTHER- non codable</th>\n      <td>167</td>\n    </tr>\n    <tr>\n      <th>SL- sleep</th>\n      <td>1</td>\n    </tr>\n    <tr>\n      <th>TRAV- passenger (car/truck/motorcycle)</th>\n      <td>1</td>\n    </tr>\n    <tr>\n      <th>TRAV- walking</th>\n      <td>4</td>\n    </tr>\n    <tr>\n      <th>WRK- general</th>\n      <td>929</td>\n    </tr>\n    <tr>\n      <th>WRK- screen based</th>\n      <td>8639</td>\n    </tr>\n    <tr>\n      <th rowspan=\"8\" valign=\"top\">broad_activity_type</th>\n      <th>active_transportation</th>\n      <td>4</td>\n    </tr>\n    <tr>\n      <th>exercise</th>\n      <td>3</td>\n    </tr>\n    <tr>\n      <th>household_personal</th>\n      <td>822</td>\n    </tr>\n    <tr>\n      <th>lawn_garden</th>\n      <td>19</td>\n    </tr>\n    <tr>\n      <th>leisure</th>\n      <td>15741</td>\n    </tr>\n    <tr>\n      <th>non_codable</th>\n      <td>167</td>\n    </tr>\n    <tr>\n      <th>transportation</th>\n      <td>1</td>\n    </tr>\n    <tr>\n      <th>work_education</th>\n      <td>21327</td>\n    </tr>\n    <tr>\n      <th rowspan=\"9\" valign=\"top\">posture</th>\n      <th>kneeling/ squatting</th>\n      <td>56</td>\n    </tr>\n    <tr>\n      <th>lying</th>\n      <td>1</td>\n    </tr>\n    <tr>\n      <th>muscle strengthening</th>\n      <td>1</td>\n    </tr>\n    <tr>\n      <th>private/not coded</th>\n      <td>234</td>\n    </tr>\n    <tr>\n      <th>sitting</th>\n      <td>37023</td>\n    </tr>\n    <tr>\n      <th>stand</th>\n      <td>512</td>\n    </tr>\n    <tr>\n      <th>stand and move</th>\n      <td>195</td>\n    </tr>\n    <tr>\n      <th>walk</th>\n      <td>59</td>\n    </tr>\n    <tr>\n      <th>walk with load</th>\n      <td>3</td>\n    </tr>\n    <tr>\n      <th rowspan=\"3\" valign=\"top\">sedentary_not</th>\n      <th>non_codable</th>\n      <td>234</td>\n    </tr>\n    <tr>\n      <th>not_sedentary</th>\n      <td>770</td>\n    </tr>\n    <tr>\n      <th>sedentary</th>\n      <td>37080</td>\n    </tr>\n    <tr>\n      <th rowspan=\"3\" valign=\"top\">walking_not</th>\n      <th>non_codable</th>\n      <td>234</td>\n    </tr>\n    <tr>\n      <th>not_walking</th>\n      <td>37788</td>\n    </tr>\n    <tr>\n      <th>walking</th>\n      <td>62</td>\n    </tr>\n    <tr>\n      <th rowspan=\"5\" valign=\"top\">work_type</th>\n      <th>Other</th>\n      <td>1</td>\n    </tr>\n    <tr>\n      <th>SP- Education and Health Services</th>\n      <td>2644</td>\n    </tr>\n    <tr>\n      <th>SP- Leisure and Hospiltality</th>\n      <td>638</td>\n    </tr>\n    <tr>\n      <th>SP- Office (business, professional services, finance, info)</th>\n      <td>6122</td>\n    </tr>\n    <tr>\n      <th>SP- Trade, Retail, Transportation, and Utilities</th>\n      <td>163</td>\n    </tr>\n  </tbody>\n</table>\n</div>"
     },
     "execution_count": 85,
     "metadata": {},
     "output_type": "execute_result"
    }
   ],
   "source": [
    "gt_only_summary = gt_only['activity_type'].value_counts()\n",
    "gt_only_summary = gt_only_summary.reset_index()\n",
    "gt_only_summary = gt_only_summary.rename(columns = {\"activity_type\": \"category\"})\n",
    "gt_only_summary['column'] = 'activity_type'\n",
    "\n",
    "for col in ['broad_activity_type', 'work_type', 'posture', 'sedentary_not', 'walking_not']:\n",
    "    new_summary = gt_only[col].value_counts()\n",
    "    new_summary = new_summary.reset_index()\n",
    "    new_summary = new_summary.rename(columns = {col: \"category\"})\n",
    "    new_summary['column'] = col\n",
    "    gt_only_summary = pd.concat([gt_only_summary, new_summary], axis=0)\n",
    "    \n",
    "gt_only_summary.groupby([\"column\", \"category\"]).sum()"
   ]
  },
  {
   "cell_type": "markdown",
   "id": "1a73ee651978b804",
   "metadata": {},
   "source": [
    "**IMPORTANT NOTE**: Observed, most rows are non-walking, sedentary, sitting. We may re-add these rows to the dataset if we can confirm from Dr. Keadle that we can assume a step count of 0 for these rows."
   ]
  },
  {
   "cell_type": "markdown",
   "id": "f1b6f7d51b6ccea1",
   "metadata": {},
   "source": [
    "Some further analysis on the rows only in step count:"
   ]
  },
  {
   "cell_type": "code",
   "execution_count": 86,
   "id": "c6bf09fda23fce6c",
   "metadata": {
    "collapsed": false,
    "ExecuteTime": {
     "end_time": "2024-03-06T23:21:30.757918300Z",
     "start_time": "2024-03-06T23:21:30.453982400Z"
    }
   },
   "outputs": [
    {
     "data": {
      "text/plain": "Step\n0.0    81\n1.0    15\n2.0     8\n3.0     1\nName: count, dtype: int64"
     },
     "execution_count": 86,
     "metadata": {},
     "output_type": "execute_result"
    }
   ],
   "source": [
    "sc_only['Step'].value_counts()"
   ]
  },
  {
   "cell_type": "markdown",
   "source": [
    "## UPDATE: Impute Behavioral-Only with 0s and Re-Add to Data"
   ],
   "metadata": {
    "collapsed": false
   },
   "id": "402ced5495c4c106"
  },
  {
   "cell_type": "markdown",
   "source": [
    "All behavioral only rows have been determined to be 0 steps. We will impute and add back to the ground truth."
   ],
   "metadata": {
    "collapsed": false
   },
   "id": "581b98bf50166242"
  },
  {
   "cell_type": "code",
   "execution_count": 87,
   "outputs": [
    {
     "data": {
      "text/plain": "         id  observation        date           date_time  \\\n376500  102            1  2019-07-24 2019-07-24 08:20:19   \n0       102            1  2019-07-24 2019-07-24 08:20:20   \n1       102            1  2019-07-24 2019-07-24 08:20:21   \n2       102            1  2019-07-24 2019-07-24 08:20:22   \n3       102            1  2019-07-24 2019-07-24 08:20:23   \n...     ...          ...         ...                 ...   \n414579  154            2  2020-02-23 2020-02-23 15:55:56   \n414580  154            2  2020-02-23 2020-02-23 15:55:57   \n414581  154            2  2020-02-23 2020-02-23 15:55:58   \n414582  154            2  2020-02-23 2020-02-23 15:55:59   \n414583  154            2  2020-02-23 2020-02-23 15:56:00   \n\n                                activity_type broad_activity_type  \\\n376500                           WRK- general      work_education   \n0                                WRK- general      work_education   \n1                                WRK- general      work_education   \n2                                WRK- general      work_education   \n3                                WRK- general      work_education   \n...                                       ...                 ...   \n414579  EDU- taking class, research, homework      work_education   \n414580  EDU- taking class, research, homework      work_education   \n414581  EDU- taking class, research, homework      work_education   \n414582  EDU- taking class, research, homework      work_education   \n414583  EDU- taking class, research, homework      work_education   \n\n                                work_type  posture  sedentary_not  \\\n376500  SP- Education and Health Services    stand  not_sedentary   \n0       SP- Education and Health Services    stand  not_sedentary   \n1       SP- Education and Health Services    stand  not_sedentary   \n2       SP- Education and Health Services    stand  not_sedentary   \n3       SP- Education and Health Services    stand  not_sedentary   \n...                                   ...      ...            ...   \n414579                               <NA>  sitting      sedentary   \n414580                               <NA>  sitting      sedentary   \n414581                               <NA>  sitting      sedentary   \n414582                               <NA>  sitting      sedentary   \n414583                               <NA>  sitting      sedentary   \n\n        walking_not activity_intensity  Step  inside_flag  \n376500  not_walking              light   0.0        False  \n0       not_walking              light   0.0         True  \n1       not_walking              light   0.0         True  \n2       not_walking              light   0.0         True  \n3       not_walking              light   0.0         True  \n...             ...                ...   ...          ...  \n414579  not_walking          sedentary   0.0        False  \n414580  not_walking          sedentary   0.0        False  \n414581  not_walking          sedentary   0.0        False  \n414582  not_walking          sedentary   0.0        False  \n414583  not_walking          sedentary   0.0        False  \n\n[414584 rows x 13 columns]",
      "text/html": "<div>\n<style scoped>\n    .dataframe tbody tr th:only-of-type {\n        vertical-align: middle;\n    }\n\n    .dataframe tbody tr th {\n        vertical-align: top;\n    }\n\n    .dataframe thead th {\n        text-align: right;\n    }\n</style>\n<table border=\"1\" class=\"dataframe\">\n  <thead>\n    <tr style=\"text-align: right;\">\n      <th></th>\n      <th>id</th>\n      <th>observation</th>\n      <th>date</th>\n      <th>date_time</th>\n      <th>activity_type</th>\n      <th>broad_activity_type</th>\n      <th>work_type</th>\n      <th>posture</th>\n      <th>sedentary_not</th>\n      <th>walking_not</th>\n      <th>activity_intensity</th>\n      <th>Step</th>\n      <th>inside_flag</th>\n    </tr>\n  </thead>\n  <tbody>\n    <tr>\n      <th>376500</th>\n      <td>102</td>\n      <td>1</td>\n      <td>2019-07-24</td>\n      <td>2019-07-24 08:20:19</td>\n      <td>WRK- general</td>\n      <td>work_education</td>\n      <td>SP- Education and Health Services</td>\n      <td>stand</td>\n      <td>not_sedentary</td>\n      <td>not_walking</td>\n      <td>light</td>\n      <td>0.0</td>\n      <td>False</td>\n    </tr>\n    <tr>\n      <th>0</th>\n      <td>102</td>\n      <td>1</td>\n      <td>2019-07-24</td>\n      <td>2019-07-24 08:20:20</td>\n      <td>WRK- general</td>\n      <td>work_education</td>\n      <td>SP- Education and Health Services</td>\n      <td>stand</td>\n      <td>not_sedentary</td>\n      <td>not_walking</td>\n      <td>light</td>\n      <td>0.0</td>\n      <td>True</td>\n    </tr>\n    <tr>\n      <th>1</th>\n      <td>102</td>\n      <td>1</td>\n      <td>2019-07-24</td>\n      <td>2019-07-24 08:20:21</td>\n      <td>WRK- general</td>\n      <td>work_education</td>\n      <td>SP- Education and Health Services</td>\n      <td>stand</td>\n      <td>not_sedentary</td>\n      <td>not_walking</td>\n      <td>light</td>\n      <td>0.0</td>\n      <td>True</td>\n    </tr>\n    <tr>\n      <th>2</th>\n      <td>102</td>\n      <td>1</td>\n      <td>2019-07-24</td>\n      <td>2019-07-24 08:20:22</td>\n      <td>WRK- general</td>\n      <td>work_education</td>\n      <td>SP- Education and Health Services</td>\n      <td>stand</td>\n      <td>not_sedentary</td>\n      <td>not_walking</td>\n      <td>light</td>\n      <td>0.0</td>\n      <td>True</td>\n    </tr>\n    <tr>\n      <th>3</th>\n      <td>102</td>\n      <td>1</td>\n      <td>2019-07-24</td>\n      <td>2019-07-24 08:20:23</td>\n      <td>WRK- general</td>\n      <td>work_education</td>\n      <td>SP- Education and Health Services</td>\n      <td>stand</td>\n      <td>not_sedentary</td>\n      <td>not_walking</td>\n      <td>light</td>\n      <td>0.0</td>\n      <td>True</td>\n    </tr>\n    <tr>\n      <th>...</th>\n      <td>...</td>\n      <td>...</td>\n      <td>...</td>\n      <td>...</td>\n      <td>...</td>\n      <td>...</td>\n      <td>...</td>\n      <td>...</td>\n      <td>...</td>\n      <td>...</td>\n      <td>...</td>\n      <td>...</td>\n      <td>...</td>\n    </tr>\n    <tr>\n      <th>414579</th>\n      <td>154</td>\n      <td>2</td>\n      <td>2020-02-23</td>\n      <td>2020-02-23 15:55:56</td>\n      <td>EDU- taking class, research, homework</td>\n      <td>work_education</td>\n      <td>&lt;NA&gt;</td>\n      <td>sitting</td>\n      <td>sedentary</td>\n      <td>not_walking</td>\n      <td>sedentary</td>\n      <td>0.0</td>\n      <td>False</td>\n    </tr>\n    <tr>\n      <th>414580</th>\n      <td>154</td>\n      <td>2</td>\n      <td>2020-02-23</td>\n      <td>2020-02-23 15:55:57</td>\n      <td>EDU- taking class, research, homework</td>\n      <td>work_education</td>\n      <td>&lt;NA&gt;</td>\n      <td>sitting</td>\n      <td>sedentary</td>\n      <td>not_walking</td>\n      <td>sedentary</td>\n      <td>0.0</td>\n      <td>False</td>\n    </tr>\n    <tr>\n      <th>414581</th>\n      <td>154</td>\n      <td>2</td>\n      <td>2020-02-23</td>\n      <td>2020-02-23 15:55:58</td>\n      <td>EDU- taking class, research, homework</td>\n      <td>work_education</td>\n      <td>&lt;NA&gt;</td>\n      <td>sitting</td>\n      <td>sedentary</td>\n      <td>not_walking</td>\n      <td>sedentary</td>\n      <td>0.0</td>\n      <td>False</td>\n    </tr>\n    <tr>\n      <th>414582</th>\n      <td>154</td>\n      <td>2</td>\n      <td>2020-02-23</td>\n      <td>2020-02-23 15:55:59</td>\n      <td>EDU- taking class, research, homework</td>\n      <td>work_education</td>\n      <td>&lt;NA&gt;</td>\n      <td>sitting</td>\n      <td>sedentary</td>\n      <td>not_walking</td>\n      <td>sedentary</td>\n      <td>0.0</td>\n      <td>False</td>\n    </tr>\n    <tr>\n      <th>414583</th>\n      <td>154</td>\n      <td>2</td>\n      <td>2020-02-23</td>\n      <td>2020-02-23 15:56:00</td>\n      <td>EDU- taking class, research, homework</td>\n      <td>work_education</td>\n      <td>&lt;NA&gt;</td>\n      <td>sitting</td>\n      <td>sedentary</td>\n      <td>not_walking</td>\n      <td>sedentary</td>\n      <td>0.0</td>\n      <td>False</td>\n    </tr>\n  </tbody>\n</table>\n<p>414584 rows × 13 columns</p>\n</div>"
     },
     "execution_count": 87,
     "metadata": {},
     "output_type": "execute_result"
    }
   ],
   "source": [
    "# Impute with 0s\n",
    "gt_only2 = gt_only.copy()\n",
    "gt_only2[\"Step\"] = 0\n",
    "\n",
    "# Add back to dataset\n",
    "merged_valid2 = pd.concat([merged_valid, gt_only2], ignore_index=True).sort_values([\"id\", \"observation\", \"date_time\"])\n",
    "merged_valid2"
   ],
   "metadata": {
    "collapsed": false,
    "ExecuteTime": {
     "end_time": "2024-03-06T23:21:31.202720500Z",
     "start_time": "2024-03-06T23:21:30.469137100Z"
    }
   },
   "id": "335fc6eb194df929"
  },
  {
   "cell_type": "markdown",
   "id": "3764bbc22d7be51a",
   "metadata": {},
   "source": [
    "## Analyze Missing IDs/Sessions from Steps Ground Truth"
   ]
  },
  {
   "cell_type": "markdown",
   "id": "a5e1083b516dad87",
   "metadata": {},
   "source": [
    "These rows correspond to coding ground truth ID/Sessions that are missing from the steps ground truth entirely."
   ]
  },
  {
   "cell_type": "code",
   "execution_count": 88,
   "id": "16aa5a85826b7c8a",
   "metadata": {
    "collapsed": false,
    "ExecuteTime": {
     "end_time": "2024-03-06T23:21:31.245325300Z",
     "start_time": "2024-03-06T23:21:30.783304200Z"
    }
   },
   "outputs": [
    {
     "data": {
      "text/plain": "     ID  Session\n10  126        1\n14  128        1\n27  134        2\n31  136        2\n33  138        2\n34  139        1\n35  139        2\n40  143        1\n46  154        1",
      "text/html": "<div>\n<style scoped>\n    .dataframe tbody tr th:only-of-type {\n        vertical-align: middle;\n    }\n\n    .dataframe tbody tr th {\n        vertical-align: top;\n    }\n\n    .dataframe thead th {\n        text-align: right;\n    }\n</style>\n<table border=\"1\" class=\"dataframe\">\n  <thead>\n    <tr style=\"text-align: right;\">\n      <th></th>\n      <th>ID</th>\n      <th>Session</th>\n    </tr>\n  </thead>\n  <tbody>\n    <tr>\n      <th>10</th>\n      <td>126</td>\n      <td>1</td>\n    </tr>\n    <tr>\n      <th>14</th>\n      <td>128</td>\n      <td>1</td>\n    </tr>\n    <tr>\n      <th>27</th>\n      <td>134</td>\n      <td>2</td>\n    </tr>\n    <tr>\n      <th>31</th>\n      <td>136</td>\n      <td>2</td>\n    </tr>\n    <tr>\n      <th>33</th>\n      <td>138</td>\n      <td>2</td>\n    </tr>\n    <tr>\n      <th>34</th>\n      <td>139</td>\n      <td>1</td>\n    </tr>\n    <tr>\n      <th>35</th>\n      <td>139</td>\n      <td>2</td>\n    </tr>\n    <tr>\n      <th>40</th>\n      <td>143</td>\n      <td>1</td>\n    </tr>\n    <tr>\n      <th>46</th>\n      <td>154</td>\n      <td>1</td>\n    </tr>\n  </tbody>\n</table>\n</div>"
     },
     "execution_count": 88,
     "metadata": {},
     "output_type": "execute_result"
    }
   ],
   "source": [
    "# List of id/session that were found in ground truth file but NOT seconds file\n",
    "id_session_na = start_end_info_3[[\"ID\", \"Session\"]][start_end_info_3[\"Start_secondsFile\"].isna()]\n",
    "id_session_na"
   ]
  },
  {
   "cell_type": "code",
   "execution_count": 89,
   "id": "a34dd6840c493d67",
   "metadata": {
    "collapsed": false,
    "ExecuteTime": {
     "end_time": "2024-03-06T23:21:31.634058Z",
     "start_time": "2024-03-06T23:21:30.794886800Z"
    }
   },
   "outputs": [
    {
     "data": {
      "text/plain": "        id  observation        date           date_time  \\\n0      126            1  2019-09-02 2019-09-02 11:14:51   \n1      126            1  2019-09-02 2019-09-02 11:14:52   \n2      126            1  2019-09-02 2019-09-02 11:14:53   \n3      126            1  2019-09-02 2019-09-02 11:14:54   \n4      126            1  2019-09-02 2019-09-02 11:14:55   \n...    ...          ...         ...                 ...   \n97230  154            1  2020-02-22 2020-02-22 16:06:55   \n97231  154            1  2020-02-22 2020-02-22 16:06:56   \n97232  154            1  2020-02-22 2020-02-22 16:06:57   \n97233  154            1  2020-02-22 2020-02-22 16:06:58   \n97234  154            1  2020-02-22 2020-02-22 16:06:59   \n\n                                           activity_type  \\\n0      LES- socializing, communicating, leisure time ...   \n1      LES- socializing, communicating, leisure time ...   \n2      LES- socializing, communicating, leisure time ...   \n3      LES- socializing, communicating, leisure time ...   \n4      LES- socializing, communicating, leisure time ...   \n...                                                  ...   \n97230                                      TRAV- walking   \n97231                                      TRAV- walking   \n97232                                      TRAV- walking   \n97233                                      TRAV- walking   \n97234                                      TRAV- walking   \n\n         broad_activity_type work_type  posture  sedentary_not  walking_not  \\\n0                    leisure      <NA>  sitting      sedentary  not_walking   \n1                    leisure      <NA>  sitting      sedentary  not_walking   \n2                    leisure      <NA>  sitting      sedentary  not_walking   \n3                    leisure      <NA>  sitting      sedentary  not_walking   \n4                    leisure      <NA>  sitting      sedentary  not_walking   \n...                      ...       ...      ...            ...          ...   \n97230  active_transportation      <NA>     walk  not_sedentary      walking   \n97231  active_transportation      <NA>     walk  not_sedentary      walking   \n97232  active_transportation      <NA>     walk  not_sedentary      walking   \n97233  active_transportation      <NA>     walk  not_sedentary      walking   \n97234  active_transportation      <NA>     walk  not_sedentary      walking   \n\n      activity_intensity  Step  inside_flag  \n0              sedentary   NaN         True  \n1              sedentary   NaN         True  \n2              sedentary   NaN         True  \n3              sedentary   NaN         True  \n4              sedentary   NaN         True  \n...                  ...   ...          ...  \n97230           moderate   NaN         True  \n97231           moderate   NaN         True  \n97232           moderate   NaN         True  \n97233           moderate   NaN         True  \n97234           moderate   NaN         True  \n\n[97235 rows x 13 columns]",
      "text/html": "<div>\n<style scoped>\n    .dataframe tbody tr th:only-of-type {\n        vertical-align: middle;\n    }\n\n    .dataframe tbody tr th {\n        vertical-align: top;\n    }\n\n    .dataframe thead th {\n        text-align: right;\n    }\n</style>\n<table border=\"1\" class=\"dataframe\">\n  <thead>\n    <tr style=\"text-align: right;\">\n      <th></th>\n      <th>id</th>\n      <th>observation</th>\n      <th>date</th>\n      <th>date_time</th>\n      <th>activity_type</th>\n      <th>broad_activity_type</th>\n      <th>work_type</th>\n      <th>posture</th>\n      <th>sedentary_not</th>\n      <th>walking_not</th>\n      <th>activity_intensity</th>\n      <th>Step</th>\n      <th>inside_flag</th>\n    </tr>\n  </thead>\n  <tbody>\n    <tr>\n      <th>0</th>\n      <td>126</td>\n      <td>1</td>\n      <td>2019-09-02</td>\n      <td>2019-09-02 11:14:51</td>\n      <td>LES- socializing, communicating, leisure time ...</td>\n      <td>leisure</td>\n      <td>&lt;NA&gt;</td>\n      <td>sitting</td>\n      <td>sedentary</td>\n      <td>not_walking</td>\n      <td>sedentary</td>\n      <td>NaN</td>\n      <td>True</td>\n    </tr>\n    <tr>\n      <th>1</th>\n      <td>126</td>\n      <td>1</td>\n      <td>2019-09-02</td>\n      <td>2019-09-02 11:14:52</td>\n      <td>LES- socializing, communicating, leisure time ...</td>\n      <td>leisure</td>\n      <td>&lt;NA&gt;</td>\n      <td>sitting</td>\n      <td>sedentary</td>\n      <td>not_walking</td>\n      <td>sedentary</td>\n      <td>NaN</td>\n      <td>True</td>\n    </tr>\n    <tr>\n      <th>2</th>\n      <td>126</td>\n      <td>1</td>\n      <td>2019-09-02</td>\n      <td>2019-09-02 11:14:53</td>\n      <td>LES- socializing, communicating, leisure time ...</td>\n      <td>leisure</td>\n      <td>&lt;NA&gt;</td>\n      <td>sitting</td>\n      <td>sedentary</td>\n      <td>not_walking</td>\n      <td>sedentary</td>\n      <td>NaN</td>\n      <td>True</td>\n    </tr>\n    <tr>\n      <th>3</th>\n      <td>126</td>\n      <td>1</td>\n      <td>2019-09-02</td>\n      <td>2019-09-02 11:14:54</td>\n      <td>LES- socializing, communicating, leisure time ...</td>\n      <td>leisure</td>\n      <td>&lt;NA&gt;</td>\n      <td>sitting</td>\n      <td>sedentary</td>\n      <td>not_walking</td>\n      <td>sedentary</td>\n      <td>NaN</td>\n      <td>True</td>\n    </tr>\n    <tr>\n      <th>4</th>\n      <td>126</td>\n      <td>1</td>\n      <td>2019-09-02</td>\n      <td>2019-09-02 11:14:55</td>\n      <td>LES- socializing, communicating, leisure time ...</td>\n      <td>leisure</td>\n      <td>&lt;NA&gt;</td>\n      <td>sitting</td>\n      <td>sedentary</td>\n      <td>not_walking</td>\n      <td>sedentary</td>\n      <td>NaN</td>\n      <td>True</td>\n    </tr>\n    <tr>\n      <th>...</th>\n      <td>...</td>\n      <td>...</td>\n      <td>...</td>\n      <td>...</td>\n      <td>...</td>\n      <td>...</td>\n      <td>...</td>\n      <td>...</td>\n      <td>...</td>\n      <td>...</td>\n      <td>...</td>\n      <td>...</td>\n      <td>...</td>\n    </tr>\n    <tr>\n      <th>97230</th>\n      <td>154</td>\n      <td>1</td>\n      <td>2020-02-22</td>\n      <td>2020-02-22 16:06:55</td>\n      <td>TRAV- walking</td>\n      <td>active_transportation</td>\n      <td>&lt;NA&gt;</td>\n      <td>walk</td>\n      <td>not_sedentary</td>\n      <td>walking</td>\n      <td>moderate</td>\n      <td>NaN</td>\n      <td>True</td>\n    </tr>\n    <tr>\n      <th>97231</th>\n      <td>154</td>\n      <td>1</td>\n      <td>2020-02-22</td>\n      <td>2020-02-22 16:06:56</td>\n      <td>TRAV- walking</td>\n      <td>active_transportation</td>\n      <td>&lt;NA&gt;</td>\n      <td>walk</td>\n      <td>not_sedentary</td>\n      <td>walking</td>\n      <td>moderate</td>\n      <td>NaN</td>\n      <td>True</td>\n    </tr>\n    <tr>\n      <th>97232</th>\n      <td>154</td>\n      <td>1</td>\n      <td>2020-02-22</td>\n      <td>2020-02-22 16:06:57</td>\n      <td>TRAV- walking</td>\n      <td>active_transportation</td>\n      <td>&lt;NA&gt;</td>\n      <td>walk</td>\n      <td>not_sedentary</td>\n      <td>walking</td>\n      <td>moderate</td>\n      <td>NaN</td>\n      <td>True</td>\n    </tr>\n    <tr>\n      <th>97233</th>\n      <td>154</td>\n      <td>1</td>\n      <td>2020-02-22</td>\n      <td>2020-02-22 16:06:58</td>\n      <td>TRAV- walking</td>\n      <td>active_transportation</td>\n      <td>&lt;NA&gt;</td>\n      <td>walk</td>\n      <td>not_sedentary</td>\n      <td>walking</td>\n      <td>moderate</td>\n      <td>NaN</td>\n      <td>True</td>\n    </tr>\n    <tr>\n      <th>97234</th>\n      <td>154</td>\n      <td>1</td>\n      <td>2020-02-22</td>\n      <td>2020-02-22 16:06:59</td>\n      <td>TRAV- walking</td>\n      <td>active_transportation</td>\n      <td>&lt;NA&gt;</td>\n      <td>walk</td>\n      <td>not_sedentary</td>\n      <td>walking</td>\n      <td>moderate</td>\n      <td>NaN</td>\n      <td>True</td>\n    </tr>\n  </tbody>\n</table>\n<p>97235 rows × 13 columns</p>\n</div>"
     },
     "execution_count": 89,
     "metadata": {},
     "output_type": "execute_result"
    }
   ],
   "source": [
    "merged_invalid_idsession = id_session_na.merge(right = merged, left_on = [\"ID\", \"Session\"], right_on = [\"id\", \"observation\"]).drop([\"ID\", \"Session\"], axis=1)\n",
    "merged_invalid_idsession"
   ]
  },
  {
   "cell_type": "markdown",
   "id": "3f7acea36c1b06b",
   "metadata": {},
   "source": [
    "## New Time Intervals"
   ]
  },
  {
   "cell_type": "code",
   "execution_count": 90,
   "id": "7752f7d2ed5ff35f",
   "metadata": {
    "collapsed": false,
    "ExecuteTime": {
     "end_time": "2024-03-06T23:21:33.810876100Z",
     "start_time": "2024-03-06T23:21:30.955220800Z"
    }
   },
   "outputs": [
    {
     "data": {
      "text/plain": "     ID  Session               Start                 End\n0   102        1 2019-07-24 08:20:19 2019-07-24 11:21:13\n1   102        2 2019-07-25 12:42:08 2019-07-25 15:42:00\n2   116        1 2019-08-20 08:08:45 2019-08-20 11:09:00\n3   116        2 2019-08-21 11:10:12 2019-08-21 13:28:00\n4   117        1 2019-08-20 15:17:46 2019-08-20 18:18:00\n5   117        2 2019-08-21 07:11:45 2019-08-21 10:13:00\n6   122        1 2019-08-28 10:06:41 2019-08-28 13:07:00\n7   122        2 2019-08-29 15:19:51 2019-08-29 18:23:00\n8   124        1 2019-08-28 14:59:09 2019-08-28 17:59:05\n9   124        2 2019-08-29 09:31:00 2019-08-29 12:31:00\n10  126        2 2019-09-06 10:36:00 2019-09-06 13:36:00\n11  127        1 2019-09-05 16:07:56 2019-09-05 19:08:00\n12  127        2 2019-09-09 10:56:04 2019-09-09 13:56:00\n13  128        2 2019-09-10 13:21:00 2019-09-10 16:17:00\n14  129        1 2019-09-07 08:55:00 2019-09-07 11:55:00\n15  129        2 2019-09-10 16:31:46 2019-09-10 19:32:00\n16  130        1 2019-09-08 17:28:00 2019-09-08 20:28:00\n17  130        2 2019-09-10 08:02:01 2019-09-10 11:02:00\n18  131        1 2019-09-12 10:57:42 2019-09-12 13:58:00\n19  131        2 2019-09-16 09:04:54 2019-09-16 11:55:00\n20  132        1 2019-10-04 13:31:18 2019-10-04 16:31:00\n21  132        2 2019-10-10 09:24:58 2019-10-10 12:07:00\n22  133        1 2019-10-10 14:31:56 2019-10-10 17:31:26\n23  133        2 2019-10-11 10:23:20 2019-10-11 13:23:00\n24  134        1 2019-10-09 12:57:15 2019-10-09 15:42:00\n25  135        1 2019-10-15 15:32:01 2019-10-15 18:32:00\n26  135        2 2019-10-19 12:49:51 2019-10-19 15:50:01\n27  136        1 2019-10-17 13:41:00 2019-10-17 16:41:00\n28  138        1 2019-11-01 16:11:00 2019-11-01 18:01:00\n29  140        1 2019-11-09 08:59:21 2019-11-09 11:59:00\n30  140        2 2019-11-09 13:04:00 2019-11-09 16:04:00\n31  141        1 2019-11-06 12:27:52 2019-11-06 15:29:00\n32  141        2 2019-11-10 10:01:00 2019-11-10 13:01:00\n33  143        2 2019-11-18 13:02:00 2019-11-18 16:02:00\n34  144        1 2019-11-22 12:38:00 2019-11-22 15:39:00\n35  144        2 2019-11-23 16:35:01 2019-11-23 19:35:00\n36  150        1 2020-01-19 09:29:05 2020-01-19 13:18:25\n37  150        2 2020-01-21 19:31:59 2020-01-21 22:32:00\n38  154        2 2020-02-23 13:04:09 2020-02-23 15:56:00",
      "text/html": "<div>\n<style scoped>\n    .dataframe tbody tr th:only-of-type {\n        vertical-align: middle;\n    }\n\n    .dataframe tbody tr th {\n        vertical-align: top;\n    }\n\n    .dataframe thead th {\n        text-align: right;\n    }\n</style>\n<table border=\"1\" class=\"dataframe\">\n  <thead>\n    <tr style=\"text-align: right;\">\n      <th></th>\n      <th>ID</th>\n      <th>Session</th>\n      <th>Start</th>\n      <th>End</th>\n    </tr>\n  </thead>\n  <tbody>\n    <tr>\n      <th>0</th>\n      <td>102</td>\n      <td>1</td>\n      <td>2019-07-24 08:20:19</td>\n      <td>2019-07-24 11:21:13</td>\n    </tr>\n    <tr>\n      <th>1</th>\n      <td>102</td>\n      <td>2</td>\n      <td>2019-07-25 12:42:08</td>\n      <td>2019-07-25 15:42:00</td>\n    </tr>\n    <tr>\n      <th>2</th>\n      <td>116</td>\n      <td>1</td>\n      <td>2019-08-20 08:08:45</td>\n      <td>2019-08-20 11:09:00</td>\n    </tr>\n    <tr>\n      <th>3</th>\n      <td>116</td>\n      <td>2</td>\n      <td>2019-08-21 11:10:12</td>\n      <td>2019-08-21 13:28:00</td>\n    </tr>\n    <tr>\n      <th>4</th>\n      <td>117</td>\n      <td>1</td>\n      <td>2019-08-20 15:17:46</td>\n      <td>2019-08-20 18:18:00</td>\n    </tr>\n    <tr>\n      <th>5</th>\n      <td>117</td>\n      <td>2</td>\n      <td>2019-08-21 07:11:45</td>\n      <td>2019-08-21 10:13:00</td>\n    </tr>\n    <tr>\n      <th>6</th>\n      <td>122</td>\n      <td>1</td>\n      <td>2019-08-28 10:06:41</td>\n      <td>2019-08-28 13:07:00</td>\n    </tr>\n    <tr>\n      <th>7</th>\n      <td>122</td>\n      <td>2</td>\n      <td>2019-08-29 15:19:51</td>\n      <td>2019-08-29 18:23:00</td>\n    </tr>\n    <tr>\n      <th>8</th>\n      <td>124</td>\n      <td>1</td>\n      <td>2019-08-28 14:59:09</td>\n      <td>2019-08-28 17:59:05</td>\n    </tr>\n    <tr>\n      <th>9</th>\n      <td>124</td>\n      <td>2</td>\n      <td>2019-08-29 09:31:00</td>\n      <td>2019-08-29 12:31:00</td>\n    </tr>\n    <tr>\n      <th>10</th>\n      <td>126</td>\n      <td>2</td>\n      <td>2019-09-06 10:36:00</td>\n      <td>2019-09-06 13:36:00</td>\n    </tr>\n    <tr>\n      <th>11</th>\n      <td>127</td>\n      <td>1</td>\n      <td>2019-09-05 16:07:56</td>\n      <td>2019-09-05 19:08:00</td>\n    </tr>\n    <tr>\n      <th>12</th>\n      <td>127</td>\n      <td>2</td>\n      <td>2019-09-09 10:56:04</td>\n      <td>2019-09-09 13:56:00</td>\n    </tr>\n    <tr>\n      <th>13</th>\n      <td>128</td>\n      <td>2</td>\n      <td>2019-09-10 13:21:00</td>\n      <td>2019-09-10 16:17:00</td>\n    </tr>\n    <tr>\n      <th>14</th>\n      <td>129</td>\n      <td>1</td>\n      <td>2019-09-07 08:55:00</td>\n      <td>2019-09-07 11:55:00</td>\n    </tr>\n    <tr>\n      <th>15</th>\n      <td>129</td>\n      <td>2</td>\n      <td>2019-09-10 16:31:46</td>\n      <td>2019-09-10 19:32:00</td>\n    </tr>\n    <tr>\n      <th>16</th>\n      <td>130</td>\n      <td>1</td>\n      <td>2019-09-08 17:28:00</td>\n      <td>2019-09-08 20:28:00</td>\n    </tr>\n    <tr>\n      <th>17</th>\n      <td>130</td>\n      <td>2</td>\n      <td>2019-09-10 08:02:01</td>\n      <td>2019-09-10 11:02:00</td>\n    </tr>\n    <tr>\n      <th>18</th>\n      <td>131</td>\n      <td>1</td>\n      <td>2019-09-12 10:57:42</td>\n      <td>2019-09-12 13:58:00</td>\n    </tr>\n    <tr>\n      <th>19</th>\n      <td>131</td>\n      <td>2</td>\n      <td>2019-09-16 09:04:54</td>\n      <td>2019-09-16 11:55:00</td>\n    </tr>\n    <tr>\n      <th>20</th>\n      <td>132</td>\n      <td>1</td>\n      <td>2019-10-04 13:31:18</td>\n      <td>2019-10-04 16:31:00</td>\n    </tr>\n    <tr>\n      <th>21</th>\n      <td>132</td>\n      <td>2</td>\n      <td>2019-10-10 09:24:58</td>\n      <td>2019-10-10 12:07:00</td>\n    </tr>\n    <tr>\n      <th>22</th>\n      <td>133</td>\n      <td>1</td>\n      <td>2019-10-10 14:31:56</td>\n      <td>2019-10-10 17:31:26</td>\n    </tr>\n    <tr>\n      <th>23</th>\n      <td>133</td>\n      <td>2</td>\n      <td>2019-10-11 10:23:20</td>\n      <td>2019-10-11 13:23:00</td>\n    </tr>\n    <tr>\n      <th>24</th>\n      <td>134</td>\n      <td>1</td>\n      <td>2019-10-09 12:57:15</td>\n      <td>2019-10-09 15:42:00</td>\n    </tr>\n    <tr>\n      <th>25</th>\n      <td>135</td>\n      <td>1</td>\n      <td>2019-10-15 15:32:01</td>\n      <td>2019-10-15 18:32:00</td>\n    </tr>\n    <tr>\n      <th>26</th>\n      <td>135</td>\n      <td>2</td>\n      <td>2019-10-19 12:49:51</td>\n      <td>2019-10-19 15:50:01</td>\n    </tr>\n    <tr>\n      <th>27</th>\n      <td>136</td>\n      <td>1</td>\n      <td>2019-10-17 13:41:00</td>\n      <td>2019-10-17 16:41:00</td>\n    </tr>\n    <tr>\n      <th>28</th>\n      <td>138</td>\n      <td>1</td>\n      <td>2019-11-01 16:11:00</td>\n      <td>2019-11-01 18:01:00</td>\n    </tr>\n    <tr>\n      <th>29</th>\n      <td>140</td>\n      <td>1</td>\n      <td>2019-11-09 08:59:21</td>\n      <td>2019-11-09 11:59:00</td>\n    </tr>\n    <tr>\n      <th>30</th>\n      <td>140</td>\n      <td>2</td>\n      <td>2019-11-09 13:04:00</td>\n      <td>2019-11-09 16:04:00</td>\n    </tr>\n    <tr>\n      <th>31</th>\n      <td>141</td>\n      <td>1</td>\n      <td>2019-11-06 12:27:52</td>\n      <td>2019-11-06 15:29:00</td>\n    </tr>\n    <tr>\n      <th>32</th>\n      <td>141</td>\n      <td>2</td>\n      <td>2019-11-10 10:01:00</td>\n      <td>2019-11-10 13:01:00</td>\n    </tr>\n    <tr>\n      <th>33</th>\n      <td>143</td>\n      <td>2</td>\n      <td>2019-11-18 13:02:00</td>\n      <td>2019-11-18 16:02:00</td>\n    </tr>\n    <tr>\n      <th>34</th>\n      <td>144</td>\n      <td>1</td>\n      <td>2019-11-22 12:38:00</td>\n      <td>2019-11-22 15:39:00</td>\n    </tr>\n    <tr>\n      <th>35</th>\n      <td>144</td>\n      <td>2</td>\n      <td>2019-11-23 16:35:01</td>\n      <td>2019-11-23 19:35:00</td>\n    </tr>\n    <tr>\n      <th>36</th>\n      <td>150</td>\n      <td>1</td>\n      <td>2020-01-19 09:29:05</td>\n      <td>2020-01-19 13:18:25</td>\n    </tr>\n    <tr>\n      <th>37</th>\n      <td>150</td>\n      <td>2</td>\n      <td>2020-01-21 19:31:59</td>\n      <td>2020-01-21 22:32:00</td>\n    </tr>\n    <tr>\n      <th>38</th>\n      <td>154</td>\n      <td>2</td>\n      <td>2020-02-23 13:04:09</td>\n      <td>2020-02-23 15:56:00</td>\n    </tr>\n  </tbody>\n</table>\n</div>"
     },
     "execution_count": 90,
     "metadata": {},
     "output_type": "execute_result"
    }
   ],
   "source": [
    "final_start_end = start_time_dataframe(merged_valid2)\n",
    "final_start_end"
   ]
  },
  {
   "cell_type": "markdown",
   "id": "f7e6b7456adeba7c",
   "metadata": {},
   "source": [
    "Compare to log:"
   ]
  },
  {
   "cell_type": "code",
   "execution_count": 91,
   "id": "d8f90a1e09a51de2",
   "metadata": {
    "collapsed": false,
    "ExecuteTime": {
     "end_time": "2024-03-06T23:21:33.875197800Z",
     "start_time": "2024-03-06T23:21:33.792556600Z"
    }
   },
   "outputs": [
    {
     "data": {
      "text/plain": "     ID  Session               Start                 End\n0   102        1 2019-07-24 08:20:19 2019-07-24 11:21:13\n1   102        2 2019-07-25 12:42:08 2019-07-25 15:42:00\n2   116        1 2019-08-20 08:08:45 2019-08-20 11:09:00\n3   116        2 2019-08-21 11:09:47 2019-08-21 13:28:00\n4   117        1 2019-08-20 15:17:46 2019-08-20 18:18:00\n5   117        2 2019-08-21 07:11:45 2019-08-21 10:13:00\n6   122        1 2019-08-28 10:06:41 2019-08-28 13:07:00\n7   122        2 2019-08-29 15:19:51 2019-08-29 18:23:00\n8   124        1 2019-08-28 14:59:09 2019-08-28 17:59:05\n9   124        2 2019-08-29 09:31:00 2019-08-29 12:31:00\n10  126        1 2019-09-02 11:14:51 2019-09-02 14:15:00\n11  126        2 2019-09-06 10:36:00 2019-09-06 13:36:00\n12  127        1 2019-09-05 16:07:56 2019-09-05 19:08:00\n13  127        2 2019-09-09 10:56:00 2019-09-09 13:56:00\n14  128        1 2019-09-06 07:00:01 2019-09-06 10:00:00\n15  128        2 2019-09-10 13:21:00 2019-09-10 16:17:00\n16  129        1 2019-09-07 08:55:00 2019-09-07 11:55:00\n17  129        2 2019-09-10 16:31:46 2019-09-10 19:32:00\n18  130        1 2019-09-08 17:28:00 2019-09-08 20:28:00\n19  130        2 2019-09-10 08:02:01 2019-09-10 11:02:00\n20  131        1 2019-09-12 10:57:42 2019-09-12 13:58:00\n21  131        2 2019-09-16 09:04:54 2019-09-16 11:55:00\n22  132        1 2019-10-04 13:31:18 2019-10-04 16:31:00\n23  132        2 2019-10-10 09:24:44 2019-10-10 12:07:00\n24  133        1 2019-10-10 14:31:56 2019-10-10 17:31:26\n25  133        2 2019-10-11 10:23:20 2019-10-11 13:23:00\n26  134        1 2019-10-09 12:57:15 2019-10-09 15:42:00\n27  134        2 2019-10-13 12:56:53 2019-10-13 15:57:00\n28  135        1 2019-10-15 15:32:01 2019-10-15 18:32:00\n29  135        2 2019-10-19 12:49:51 2019-10-19 15:50:01\n30  136        1 2019-10-17 13:41:00 2019-10-17 16:41:00\n31  136        2 2019-10-19 09:00:51 2019-10-19 12:01:00\n32  138        1 2019-11-01 16:11:00 2019-11-01 18:01:00\n33  138        2 2019-11-02 09:23:00 2019-11-02 12:24:00\n34  139        1 2019-11-03 14:19:51 2019-11-03 17:20:00\n35  139        2 2019-11-05 15:04:47 2019-11-05 18:05:00\n36  140        1 2019-11-09 08:59:21 2019-11-09 11:59:00\n37  140        2 2019-11-09 13:04:00 2019-11-09 16:04:00\n38  141        1 2019-11-06 12:27:52 2019-11-06 15:29:00\n39  141        2 2019-11-10 10:01:00 2019-11-10 13:01:00\n40  143        1 2019-11-16 10:07:00 2019-11-16 13:07:00\n41  143        2 2019-11-18 13:02:00 2019-11-18 16:02:00\n42  144        1 2019-11-22 12:38:00 2019-11-22 15:39:00\n43  144        2 2019-11-23 16:35:01 2019-11-23 19:35:00\n44  150        1 2020-01-19 09:29:05 2020-01-19 13:18:25\n45  150        2 2020-01-21 19:31:52 2020-01-21 22:32:00\n46  154        1 2020-02-22 13:07:59 2020-02-22 16:06:59\n47  154        2 2020-02-23 13:04:09 2020-02-23 15:56:00",
      "text/html": "<div>\n<style scoped>\n    .dataframe tbody tr th:only-of-type {\n        vertical-align: middle;\n    }\n\n    .dataframe tbody tr th {\n        vertical-align: top;\n    }\n\n    .dataframe thead th {\n        text-align: right;\n    }\n</style>\n<table border=\"1\" class=\"dataframe\">\n  <thead>\n    <tr style=\"text-align: right;\">\n      <th></th>\n      <th>ID</th>\n      <th>Session</th>\n      <th>Start</th>\n      <th>End</th>\n    </tr>\n  </thead>\n  <tbody>\n    <tr>\n      <th>0</th>\n      <td>102</td>\n      <td>1</td>\n      <td>2019-07-24 08:20:19</td>\n      <td>2019-07-24 11:21:13</td>\n    </tr>\n    <tr>\n      <th>1</th>\n      <td>102</td>\n      <td>2</td>\n      <td>2019-07-25 12:42:08</td>\n      <td>2019-07-25 15:42:00</td>\n    </tr>\n    <tr>\n      <th>2</th>\n      <td>116</td>\n      <td>1</td>\n      <td>2019-08-20 08:08:45</td>\n      <td>2019-08-20 11:09:00</td>\n    </tr>\n    <tr>\n      <th>3</th>\n      <td>116</td>\n      <td>2</td>\n      <td>2019-08-21 11:09:47</td>\n      <td>2019-08-21 13:28:00</td>\n    </tr>\n    <tr>\n      <th>4</th>\n      <td>117</td>\n      <td>1</td>\n      <td>2019-08-20 15:17:46</td>\n      <td>2019-08-20 18:18:00</td>\n    </tr>\n    <tr>\n      <th>5</th>\n      <td>117</td>\n      <td>2</td>\n      <td>2019-08-21 07:11:45</td>\n      <td>2019-08-21 10:13:00</td>\n    </tr>\n    <tr>\n      <th>6</th>\n      <td>122</td>\n      <td>1</td>\n      <td>2019-08-28 10:06:41</td>\n      <td>2019-08-28 13:07:00</td>\n    </tr>\n    <tr>\n      <th>7</th>\n      <td>122</td>\n      <td>2</td>\n      <td>2019-08-29 15:19:51</td>\n      <td>2019-08-29 18:23:00</td>\n    </tr>\n    <tr>\n      <th>8</th>\n      <td>124</td>\n      <td>1</td>\n      <td>2019-08-28 14:59:09</td>\n      <td>2019-08-28 17:59:05</td>\n    </tr>\n    <tr>\n      <th>9</th>\n      <td>124</td>\n      <td>2</td>\n      <td>2019-08-29 09:31:00</td>\n      <td>2019-08-29 12:31:00</td>\n    </tr>\n    <tr>\n      <th>10</th>\n      <td>126</td>\n      <td>1</td>\n      <td>2019-09-02 11:14:51</td>\n      <td>2019-09-02 14:15:00</td>\n    </tr>\n    <tr>\n      <th>11</th>\n      <td>126</td>\n      <td>2</td>\n      <td>2019-09-06 10:36:00</td>\n      <td>2019-09-06 13:36:00</td>\n    </tr>\n    <tr>\n      <th>12</th>\n      <td>127</td>\n      <td>1</td>\n      <td>2019-09-05 16:07:56</td>\n      <td>2019-09-05 19:08:00</td>\n    </tr>\n    <tr>\n      <th>13</th>\n      <td>127</td>\n      <td>2</td>\n      <td>2019-09-09 10:56:00</td>\n      <td>2019-09-09 13:56:00</td>\n    </tr>\n    <tr>\n      <th>14</th>\n      <td>128</td>\n      <td>1</td>\n      <td>2019-09-06 07:00:01</td>\n      <td>2019-09-06 10:00:00</td>\n    </tr>\n    <tr>\n      <th>15</th>\n      <td>128</td>\n      <td>2</td>\n      <td>2019-09-10 13:21:00</td>\n      <td>2019-09-10 16:17:00</td>\n    </tr>\n    <tr>\n      <th>16</th>\n      <td>129</td>\n      <td>1</td>\n      <td>2019-09-07 08:55:00</td>\n      <td>2019-09-07 11:55:00</td>\n    </tr>\n    <tr>\n      <th>17</th>\n      <td>129</td>\n      <td>2</td>\n      <td>2019-09-10 16:31:46</td>\n      <td>2019-09-10 19:32:00</td>\n    </tr>\n    <tr>\n      <th>18</th>\n      <td>130</td>\n      <td>1</td>\n      <td>2019-09-08 17:28:00</td>\n      <td>2019-09-08 20:28:00</td>\n    </tr>\n    <tr>\n      <th>19</th>\n      <td>130</td>\n      <td>2</td>\n      <td>2019-09-10 08:02:01</td>\n      <td>2019-09-10 11:02:00</td>\n    </tr>\n    <tr>\n      <th>20</th>\n      <td>131</td>\n      <td>1</td>\n      <td>2019-09-12 10:57:42</td>\n      <td>2019-09-12 13:58:00</td>\n    </tr>\n    <tr>\n      <th>21</th>\n      <td>131</td>\n      <td>2</td>\n      <td>2019-09-16 09:04:54</td>\n      <td>2019-09-16 11:55:00</td>\n    </tr>\n    <tr>\n      <th>22</th>\n      <td>132</td>\n      <td>1</td>\n      <td>2019-10-04 13:31:18</td>\n      <td>2019-10-04 16:31:00</td>\n    </tr>\n    <tr>\n      <th>23</th>\n      <td>132</td>\n      <td>2</td>\n      <td>2019-10-10 09:24:44</td>\n      <td>2019-10-10 12:07:00</td>\n    </tr>\n    <tr>\n      <th>24</th>\n      <td>133</td>\n      <td>1</td>\n      <td>2019-10-10 14:31:56</td>\n      <td>2019-10-10 17:31:26</td>\n    </tr>\n    <tr>\n      <th>25</th>\n      <td>133</td>\n      <td>2</td>\n      <td>2019-10-11 10:23:20</td>\n      <td>2019-10-11 13:23:00</td>\n    </tr>\n    <tr>\n      <th>26</th>\n      <td>134</td>\n      <td>1</td>\n      <td>2019-10-09 12:57:15</td>\n      <td>2019-10-09 15:42:00</td>\n    </tr>\n    <tr>\n      <th>27</th>\n      <td>134</td>\n      <td>2</td>\n      <td>2019-10-13 12:56:53</td>\n      <td>2019-10-13 15:57:00</td>\n    </tr>\n    <tr>\n      <th>28</th>\n      <td>135</td>\n      <td>1</td>\n      <td>2019-10-15 15:32:01</td>\n      <td>2019-10-15 18:32:00</td>\n    </tr>\n    <tr>\n      <th>29</th>\n      <td>135</td>\n      <td>2</td>\n      <td>2019-10-19 12:49:51</td>\n      <td>2019-10-19 15:50:01</td>\n    </tr>\n    <tr>\n      <th>30</th>\n      <td>136</td>\n      <td>1</td>\n      <td>2019-10-17 13:41:00</td>\n      <td>2019-10-17 16:41:00</td>\n    </tr>\n    <tr>\n      <th>31</th>\n      <td>136</td>\n      <td>2</td>\n      <td>2019-10-19 09:00:51</td>\n      <td>2019-10-19 12:01:00</td>\n    </tr>\n    <tr>\n      <th>32</th>\n      <td>138</td>\n      <td>1</td>\n      <td>2019-11-01 16:11:00</td>\n      <td>2019-11-01 18:01:00</td>\n    </tr>\n    <tr>\n      <th>33</th>\n      <td>138</td>\n      <td>2</td>\n      <td>2019-11-02 09:23:00</td>\n      <td>2019-11-02 12:24:00</td>\n    </tr>\n    <tr>\n      <th>34</th>\n      <td>139</td>\n      <td>1</td>\n      <td>2019-11-03 14:19:51</td>\n      <td>2019-11-03 17:20:00</td>\n    </tr>\n    <tr>\n      <th>35</th>\n      <td>139</td>\n      <td>2</td>\n      <td>2019-11-05 15:04:47</td>\n      <td>2019-11-05 18:05:00</td>\n    </tr>\n    <tr>\n      <th>36</th>\n      <td>140</td>\n      <td>1</td>\n      <td>2019-11-09 08:59:21</td>\n      <td>2019-11-09 11:59:00</td>\n    </tr>\n    <tr>\n      <th>37</th>\n      <td>140</td>\n      <td>2</td>\n      <td>2019-11-09 13:04:00</td>\n      <td>2019-11-09 16:04:00</td>\n    </tr>\n    <tr>\n      <th>38</th>\n      <td>141</td>\n      <td>1</td>\n      <td>2019-11-06 12:27:52</td>\n      <td>2019-11-06 15:29:00</td>\n    </tr>\n    <tr>\n      <th>39</th>\n      <td>141</td>\n      <td>2</td>\n      <td>2019-11-10 10:01:00</td>\n      <td>2019-11-10 13:01:00</td>\n    </tr>\n    <tr>\n      <th>40</th>\n      <td>143</td>\n      <td>1</td>\n      <td>2019-11-16 10:07:00</td>\n      <td>2019-11-16 13:07:00</td>\n    </tr>\n    <tr>\n      <th>41</th>\n      <td>143</td>\n      <td>2</td>\n      <td>2019-11-18 13:02:00</td>\n      <td>2019-11-18 16:02:00</td>\n    </tr>\n    <tr>\n      <th>42</th>\n      <td>144</td>\n      <td>1</td>\n      <td>2019-11-22 12:38:00</td>\n      <td>2019-11-22 15:39:00</td>\n    </tr>\n    <tr>\n      <th>43</th>\n      <td>144</td>\n      <td>2</td>\n      <td>2019-11-23 16:35:01</td>\n      <td>2019-11-23 19:35:00</td>\n    </tr>\n    <tr>\n      <th>44</th>\n      <td>150</td>\n      <td>1</td>\n      <td>2020-01-19 09:29:05</td>\n      <td>2020-01-19 13:18:25</td>\n    </tr>\n    <tr>\n      <th>45</th>\n      <td>150</td>\n      <td>2</td>\n      <td>2020-01-21 19:31:52</td>\n      <td>2020-01-21 22:32:00</td>\n    </tr>\n    <tr>\n      <th>46</th>\n      <td>154</td>\n      <td>1</td>\n      <td>2020-02-22 13:07:59</td>\n      <td>2020-02-22 16:06:59</td>\n    </tr>\n    <tr>\n      <th>47</th>\n      <td>154</td>\n      <td>2</td>\n      <td>2020-02-23 13:04:09</td>\n      <td>2020-02-23 15:56:00</td>\n    </tr>\n  </tbody>\n</table>\n</div>"
     },
     "execution_count": 91,
     "metadata": {},
     "output_type": "execute_result"
    }
   ],
   "source": [
    "log = pd.read_csv(\"do_log_final.csv\")\n",
    "log[\"Start\"] = pd.to_datetime(log[\"start_month\"].astype(str) + \"/\" +\n",
    "                              log[\"start_day\"].astype(str) + \"/\" +\n",
    "                              log[\"start_year\"].astype(str) + \"/\" + ' ' +\n",
    "                              log[\"start_time\"])\n",
    "log[\"End\"] = pd.to_datetime(log[\"start_month\"].astype(str) + \"/\" +\n",
    "                              log[\"start_day\"].astype(str) + \"/\" +\n",
    "                              log[\"start_year\"].astype(str) + \"/\" + ' ' +\n",
    "                              log[\"stop_time\"])\n",
    "log = log[['id', 'do', 'Start', 'End']].rename(columns = {\"do\": \"Session\", \"id\": \"ID\"})\n",
    "log"
   ]
  },
  {
   "cell_type": "code",
   "execution_count": 92,
   "id": "de5d4ce02d5968cc",
   "metadata": {
    "collapsed": false,
    "ExecuteTime": {
     "end_time": "2024-03-06T23:21:33.915049400Z",
     "start_time": "2024-03-06T23:21:33.825533500Z"
    }
   },
   "outputs": [
    {
     "data": {
      "text/plain": "     ID  Session         Start_final           End_final           Start_log  \\\n0   102        1 2019-07-24 08:20:19 2019-07-24 11:21:13 2019-07-24 08:20:19   \n1   102        2 2019-07-25 12:42:08 2019-07-25 15:42:00 2019-07-25 12:42:08   \n2   116        1 2019-08-20 08:08:45 2019-08-20 11:09:00 2019-08-20 08:08:45   \n3   116        2 2019-08-21 11:10:12 2019-08-21 13:28:00 2019-08-21 11:09:47   \n4   117        1 2019-08-20 15:17:46 2019-08-20 18:18:00 2019-08-20 15:17:46   \n5   117        2 2019-08-21 07:11:45 2019-08-21 10:13:00 2019-08-21 07:11:45   \n6   122        1 2019-08-28 10:06:41 2019-08-28 13:07:00 2019-08-28 10:06:41   \n7   122        2 2019-08-29 15:19:51 2019-08-29 18:23:00 2019-08-29 15:19:51   \n8   124        1 2019-08-28 14:59:09 2019-08-28 17:59:05 2019-08-28 14:59:09   \n9   124        2 2019-08-29 09:31:00 2019-08-29 12:31:00 2019-08-29 09:31:00   \n10  126        1                 NaT                 NaT 2019-09-02 11:14:51   \n11  126        2 2019-09-06 10:36:00 2019-09-06 13:36:00 2019-09-06 10:36:00   \n12  127        1 2019-09-05 16:07:56 2019-09-05 19:08:00 2019-09-05 16:07:56   \n13  127        2 2019-09-09 10:56:04 2019-09-09 13:56:00 2019-09-09 10:56:00   \n14  128        1                 NaT                 NaT 2019-09-06 07:00:01   \n15  128        2 2019-09-10 13:21:00 2019-09-10 16:17:00 2019-09-10 13:21:00   \n16  129        1 2019-09-07 08:55:00 2019-09-07 11:55:00 2019-09-07 08:55:00   \n17  129        2 2019-09-10 16:31:46 2019-09-10 19:32:00 2019-09-10 16:31:46   \n18  130        1 2019-09-08 17:28:00 2019-09-08 20:28:00 2019-09-08 17:28:00   \n19  130        2 2019-09-10 08:02:01 2019-09-10 11:02:00 2019-09-10 08:02:01   \n20  131        1 2019-09-12 10:57:42 2019-09-12 13:58:00 2019-09-12 10:57:42   \n21  131        2 2019-09-16 09:04:54 2019-09-16 11:55:00 2019-09-16 09:04:54   \n22  132        1 2019-10-04 13:31:18 2019-10-04 16:31:00 2019-10-04 13:31:18   \n23  132        2 2019-10-10 09:24:58 2019-10-10 12:07:00 2019-10-10 09:24:44   \n24  133        1 2019-10-10 14:31:56 2019-10-10 17:31:26 2019-10-10 14:31:56   \n25  133        2 2019-10-11 10:23:20 2019-10-11 13:23:00 2019-10-11 10:23:20   \n26  134        1 2019-10-09 12:57:15 2019-10-09 15:42:00 2019-10-09 12:57:15   \n27  134        2                 NaT                 NaT 2019-10-13 12:56:53   \n28  135        1 2019-10-15 15:32:01 2019-10-15 18:32:00 2019-10-15 15:32:01   \n29  135        2 2019-10-19 12:49:51 2019-10-19 15:50:01 2019-10-19 12:49:51   \n30  136        1 2019-10-17 13:41:00 2019-10-17 16:41:00 2019-10-17 13:41:00   \n31  136        2                 NaT                 NaT 2019-10-19 09:00:51   \n32  138        1 2019-11-01 16:11:00 2019-11-01 18:01:00 2019-11-01 16:11:00   \n33  138        2                 NaT                 NaT 2019-11-02 09:23:00   \n34  139        1                 NaT                 NaT 2019-11-03 14:19:51   \n35  139        2                 NaT                 NaT 2019-11-05 15:04:47   \n36  140        1 2019-11-09 08:59:21 2019-11-09 11:59:00 2019-11-09 08:59:21   \n37  140        2 2019-11-09 13:04:00 2019-11-09 16:04:00 2019-11-09 13:04:00   \n38  141        1 2019-11-06 12:27:52 2019-11-06 15:29:00 2019-11-06 12:27:52   \n39  141        2 2019-11-10 10:01:00 2019-11-10 13:01:00 2019-11-10 10:01:00   \n40  143        1                 NaT                 NaT 2019-11-16 10:07:00   \n41  143        2 2019-11-18 13:02:00 2019-11-18 16:02:00 2019-11-18 13:02:00   \n42  144        1 2019-11-22 12:38:00 2019-11-22 15:39:00 2019-11-22 12:38:00   \n43  144        2 2019-11-23 16:35:01 2019-11-23 19:35:00 2019-11-23 16:35:01   \n44  150        1 2020-01-19 09:29:05 2020-01-19 13:18:25 2020-01-19 09:29:05   \n45  150        2 2020-01-21 19:31:59 2020-01-21 22:32:00 2020-01-21 19:31:52   \n46  154        1                 NaT                 NaT 2020-02-22 13:07:59   \n47  154        2 2020-02-23 13:04:09 2020-02-23 15:56:00 2020-02-23 13:04:09   \n\n               End_log  Start_diff  End_diff  \n0  2019-07-24 11:21:13         0.0       0.0  \n1  2019-07-25 15:42:00         0.0       0.0  \n2  2019-08-20 11:09:00         0.0       0.0  \n3  2019-08-21 13:28:00        25.0       0.0  \n4  2019-08-20 18:18:00         0.0       0.0  \n5  2019-08-21 10:13:00         0.0       0.0  \n6  2019-08-28 13:07:00         0.0       0.0  \n7  2019-08-29 18:23:00         0.0       0.0  \n8  2019-08-28 17:59:05         0.0       0.0  \n9  2019-08-29 12:31:00         0.0       0.0  \n10 2019-09-02 14:15:00         NaN       NaN  \n11 2019-09-06 13:36:00         0.0       0.0  \n12 2019-09-05 19:08:00         0.0       0.0  \n13 2019-09-09 13:56:00         4.0       0.0  \n14 2019-09-06 10:00:00         NaN       NaN  \n15 2019-09-10 16:17:00         0.0       0.0  \n16 2019-09-07 11:55:00         0.0       0.0  \n17 2019-09-10 19:32:00         0.0       0.0  \n18 2019-09-08 20:28:00         0.0       0.0  \n19 2019-09-10 11:02:00         0.0       0.0  \n20 2019-09-12 13:58:00         0.0       0.0  \n21 2019-09-16 11:55:00         0.0       0.0  \n22 2019-10-04 16:31:00         0.0       0.0  \n23 2019-10-10 12:07:00        14.0       0.0  \n24 2019-10-10 17:31:26         0.0       0.0  \n25 2019-10-11 13:23:00         0.0       0.0  \n26 2019-10-09 15:42:00         0.0       0.0  \n27 2019-10-13 15:57:00         NaN       NaN  \n28 2019-10-15 18:32:00         0.0       0.0  \n29 2019-10-19 15:50:01         0.0       0.0  \n30 2019-10-17 16:41:00         0.0       0.0  \n31 2019-10-19 12:01:00         NaN       NaN  \n32 2019-11-01 18:01:00         0.0       0.0  \n33 2019-11-02 12:24:00         NaN       NaN  \n34 2019-11-03 17:20:00         NaN       NaN  \n35 2019-11-05 18:05:00         NaN       NaN  \n36 2019-11-09 11:59:00         0.0       0.0  \n37 2019-11-09 16:04:00         0.0       0.0  \n38 2019-11-06 15:29:00         0.0       0.0  \n39 2019-11-10 13:01:00         0.0       0.0  \n40 2019-11-16 13:07:00         NaN       NaN  \n41 2019-11-18 16:02:00         0.0       0.0  \n42 2019-11-22 15:39:00         0.0       0.0  \n43 2019-11-23 19:35:00         0.0       0.0  \n44 2020-01-19 13:18:25         0.0       0.0  \n45 2020-01-21 22:32:00         7.0       0.0  \n46 2020-02-22 16:06:59         NaN       NaN  \n47 2020-02-23 15:56:00         0.0       0.0  ",
      "text/html": "<div>\n<style scoped>\n    .dataframe tbody tr th:only-of-type {\n        vertical-align: middle;\n    }\n\n    .dataframe tbody tr th {\n        vertical-align: top;\n    }\n\n    .dataframe thead th {\n        text-align: right;\n    }\n</style>\n<table border=\"1\" class=\"dataframe\">\n  <thead>\n    <tr style=\"text-align: right;\">\n      <th></th>\n      <th>ID</th>\n      <th>Session</th>\n      <th>Start_final</th>\n      <th>End_final</th>\n      <th>Start_log</th>\n      <th>End_log</th>\n      <th>Start_diff</th>\n      <th>End_diff</th>\n    </tr>\n  </thead>\n  <tbody>\n    <tr>\n      <th>0</th>\n      <td>102</td>\n      <td>1</td>\n      <td>2019-07-24 08:20:19</td>\n      <td>2019-07-24 11:21:13</td>\n      <td>2019-07-24 08:20:19</td>\n      <td>2019-07-24 11:21:13</td>\n      <td>0.0</td>\n      <td>0.0</td>\n    </tr>\n    <tr>\n      <th>1</th>\n      <td>102</td>\n      <td>2</td>\n      <td>2019-07-25 12:42:08</td>\n      <td>2019-07-25 15:42:00</td>\n      <td>2019-07-25 12:42:08</td>\n      <td>2019-07-25 15:42:00</td>\n      <td>0.0</td>\n      <td>0.0</td>\n    </tr>\n    <tr>\n      <th>2</th>\n      <td>116</td>\n      <td>1</td>\n      <td>2019-08-20 08:08:45</td>\n      <td>2019-08-20 11:09:00</td>\n      <td>2019-08-20 08:08:45</td>\n      <td>2019-08-20 11:09:00</td>\n      <td>0.0</td>\n      <td>0.0</td>\n    </tr>\n    <tr>\n      <th>3</th>\n      <td>116</td>\n      <td>2</td>\n      <td>2019-08-21 11:10:12</td>\n      <td>2019-08-21 13:28:00</td>\n      <td>2019-08-21 11:09:47</td>\n      <td>2019-08-21 13:28:00</td>\n      <td>25.0</td>\n      <td>0.0</td>\n    </tr>\n    <tr>\n      <th>4</th>\n      <td>117</td>\n      <td>1</td>\n      <td>2019-08-20 15:17:46</td>\n      <td>2019-08-20 18:18:00</td>\n      <td>2019-08-20 15:17:46</td>\n      <td>2019-08-20 18:18:00</td>\n      <td>0.0</td>\n      <td>0.0</td>\n    </tr>\n    <tr>\n      <th>5</th>\n      <td>117</td>\n      <td>2</td>\n      <td>2019-08-21 07:11:45</td>\n      <td>2019-08-21 10:13:00</td>\n      <td>2019-08-21 07:11:45</td>\n      <td>2019-08-21 10:13:00</td>\n      <td>0.0</td>\n      <td>0.0</td>\n    </tr>\n    <tr>\n      <th>6</th>\n      <td>122</td>\n      <td>1</td>\n      <td>2019-08-28 10:06:41</td>\n      <td>2019-08-28 13:07:00</td>\n      <td>2019-08-28 10:06:41</td>\n      <td>2019-08-28 13:07:00</td>\n      <td>0.0</td>\n      <td>0.0</td>\n    </tr>\n    <tr>\n      <th>7</th>\n      <td>122</td>\n      <td>2</td>\n      <td>2019-08-29 15:19:51</td>\n      <td>2019-08-29 18:23:00</td>\n      <td>2019-08-29 15:19:51</td>\n      <td>2019-08-29 18:23:00</td>\n      <td>0.0</td>\n      <td>0.0</td>\n    </tr>\n    <tr>\n      <th>8</th>\n      <td>124</td>\n      <td>1</td>\n      <td>2019-08-28 14:59:09</td>\n      <td>2019-08-28 17:59:05</td>\n      <td>2019-08-28 14:59:09</td>\n      <td>2019-08-28 17:59:05</td>\n      <td>0.0</td>\n      <td>0.0</td>\n    </tr>\n    <tr>\n      <th>9</th>\n      <td>124</td>\n      <td>2</td>\n      <td>2019-08-29 09:31:00</td>\n      <td>2019-08-29 12:31:00</td>\n      <td>2019-08-29 09:31:00</td>\n      <td>2019-08-29 12:31:00</td>\n      <td>0.0</td>\n      <td>0.0</td>\n    </tr>\n    <tr>\n      <th>10</th>\n      <td>126</td>\n      <td>1</td>\n      <td>NaT</td>\n      <td>NaT</td>\n      <td>2019-09-02 11:14:51</td>\n      <td>2019-09-02 14:15:00</td>\n      <td>NaN</td>\n      <td>NaN</td>\n    </tr>\n    <tr>\n      <th>11</th>\n      <td>126</td>\n      <td>2</td>\n      <td>2019-09-06 10:36:00</td>\n      <td>2019-09-06 13:36:00</td>\n      <td>2019-09-06 10:36:00</td>\n      <td>2019-09-06 13:36:00</td>\n      <td>0.0</td>\n      <td>0.0</td>\n    </tr>\n    <tr>\n      <th>12</th>\n      <td>127</td>\n      <td>1</td>\n      <td>2019-09-05 16:07:56</td>\n      <td>2019-09-05 19:08:00</td>\n      <td>2019-09-05 16:07:56</td>\n      <td>2019-09-05 19:08:00</td>\n      <td>0.0</td>\n      <td>0.0</td>\n    </tr>\n    <tr>\n      <th>13</th>\n      <td>127</td>\n      <td>2</td>\n      <td>2019-09-09 10:56:04</td>\n      <td>2019-09-09 13:56:00</td>\n      <td>2019-09-09 10:56:00</td>\n      <td>2019-09-09 13:56:00</td>\n      <td>4.0</td>\n      <td>0.0</td>\n    </tr>\n    <tr>\n      <th>14</th>\n      <td>128</td>\n      <td>1</td>\n      <td>NaT</td>\n      <td>NaT</td>\n      <td>2019-09-06 07:00:01</td>\n      <td>2019-09-06 10:00:00</td>\n      <td>NaN</td>\n      <td>NaN</td>\n    </tr>\n    <tr>\n      <th>15</th>\n      <td>128</td>\n      <td>2</td>\n      <td>2019-09-10 13:21:00</td>\n      <td>2019-09-10 16:17:00</td>\n      <td>2019-09-10 13:21:00</td>\n      <td>2019-09-10 16:17:00</td>\n      <td>0.0</td>\n      <td>0.0</td>\n    </tr>\n    <tr>\n      <th>16</th>\n      <td>129</td>\n      <td>1</td>\n      <td>2019-09-07 08:55:00</td>\n      <td>2019-09-07 11:55:00</td>\n      <td>2019-09-07 08:55:00</td>\n      <td>2019-09-07 11:55:00</td>\n      <td>0.0</td>\n      <td>0.0</td>\n    </tr>\n    <tr>\n      <th>17</th>\n      <td>129</td>\n      <td>2</td>\n      <td>2019-09-10 16:31:46</td>\n      <td>2019-09-10 19:32:00</td>\n      <td>2019-09-10 16:31:46</td>\n      <td>2019-09-10 19:32:00</td>\n      <td>0.0</td>\n      <td>0.0</td>\n    </tr>\n    <tr>\n      <th>18</th>\n      <td>130</td>\n      <td>1</td>\n      <td>2019-09-08 17:28:00</td>\n      <td>2019-09-08 20:28:00</td>\n      <td>2019-09-08 17:28:00</td>\n      <td>2019-09-08 20:28:00</td>\n      <td>0.0</td>\n      <td>0.0</td>\n    </tr>\n    <tr>\n      <th>19</th>\n      <td>130</td>\n      <td>2</td>\n      <td>2019-09-10 08:02:01</td>\n      <td>2019-09-10 11:02:00</td>\n      <td>2019-09-10 08:02:01</td>\n      <td>2019-09-10 11:02:00</td>\n      <td>0.0</td>\n      <td>0.0</td>\n    </tr>\n    <tr>\n      <th>20</th>\n      <td>131</td>\n      <td>1</td>\n      <td>2019-09-12 10:57:42</td>\n      <td>2019-09-12 13:58:00</td>\n      <td>2019-09-12 10:57:42</td>\n      <td>2019-09-12 13:58:00</td>\n      <td>0.0</td>\n      <td>0.0</td>\n    </tr>\n    <tr>\n      <th>21</th>\n      <td>131</td>\n      <td>2</td>\n      <td>2019-09-16 09:04:54</td>\n      <td>2019-09-16 11:55:00</td>\n      <td>2019-09-16 09:04:54</td>\n      <td>2019-09-16 11:55:00</td>\n      <td>0.0</td>\n      <td>0.0</td>\n    </tr>\n    <tr>\n      <th>22</th>\n      <td>132</td>\n      <td>1</td>\n      <td>2019-10-04 13:31:18</td>\n      <td>2019-10-04 16:31:00</td>\n      <td>2019-10-04 13:31:18</td>\n      <td>2019-10-04 16:31:00</td>\n      <td>0.0</td>\n      <td>0.0</td>\n    </tr>\n    <tr>\n      <th>23</th>\n      <td>132</td>\n      <td>2</td>\n      <td>2019-10-10 09:24:58</td>\n      <td>2019-10-10 12:07:00</td>\n      <td>2019-10-10 09:24:44</td>\n      <td>2019-10-10 12:07:00</td>\n      <td>14.0</td>\n      <td>0.0</td>\n    </tr>\n    <tr>\n      <th>24</th>\n      <td>133</td>\n      <td>1</td>\n      <td>2019-10-10 14:31:56</td>\n      <td>2019-10-10 17:31:26</td>\n      <td>2019-10-10 14:31:56</td>\n      <td>2019-10-10 17:31:26</td>\n      <td>0.0</td>\n      <td>0.0</td>\n    </tr>\n    <tr>\n      <th>25</th>\n      <td>133</td>\n      <td>2</td>\n      <td>2019-10-11 10:23:20</td>\n      <td>2019-10-11 13:23:00</td>\n      <td>2019-10-11 10:23:20</td>\n      <td>2019-10-11 13:23:00</td>\n      <td>0.0</td>\n      <td>0.0</td>\n    </tr>\n    <tr>\n      <th>26</th>\n      <td>134</td>\n      <td>1</td>\n      <td>2019-10-09 12:57:15</td>\n      <td>2019-10-09 15:42:00</td>\n      <td>2019-10-09 12:57:15</td>\n      <td>2019-10-09 15:42:00</td>\n      <td>0.0</td>\n      <td>0.0</td>\n    </tr>\n    <tr>\n      <th>27</th>\n      <td>134</td>\n      <td>2</td>\n      <td>NaT</td>\n      <td>NaT</td>\n      <td>2019-10-13 12:56:53</td>\n      <td>2019-10-13 15:57:00</td>\n      <td>NaN</td>\n      <td>NaN</td>\n    </tr>\n    <tr>\n      <th>28</th>\n      <td>135</td>\n      <td>1</td>\n      <td>2019-10-15 15:32:01</td>\n      <td>2019-10-15 18:32:00</td>\n      <td>2019-10-15 15:32:01</td>\n      <td>2019-10-15 18:32:00</td>\n      <td>0.0</td>\n      <td>0.0</td>\n    </tr>\n    <tr>\n      <th>29</th>\n      <td>135</td>\n      <td>2</td>\n      <td>2019-10-19 12:49:51</td>\n      <td>2019-10-19 15:50:01</td>\n      <td>2019-10-19 12:49:51</td>\n      <td>2019-10-19 15:50:01</td>\n      <td>0.0</td>\n      <td>0.0</td>\n    </tr>\n    <tr>\n      <th>30</th>\n      <td>136</td>\n      <td>1</td>\n      <td>2019-10-17 13:41:00</td>\n      <td>2019-10-17 16:41:00</td>\n      <td>2019-10-17 13:41:00</td>\n      <td>2019-10-17 16:41:00</td>\n      <td>0.0</td>\n      <td>0.0</td>\n    </tr>\n    <tr>\n      <th>31</th>\n      <td>136</td>\n      <td>2</td>\n      <td>NaT</td>\n      <td>NaT</td>\n      <td>2019-10-19 09:00:51</td>\n      <td>2019-10-19 12:01:00</td>\n      <td>NaN</td>\n      <td>NaN</td>\n    </tr>\n    <tr>\n      <th>32</th>\n      <td>138</td>\n      <td>1</td>\n      <td>2019-11-01 16:11:00</td>\n      <td>2019-11-01 18:01:00</td>\n      <td>2019-11-01 16:11:00</td>\n      <td>2019-11-01 18:01:00</td>\n      <td>0.0</td>\n      <td>0.0</td>\n    </tr>\n    <tr>\n      <th>33</th>\n      <td>138</td>\n      <td>2</td>\n      <td>NaT</td>\n      <td>NaT</td>\n      <td>2019-11-02 09:23:00</td>\n      <td>2019-11-02 12:24:00</td>\n      <td>NaN</td>\n      <td>NaN</td>\n    </tr>\n    <tr>\n      <th>34</th>\n      <td>139</td>\n      <td>1</td>\n      <td>NaT</td>\n      <td>NaT</td>\n      <td>2019-11-03 14:19:51</td>\n      <td>2019-11-03 17:20:00</td>\n      <td>NaN</td>\n      <td>NaN</td>\n    </tr>\n    <tr>\n      <th>35</th>\n      <td>139</td>\n      <td>2</td>\n      <td>NaT</td>\n      <td>NaT</td>\n      <td>2019-11-05 15:04:47</td>\n      <td>2019-11-05 18:05:00</td>\n      <td>NaN</td>\n      <td>NaN</td>\n    </tr>\n    <tr>\n      <th>36</th>\n      <td>140</td>\n      <td>1</td>\n      <td>2019-11-09 08:59:21</td>\n      <td>2019-11-09 11:59:00</td>\n      <td>2019-11-09 08:59:21</td>\n      <td>2019-11-09 11:59:00</td>\n      <td>0.0</td>\n      <td>0.0</td>\n    </tr>\n    <tr>\n      <th>37</th>\n      <td>140</td>\n      <td>2</td>\n      <td>2019-11-09 13:04:00</td>\n      <td>2019-11-09 16:04:00</td>\n      <td>2019-11-09 13:04:00</td>\n      <td>2019-11-09 16:04:00</td>\n      <td>0.0</td>\n      <td>0.0</td>\n    </tr>\n    <tr>\n      <th>38</th>\n      <td>141</td>\n      <td>1</td>\n      <td>2019-11-06 12:27:52</td>\n      <td>2019-11-06 15:29:00</td>\n      <td>2019-11-06 12:27:52</td>\n      <td>2019-11-06 15:29:00</td>\n      <td>0.0</td>\n      <td>0.0</td>\n    </tr>\n    <tr>\n      <th>39</th>\n      <td>141</td>\n      <td>2</td>\n      <td>2019-11-10 10:01:00</td>\n      <td>2019-11-10 13:01:00</td>\n      <td>2019-11-10 10:01:00</td>\n      <td>2019-11-10 13:01:00</td>\n      <td>0.0</td>\n      <td>0.0</td>\n    </tr>\n    <tr>\n      <th>40</th>\n      <td>143</td>\n      <td>1</td>\n      <td>NaT</td>\n      <td>NaT</td>\n      <td>2019-11-16 10:07:00</td>\n      <td>2019-11-16 13:07:00</td>\n      <td>NaN</td>\n      <td>NaN</td>\n    </tr>\n    <tr>\n      <th>41</th>\n      <td>143</td>\n      <td>2</td>\n      <td>2019-11-18 13:02:00</td>\n      <td>2019-11-18 16:02:00</td>\n      <td>2019-11-18 13:02:00</td>\n      <td>2019-11-18 16:02:00</td>\n      <td>0.0</td>\n      <td>0.0</td>\n    </tr>\n    <tr>\n      <th>42</th>\n      <td>144</td>\n      <td>1</td>\n      <td>2019-11-22 12:38:00</td>\n      <td>2019-11-22 15:39:00</td>\n      <td>2019-11-22 12:38:00</td>\n      <td>2019-11-22 15:39:00</td>\n      <td>0.0</td>\n      <td>0.0</td>\n    </tr>\n    <tr>\n      <th>43</th>\n      <td>144</td>\n      <td>2</td>\n      <td>2019-11-23 16:35:01</td>\n      <td>2019-11-23 19:35:00</td>\n      <td>2019-11-23 16:35:01</td>\n      <td>2019-11-23 19:35:00</td>\n      <td>0.0</td>\n      <td>0.0</td>\n    </tr>\n    <tr>\n      <th>44</th>\n      <td>150</td>\n      <td>1</td>\n      <td>2020-01-19 09:29:05</td>\n      <td>2020-01-19 13:18:25</td>\n      <td>2020-01-19 09:29:05</td>\n      <td>2020-01-19 13:18:25</td>\n      <td>0.0</td>\n      <td>0.0</td>\n    </tr>\n    <tr>\n      <th>45</th>\n      <td>150</td>\n      <td>2</td>\n      <td>2020-01-21 19:31:59</td>\n      <td>2020-01-21 22:32:00</td>\n      <td>2020-01-21 19:31:52</td>\n      <td>2020-01-21 22:32:00</td>\n      <td>7.0</td>\n      <td>0.0</td>\n    </tr>\n    <tr>\n      <th>46</th>\n      <td>154</td>\n      <td>1</td>\n      <td>NaT</td>\n      <td>NaT</td>\n      <td>2020-02-22 13:07:59</td>\n      <td>2020-02-22 16:06:59</td>\n      <td>NaN</td>\n      <td>NaN</td>\n    </tr>\n    <tr>\n      <th>47</th>\n      <td>154</td>\n      <td>2</td>\n      <td>2020-02-23 13:04:09</td>\n      <td>2020-02-23 15:56:00</td>\n      <td>2020-02-23 13:04:09</td>\n      <td>2020-02-23 15:56:00</td>\n      <td>0.0</td>\n      <td>0.0</td>\n    </tr>\n  </tbody>\n</table>\n</div>"
     },
     "execution_count": 92,
     "metadata": {},
     "output_type": "execute_result"
    }
   ],
   "source": [
    "log_compare = final_start_end.merge(log, on=[\"ID\", \"Session\"], how=\"outer\", suffixes=(\"_final\", \"_log\"))\n",
    "log_compare[\"Start_diff\"] = (log_compare[\"Start_final\"] - log_compare[\"Start_log\"]).dt.total_seconds()\n",
    "log_compare[\"End_diff\"] = (log_compare[\"End_final\"] - log_compare[\"End_log\"]).dt.total_seconds()\n",
    "log_compare"
   ]
  },
  {
   "cell_type": "code",
   "execution_count": 93,
   "outputs": [],
   "source": [
    "# log export for data pull\n",
    "log_exp = log_compare.copy()\n",
    "log_exp[\"Start\"] = log_exp[\"Start_final\"].combine_first(log_exp[\"Start_log\"])\n",
    "log_exp[\"End\"] = log_exp[\"End_final\"].combine_first(log_exp[\"End_log\"])\n",
    "log_exp[[\"ID\", \"Session\", \"Start\", \"End\"]].to_csv(\"log-new.csv\", index=False)"
   ],
   "metadata": {
    "collapsed": false,
    "ExecuteTime": {
     "end_time": "2024-03-06T23:21:33.957687600Z",
     "start_time": "2024-03-06T23:21:33.865047300Z"
    }
   },
   "id": "154bc95c9e25c48d"
  },
  {
   "cell_type": "markdown",
   "id": "5d25e0518bd659cd",
   "metadata": {},
   "source": [
    "## Final Table"
   ]
  },
  {
   "cell_type": "markdown",
   "id": "94831b9a98059135",
   "metadata": {},
   "source": [
    "**Final Ground Truth with Invalid Rows Dropped**"
   ]
  },
  {
   "cell_type": "code",
   "execution_count": 94,
   "id": "30edc108c6e691c5",
   "metadata": {
    "collapsed": false,
    "ExecuteTime": {
     "end_time": "2024-03-06T23:21:34.257789900Z",
     "start_time": "2024-03-06T23:21:33.884485400Z"
    }
   },
   "outputs": [
    {
     "data": {
      "text/plain": "         id  observation        date           date_time  \\\n376500  102            1  2019-07-24 2019-07-24 08:20:19   \n0       102            1  2019-07-24 2019-07-24 08:20:20   \n1       102            1  2019-07-24 2019-07-24 08:20:21   \n2       102            1  2019-07-24 2019-07-24 08:20:22   \n3       102            1  2019-07-24 2019-07-24 08:20:23   \n...     ...          ...         ...                 ...   \n414579  154            2  2020-02-23 2020-02-23 15:55:56   \n414580  154            2  2020-02-23 2020-02-23 15:55:57   \n414581  154            2  2020-02-23 2020-02-23 15:55:58   \n414582  154            2  2020-02-23 2020-02-23 15:55:59   \n414583  154            2  2020-02-23 2020-02-23 15:56:00   \n\n                                activity_type broad_activity_type  \\\n376500                           WRK- general      work_education   \n0                                WRK- general      work_education   \n1                                WRK- general      work_education   \n2                                WRK- general      work_education   \n3                                WRK- general      work_education   \n...                                       ...                 ...   \n414579  EDU- taking class, research, homework      work_education   \n414580  EDU- taking class, research, homework      work_education   \n414581  EDU- taking class, research, homework      work_education   \n414582  EDU- taking class, research, homework      work_education   \n414583  EDU- taking class, research, homework      work_education   \n\n                                work_type  posture  sedentary_not  \\\n376500  SP- Education and Health Services    stand  not_sedentary   \n0       SP- Education and Health Services    stand  not_sedentary   \n1       SP- Education and Health Services    stand  not_sedentary   \n2       SP- Education and Health Services    stand  not_sedentary   \n3       SP- Education and Health Services    stand  not_sedentary   \n...                                   ...      ...            ...   \n414579                               <NA>  sitting      sedentary   \n414580                               <NA>  sitting      sedentary   \n414581                               <NA>  sitting      sedentary   \n414582                               <NA>  sitting      sedentary   \n414583                               <NA>  sitting      sedentary   \n\n        walking_not activity_intensity  step  \n376500  not_walking              light     0  \n0       not_walking              light     0  \n1       not_walking              light     0  \n2       not_walking              light     0  \n3       not_walking              light     0  \n...             ...                ...   ...  \n414579  not_walking          sedentary     0  \n414580  not_walking          sedentary     0  \n414581  not_walking          sedentary     0  \n414582  not_walking          sedentary     0  \n414583  not_walking          sedentary     0  \n\n[414584 rows x 12 columns]",
      "text/html": "<div>\n<style scoped>\n    .dataframe tbody tr th:only-of-type {\n        vertical-align: middle;\n    }\n\n    .dataframe tbody tr th {\n        vertical-align: top;\n    }\n\n    .dataframe thead th {\n        text-align: right;\n    }\n</style>\n<table border=\"1\" class=\"dataframe\">\n  <thead>\n    <tr style=\"text-align: right;\">\n      <th></th>\n      <th>id</th>\n      <th>observation</th>\n      <th>date</th>\n      <th>date_time</th>\n      <th>activity_type</th>\n      <th>broad_activity_type</th>\n      <th>work_type</th>\n      <th>posture</th>\n      <th>sedentary_not</th>\n      <th>walking_not</th>\n      <th>activity_intensity</th>\n      <th>step</th>\n    </tr>\n  </thead>\n  <tbody>\n    <tr>\n      <th>376500</th>\n      <td>102</td>\n      <td>1</td>\n      <td>2019-07-24</td>\n      <td>2019-07-24 08:20:19</td>\n      <td>WRK- general</td>\n      <td>work_education</td>\n      <td>SP- Education and Health Services</td>\n      <td>stand</td>\n      <td>not_sedentary</td>\n      <td>not_walking</td>\n      <td>light</td>\n      <td>0</td>\n    </tr>\n    <tr>\n      <th>0</th>\n      <td>102</td>\n      <td>1</td>\n      <td>2019-07-24</td>\n      <td>2019-07-24 08:20:20</td>\n      <td>WRK- general</td>\n      <td>work_education</td>\n      <td>SP- Education and Health Services</td>\n      <td>stand</td>\n      <td>not_sedentary</td>\n      <td>not_walking</td>\n      <td>light</td>\n      <td>0</td>\n    </tr>\n    <tr>\n      <th>1</th>\n      <td>102</td>\n      <td>1</td>\n      <td>2019-07-24</td>\n      <td>2019-07-24 08:20:21</td>\n      <td>WRK- general</td>\n      <td>work_education</td>\n      <td>SP- Education and Health Services</td>\n      <td>stand</td>\n      <td>not_sedentary</td>\n      <td>not_walking</td>\n      <td>light</td>\n      <td>0</td>\n    </tr>\n    <tr>\n      <th>2</th>\n      <td>102</td>\n      <td>1</td>\n      <td>2019-07-24</td>\n      <td>2019-07-24 08:20:22</td>\n      <td>WRK- general</td>\n      <td>work_education</td>\n      <td>SP- Education and Health Services</td>\n      <td>stand</td>\n      <td>not_sedentary</td>\n      <td>not_walking</td>\n      <td>light</td>\n      <td>0</td>\n    </tr>\n    <tr>\n      <th>3</th>\n      <td>102</td>\n      <td>1</td>\n      <td>2019-07-24</td>\n      <td>2019-07-24 08:20:23</td>\n      <td>WRK- general</td>\n      <td>work_education</td>\n      <td>SP- Education and Health Services</td>\n      <td>stand</td>\n      <td>not_sedentary</td>\n      <td>not_walking</td>\n      <td>light</td>\n      <td>0</td>\n    </tr>\n    <tr>\n      <th>...</th>\n      <td>...</td>\n      <td>...</td>\n      <td>...</td>\n      <td>...</td>\n      <td>...</td>\n      <td>...</td>\n      <td>...</td>\n      <td>...</td>\n      <td>...</td>\n      <td>...</td>\n      <td>...</td>\n      <td>...</td>\n    </tr>\n    <tr>\n      <th>414579</th>\n      <td>154</td>\n      <td>2</td>\n      <td>2020-02-23</td>\n      <td>2020-02-23 15:55:56</td>\n      <td>EDU- taking class, research, homework</td>\n      <td>work_education</td>\n      <td>&lt;NA&gt;</td>\n      <td>sitting</td>\n      <td>sedentary</td>\n      <td>not_walking</td>\n      <td>sedentary</td>\n      <td>0</td>\n    </tr>\n    <tr>\n      <th>414580</th>\n      <td>154</td>\n      <td>2</td>\n      <td>2020-02-23</td>\n      <td>2020-02-23 15:55:57</td>\n      <td>EDU- taking class, research, homework</td>\n      <td>work_education</td>\n      <td>&lt;NA&gt;</td>\n      <td>sitting</td>\n      <td>sedentary</td>\n      <td>not_walking</td>\n      <td>sedentary</td>\n      <td>0</td>\n    </tr>\n    <tr>\n      <th>414581</th>\n      <td>154</td>\n      <td>2</td>\n      <td>2020-02-23</td>\n      <td>2020-02-23 15:55:58</td>\n      <td>EDU- taking class, research, homework</td>\n      <td>work_education</td>\n      <td>&lt;NA&gt;</td>\n      <td>sitting</td>\n      <td>sedentary</td>\n      <td>not_walking</td>\n      <td>sedentary</td>\n      <td>0</td>\n    </tr>\n    <tr>\n      <th>414582</th>\n      <td>154</td>\n      <td>2</td>\n      <td>2020-02-23</td>\n      <td>2020-02-23 15:55:59</td>\n      <td>EDU- taking class, research, homework</td>\n      <td>work_education</td>\n      <td>&lt;NA&gt;</td>\n      <td>sitting</td>\n      <td>sedentary</td>\n      <td>not_walking</td>\n      <td>sedentary</td>\n      <td>0</td>\n    </tr>\n    <tr>\n      <th>414583</th>\n      <td>154</td>\n      <td>2</td>\n      <td>2020-02-23</td>\n      <td>2020-02-23 15:56:00</td>\n      <td>EDU- taking class, research, homework</td>\n      <td>work_education</td>\n      <td>&lt;NA&gt;</td>\n      <td>sitting</td>\n      <td>sedentary</td>\n      <td>not_walking</td>\n      <td>sedentary</td>\n      <td>0</td>\n    </tr>\n  </tbody>\n</table>\n<p>414584 rows × 12 columns</p>\n</div>"
     },
     "execution_count": 94,
     "metadata": {},
     "output_type": "execute_result"
    }
   ],
   "source": [
    "final_gt = merged_valid2.drop([\"inside_flag\"], axis=1).rename(columns={\"Step\": \"step\"})\n",
    "final_gt['step'] = final_gt['step'].astype(int)\n",
    "final_gt"
   ]
  },
  {
   "cell_type": "code",
   "execution_count": 95,
   "id": "688fe21320474257",
   "metadata": {
    "collapsed": false,
    "ExecuteTime": {
     "end_time": "2024-03-06T23:21:38.754251Z",
     "start_time": "2024-03-06T23:21:34.075895500Z"
    }
   },
   "outputs": [],
   "source": [
    "final_gt.to_csv(\"merged_groundtruth_secbysec.csv\", index=False)"
   ]
  }
 ],
 "metadata": {
  "kernelspec": {
   "display_name": "Python 3",
   "language": "python",
   "name": "python3"
  },
  "language_info": {
   "codemirror_mode": {
    "name": "ipython",
    "version": 3
   },
   "file_extension": ".py",
   "mimetype": "text/x-python",
   "name": "python",
   "nbconvert_exporter": "python",
   "pygments_lexer": "ipython3",
   "version": "3.8.8"
  }
 },
 "nbformat": 4,
 "nbformat_minor": 5
}
