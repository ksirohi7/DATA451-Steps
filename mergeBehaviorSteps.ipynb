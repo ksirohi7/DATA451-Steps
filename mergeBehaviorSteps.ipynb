{
 "cells": [
  {
   "cell_type": "markdown",
   "id": "348dbe1e-88dc-489c-9c95-679588838db4",
   "metadata": {},
   "source": [
    "# Ground Truth and Step Count Merge"
   ]
  },
  {
   "cell_type": "markdown",
   "id": "9e6df9c06827e874",
   "metadata": {},
   "source": [
    "## Setup"
   ]
  },
  {
   "cell_type": "code",
   "execution_count": 1,
   "id": "ab1f8046-cdbc-45e2-90cc-c0d55578cc92",
   "metadata": {
    "ExecuteTime": {
     "end_time": "2024-02-23T01:22:21.927349900Z",
     "start_time": "2024-02-23T01:22:21.168474900Z"
    }
   },
   "outputs": [],
   "source": [
    "import pandas as pd\n",
    "import numpy as np"
   ]
  },
  {
   "cell_type": "code",
   "execution_count": 2,
   "id": "13a896a7b9924399",
   "metadata": {
    "ExecuteTime": {
     "end_time": "2024-02-23T01:24:18.671853100Z",
     "start_time": "2024-02-23T01:24:18.662037400Z"
    },
    "collapsed": false,
    "jupyter": {
     "outputs_hidden": false
    }
   },
   "outputs": [],
   "source": [
    "import warnings\n",
    "warnings.filterwarnings(\"ignore\")"
   ]
  },
  {
   "cell_type": "markdown",
   "id": "3a987e8b4b2fd806",
   "metadata": {},
   "source": [
    "## Load and Check Data Integrity"
   ]
  },
  {
   "cell_type": "markdown",
   "id": "670d5c5a341f6cb",
   "metadata": {},
   "source": [
    "**Coding Ground Truth**"
   ]
  },
  {
   "cell_type": "code",
   "execution_count": 3,
   "id": "a24344a5-6919-4d15-b5f5-221abb91747f",
   "metadata": {
    "ExecuteTime": {
     "end_time": "2024-02-23T01:22:23.116621400Z",
     "start_time": "2024-02-23T01:22:21.906122800Z"
    }
   },
   "outputs": [],
   "source": [
    "# Import coding ground truth\n",
    "ground_truth = pd.read_csv(\"ACT24_groundtruth_secbysec.csv\", dtype={\"work_type\": \"string\"}) #dtype since missing values were stored as NaN, should be as pd.na"
   ]
  },
  {
   "cell_type": "code",
   "execution_count": 4,
   "id": "c85a77f4-8b52-441d-9410-5c261dc12b03",
   "metadata": {
    "ExecuteTime": {
     "end_time": "2024-02-23T01:22:23.161343500Z",
     "start_time": "2024-02-23T01:22:23.119860200Z"
    }
   },
   "outputs": [
    {
     "data": {
      "text/html": [
       "<div>\n",
       "<style scoped>\n",
       "    .dataframe tbody tr th:only-of-type {\n",
       "        vertical-align: middle;\n",
       "    }\n",
       "\n",
       "    .dataframe tbody tr th {\n",
       "        vertical-align: top;\n",
       "    }\n",
       "\n",
       "    .dataframe thead th {\n",
       "        text-align: right;\n",
       "    }\n",
       "</style>\n",
       "<table border=\"1\" class=\"dataframe\">\n",
       "  <thead>\n",
       "    <tr style=\"text-align: right;\">\n",
       "      <th></th>\n",
       "      <th>id</th>\n",
       "      <th>observation</th>\n",
       "      <th>date</th>\n",
       "      <th>date_time</th>\n",
       "      <th>activity_type</th>\n",
       "      <th>broad_activity_type</th>\n",
       "      <th>work_type</th>\n",
       "      <th>posture</th>\n",
       "      <th>sedentary_not</th>\n",
       "      <th>walking_not</th>\n",
       "      <th>activity_intensity</th>\n",
       "    </tr>\n",
       "  </thead>\n",
       "  <tbody>\n",
       "    <tr>\n",
       "      <th>0</th>\n",
       "      <td>102</td>\n",
       "      <td>1</td>\n",
       "      <td>2019-07-24</td>\n",
       "      <td>2019-07-24 08:20:19</td>\n",
       "      <td>WRK- general</td>\n",
       "      <td>work_education</td>\n",
       "      <td>SP- Education and Health Services</td>\n",
       "      <td>stand</td>\n",
       "      <td>not_sedentary</td>\n",
       "      <td>not_walking</td>\n",
       "      <td>light</td>\n",
       "    </tr>\n",
       "    <tr>\n",
       "      <th>1</th>\n",
       "      <td>102</td>\n",
       "      <td>1</td>\n",
       "      <td>2019-07-24</td>\n",
       "      <td>2019-07-24 08:20:20</td>\n",
       "      <td>WRK- general</td>\n",
       "      <td>work_education</td>\n",
       "      <td>SP- Education and Health Services</td>\n",
       "      <td>stand</td>\n",
       "      <td>not_sedentary</td>\n",
       "      <td>not_walking</td>\n",
       "      <td>light</td>\n",
       "    </tr>\n",
       "    <tr>\n",
       "      <th>2</th>\n",
       "      <td>102</td>\n",
       "      <td>1</td>\n",
       "      <td>2019-07-24</td>\n",
       "      <td>2019-07-24 08:20:21</td>\n",
       "      <td>WRK- general</td>\n",
       "      <td>work_education</td>\n",
       "      <td>SP- Education and Health Services</td>\n",
       "      <td>stand</td>\n",
       "      <td>not_sedentary</td>\n",
       "      <td>not_walking</td>\n",
       "      <td>light</td>\n",
       "    </tr>\n",
       "    <tr>\n",
       "      <th>3</th>\n",
       "      <td>102</td>\n",
       "      <td>1</td>\n",
       "      <td>2019-07-24</td>\n",
       "      <td>2019-07-24 08:20:22</td>\n",
       "      <td>WRK- general</td>\n",
       "      <td>work_education</td>\n",
       "      <td>SP- Education and Health Services</td>\n",
       "      <td>stand</td>\n",
       "      <td>not_sedentary</td>\n",
       "      <td>not_walking</td>\n",
       "      <td>light</td>\n",
       "    </tr>\n",
       "    <tr>\n",
       "      <th>4</th>\n",
       "      <td>102</td>\n",
       "      <td>1</td>\n",
       "      <td>2019-07-24</td>\n",
       "      <td>2019-07-24 08:20:23</td>\n",
       "      <td>WRK- general</td>\n",
       "      <td>work_education</td>\n",
       "      <td>SP- Education and Health Services</td>\n",
       "      <td>stand</td>\n",
       "      <td>not_sedentary</td>\n",
       "      <td>not_walking</td>\n",
       "      <td>light</td>\n",
       "    </tr>\n",
       "  </tbody>\n",
       "</table>\n",
       "</div>"
      ],
      "text/plain": [
       "    id  observation        date            date_time activity_type  \\\n",
       "0  102            1  2019-07-24  2019-07-24 08:20:19  WRK- general   \n",
       "1  102            1  2019-07-24  2019-07-24 08:20:20  WRK- general   \n",
       "2  102            1  2019-07-24  2019-07-24 08:20:21  WRK- general   \n",
       "3  102            1  2019-07-24  2019-07-24 08:20:22  WRK- general   \n",
       "4  102            1  2019-07-24  2019-07-24 08:20:23  WRK- general   \n",
       "\n",
       "  broad_activity_type                          work_type posture  \\\n",
       "0      work_education  SP- Education and Health Services   stand   \n",
       "1      work_education  SP- Education and Health Services   stand   \n",
       "2      work_education  SP- Education and Health Services   stand   \n",
       "3      work_education  SP- Education and Health Services   stand   \n",
       "4      work_education  SP- Education and Health Services   stand   \n",
       "\n",
       "   sedentary_not  walking_not activity_intensity  \n",
       "0  not_sedentary  not_walking              light  \n",
       "1  not_sedentary  not_walking              light  \n",
       "2  not_sedentary  not_walking              light  \n",
       "3  not_sedentary  not_walking              light  \n",
       "4  not_sedentary  not_walking              light  "
      ]
     },
     "execution_count": 4,
     "metadata": {},
     "output_type": "execute_result"
    }
   ],
   "source": [
    "# Display first 5 rows for inspection\n",
    "ground_truth.head()"
   ]
  },
  {
   "cell_type": "code",
   "execution_count": 5,
   "id": "7349436c9e58a588",
   "metadata": {
    "ExecuteTime": {
     "end_time": "2024-02-23T01:22:23.559758400Z",
     "start_time": "2024-02-23T01:22:23.144837Z"
    },
    "collapsed": false,
    "jupyter": {
     "outputs_hidden": false
    }
   },
   "outputs": [
    {
     "data": {
      "text/plain": [
       "Series([], dtype: int64)"
      ]
     },
     "execution_count": 5,
     "metadata": {},
     "output_type": "execute_result"
    }
   ],
   "source": [
    "# Check for duplicate timestamps\n",
    "check = ground_truth[[\"id\", \"observation\", \"date_time\"]].value_counts()\n",
    "check[check > 1]"
   ]
  },
  {
   "cell_type": "markdown",
   "id": "23ae23bdf3e0484e",
   "metadata": {},
   "source": [
    "**Steps Ground Truth**"
   ]
  },
  {
   "cell_type": "code",
   "execution_count": 6,
   "id": "b8579375-bd44-4da7-816a-02a2aff36fb6",
   "metadata": {
    "ExecuteTime": {
     "end_time": "2024-02-23T01:22:23.887135500Z",
     "start_time": "2024-02-23T01:22:23.564017700Z"
    }
   },
   "outputs": [],
   "source": [
    "# Import seconds ground truth\n",
    "seconds = pd.read_csv(\"seconds_ground_truth.csv\")"
   ]
  },
  {
   "cell_type": "code",
   "execution_count": 7,
   "id": "92d4e096-1c81-4f29-8b4a-bd88778a613f",
   "metadata": {
    "ExecuteTime": {
     "end_time": "2024-02-23T01:22:24.040249700Z",
     "start_time": "2024-02-23T01:22:23.890574Z"
    }
   },
   "outputs": [
    {
     "data": {
      "text/html": [
       "<div>\n",
       "<style scoped>\n",
       "    .dataframe tbody tr th:only-of-type {\n",
       "        vertical-align: middle;\n",
       "    }\n",
       "\n",
       "    .dataframe tbody tr th {\n",
       "        vertical-align: top;\n",
       "    }\n",
       "\n",
       "    .dataframe thead th {\n",
       "        text-align: right;\n",
       "    }\n",
       "</style>\n",
       "<table border=\"1\" class=\"dataframe\">\n",
       "  <thead>\n",
       "    <tr style=\"text-align: right;\">\n",
       "      <th></th>\n",
       "      <th>ID</th>\n",
       "      <th>Session</th>\n",
       "      <th>Relative Time</th>\n",
       "      <th>Date</th>\n",
       "      <th>Time</th>\n",
       "      <th>Quality</th>\n",
       "      <th>Step</th>\n",
       "    </tr>\n",
       "  </thead>\n",
       "  <tbody>\n",
       "    <tr>\n",
       "      <th>114078</th>\n",
       "      <td>102</td>\n",
       "      <td>1</td>\n",
       "      <td>0:00:01</td>\n",
       "      <td>7/24/2019</td>\n",
       "      <td>08:20:20</td>\n",
       "      <td>Codable</td>\n",
       "      <td>0</td>\n",
       "    </tr>\n",
       "    <tr>\n",
       "      <th>114079</th>\n",
       "      <td>102</td>\n",
       "      <td>1</td>\n",
       "      <td>0:00:02</td>\n",
       "      <td>7/24/2019</td>\n",
       "      <td>08:20:21</td>\n",
       "      <td>Codable</td>\n",
       "      <td>0</td>\n",
       "    </tr>\n",
       "    <tr>\n",
       "      <th>114080</th>\n",
       "      <td>102</td>\n",
       "      <td>1</td>\n",
       "      <td>0:00:03</td>\n",
       "      <td>7/24/2019</td>\n",
       "      <td>08:20:22</td>\n",
       "      <td>Codable</td>\n",
       "      <td>0</td>\n",
       "    </tr>\n",
       "    <tr>\n",
       "      <th>114081</th>\n",
       "      <td>102</td>\n",
       "      <td>1</td>\n",
       "      <td>0:00:04</td>\n",
       "      <td>7/24/2019</td>\n",
       "      <td>08:20:23</td>\n",
       "      <td>Codable</td>\n",
       "      <td>0</td>\n",
       "    </tr>\n",
       "    <tr>\n",
       "      <th>114082</th>\n",
       "      <td>102</td>\n",
       "      <td>1</td>\n",
       "      <td>0:00:05</td>\n",
       "      <td>7/24/2019</td>\n",
       "      <td>08:20:24</td>\n",
       "      <td>Codable</td>\n",
       "      <td>1</td>\n",
       "    </tr>\n",
       "  </tbody>\n",
       "</table>\n",
       "</div>"
      ],
      "text/plain": [
       "         ID  Session Relative Time       Date      Time  Quality  Step\n",
       "114078  102        1       0:00:01  7/24/2019  08:20:20  Codable     0\n",
       "114079  102        1       0:00:02  7/24/2019  08:20:21  Codable     0\n",
       "114080  102        1       0:00:03  7/24/2019  08:20:22  Codable     0\n",
       "114081  102        1       0:00:04  7/24/2019  08:20:23  Codable     0\n",
       "114082  102        1       0:00:05  7/24/2019  08:20:24  Codable     1"
      ]
     },
     "execution_count": 7,
     "metadata": {},
     "output_type": "execute_result"
    }
   ],
   "source": [
    "# Display first 5 rows for inspection\n",
    "seconds.sort_values([\"ID\", \"Session\", \"Date\", \"Time\"]).head()"
   ]
  },
  {
   "cell_type": "code",
   "execution_count": 8,
   "id": "4b2bc5a6a6a435ad",
   "metadata": {
    "ExecuteTime": {
     "end_time": "2024-02-23T01:22:24.613737800Z",
     "start_time": "2024-02-23T01:22:24.039075900Z"
    },
    "collapsed": false,
    "jupyter": {
     "outputs_hidden": false
    }
   },
   "outputs": [
    {
     "data": {
      "text/html": [
       "<div>\n",
       "<style scoped>\n",
       "    .dataframe tbody tr th:only-of-type {\n",
       "        vertical-align: middle;\n",
       "    }\n",
       "\n",
       "    .dataframe tbody tr th {\n",
       "        vertical-align: top;\n",
       "    }\n",
       "\n",
       "    .dataframe thead th {\n",
       "        text-align: right;\n",
       "    }\n",
       "</style>\n",
       "<table border=\"1\" class=\"dataframe\">\n",
       "  <thead>\n",
       "    <tr style=\"text-align: right;\">\n",
       "      <th></th>\n",
       "      <th>ID</th>\n",
       "      <th>Session</th>\n",
       "      <th>Date</th>\n",
       "      <th>Time</th>\n",
       "      <th>Relative Time</th>\n",
       "      <th>Quality</th>\n",
       "      <th>Step</th>\n",
       "    </tr>\n",
       "  </thead>\n",
       "  <tbody>\n",
       "    <tr>\n",
       "      <th>0</th>\n",
       "      <td>117</td>\n",
       "      <td>1</td>\n",
       "      <td>8/20/2019</td>\n",
       "      <td>05:36:54</td>\n",
       "      <td>2:19:08</td>\n",
       "      <td>Codable</td>\n",
       "      <td>0</td>\n",
       "    </tr>\n",
       "    <tr>\n",
       "      <th>1</th>\n",
       "      <td>117</td>\n",
       "      <td>1</td>\n",
       "      <td>8/20/2019</td>\n",
       "      <td>05:36:54</td>\n",
       "      <td>2:19:08</td>\n",
       "      <td>Codable</td>\n",
       "      <td>0</td>\n",
       "    </tr>\n",
       "    <tr>\n",
       "      <th>2</th>\n",
       "      <td>127</td>\n",
       "      <td>1</td>\n",
       "      <td>9/5/2019</td>\n",
       "      <td>04:24:03</td>\n",
       "      <td>0:16:07</td>\n",
       "      <td>Codable</td>\n",
       "      <td>0</td>\n",
       "    </tr>\n",
       "    <tr>\n",
       "      <th>3</th>\n",
       "      <td>127</td>\n",
       "      <td>1</td>\n",
       "      <td>9/5/2019</td>\n",
       "      <td>04:24:03</td>\n",
       "      <td>0:16:07</td>\n",
       "      <td>Codable</td>\n",
       "      <td>0</td>\n",
       "    </tr>\n",
       "    <tr>\n",
       "      <th>4</th>\n",
       "      <td>127</td>\n",
       "      <td>1</td>\n",
       "      <td>9/5/2019</td>\n",
       "      <td>04:24:10</td>\n",
       "      <td>0:16:14</td>\n",
       "      <td>Codable</td>\n",
       "      <td>0</td>\n",
       "    </tr>\n",
       "    <tr>\n",
       "      <th>...</th>\n",
       "      <td>...</td>\n",
       "      <td>...</td>\n",
       "      <td>...</td>\n",
       "      <td>...</td>\n",
       "      <td>...</td>\n",
       "      <td>...</td>\n",
       "      <td>...</td>\n",
       "    </tr>\n",
       "    <tr>\n",
       "      <th>152065</th>\n",
       "      <td>133</td>\n",
       "      <td>1</td>\n",
       "      <td>10/10/2019</td>\n",
       "      <td>04:02:10</td>\n",
       "      <td>1:30:14</td>\n",
       "      <td>Codable</td>\n",
       "      <td>1</td>\n",
       "    </tr>\n",
       "    <tr>\n",
       "      <th>152066</th>\n",
       "      <td>133</td>\n",
       "      <td>1</td>\n",
       "      <td>10/10/2019</td>\n",
       "      <td>03:37:28</td>\n",
       "      <td>1:05:32</td>\n",
       "      <td>Codable</td>\n",
       "      <td>0</td>\n",
       "    </tr>\n",
       "    <tr>\n",
       "      <th>152067</th>\n",
       "      <td>133</td>\n",
       "      <td>1</td>\n",
       "      <td>10/10/2019</td>\n",
       "      <td>03:37:28</td>\n",
       "      <td>1:05:32</td>\n",
       "      <td>Codable</td>\n",
       "      <td>0</td>\n",
       "    </tr>\n",
       "    <tr>\n",
       "      <th>152068</th>\n",
       "      <td>127</td>\n",
       "      <td>1</td>\n",
       "      <td>9/5/2019</td>\n",
       "      <td>04:30:03</td>\n",
       "      <td>0:22:07</td>\n",
       "      <td>Codable</td>\n",
       "      <td>0</td>\n",
       "    </tr>\n",
       "    <tr>\n",
       "      <th>152069</th>\n",
       "      <td>127</td>\n",
       "      <td>1</td>\n",
       "      <td>9/5/2019</td>\n",
       "      <td>04:30:03</td>\n",
       "      <td>0:22:07</td>\n",
       "      <td>Codable</td>\n",
       "      <td>0</td>\n",
       "    </tr>\n",
       "  </tbody>\n",
       "</table>\n",
       "<p>152070 rows × 7 columns</p>\n",
       "</div>"
      ],
      "text/plain": [
       "         ID  Session        Date      Time Relative Time  Quality  Step\n",
       "0       117        1   8/20/2019  05:36:54       2:19:08  Codable     0\n",
       "1       117        1   8/20/2019  05:36:54       2:19:08  Codable     0\n",
       "2       127        1    9/5/2019  04:24:03       0:16:07  Codable     0\n",
       "3       127        1    9/5/2019  04:24:03       0:16:07  Codable     0\n",
       "4       127        1    9/5/2019  04:24:10       0:16:14  Codable     0\n",
       "...     ...      ...         ...       ...           ...      ...   ...\n",
       "152065  133        1  10/10/2019  04:02:10       1:30:14  Codable     1\n",
       "152066  133        1  10/10/2019  03:37:28       1:05:32  Codable     0\n",
       "152067  133        1  10/10/2019  03:37:28       1:05:32  Codable     0\n",
       "152068  127        1    9/5/2019  04:30:03       0:22:07  Codable     0\n",
       "152069  127        1    9/5/2019  04:30:03       0:22:07  Codable     0\n",
       "\n",
       "[152070 rows x 7 columns]"
      ]
     },
     "execution_count": 8,
     "metadata": {},
     "output_type": "execute_result"
    }
   ],
   "source": [
    "# Check for duplicate timestamps\n",
    "check = seconds[[\"ID\", \"Session\", \"Date\", \"Time\"]].value_counts()\n",
    "# Duplicate timestamps were found, check for specific rows and step counts\n",
    "check[check > 1].reset_index().drop(0, axis=1).merge(right = seconds, on=[\"ID\", \"Session\", \"Date\", \"Time\"])"
   ]
  },
  {
   "cell_type": "markdown",
   "id": "b38a761e-0781-41c2-94a7-0307258ae630",
   "metadata": {},
   "source": [
    "## Ground Truth Data Cleaning"
   ]
  },
  {
   "cell_type": "code",
   "execution_count": 9,
   "id": "fdc02fb46fff7fb5",
   "metadata": {
    "ExecuteTime": {
     "end_time": "2024-02-23T01:22:24.633486600Z",
     "start_time": "2024-02-23T01:22:24.616974800Z"
    },
    "collapsed": false,
    "jupyter": {
     "outputs_hidden": false
    }
   },
   "outputs": [],
   "source": [
    "def quality_agg(srs):\n",
    "    if len(srs) > 1:\n",
    "        return \"Ambiguous\"\n",
    "    return srs.iloc[0]"
   ]
  },
  {
   "cell_type": "code",
   "execution_count": null,
   "id": "4a224f88-eb38-4bcc-87ac-c18969b49e7a",
   "metadata": {
    "ExecuteTime": {
     "end_time": "2024-02-23T01:22:33.524128300Z",
     "start_time": "2024-02-23T01:22:24.623849600Z"
    }
   },
   "outputs": [],
   "source": [
    "seconds_2 = seconds.copy()\n",
    "# Rename columns\n",
    "seconds_2.rename(columns={\"ID\": \"id\", \"Session\": \"observation\"}, inplace=True)\n",
    "# Remove duplicates\n",
    "# Logic: Get max step count for each timestamp\n",
    "seconds_2 = seconds_2.groupby([\"id\", \"observation\", \"Date\", \"Time\", \"Relative Time\"]).agg({'Quality': quality_agg, 'Step': 'max'}).reset_index()\n",
    "# Create datetime column\n",
    "seconds_2[\"date_time\"] = pd.to_datetime(seconds_2['Date'] + ' ' + seconds_2['Time'])\n",
    "seconds_2"
   ]
  },
  {
   "cell_type": "code",
   "execution_count": null,
   "id": "b6b0e0acd362fc05",
   "metadata": {
    "ExecuteTime": {
     "end_time": "2024-02-23T01:22:33.693887600Z",
     "start_time": "2024-02-23T01:22:33.517176Z"
    },
    "collapsed": false,
    "jupyter": {
     "outputs_hidden": false
    }
   },
   "outputs": [],
   "source": [
    "# Check for duplicates again\n",
    "check = seconds_2[[\"id\", \"observation\", \"date_time\"]].value_counts()\n",
    "check[check > 1]"
   ]
  },
  {
   "cell_type": "code",
   "execution_count": null,
   "id": "e9b904e6-6cee-47b1-b57d-fccb6152172b",
   "metadata": {
    "ExecuteTime": {
     "end_time": "2024-02-23T01:22:33.941062Z",
     "start_time": "2024-02-23T01:22:33.625156200Z"
    }
   },
   "outputs": [],
   "source": [
    "ground_truth_2 = ground_truth.copy()\n",
    "# Create datetime column\n",
    "ground_truth_2[\"date_time\"] = pd.to_datetime(ground_truth[\"date_time\"])\n",
    "ground_truth_2"
   ]
  },
  {
   "cell_type": "markdown",
   "id": "2f6cad58-0f75-4808-8eea-0fa8266f29ee",
   "metadata": {},
   "source": [
    "## Check Start and End Times of Both Files"
   ]
  },
  {
   "cell_type": "code",
   "execution_count": null,
   "id": "121b6253-3fa7-40e0-bb8f-7f12a33f495c",
   "metadata": {
    "ExecuteTime": {
     "end_time": "2024-02-23T01:22:33.964821500Z",
     "start_time": "2024-02-23T01:22:33.947806300Z"
    }
   },
   "outputs": [],
   "source": [
    "# Function to get start and end info for each id and session\n",
    "def start_end(GT, id, session): \n",
    "    subset = GT[(GT[\"id\"] == id) & (GT[\"observation\"] == session)].reset_index(drop=True)\n",
    "    start = min(subset[\"date_time\"])\n",
    "    end = max(subset[\"date_time\"])\n",
    "    for i, row in subset.iterrows():\n",
    "        if i != 0:\n",
    "            if row[\"date_time\"] < start:\n",
    "                start = row[\"date_time\"]\n",
    "            elif row[\"date_time\"] > end:\n",
    "                end = row[\"date_time\"]\n",
    "    return [start, end]\n",
    "    #print(f\"ID = {id}, Session = {session}, Start = {start}, End = {end}\")\n",
    "        "
   ]
  },
  {
   "cell_type": "code",
   "execution_count": null,
   "id": "67103dfd-1e31-4ea6-bd90-5cb348fd0de7",
   "metadata": {
    "ExecuteTime": {
     "end_time": "2024-02-23T01:22:33.994724500Z",
     "start_time": "2024-02-23T01:22:33.958419900Z"
    }
   },
   "outputs": [],
   "source": [
    "# Function to apply start_end to entire dataframe (ie. each id and session)\n",
    "def start_time_dataframe(df):\n",
    "    id_ses = df.groupby([\"id\", \"observation\"]).size().reset_index().rename(columns={0: \"count\"})\n",
    "    times = {\"ID\": [], \n",
    "                   \"Session\": [],\n",
    "                   \"Start\": [],\n",
    "                   \"End\": []}\n",
    "    for i, row in id_ses.iterrows():\n",
    "        times[\"ID\"].append(row[\"id\"])\n",
    "        times[\"Session\"].append(row[\"observation\"])\n",
    "        ls = start_end(df, row[\"id\"], row[\"observation\"])\n",
    "        times[\"Start\"].append(ls[0])\n",
    "        times[\"End\"].append(ls[1])\n",
    "    return pd.DataFrame(times)"
   ]
  },
  {
   "cell_type": "code",
   "execution_count": null,
   "id": "b9dc105c27d66813",
   "metadata": {
    "ExecuteTime": {
     "end_time": "2024-02-23T01:23:09.371270900Z",
     "start_time": "2024-02-23T01:22:33.965866700Z"
    },
    "collapsed": false,
    "jupyter": {
     "outputs_hidden": false
    }
   },
   "outputs": [],
   "source": [
    "# Get start and end times from both coding and step ground truths\n",
    "GT_times = start_time_dataframe(ground_truth_2)\n",
    "seconds_times = start_time_dataframe(seconds_2)"
   ]
  },
  {
   "cell_type": "code",
   "execution_count": null,
   "id": "6398607b-3a87-4d16-ae82-c24083a2033c",
   "metadata": {
    "ExecuteTime": {
     "end_time": "2024-02-23T01:23:09.421245200Z",
     "start_time": "2024-02-23T01:23:09.398105100Z"
    }
   },
   "outputs": [],
   "source": [
    "start_end_info = pd.merge(GT_times, seconds_times, on=[\"ID\", \"Session\"], how=\"outer\", suffixes=(\"_GT\", '_secondsFile'))\n",
    "# Get differences between seconds/coding ground truth, in seconds\n",
    "start_end_info[\"StartDiffSecs(GT-seconds)\"] = (start_end_info[\"Start_GT\"] - start_end_info[\"Start_secondsFile\"]).dt.total_seconds()\n",
    "start_end_info[\"EndDiffSecs(GT-seconds)\"] = (start_end_info[\"End_GT\"] - start_end_info[\"End_secondsFile\"]).dt.total_seconds()\n",
    "start_end_info"
   ]
  },
  {
   "cell_type": "markdown",
   "id": "19833436-f136-4298-8e81-fd5094f6a008",
   "metadata": {},
   "source": [
    "**Add Issue Flags in Columns**"
   ]
  },
  {
   "cell_type": "code",
   "execution_count": null,
   "id": "c8834f91-77e2-4cba-892c-9fe73d6c89f6",
   "metadata": {
    "ExecuteTime": {
     "end_time": "2024-02-23T01:23:09.422396900Z",
     "start_time": "2024-02-23T01:23:09.406697900Z"
    }
   },
   "outputs": [],
   "source": [
    "# Function that flags id/observation pairs if the times between step and coding ground truth are off by around 12 hrs\n",
    "def flag_military(row):\n",
    "    if row > 40000:\n",
    "        return True\n",
    "    else:\n",
    "        return False"
   ]
  },
  {
   "cell_type": "code",
   "execution_count": null,
   "id": "13bc487f-2a3c-4008-988f-2fc71bdefd97",
   "metadata": {
    "ExecuteTime": {
     "end_time": "2024-02-23T01:23:09.446751Z",
     "start_time": "2024-02-23T01:23:09.411341300Z"
    }
   },
   "outputs": [],
   "source": [
    "start_end_info_2 = start_end_info.copy()\n",
    "start_end_info_2[\"MilitaryTimeFlag\"] = start_end_info_2[\"StartDiffSecs(GT-seconds)\"].apply(flag_military)\n",
    "start_end_info_2"
   ]
  },
  {
   "cell_type": "markdown",
   "id": "21c75aef-a817-4369-ab9c-1a28ba986c8f",
   "metadata": {},
   "source": [
    "**Issues:** \n",
    "* Negative start second differences implies that the ground truth start times are OUTSIDE the seconds file session times\n",
    "* Positive end second differences implies that the ground truth end times are OUTSIDE the seconds file session times\n",
    "\n",
    "**This implies that we have tagged times for this (ID, Session) pair in our ground truth file that have no information about steps taken :(**"
   ]
  },
  {
   "cell_type": "markdown",
   "id": "e3a1605c-9a43-4371-bc9b-359b48df1cdb",
   "metadata": {},
   "source": [
    "**1\\. Ground Truth File contains military time timestamps but seconds file is in AM/PM**\n",
    "* MilitaryTimeFlag = True means this row has this problem\n",
    "* **NOTE**: Fixed.\n",
    "\n",
    "**2\\. (ID, Session) pairs missing in seconds file (9 total)**\n",
    "* Probably just need to throw these out since we do not have step info for these :("
   ]
  },
  {
   "cell_type": "markdown",
   "id": "31c359b46ddab9ba",
   "metadata": {},
   "source": [
    "## Fix AM/PM Disparity"
   ]
  },
  {
   "cell_type": "code",
   "execution_count": null,
   "id": "51084e64-7680-456c-a646-dd073c018292",
   "metadata": {
    "ExecuteTime": {
     "end_time": "2024-02-23T01:33:14.012137300Z",
     "start_time": "2024-02-23T01:33:13.928511Z"
    }
   },
   "outputs": [],
   "source": [
    "start_end_info_3 = start_end_info_2.copy()\n",
    "# Fix start AM/PM\n",
    "start_end_info_3['Start_secondsFile'] = start_end_info_3['Start_secondsFile'] + pd.to_timedelta(\"12:00:00\") * start_end_info_3['MilitaryTimeFlag']\n",
    "# Fix end AM/PM\n",
    "start_end_info_3['End_secondsFile'] = start_end_info_3['End_secondsFile'] + pd.to_timedelta(\"12:00:00\") * start_end_info_3['MilitaryTimeFlag']\n",
    "# Recalculate differences\n",
    "start_end_info_3[\"StartDiffSecs(GT-seconds)\"] = (start_end_info_3[\"Start_GT\"] - start_end_info_3[\"Start_secondsFile\"]).dt.total_seconds()\n",
    "start_end_info_3[\"EndDiffSecs(GT-seconds)\"] = (start_end_info_3[\"End_GT\"] - start_end_info_3[\"End_secondsFile\"]).dt.total_seconds()\n",
    "# Recode military time flag\n",
    "start_end_info_3['MilitaryTimeFlag'] = start_end_info_3[\"StartDiffSecs(GT-seconds)\"].apply(flag_military)\n",
    "# We need to determine which rows in the second-by-second data fall within the intersection of the groundtruth time intervals, since they don't match up\n",
    "# Find the greatest start time\n",
    "start_end_info_3['max_start'] = start_end_info_3[['Start_GT', 'Start_secondsFile']].max(axis=1)\n",
    "# Find the smallest end time\n",
    "start_end_info_3['min_end'] = start_end_info_3[['End_GT', 'End_secondsFile']].min(axis=1)\n",
    "start_end_info_3"
   ]
  },
  {
   "cell_type": "code",
   "execution_count": null,
   "id": "1b290a6437f7dec6",
   "metadata": {
    "ExecuteTime": {
     "end_time": "2024-02-23T01:23:09.625412600Z",
     "start_time": "2024-02-23T01:23:09.478920800Z"
    },
    "collapsed": false,
    "jupyter": {
     "outputs_hidden": false
    }
   },
   "outputs": [],
   "source": [
    "# Check to make sure there are no more AM/PM disparities\n",
    "start_end_info_3[start_end_info_3['MilitaryTimeFlag']]"
   ]
  },
  {
   "cell_type": "code",
   "execution_count": null,
   "id": "6ae64940ded8ac13",
   "metadata": {
    "ExecuteTime": {
     "end_time": "2024-02-23T01:47:32.251541100Z",
     "start_time": "2024-02-23T01:47:32.150873900Z"
    },
    "collapsed": false,
    "jupyter": {
     "outputs_hidden": false
    }
   },
   "outputs": [],
   "source": [
    "# Edit steps ground truth to fix AM/PM disparities\n",
    "seconds_3 = seconds_2.merge(right = start_end_info_2[[\"ID\", \"Session\", \"MilitaryTimeFlag\", \"StartDiffSecs(GT-seconds)\"]], how = 'left',\n",
    "              left_on = [\"id\", \"observation\"], right_on = [\"ID\", \"Session\"])\n",
    "seconds_3[\"date_time\"] = seconds_3[\"date_time\"] + pd.to_timedelta(\"12:00:00\") * seconds_3[\"MilitaryTimeFlag\"]\n",
    "seconds_3 = seconds_3[[\"id\", \"observation\", \"date_time\", \"Quality\", \"Step\"]]\n",
    "seconds_3"
   ]
  },
  {
   "cell_type": "code",
   "execution_count": null,
   "id": "2a981397dddc2f2a",
   "metadata": {
    "ExecuteTime": {
     "end_time": "2024-02-23T01:47:35.293624800Z",
     "start_time": "2024-02-23T01:47:35.174680Z"
    },
    "collapsed": false,
    "jupyter": {
     "outputs_hidden": false
    }
   },
   "outputs": [],
   "source": [
    "# Check for duplicate times\n",
    "check = seconds_3[[\"id\", \"observation\", \"date_time\"]].value_counts()\n",
    "check[check>1]"
   ]
  },
  {
   "cell_type": "markdown",
   "id": "23def48c3737513",
   "metadata": {},
   "source": [
    "## Merge Ground Truth Datasets"
   ]
  },
  {
   "cell_type": "code",
   "execution_count": null,
   "id": "16d9aaba545140c9",
   "metadata": {
    "ExecuteTime": {
     "end_time": "2024-02-23T01:52:02.925694400Z",
     "start_time": "2024-02-23T01:52:02.177348600Z"
    },
    "collapsed": false,
    "jupyter": {
     "outputs_hidden": false
    }
   },
   "outputs": [],
   "source": [
    "# Outer merge coding with steps ground truth\n",
    "merged = pd.merge(left = ground_truth_2, right = seconds_3.drop(\"Quality\", axis=1), how=\"outer\", on=[\"id\", \"observation\", \"date_time\"])\n",
    "# Add flag for times that are inside the max start and min end interval\n",
    "merged = merged.merge(right = start_end_info_3[[\"ID\", \"Session\", \"max_start\", \"min_end\"]], how = 'left',\n",
    "                            left_on = [\"id\", \"observation\"], right_on = [\"ID\", \"Session\"])\n",
    "merged[\"inside_flag\"] = (merged[\"date_time\"] >= merged[\"max_start\"]) & (merged[\"date_time\"] <= merged[\"min_end\"])\n",
    "merged = merged.drop([\"ID\", \"Session\", \"max_start\", \"min_end\"], axis=1)\n",
    "merged"
   ]
  },
  {
   "cell_type": "code",
   "execution_count": null,
   "id": "ab212167abafb7d",
   "metadata": {
    "ExecuteTime": {
     "end_time": "2024-02-23T01:52:35.881479900Z",
     "start_time": "2024-02-23T01:52:35.717157400Z"
    },
    "collapsed": false,
    "jupyter": {
     "outputs_hidden": false
    }
   },
   "outputs": [],
   "source": [
    "# Check to make sure that there is only one row per second\n",
    "check = merged[[\"id\", \"observation\", \"date_time\"]].value_counts()\n",
    "check[check > 1]"
   ]
  },
  {
   "cell_type": "markdown",
   "id": "cc3c29a4a13e5230",
   "metadata": {},
   "source": [
    "## Check Valid Rows (Intersection of Steps, Coding Tables)"
   ]
  },
  {
   "cell_type": "markdown",
   "id": "aa528ff7cd0de40e",
   "metadata": {},
   "source": [
    "At this point, we know that the rows are invalid if:\n",
    "\n",
    "1. The ID and Session/observation are missing from the seconds ground truth entirely, not partially\n",
    "2. OR They fall outside of where the time intervals of the two ground truth files intersect.\n",
    "\n",
    "We need to know if any more rows are invalid. The only rows that could be invalid at this point are rows that:\n",
    "\n",
    "1. Have a valid ID/Session\n",
    "2. AND they fall within the time interval\n",
    "3. AND they either don't have steps or coding ground truth\n",
    "\n",
    "We need to check if any such rows exist."
   ]
  },
  {
   "cell_type": "code",
   "execution_count": null,
   "id": "35e52dba6d6d240f",
   "metadata": {
    "ExecuteTime": {
     "end_time": "2024-02-23T01:23:09.568544700Z",
     "start_time": "2024-02-23T01:23:09.461082500Z"
    },
    "collapsed": false,
    "jupyter": {
     "outputs_hidden": false
    }
   },
   "outputs": [],
   "source": [
    "# List of id/session that were found in the seconds file and in ground truth file\n",
    "id_session_notna = start_end_info_3[[\"ID\", \"Session\"]][~start_end_info_3[\"Start_secondsFile\"].isna()]\n",
    "id_session_notna"
   ]
  },
  {
   "cell_type": "code",
   "execution_count": null,
   "id": "68f734a9add19071",
   "metadata": {
    "ExecuteTime": {
     "end_time": "2024-02-23T01:56:09.875404500Z",
     "start_time": "2024-02-23T01:56:09.583931500Z"
    },
    "collapsed": false,
    "jupyter": {
     "outputs_hidden": false
    }
   },
   "outputs": [],
   "source": [
    "# Find all valid rows - rows that should have data from both coding and step ground truth\n",
    "# They should be in the valid id/sessions\n",
    "merged_valid = id_session_notna.merge(right = merged, left_on = [\"ID\", \"Session\"], right_on = [\"id\", \"observation\"]).drop([\"ID\", \"Session\"], axis=1)\n",
    "# They should also fall within the time interval between the max start and min end of both coding/step ground truth\n",
    "merged_valid = merged_valid[merged_valid[\"inside_flag\"] == True]\n",
    "merged_valid"
   ]
  },
  {
   "cell_type": "code",
   "execution_count": null,
   "id": "bf852747f20dce7d",
   "metadata": {
    "ExecuteTime": {
     "end_time": "2024-02-23T01:56:11.988545Z",
     "start_time": "2024-02-23T01:56:11.961034400Z"
    },
    "collapsed": false,
    "jupyter": {
     "outputs_hidden": false
    }
   },
   "outputs": [],
   "source": [
    "# Check if there are any invalid rows remaining - there should be none\n",
    "merged_valid[(merged_valid[\"walking_not\"].isna()) | (merged_valid[\"Step\"].isna())]"
   ]
  },
  {
   "cell_type": "markdown",
   "id": "8f17a2dbfe9d0e5d",
   "metadata": {},
   "source": [
    "Based on our analysis, there are no invalid rows that:\n",
    "\n",
    "1. Have a valid ID/Session\n",
    "2. AND they fall within the time interval\n",
    "3. AND they either don't have steps or coding ground truth"
   ]
  },
  {
   "cell_type": "markdown",
   "id": "529c8cf2eeab7d79",
   "metadata": {},
   "source": [
    "## Analyze Time Interval Disparity"
   ]
  },
  {
   "cell_type": "markdown",
   "id": "c9017756190f54c6",
   "metadata": {},
   "source": [
    "Here we show the rows that have a valid ID/Session but fall outside the time interval intersection of the two ground truth tables. They should match the sum of the difference in seconds of the start/end that we calculated in the start_end_info tables."
   ]
  },
  {
   "cell_type": "code",
   "execution_count": null,
   "id": "f47c21e3acce93ca",
   "metadata": {
    "ExecuteTime": {
     "end_time": "2024-02-23T01:54:39.332891500Z",
     "start_time": "2024-02-23T01:54:39.310902500Z"
    },
    "collapsed": false,
    "jupyter": {
     "outputs_hidden": false
    }
   },
   "outputs": [],
   "source": [
    "# Find the total number of seconds/rows that fall outside the max start/min end interval\n",
    "total_outside = start_end_info_3['StartDiffSecs(GT-seconds)'].abs().sum() + start_end_info_3['EndDiffSecs(GT-seconds)'].abs().sum()\n",
    "total_outside"
   ]
  },
  {
   "cell_type": "code",
   "execution_count": null,
   "id": "eafee2e7828fca4b",
   "metadata": {
    "ExecuteTime": {
     "end_time": "2024-02-23T01:59:16.219264800Z",
     "start_time": "2024-02-23T01:59:16.165417400Z"
    },
    "collapsed": false,
    "jupyter": {
     "outputs_hidden": false
    }
   },
   "outputs": [],
   "source": [
    "merged_outside = merged[merged[\"inside_flag\"] == False]\n",
    "merged_outside"
   ]
  },
  {
   "cell_type": "markdown",
   "id": "c06415859cd5ebad",
   "metadata": {},
   "source": [
    "The numbers match up. We have the correct number of rows that fall outside the interval. Because they fall outside of the interval intersection, they will only have steps or coding ground truth, not both.\n",
    "\n",
    "We can further separate the two into rows that are in only coding and rows that are only in step count (that fall outside the common time interval intersection)."
   ]
  },
  {
   "cell_type": "code",
   "execution_count": null,
   "id": "1afa8a270aa9ddff",
   "metadata": {
    "ExecuteTime": {
     "end_time": "2024-02-23T03:11:09.215805900Z",
     "start_time": "2024-02-23T03:11:09.160891900Z"
    },
    "collapsed": false,
    "jupyter": {
     "outputs_hidden": false
    }
   },
   "outputs": [],
   "source": [
    "# Only in step count\n",
    "sc_only = merged_outside[merged_outside[\"activity_type\"].isna()]\n",
    "sc_only"
   ]
  },
  {
   "cell_type": "code",
   "execution_count": null,
   "id": "cbc9bf5d7a3bd19e",
   "metadata": {
    "ExecuteTime": {
     "end_time": "2024-02-23T02:47:04.923994600Z",
     "start_time": "2024-02-23T02:47:04.880124800Z"
    },
    "collapsed": false,
    "jupyter": {
     "outputs_hidden": false
    }
   },
   "outputs": [],
   "source": [
    "# Only in coding\n",
    "gt_only = merged_outside[merged_outside[\"Step\"].isna()]\n",
    "gt_only"
   ]
  },
  {
   "cell_type": "markdown",
   "id": "a63a28a8338524b0",
   "metadata": {},
   "source": [
    "Some further analysis on the rows that are only in the coding ground truth:"
   ]
  },
  {
   "cell_type": "code",
   "execution_count": null,
   "id": "182266e34664496c",
   "metadata": {
    "ExecuteTime": {
     "end_time": "2024-02-23T02:56:34.934242300Z",
     "start_time": "2024-02-23T02:56:34.766159300Z"
    },
    "collapsed": false,
    "jupyter": {
     "outputs_hidden": false
    }
   },
   "outputs": [],
   "source": [
    "gt_only_summary = gt_only['activity_type'].value_counts()\n",
    "gt_only_summary = gt_only_summary.reset_index()\n",
    "gt_only_summary = gt_only_summary.rename(columns = {\"activity_type\": \"category\"})\n",
    "gt_only_summary['column'] = 'activity_type'\n",
    "\n",
    "for col in ['broad_activity_type', 'work_type', 'posture', 'sedentary_not', 'walking_not']:\n",
    "    new_summary = gt_only[col].value_counts()\n",
    "    new_summary = new_summary.reset_index()\n",
    "    new_summary = new_summary.rename(columns = {col: \"category\"})\n",
    "    new_summary['column'] = col\n",
    "    gt_only_summary = pd.concat([gt_only_summary, new_summary], axis=0)\n",
    "    \n",
    "gt_only_summary.groupby([\"column\", \"category\"]).sum()"
   ]
  },
  {
   "cell_type": "markdown",
   "id": "1a73ee651978b804",
   "metadata": {},
   "source": [
    "**IMPORTANT NOTE**: Observed, most rows are non-walking, sedentary, sitting. We may re-add these rows to the dataset if we can confirm from Dr. Keadle that we can assume a step count of 0 for these rows."
   ]
  },
  {
   "cell_type": "markdown",
   "id": "f1b6f7d51b6ccea1",
   "metadata": {},
   "source": [
    "Some further analysis on the rows only in step count:"
   ]
  },
  {
   "cell_type": "code",
   "execution_count": null,
   "id": "c6bf09fda23fce6c",
   "metadata": {
    "ExecuteTime": {
     "end_time": "2024-02-23T03:11:26.717973700Z",
     "start_time": "2024-02-23T03:11:26.706084900Z"
    },
    "collapsed": false,
    "jupyter": {
     "outputs_hidden": false
    }
   },
   "outputs": [],
   "source": [
    "sc_only['Step'].value_counts()"
   ]
  },
  {
   "cell_type": "markdown",
   "id": "3764bbc22d7be51a",
   "metadata": {},
   "source": [
    "## Analyze Missing IDs/Sessions from Steps Ground Truth"
   ]
  },
  {
   "cell_type": "markdown",
   "id": "a5e1083b516dad87",
   "metadata": {},
   "source": [
    "These rows correspond to coding ground truth ID/Sessions that are missing from the steps ground truth entirely."
   ]
  },
  {
   "cell_type": "code",
   "execution_count": null,
   "id": "16aa5a85826b7c8a",
   "metadata": {
    "ExecuteTime": {
     "end_time": "2024-02-23T01:58:47.244615400Z",
     "start_time": "2024-02-23T01:58:47.221775200Z"
    },
    "collapsed": false,
    "jupyter": {
     "outputs_hidden": false
    }
   },
   "outputs": [],
   "source": [
    "# List of id/session that were found in ground truth file but NOT seconds file\n",
    "id_session_na = start_end_info_3[[\"ID\", \"Session\"]][start_end_info_3[\"Start_secondsFile\"].isna()]\n",
    "id_session_na"
   ]
  },
  {
   "cell_type": "code",
   "execution_count": null,
   "id": "a34dd6840c493d67",
   "metadata": {
    "ExecuteTime": {
     "end_time": "2024-02-23T01:59:47.404153400Z",
     "start_time": "2024-02-23T01:59:47.322617700Z"
    },
    "collapsed": false,
    "jupyter": {
     "outputs_hidden": false
    }
   },
   "outputs": [],
   "source": [
    "merged_invalid_idsession = id_session_na.merge(right = merged, left_on = [\"ID\", \"Session\"], right_on = [\"id\", \"observation\"]).drop([\"ID\", \"Session\"], axis=1)\n",
    "merged_invalid_idsession"
   ]
  },
  {
   "cell_type": "markdown",
   "id": "3f7acea36c1b06b",
   "metadata": {},
   "source": [
    "## New Time Intervals"
   ]
  },
  {
   "cell_type": "code",
   "execution_count": null,
   "id": "7752f7d2ed5ff35f",
   "metadata": {
    "ExecuteTime": {
     "end_time": "2024-02-23T02:39:52.397804500Z",
     "start_time": "2024-02-23T02:39:35.392650200Z"
    },
    "collapsed": false,
    "jupyter": {
     "outputs_hidden": false
    }
   },
   "outputs": [],
   "source": [
    "final_start_end = start_time_dataframe(merged_valid)\n",
    "final_start_end"
   ]
  },
  {
   "cell_type": "markdown",
   "id": "f7e6b7456adeba7c",
   "metadata": {},
   "source": [
    "Compare to log:"
   ]
  },
  {
   "cell_type": "code",
   "execution_count": null,
   "id": "d8f90a1e09a51de2",
   "metadata": {
    "ExecuteTime": {
     "end_time": "2024-02-23T02:42:58.393767400Z",
     "start_time": "2024-02-23T02:42:58.356076900Z"
    },
    "collapsed": false,
    "jupyter": {
     "outputs_hidden": false
    }
   },
   "outputs": [],
   "source": [
    "log = pd.read_csv(\"do_log_final.csv\")\n",
    "log[\"Start\"] = pd.to_datetime(log[\"start_month\"].astype(str) + \"/\" +\n",
    "                              log[\"start_day\"].astype(str) + \"/\" +\n",
    "                              log[\"start_year\"].astype(str) + \"/\" + ' ' +\n",
    "                              log[\"start_time\"])\n",
    "log[\"End\"] = pd.to_datetime(log[\"start_month\"].astype(str) + \"/\" +\n",
    "                              log[\"start_day\"].astype(str) + \"/\" +\n",
    "                              log[\"start_year\"].astype(str) + \"/\" + ' ' +\n",
    "                              log[\"stop_time\"])\n",
    "log = log[['id', 'do', 'Start', 'End']].rename(columns = {\"do\": \"Session\", \"id\": \"ID\"})\n",
    "log"
   ]
  },
  {
   "cell_type": "code",
   "execution_count": null,
   "id": "de5d4ce02d5968cc",
   "metadata": {
    "ExecuteTime": {
     "end_time": "2024-02-23T02:45:31.250718800Z",
     "start_time": "2024-02-23T02:45:31.199348600Z"
    },
    "collapsed": false,
    "jupyter": {
     "outputs_hidden": false
    }
   },
   "outputs": [],
   "source": [
    "log_compare = final_start_end.merge(log, on=[\"ID\", \"Session\"], how=\"left\", suffixes=(\"_final\", \"_log\"))\n",
    "log_compare[\"Start_diff\"] = (log_compare[\"Start_final\"] - log_compare[\"Start_log\"]).dt.total_seconds()\n",
    "log_compare[\"End_diff\"] = (log_compare[\"End_final\"] - log_compare[\"End_log\"]).dt.total_seconds()\n",
    "log_compare"
   ]
  },
  {
   "cell_type": "markdown",
   "id": "5d25e0518bd659cd",
   "metadata": {},
   "source": [
    "## Final Table"
   ]
  },
  {
   "cell_type": "markdown",
   "id": "94831b9a98059135",
   "metadata": {},
   "source": [
    "**Final Ground Truth with Invalid Rows Dropped**"
   ]
  },
  {
   "cell_type": "code",
   "execution_count": null,
   "id": "30edc108c6e691c5",
   "metadata": {
    "ExecuteTime": {
     "end_time": "2024-02-23T03:17:46.861929200Z",
     "start_time": "2024-02-23T03:17:46.761223400Z"
    },
    "collapsed": false,
    "jupyter": {
     "outputs_hidden": false
    }
   },
   "outputs": [],
   "source": [
    "final_gt = merged_valid.drop([\"inside_flag\"], axis=1).rename(columns={\"Step\": \"step\"})\n",
    "final_gt['step'] = final_gt['step'].astype(int)\n",
    "final_gt"
   ]
  },
  {
   "cell_type": "code",
   "execution_count": null,
   "id": "688fe21320474257",
   "metadata": {
    "ExecuteTime": {
     "end_time": "2024-02-23T03:17:56.751587200Z",
     "start_time": "2024-02-23T03:17:54.382044200Z"
    },
    "collapsed": false,
    "jupyter": {
     "outputs_hidden": false
    }
   },
   "outputs": [],
   "source": [
    "final_gt.to_csv(\"merged_groundtruth_secbysec.csv\", index=False)"
   ]
  }
 ],
 "metadata": {
  "kernelspec": {
   "display_name": "Python 3",
   "language": "python",
   "name": "python3"
  },
  "language_info": {
   "codemirror_mode": {
    "name": "ipython",
    "version": 3
   },
   "file_extension": ".py",
   "mimetype": "text/x-python",
   "name": "python",
   "nbconvert_exporter": "python",
   "pygments_lexer": "ipython3",
   "version": "3.8.8"
  }
 },
 "nbformat": 4,
 "nbformat_minor": 5
}
