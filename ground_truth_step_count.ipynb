{
 "cells": [
  {
   "cell_type": "code",
   "execution_count": 1,
   "id": "initial_id",
   "metadata": {
    "collapsed": true,
    "ExecuteTime": {
     "end_time": "2024-02-07T23:49:41.271308Z",
     "start_time": "2024-02-07T23:49:34.017971Z"
    }
   },
   "outputs": [
    {
     "name": "stderr",
     "output_type": "stream",
     "text": [
      "/var/folders/b0/_np8ycmn60qgwzd37xn0y1bm0000gn/T/ipykernel_847/2035458946.py:1: DeprecationWarning: \n",
      "Pyarrow will become a required dependency of pandas in the next major release of pandas (pandas 3.0),\n",
      "(to allow more performant data types, such as the Arrow string type, and better interoperability with other libraries)\n",
      "but was not found to be installed on your system.\n",
      "If this would cause problems for you,\n",
      "please provide us feedback at https://github.com/pandas-dev/pandas/issues/54466\n",
      "        \n",
      "  import pandas as pd\n"
     ]
    }
   ],
   "source": [
    "import pandas as pd"
   ]
  },
  {
   "cell_type": "code",
   "execution_count": 2,
   "outputs": [
    {
     "data": {
      "text/plain": "    ID  Session           Relative Time      Date                    Time  \\\n0  126        2  0 days 00:01:45.150000  9/6/2019  0 days 10:37:45.150000   \n1  126        2  0 days 00:01:46.016000  9/6/2019  0 days 10:37:46.016000   \n2  126        2  0 days 00:01:46.400000  9/6/2019  0 days 10:37:46.400000   \n3  126        2  0 days 00:01:46.900000  9/6/2019  0 days 10:37:46.900000   \n4  126        2  0 days 00:01:47.483000  9/6/2019  0 days 10:37:47.483000   \n\n   Quality  Step  \n0  Codable     1  \n1  Codable     1  \n2  Codable     1  \n3  Codable     1  \n4  Codable     1  ",
      "text/html": "<div>\n<style scoped>\n    .dataframe tbody tr th:only-of-type {\n        vertical-align: middle;\n    }\n\n    .dataframe tbody tr th {\n        vertical-align: top;\n    }\n\n    .dataframe thead th {\n        text-align: right;\n    }\n</style>\n<table border=\"1\" class=\"dataframe\">\n  <thead>\n    <tr style=\"text-align: right;\">\n      <th></th>\n      <th>ID</th>\n      <th>Session</th>\n      <th>Relative Time</th>\n      <th>Date</th>\n      <th>Time</th>\n      <th>Quality</th>\n      <th>Step</th>\n    </tr>\n  </thead>\n  <tbody>\n    <tr>\n      <th>0</th>\n      <td>126</td>\n      <td>2</td>\n      <td>0 days 00:01:45.150000</td>\n      <td>9/6/2019</td>\n      <td>0 days 10:37:45.150000</td>\n      <td>Codable</td>\n      <td>1</td>\n    </tr>\n    <tr>\n      <th>1</th>\n      <td>126</td>\n      <td>2</td>\n      <td>0 days 00:01:46.016000</td>\n      <td>9/6/2019</td>\n      <td>0 days 10:37:46.016000</td>\n      <td>Codable</td>\n      <td>1</td>\n    </tr>\n    <tr>\n      <th>2</th>\n      <td>126</td>\n      <td>2</td>\n      <td>0 days 00:01:46.400000</td>\n      <td>9/6/2019</td>\n      <td>0 days 10:37:46.400000</td>\n      <td>Codable</td>\n      <td>1</td>\n    </tr>\n    <tr>\n      <th>3</th>\n      <td>126</td>\n      <td>2</td>\n      <td>0 days 00:01:46.900000</td>\n      <td>9/6/2019</td>\n      <td>0 days 10:37:46.900000</td>\n      <td>Codable</td>\n      <td>1</td>\n    </tr>\n    <tr>\n      <th>4</th>\n      <td>126</td>\n      <td>2</td>\n      <td>0 days 00:01:47.483000</td>\n      <td>9/6/2019</td>\n      <td>0 days 10:37:47.483000</td>\n      <td>Codable</td>\n      <td>1</td>\n    </tr>\n  </tbody>\n</table>\n</div>"
     },
     "execution_count": 2,
     "metadata": {},
     "output_type": "execute_result"
    }
   ],
   "source": [
    "df = pd.read_csv(\"/data/datasets/StepCount/step_ground_truth.csv\")\n",
    "# df = pd.read_csv(\"/Users/kirinasirohi/Desktop/DATA 451/DATA 451/step_ground_truth.csv\")\n",
    "df.head()"
   ],
   "metadata": {
    "collapsed": false,
    "ExecuteTime": {
     "end_time": "2024-02-07T23:49:42.841817Z",
     "start_time": "2024-02-07T23:49:41.247175Z"
    }
   },
   "id": "3ad20eb293c7e954"
  },
  {
   "cell_type": "code",
   "execution_count": 3,
   "outputs": [
    {
     "data": {
      "text/plain": "ID   Session\n102  1           4081\n     2           6819\n116  1           4506\n     2            459\n117  1          10329\n     2           3066\n122  1            324\n     2          10922\n124  1           2709\n     2           1880\n126  2           1452\n127  1           2060\n     2           1750\n128  2            693\n129  1           2242\n     2           2240\n130  1          10024\n     2            526\n131  1           4221\n     2           1878\n132  1           3448\n     2           2995\n133  1           5946\n     2           3486\n134  1           5020\n135  1           2599\n     2           8470\n136  1           7058\n138  1           1691\n140  1           1215\n     2           1341\n141  1           3364\n     2           4756\n143  2           5329\n144  1           1332\n     2            974\n150  1           1343\n     2            643\n154  2            191\nName: Step, dtype: int64"
     },
     "execution_count": 3,
     "metadata": {},
     "output_type": "execute_result"
    }
   ],
   "source": [
    "df.groupby(['ID', 'Session'])['Step'].count()"
   ],
   "metadata": {
    "collapsed": false,
    "ExecuteTime": {
     "end_time": "2024-02-07T23:49:43.245785Z",
     "start_time": "2024-02-07T23:49:42.835414Z"
    }
   },
   "id": "5e00a957de6f31b"
  },
  {
   "cell_type": "code",
   "execution_count": null,
   "outputs": [],
   "source": [],
   "metadata": {
    "collapsed": false
   },
   "id": "882ffe5ab9a5e655"
  }
 ],
 "metadata": {
  "kernelspec": {
   "display_name": "Python 3",
   "language": "python",
   "name": "python3"
  },
  "language_info": {
   "codemirror_mode": {
    "name": "ipython",
    "version": 2
   },
   "file_extension": ".py",
   "mimetype": "text/x-python",
   "name": "python",
   "nbconvert_exporter": "python",
   "pygments_lexer": "ipython2",
   "version": "2.7.6"
  }
 },
 "nbformat": 4,
 "nbformat_minor": 5
}
