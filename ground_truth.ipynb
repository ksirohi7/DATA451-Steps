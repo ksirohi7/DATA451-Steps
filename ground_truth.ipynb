{
 "cells": [
  {
   "cell_type": "markdown",
   "source": [
    "## Setup"
   ],
   "metadata": {
    "collapsed": false,
    "id": "1b5bb7b2668f2998"
   },
   "id": "1b5bb7b2668f2998"
  },
  {
   "cell_type": "code",
   "execution_count": 1,
   "id": "initial_id",
   "metadata": {
    "collapsed": true,
    "id": "initial_id",
    "ExecuteTime": {
     "end_time": "2024-02-14T22:11:07.906996700Z",
     "start_time": "2024-02-14T22:11:06.397177300Z"
    }
   },
   "outputs": [],
   "source": [
    "import pandas as pd\n",
    "import numpy as np\n",
    "import warnings"
   ]
  },
  {
   "cell_type": "code",
   "execution_count": 2,
   "outputs": [],
   "source": [
    "warnings.filterwarnings(\"ignore\")"
   ],
   "metadata": {
    "id": "e498d86a4c2b5e96",
    "ExecuteTime": {
     "end_time": "2024-02-14T22:11:07.972691900Z",
     "start_time": "2024-02-14T22:11:07.825284800Z"
    }
   },
   "id": "e498d86a4c2b5e96"
  },
  {
   "cell_type": "markdown",
   "source": [
    "## Reading Files"
   ],
   "metadata": {
    "collapsed": false,
    "id": "da1d271c91158ab3"
   },
   "id": "da1d271c91158ab3"
  },
  {
   "cell_type": "markdown",
   "source": [
    "Files needed:\n",
    "\n",
    "- `log` - do_log_final.csv\n",
    "- `act24_event` - ACT24_directobservationdata_event.csv"
   ],
   "metadata": {
    "collapsed": false,
    "id": "c63f0432bbc253"
   },
   "id": "c63f0432bbc253"
  },
  {
   "cell_type": "code",
   "execution_count": 3,
   "outputs": [
    {
     "data": {
      "text/plain": "     id  do  start_month  start_day  start_year   start_time    stop_time  \\\n0   102   1            7         24        2019   8:20:19 AM  11:21:13 AM   \n1   102   2            7         25        2019  12:42:08 PM   3:42:00 PM   \n2   116   1            8         20        2019   8:08:45 AM  11:09:00 AM   \n3   116   2            8         21        2019  11:09:47 AM   1:28:00 PM   \n4   117   1            8         20        2019   3:17:46 PM   6:18:00 PM   \n5   117   2            8         21        2019   7:11:45 AM  10:13:00 AM   \n6   122   1            8         28        2019  10:06:41 AM   1:07:00 PM   \n7   122   2            8         29        2019   3:19:51 PM   6:23:00 PM   \n8   124   1            8         28        2019   2:59:09 PM   5:59:05 PM   \n9   124   2            8         29        2019   9:31:00 AM  12:31:00 PM   \n10  126   1            9          2        2019  11:14:51 AM   2:15:00 PM   \n11  126   2            9          6        2019  10:36:00 AM   1:36:00 PM   \n12  127   1            9          5        2019   4:07:56 PM   7:08:00 PM   \n13  127   2            9          9        2019  10:56:00 AM   1:56:00 PM   \n14  128   1            9          6        2019   7:00:01 AM  10:00:00 AM   \n15  128   2            9         10        2019   1:21:00 PM   4:17:00 PM   \n16  129   1            9          7        2019   8:55:00 AM  11:55:00 AM   \n17  129   2            9         10        2019   4:31:46 PM   7:32:00 PM   \n18  130   1            9          8        2019   5:28:00 PM   8:28:00 PM   \n19  130   2            9         10        2019   8:02:01 AM  11:02:00 AM   \n20  131   1            9         12        2019  10:57:42 AM   1:58:00 PM   \n21  131   2            9         16        2019   9:04:54 AM  11:55:00 AM   \n22  132   1           10          4        2019   1:31:18 PM   4:31:00 PM   \n23  132   2           10         10        2019   9:24:44 AM  12:07:00 PM   \n24  133   1           10         10        2019   2:31:56 PM   5:31:26 PM   \n25  133   2           10         11        2019  10:23:20 AM   1:23:00 PM   \n26  134   1           10          9        2019  12:57:15 PM   3:42:00 PM   \n27  134   2           10         13        2019  12:56:53 PM   3:57:00 PM   \n28  135   1           10         15        2019   3:32:01 PM   6:32:00 PM   \n29  135   2           10         19        2019  12:49:51 PM   3:50:01 PM   \n30  136   1           10         17        2019   1:41:00 PM   4:41:00 PM   \n31  136   2           10         19        2019   9:00:51 AM  12:01:00 PM   \n32  138   1           11          1        2019   4:11:00 PM   6:01:00 PM   \n33  138   2           11          2        2019   9:23:00 AM  12:24:00 PM   \n34  139   1           11          3        2019   2:19:51 PM   5:20:00 PM   \n35  139   2           11          5        2019   3:04:47 PM   6:05:00 PM   \n36  140   1           11          9        2019   8:59:21 AM  11:59:00 AM   \n37  140   2           11          9        2019   1:04:00 PM   4:04:00 PM   \n38  141   1           11          6        2019  12:27:52 PM   3:29:00 PM   \n39  141   2           11         10        2019  10:01:00 AM   1:01:00 PM   \n40  143   1           11         16        2019  10:07:00 AM   1:07:00 PM   \n41  143   2           11         18        2019   1:02:00 PM   4:02:00 PM   \n42  144   1           11         22        2019  12:38:00 PM   3:39:00 PM   \n43  144   2           11         23        2019   4:35:01 PM   7:35:00 PM   \n44  150   1            1         19        2020   9:29:05 AM   1:18:25 PM   \n45  150   2            1         21        2020   7:31:52 PM  10:32:00 PM   \n46  154   1            2         22        2020   1:07:59 PM   4:06:59 PM   \n47  154   2            2         23        2020   1:04:09 PM   3:56:00 PM   \n\n   duration_hrs duation_min  \n0       3:00:54   180:54:00  \n1       2:59:52   179:52:00  \n2       3:00:15   180:15:00  \n3       2:18:13   138:13:00  \n4       3:00:14   180:14:00  \n5       3:01:15   181:15:00  \n6       3:00:19   180:19:00  \n7       3:03:09   183:09:00  \n8       2:59:56   179:56:00  \n9       3:00:00   180:00:00  \n10      3:00:09   180:09:00  \n11      3:00:00   180:00:00  \n12      3:00:04   180:04:00  \n13      3:00:00   180:00:00  \n14      2:59:59   179:59:00  \n15      2:56:00   176:00:00  \n16      3:00:00   180:00:00  \n17      3:00:14   180:14:00  \n18      3:00:00   180:00:00  \n19      2:59:59   179:59:00  \n20      3:00:18   180:18:00  \n21      2:50:06   170:06:00  \n22      2:59:42   179:42:00  \n23      2:42:16   162:16:00  \n24      2:59:30   179:30:00  \n25      2:59:40   179:40:00  \n26      2:44:45   164:45:00  \n27      3:00:07   180:07:00  \n28      2:59:59   179:59:00  \n29      3:00:10   180:10:00  \n30      3:00:00   180:00:00  \n31      3:00:09   180:09:00  \n32      1:50:00   110:00:00  \n33      3:01:00   181:00:00  \n34      3:00:09   180:09:00  \n35      3:00:13   180:13:00  \n36      2:59:39   179:39:00  \n37      3:00:00   180:00:00  \n38      3:01:08   181:08:00  \n39      3:00:00   180:00:00  \n40      3:00:00   180:00:00  \n41      3:00:00   180:00:00  \n42      3:01:00   181:00:00  \n43      2:59:59   179:59:00  \n44      3:49:20   229:20:00  \n45      3:00:08   180:08:00  \n46      2:59:00   179:00:00  \n47      2:51:51   171:51:00  ",
      "text/html": "<div>\n<style scoped>\n    .dataframe tbody tr th:only-of-type {\n        vertical-align: middle;\n    }\n\n    .dataframe tbody tr th {\n        vertical-align: top;\n    }\n\n    .dataframe thead th {\n        text-align: right;\n    }\n</style>\n<table border=\"1\" class=\"dataframe\">\n  <thead>\n    <tr style=\"text-align: right;\">\n      <th></th>\n      <th>id</th>\n      <th>do</th>\n      <th>start_month</th>\n      <th>start_day</th>\n      <th>start_year</th>\n      <th>start_time</th>\n      <th>stop_time</th>\n      <th>duration_hrs</th>\n      <th>duation_min</th>\n    </tr>\n  </thead>\n  <tbody>\n    <tr>\n      <th>0</th>\n      <td>102</td>\n      <td>1</td>\n      <td>7</td>\n      <td>24</td>\n      <td>2019</td>\n      <td>8:20:19 AM</td>\n      <td>11:21:13 AM</td>\n      <td>3:00:54</td>\n      <td>180:54:00</td>\n    </tr>\n    <tr>\n      <th>1</th>\n      <td>102</td>\n      <td>2</td>\n      <td>7</td>\n      <td>25</td>\n      <td>2019</td>\n      <td>12:42:08 PM</td>\n      <td>3:42:00 PM</td>\n      <td>2:59:52</td>\n      <td>179:52:00</td>\n    </tr>\n    <tr>\n      <th>2</th>\n      <td>116</td>\n      <td>1</td>\n      <td>8</td>\n      <td>20</td>\n      <td>2019</td>\n      <td>8:08:45 AM</td>\n      <td>11:09:00 AM</td>\n      <td>3:00:15</td>\n      <td>180:15:00</td>\n    </tr>\n    <tr>\n      <th>3</th>\n      <td>116</td>\n      <td>2</td>\n      <td>8</td>\n      <td>21</td>\n      <td>2019</td>\n      <td>11:09:47 AM</td>\n      <td>1:28:00 PM</td>\n      <td>2:18:13</td>\n      <td>138:13:00</td>\n    </tr>\n    <tr>\n      <th>4</th>\n      <td>117</td>\n      <td>1</td>\n      <td>8</td>\n      <td>20</td>\n      <td>2019</td>\n      <td>3:17:46 PM</td>\n      <td>6:18:00 PM</td>\n      <td>3:00:14</td>\n      <td>180:14:00</td>\n    </tr>\n    <tr>\n      <th>5</th>\n      <td>117</td>\n      <td>2</td>\n      <td>8</td>\n      <td>21</td>\n      <td>2019</td>\n      <td>7:11:45 AM</td>\n      <td>10:13:00 AM</td>\n      <td>3:01:15</td>\n      <td>181:15:00</td>\n    </tr>\n    <tr>\n      <th>6</th>\n      <td>122</td>\n      <td>1</td>\n      <td>8</td>\n      <td>28</td>\n      <td>2019</td>\n      <td>10:06:41 AM</td>\n      <td>1:07:00 PM</td>\n      <td>3:00:19</td>\n      <td>180:19:00</td>\n    </tr>\n    <tr>\n      <th>7</th>\n      <td>122</td>\n      <td>2</td>\n      <td>8</td>\n      <td>29</td>\n      <td>2019</td>\n      <td>3:19:51 PM</td>\n      <td>6:23:00 PM</td>\n      <td>3:03:09</td>\n      <td>183:09:00</td>\n    </tr>\n    <tr>\n      <th>8</th>\n      <td>124</td>\n      <td>1</td>\n      <td>8</td>\n      <td>28</td>\n      <td>2019</td>\n      <td>2:59:09 PM</td>\n      <td>5:59:05 PM</td>\n      <td>2:59:56</td>\n      <td>179:56:00</td>\n    </tr>\n    <tr>\n      <th>9</th>\n      <td>124</td>\n      <td>2</td>\n      <td>8</td>\n      <td>29</td>\n      <td>2019</td>\n      <td>9:31:00 AM</td>\n      <td>12:31:00 PM</td>\n      <td>3:00:00</td>\n      <td>180:00:00</td>\n    </tr>\n    <tr>\n      <th>10</th>\n      <td>126</td>\n      <td>1</td>\n      <td>9</td>\n      <td>2</td>\n      <td>2019</td>\n      <td>11:14:51 AM</td>\n      <td>2:15:00 PM</td>\n      <td>3:00:09</td>\n      <td>180:09:00</td>\n    </tr>\n    <tr>\n      <th>11</th>\n      <td>126</td>\n      <td>2</td>\n      <td>9</td>\n      <td>6</td>\n      <td>2019</td>\n      <td>10:36:00 AM</td>\n      <td>1:36:00 PM</td>\n      <td>3:00:00</td>\n      <td>180:00:00</td>\n    </tr>\n    <tr>\n      <th>12</th>\n      <td>127</td>\n      <td>1</td>\n      <td>9</td>\n      <td>5</td>\n      <td>2019</td>\n      <td>4:07:56 PM</td>\n      <td>7:08:00 PM</td>\n      <td>3:00:04</td>\n      <td>180:04:00</td>\n    </tr>\n    <tr>\n      <th>13</th>\n      <td>127</td>\n      <td>2</td>\n      <td>9</td>\n      <td>9</td>\n      <td>2019</td>\n      <td>10:56:00 AM</td>\n      <td>1:56:00 PM</td>\n      <td>3:00:00</td>\n      <td>180:00:00</td>\n    </tr>\n    <tr>\n      <th>14</th>\n      <td>128</td>\n      <td>1</td>\n      <td>9</td>\n      <td>6</td>\n      <td>2019</td>\n      <td>7:00:01 AM</td>\n      <td>10:00:00 AM</td>\n      <td>2:59:59</td>\n      <td>179:59:00</td>\n    </tr>\n    <tr>\n      <th>15</th>\n      <td>128</td>\n      <td>2</td>\n      <td>9</td>\n      <td>10</td>\n      <td>2019</td>\n      <td>1:21:00 PM</td>\n      <td>4:17:00 PM</td>\n      <td>2:56:00</td>\n      <td>176:00:00</td>\n    </tr>\n    <tr>\n      <th>16</th>\n      <td>129</td>\n      <td>1</td>\n      <td>9</td>\n      <td>7</td>\n      <td>2019</td>\n      <td>8:55:00 AM</td>\n      <td>11:55:00 AM</td>\n      <td>3:00:00</td>\n      <td>180:00:00</td>\n    </tr>\n    <tr>\n      <th>17</th>\n      <td>129</td>\n      <td>2</td>\n      <td>9</td>\n      <td>10</td>\n      <td>2019</td>\n      <td>4:31:46 PM</td>\n      <td>7:32:00 PM</td>\n      <td>3:00:14</td>\n      <td>180:14:00</td>\n    </tr>\n    <tr>\n      <th>18</th>\n      <td>130</td>\n      <td>1</td>\n      <td>9</td>\n      <td>8</td>\n      <td>2019</td>\n      <td>5:28:00 PM</td>\n      <td>8:28:00 PM</td>\n      <td>3:00:00</td>\n      <td>180:00:00</td>\n    </tr>\n    <tr>\n      <th>19</th>\n      <td>130</td>\n      <td>2</td>\n      <td>9</td>\n      <td>10</td>\n      <td>2019</td>\n      <td>8:02:01 AM</td>\n      <td>11:02:00 AM</td>\n      <td>2:59:59</td>\n      <td>179:59:00</td>\n    </tr>\n    <tr>\n      <th>20</th>\n      <td>131</td>\n      <td>1</td>\n      <td>9</td>\n      <td>12</td>\n      <td>2019</td>\n      <td>10:57:42 AM</td>\n      <td>1:58:00 PM</td>\n      <td>3:00:18</td>\n      <td>180:18:00</td>\n    </tr>\n    <tr>\n      <th>21</th>\n      <td>131</td>\n      <td>2</td>\n      <td>9</td>\n      <td>16</td>\n      <td>2019</td>\n      <td>9:04:54 AM</td>\n      <td>11:55:00 AM</td>\n      <td>2:50:06</td>\n      <td>170:06:00</td>\n    </tr>\n    <tr>\n      <th>22</th>\n      <td>132</td>\n      <td>1</td>\n      <td>10</td>\n      <td>4</td>\n      <td>2019</td>\n      <td>1:31:18 PM</td>\n      <td>4:31:00 PM</td>\n      <td>2:59:42</td>\n      <td>179:42:00</td>\n    </tr>\n    <tr>\n      <th>23</th>\n      <td>132</td>\n      <td>2</td>\n      <td>10</td>\n      <td>10</td>\n      <td>2019</td>\n      <td>9:24:44 AM</td>\n      <td>12:07:00 PM</td>\n      <td>2:42:16</td>\n      <td>162:16:00</td>\n    </tr>\n    <tr>\n      <th>24</th>\n      <td>133</td>\n      <td>1</td>\n      <td>10</td>\n      <td>10</td>\n      <td>2019</td>\n      <td>2:31:56 PM</td>\n      <td>5:31:26 PM</td>\n      <td>2:59:30</td>\n      <td>179:30:00</td>\n    </tr>\n    <tr>\n      <th>25</th>\n      <td>133</td>\n      <td>2</td>\n      <td>10</td>\n      <td>11</td>\n      <td>2019</td>\n      <td>10:23:20 AM</td>\n      <td>1:23:00 PM</td>\n      <td>2:59:40</td>\n      <td>179:40:00</td>\n    </tr>\n    <tr>\n      <th>26</th>\n      <td>134</td>\n      <td>1</td>\n      <td>10</td>\n      <td>9</td>\n      <td>2019</td>\n      <td>12:57:15 PM</td>\n      <td>3:42:00 PM</td>\n      <td>2:44:45</td>\n      <td>164:45:00</td>\n    </tr>\n    <tr>\n      <th>27</th>\n      <td>134</td>\n      <td>2</td>\n      <td>10</td>\n      <td>13</td>\n      <td>2019</td>\n      <td>12:56:53 PM</td>\n      <td>3:57:00 PM</td>\n      <td>3:00:07</td>\n      <td>180:07:00</td>\n    </tr>\n    <tr>\n      <th>28</th>\n      <td>135</td>\n      <td>1</td>\n      <td>10</td>\n      <td>15</td>\n      <td>2019</td>\n      <td>3:32:01 PM</td>\n      <td>6:32:00 PM</td>\n      <td>2:59:59</td>\n      <td>179:59:00</td>\n    </tr>\n    <tr>\n      <th>29</th>\n      <td>135</td>\n      <td>2</td>\n      <td>10</td>\n      <td>19</td>\n      <td>2019</td>\n      <td>12:49:51 PM</td>\n      <td>3:50:01 PM</td>\n      <td>3:00:10</td>\n      <td>180:10:00</td>\n    </tr>\n    <tr>\n      <th>30</th>\n      <td>136</td>\n      <td>1</td>\n      <td>10</td>\n      <td>17</td>\n      <td>2019</td>\n      <td>1:41:00 PM</td>\n      <td>4:41:00 PM</td>\n      <td>3:00:00</td>\n      <td>180:00:00</td>\n    </tr>\n    <tr>\n      <th>31</th>\n      <td>136</td>\n      <td>2</td>\n      <td>10</td>\n      <td>19</td>\n      <td>2019</td>\n      <td>9:00:51 AM</td>\n      <td>12:01:00 PM</td>\n      <td>3:00:09</td>\n      <td>180:09:00</td>\n    </tr>\n    <tr>\n      <th>32</th>\n      <td>138</td>\n      <td>1</td>\n      <td>11</td>\n      <td>1</td>\n      <td>2019</td>\n      <td>4:11:00 PM</td>\n      <td>6:01:00 PM</td>\n      <td>1:50:00</td>\n      <td>110:00:00</td>\n    </tr>\n    <tr>\n      <th>33</th>\n      <td>138</td>\n      <td>2</td>\n      <td>11</td>\n      <td>2</td>\n      <td>2019</td>\n      <td>9:23:00 AM</td>\n      <td>12:24:00 PM</td>\n      <td>3:01:00</td>\n      <td>181:00:00</td>\n    </tr>\n    <tr>\n      <th>34</th>\n      <td>139</td>\n      <td>1</td>\n      <td>11</td>\n      <td>3</td>\n      <td>2019</td>\n      <td>2:19:51 PM</td>\n      <td>5:20:00 PM</td>\n      <td>3:00:09</td>\n      <td>180:09:00</td>\n    </tr>\n    <tr>\n      <th>35</th>\n      <td>139</td>\n      <td>2</td>\n      <td>11</td>\n      <td>5</td>\n      <td>2019</td>\n      <td>3:04:47 PM</td>\n      <td>6:05:00 PM</td>\n      <td>3:00:13</td>\n      <td>180:13:00</td>\n    </tr>\n    <tr>\n      <th>36</th>\n      <td>140</td>\n      <td>1</td>\n      <td>11</td>\n      <td>9</td>\n      <td>2019</td>\n      <td>8:59:21 AM</td>\n      <td>11:59:00 AM</td>\n      <td>2:59:39</td>\n      <td>179:39:00</td>\n    </tr>\n    <tr>\n      <th>37</th>\n      <td>140</td>\n      <td>2</td>\n      <td>11</td>\n      <td>9</td>\n      <td>2019</td>\n      <td>1:04:00 PM</td>\n      <td>4:04:00 PM</td>\n      <td>3:00:00</td>\n      <td>180:00:00</td>\n    </tr>\n    <tr>\n      <th>38</th>\n      <td>141</td>\n      <td>1</td>\n      <td>11</td>\n      <td>6</td>\n      <td>2019</td>\n      <td>12:27:52 PM</td>\n      <td>3:29:00 PM</td>\n      <td>3:01:08</td>\n      <td>181:08:00</td>\n    </tr>\n    <tr>\n      <th>39</th>\n      <td>141</td>\n      <td>2</td>\n      <td>11</td>\n      <td>10</td>\n      <td>2019</td>\n      <td>10:01:00 AM</td>\n      <td>1:01:00 PM</td>\n      <td>3:00:00</td>\n      <td>180:00:00</td>\n    </tr>\n    <tr>\n      <th>40</th>\n      <td>143</td>\n      <td>1</td>\n      <td>11</td>\n      <td>16</td>\n      <td>2019</td>\n      <td>10:07:00 AM</td>\n      <td>1:07:00 PM</td>\n      <td>3:00:00</td>\n      <td>180:00:00</td>\n    </tr>\n    <tr>\n      <th>41</th>\n      <td>143</td>\n      <td>2</td>\n      <td>11</td>\n      <td>18</td>\n      <td>2019</td>\n      <td>1:02:00 PM</td>\n      <td>4:02:00 PM</td>\n      <td>3:00:00</td>\n      <td>180:00:00</td>\n    </tr>\n    <tr>\n      <th>42</th>\n      <td>144</td>\n      <td>1</td>\n      <td>11</td>\n      <td>22</td>\n      <td>2019</td>\n      <td>12:38:00 PM</td>\n      <td>3:39:00 PM</td>\n      <td>3:01:00</td>\n      <td>181:00:00</td>\n    </tr>\n    <tr>\n      <th>43</th>\n      <td>144</td>\n      <td>2</td>\n      <td>11</td>\n      <td>23</td>\n      <td>2019</td>\n      <td>4:35:01 PM</td>\n      <td>7:35:00 PM</td>\n      <td>2:59:59</td>\n      <td>179:59:00</td>\n    </tr>\n    <tr>\n      <th>44</th>\n      <td>150</td>\n      <td>1</td>\n      <td>1</td>\n      <td>19</td>\n      <td>2020</td>\n      <td>9:29:05 AM</td>\n      <td>1:18:25 PM</td>\n      <td>3:49:20</td>\n      <td>229:20:00</td>\n    </tr>\n    <tr>\n      <th>45</th>\n      <td>150</td>\n      <td>2</td>\n      <td>1</td>\n      <td>21</td>\n      <td>2020</td>\n      <td>7:31:52 PM</td>\n      <td>10:32:00 PM</td>\n      <td>3:00:08</td>\n      <td>180:08:00</td>\n    </tr>\n    <tr>\n      <th>46</th>\n      <td>154</td>\n      <td>1</td>\n      <td>2</td>\n      <td>22</td>\n      <td>2020</td>\n      <td>1:07:59 PM</td>\n      <td>4:06:59 PM</td>\n      <td>2:59:00</td>\n      <td>179:00:00</td>\n    </tr>\n    <tr>\n      <th>47</th>\n      <td>154</td>\n      <td>2</td>\n      <td>2</td>\n      <td>23</td>\n      <td>2020</td>\n      <td>1:04:09 PM</td>\n      <td>3:56:00 PM</td>\n      <td>2:51:51</td>\n      <td>171:51:00</td>\n    </tr>\n  </tbody>\n</table>\n</div>"
     },
     "execution_count": 3,
     "metadata": {},
     "output_type": "execute_result"
    }
   ],
   "source": [
    "log = pd.read_csv(\"do_log_final.csv\")\n",
    "log"
   ],
   "metadata": {
    "colab": {
     "base_uri": "https://localhost:8080/",
     "height": 1000
    },
    "id": "213e0b5c72ad7a38",
    "outputId": "4a76806b-f0a7-4921-a26a-a0bba5d61c58",
    "ExecuteTime": {
     "end_time": "2024-02-14T22:11:08.094746700Z",
     "start_time": "2024-02-14T22:11:07.833006500Z"
    }
   },
   "id": "213e0b5c72ad7a38"
  },
  {
   "cell_type": "code",
   "execution_count": 4,
   "outputs": [
    {
     "data": {
      "text/plain": "      Date_Time_Absolute_dmy_hmsf    Date_dmy Time_Absolute_hms  \\\n0         24-03-2020 11:17:41.259  24-03-2020          11:17:41   \n1         24-03-2020 11:17:41.259  24-03-2020          11:17:41   \n2         24-03-2020 11:17:41.259  24-03-2020          11:17:41   \n3         24-03-2020 11:17:41.259  24-03-2020          11:17:41   \n4         24-03-2020 11:18:23.857  24-03-2020          11:18:23   \n...                           ...         ...               ...   \n16125     20-05-2020 21:24:36.484  20-05-2020          21:24:36   \n16126     20-05-2020 21:24:41.906  20-05-2020          21:24:41   \n16127     20-05-2020 21:24:41.906  20-05-2020          21:24:41   \n16128     21-05-2020 00:12:26.890  21-05-2020           0:12:26   \n16129     21-05-2020 00:12:26.890  21-05-2020           0:12:26   \n\n       Time_Absolute_f                                 Time_Relative_hmsf  \\\n0                  259  ##############################################...   \n1                  259  ##############################################...   \n2                  259  ##############################################...   \n3                  259  ##############################################...   \n4                  857                                            00:42.6   \n...                ...                                                ...   \n16125              484                                            02:09.6   \n16126              906                                            02:15.0   \n16127              906                                            02:15.0   \n16128              890                                            50:00.0   \n16129              890                                            50:00.0   \n\n      Time_Relative_hms  Time_Relative_f  Time_Relative_sf  Duration_sf  \\\n0               0:00:00                1           0.00137     42.59830   \n1               0:00:00                1           0.00137      0.00000   \n2               0:00:00                1           0.00137      0.00000   \n3               0:00:00                1           0.00137     53.71450   \n4               0:00:42              597          42.59690      0.00000   \n...                 ...              ...               ...          ...   \n16125           0:02:09              594         129.59400      5.42198   \n16126           0:02:15               16         135.01600      0.00000   \n16127           0:02:15               16         135.01600  10065.00000   \n16128           2:50:00                0       10200.00000      0.00000   \n16129           2:50:00                0       10200.00000      0.00000   \n\n       Observation  Event_Log                               Behavior  \\\n0      ID_102_01_C  Event log                              LA- stand   \n1      ID_102_01_C  Event log                                    NaN   \n2      ID_102_01_C  Event log                                    NaN   \n3      ID_102_01_C  Event log                           WRK- general   \n4      ID_102_01_C  Event log                              LA- stand   \n...            ...        ...                                    ...   \n16125  ID_154_02_R  Event log                     LA- stand and move   \n16126  ID_154_02_R  Event log                     LA- stand and move   \n16127  ID_154_02_R  Event log                             SB-sitting   \n16128  ID_154_02_R  Event log  EDU- taking class, research, homework   \n16129  ID_154_02_R  Event log                             SB-sitting   \n\n      Modifier_1 Modifier_2                         Modifier_3   Event_Type  \\\n0            NaN        NaN                                NaN  State start   \n1            NaN        NaN                                NaN  State point   \n2            NaN        NaN                                NaN  State point   \n3            NaN        NaN  SP- Education and Health Services  State start   \n4            NaN        NaN                                NaN   State stop   \n...          ...        ...                                ...          ...   \n16125        NaN      light                                NaN  State start   \n16126        NaN      light                                NaN   State stop   \n16127        NaN        NaN                                NaN  State start   \n16128        NaN        NaN                                NaN   State stop   \n16129        NaN        NaN                                NaN   State stop   \n\n      Comment  Unnamed: 17  Unnamed: 18  \n0         NaN          NaN          NaN  \n1         NaN          NaN          NaN  \n2         NaN          NaN          NaN  \n3         NaN          NaN          NaN  \n4         NaN          NaN          NaN  \n...       ...          ...          ...  \n16125     NaN          NaN          NaN  \n16126     NaN          NaN          NaN  \n16127     NaN          NaN          NaN  \n16128     NaN          NaN          NaN  \n16129     NaN          NaN          NaN  \n\n[16130 rows x 19 columns]",
      "text/html": "<div>\n<style scoped>\n    .dataframe tbody tr th:only-of-type {\n        vertical-align: middle;\n    }\n\n    .dataframe tbody tr th {\n        vertical-align: top;\n    }\n\n    .dataframe thead th {\n        text-align: right;\n    }\n</style>\n<table border=\"1\" class=\"dataframe\">\n  <thead>\n    <tr style=\"text-align: right;\">\n      <th></th>\n      <th>Date_Time_Absolute_dmy_hmsf</th>\n      <th>Date_dmy</th>\n      <th>Time_Absolute_hms</th>\n      <th>Time_Absolute_f</th>\n      <th>Time_Relative_hmsf</th>\n      <th>Time_Relative_hms</th>\n      <th>Time_Relative_f</th>\n      <th>Time_Relative_sf</th>\n      <th>Duration_sf</th>\n      <th>Observation</th>\n      <th>Event_Log</th>\n      <th>Behavior</th>\n      <th>Modifier_1</th>\n      <th>Modifier_2</th>\n      <th>Modifier_3</th>\n      <th>Event_Type</th>\n      <th>Comment</th>\n      <th>Unnamed: 17</th>\n      <th>Unnamed: 18</th>\n    </tr>\n  </thead>\n  <tbody>\n    <tr>\n      <th>0</th>\n      <td>24-03-2020 11:17:41.259</td>\n      <td>24-03-2020</td>\n      <td>11:17:41</td>\n      <td>259</td>\n      <td>##############################################...</td>\n      <td>0:00:00</td>\n      <td>1</td>\n      <td>0.00137</td>\n      <td>42.59830</td>\n      <td>ID_102_01_C</td>\n      <td>Event log</td>\n      <td>LA- stand</td>\n      <td>NaN</td>\n      <td>NaN</td>\n      <td>NaN</td>\n      <td>State start</td>\n      <td>NaN</td>\n      <td>NaN</td>\n      <td>NaN</td>\n    </tr>\n    <tr>\n      <th>1</th>\n      <td>24-03-2020 11:17:41.259</td>\n      <td>24-03-2020</td>\n      <td>11:17:41</td>\n      <td>259</td>\n      <td>##############################################...</td>\n      <td>0:00:00</td>\n      <td>1</td>\n      <td>0.00137</td>\n      <td>0.00000</td>\n      <td>ID_102_01_C</td>\n      <td>Event log</td>\n      <td>NaN</td>\n      <td>NaN</td>\n      <td>NaN</td>\n      <td>NaN</td>\n      <td>State point</td>\n      <td>NaN</td>\n      <td>NaN</td>\n      <td>NaN</td>\n    </tr>\n    <tr>\n      <th>2</th>\n      <td>24-03-2020 11:17:41.259</td>\n      <td>24-03-2020</td>\n      <td>11:17:41</td>\n      <td>259</td>\n      <td>##############################################...</td>\n      <td>0:00:00</td>\n      <td>1</td>\n      <td>0.00137</td>\n      <td>0.00000</td>\n      <td>ID_102_01_C</td>\n      <td>Event log</td>\n      <td>NaN</td>\n      <td>NaN</td>\n      <td>NaN</td>\n      <td>NaN</td>\n      <td>State point</td>\n      <td>NaN</td>\n      <td>NaN</td>\n      <td>NaN</td>\n    </tr>\n    <tr>\n      <th>3</th>\n      <td>24-03-2020 11:17:41.259</td>\n      <td>24-03-2020</td>\n      <td>11:17:41</td>\n      <td>259</td>\n      <td>##############################################...</td>\n      <td>0:00:00</td>\n      <td>1</td>\n      <td>0.00137</td>\n      <td>53.71450</td>\n      <td>ID_102_01_C</td>\n      <td>Event log</td>\n      <td>WRK- general</td>\n      <td>NaN</td>\n      <td>NaN</td>\n      <td>SP- Education and Health Services</td>\n      <td>State start</td>\n      <td>NaN</td>\n      <td>NaN</td>\n      <td>NaN</td>\n    </tr>\n    <tr>\n      <th>4</th>\n      <td>24-03-2020 11:18:23.857</td>\n      <td>24-03-2020</td>\n      <td>11:18:23</td>\n      <td>857</td>\n      <td>00:42.6</td>\n      <td>0:00:42</td>\n      <td>597</td>\n      <td>42.59690</td>\n      <td>0.00000</td>\n      <td>ID_102_01_C</td>\n      <td>Event log</td>\n      <td>LA- stand</td>\n      <td>NaN</td>\n      <td>NaN</td>\n      <td>NaN</td>\n      <td>State stop</td>\n      <td>NaN</td>\n      <td>NaN</td>\n      <td>NaN</td>\n    </tr>\n    <tr>\n      <th>...</th>\n      <td>...</td>\n      <td>...</td>\n      <td>...</td>\n      <td>...</td>\n      <td>...</td>\n      <td>...</td>\n      <td>...</td>\n      <td>...</td>\n      <td>...</td>\n      <td>...</td>\n      <td>...</td>\n      <td>...</td>\n      <td>...</td>\n      <td>...</td>\n      <td>...</td>\n      <td>...</td>\n      <td>...</td>\n      <td>...</td>\n      <td>...</td>\n    </tr>\n    <tr>\n      <th>16125</th>\n      <td>20-05-2020 21:24:36.484</td>\n      <td>20-05-2020</td>\n      <td>21:24:36</td>\n      <td>484</td>\n      <td>02:09.6</td>\n      <td>0:02:09</td>\n      <td>594</td>\n      <td>129.59400</td>\n      <td>5.42198</td>\n      <td>ID_154_02_R</td>\n      <td>Event log</td>\n      <td>LA- stand and move</td>\n      <td>NaN</td>\n      <td>light</td>\n      <td>NaN</td>\n      <td>State start</td>\n      <td>NaN</td>\n      <td>NaN</td>\n      <td>NaN</td>\n    </tr>\n    <tr>\n      <th>16126</th>\n      <td>20-05-2020 21:24:41.906</td>\n      <td>20-05-2020</td>\n      <td>21:24:41</td>\n      <td>906</td>\n      <td>02:15.0</td>\n      <td>0:02:15</td>\n      <td>16</td>\n      <td>135.01600</td>\n      <td>0.00000</td>\n      <td>ID_154_02_R</td>\n      <td>Event log</td>\n      <td>LA- stand and move</td>\n      <td>NaN</td>\n      <td>light</td>\n      <td>NaN</td>\n      <td>State stop</td>\n      <td>NaN</td>\n      <td>NaN</td>\n      <td>NaN</td>\n    </tr>\n    <tr>\n      <th>16127</th>\n      <td>20-05-2020 21:24:41.906</td>\n      <td>20-05-2020</td>\n      <td>21:24:41</td>\n      <td>906</td>\n      <td>02:15.0</td>\n      <td>0:02:15</td>\n      <td>16</td>\n      <td>135.01600</td>\n      <td>10065.00000</td>\n      <td>ID_154_02_R</td>\n      <td>Event log</td>\n      <td>SB-sitting</td>\n      <td>NaN</td>\n      <td>NaN</td>\n      <td>NaN</td>\n      <td>State start</td>\n      <td>NaN</td>\n      <td>NaN</td>\n      <td>NaN</td>\n    </tr>\n    <tr>\n      <th>16128</th>\n      <td>21-05-2020 00:12:26.890</td>\n      <td>21-05-2020</td>\n      <td>0:12:26</td>\n      <td>890</td>\n      <td>50:00.0</td>\n      <td>2:50:00</td>\n      <td>0</td>\n      <td>10200.00000</td>\n      <td>0.00000</td>\n      <td>ID_154_02_R</td>\n      <td>Event log</td>\n      <td>EDU- taking class, research, homework</td>\n      <td>NaN</td>\n      <td>NaN</td>\n      <td>NaN</td>\n      <td>State stop</td>\n      <td>NaN</td>\n      <td>NaN</td>\n      <td>NaN</td>\n    </tr>\n    <tr>\n      <th>16129</th>\n      <td>21-05-2020 00:12:26.890</td>\n      <td>21-05-2020</td>\n      <td>0:12:26</td>\n      <td>890</td>\n      <td>50:00.0</td>\n      <td>2:50:00</td>\n      <td>0</td>\n      <td>10200.00000</td>\n      <td>0.00000</td>\n      <td>ID_154_02_R</td>\n      <td>Event log</td>\n      <td>SB-sitting</td>\n      <td>NaN</td>\n      <td>NaN</td>\n      <td>NaN</td>\n      <td>State stop</td>\n      <td>NaN</td>\n      <td>NaN</td>\n      <td>NaN</td>\n    </tr>\n  </tbody>\n</table>\n<p>16130 rows × 19 columns</p>\n</div>"
     },
     "execution_count": 4,
     "metadata": {},
     "output_type": "execute_result"
    }
   ],
   "source": [
    "act24_event = pd.read_csv(\"ACT24_directobservationdata_event.csv\")\n",
    "act24_event"
   ],
   "metadata": {
    "colab": {
     "base_uri": "https://localhost:8080/",
     "height": 721
    },
    "id": "50ad70a85f844679",
    "outputId": "c4f10a19-7a85-45b1-eced-fbe2b4d9263c",
    "ExecuteTime": {
     "end_time": "2024-02-14T22:11:08.171797800Z",
     "start_time": "2024-02-14T22:11:07.901956100Z"
    }
   },
   "id": "50ad70a85f844679"
  },
  {
   "cell_type": "markdown",
   "source": [
    "## Data Wrangling"
   ],
   "metadata": {
    "collapsed": false,
    "id": "fb46e695af322349"
   },
   "id": "fb46e695af322349"
  },
  {
   "cell_type": "markdown",
   "source": [
    "**GOAL:** Get a second-by-second ground truth file that is ready for mapping.\n",
    "\n",
    "**Step 1:** Get `id` and `do` columns by parsing `Observation`. Filter to only \"State start\" rows. The assumption here that once the state has started, it does not change until the next consecutive state has started. Therefore, state end and state point are ignored."
   ],
   "metadata": {
    "collapsed": false,
    "id": "ec026630e67052b8"
   },
   "id": "ec026630e67052b8"
  },
  {
   "cell_type": "code",
   "execution_count": 5,
   "outputs": [
    {
     "data": {
      "text/plain": "                                      Time_Relative_hmsf Time_Relative_hms  \\\n0      ##############################################...           0:00:00   \n3      ##############################################...           0:00:00   \n5                                                00:42.6           0:00:42   \n169                                              00:52.4           3:00:52   \n171                                              00:52.4           3:00:52   \n...                                                  ...               ...   \n16119                                            00:49.3           0:00:49   \n16121                                            00:58.5           0:00:58   \n16123                                            01:36.2           0:01:36   \n16125                                            02:09.6           0:02:09   \n16127                                            02:15.0           0:02:15   \n\n       Time_Relative_f  Time_Relative_sf  Duration_sf  Observation  Event_Log  \\\n0                    1           0.00137     42.59830  ID_102_01_C  Event log   \n3                    1           0.00137     53.71450  ID_102_01_C  Event log   \n5                  597          42.59690     17.31600  ID_102_01_C  Event log   \n169                448       10852.40000      1.66215  ID_102_01_C  Event log   \n171                449       10852.40000      1.66137  ID_102_01_C  Event log   \n...                ...               ...          ...          ...        ...   \n16119              298          49.29830      9.20902  ID_154_02_R  Event log   \n16121              507          58.50730     37.72030  ID_154_02_R  Event log   \n16123              228          96.22750     33.36600  ID_154_02_R  Event log   \n16125              594         129.59400      5.42198  ID_154_02_R  Event log   \n16127               16         135.01600  10065.00000  ID_154_02_R  Event log   \n\n                 Behavior Modifier_1 Modifier_2  \\\n0               LA- stand        NaN        NaN   \n3            WRK- general        NaN        NaN   \n5                WA- walk        NaN   moderate   \n169    OTHER- non codable        NaN        NaN   \n171     private/not coded        NaN        NaN   \n...                   ...        ...        ...   \n16119   WA-walk with load        NaN   moderate   \n16121   WA- ascend stairs        NaN   vigorous   \n16123   WA-walk with load        NaN   moderate   \n16125  LA- stand and move        NaN      light   \n16127          SB-sitting        NaN        NaN   \n\n                              Modifier_3   Event_Type  \\\n0                                    NaN  State start   \n3      SP- Education and Health Services  State start   \n5                                    NaN  State start   \n169                                  NaN  State start   \n171                                  NaN  State start   \n...                                  ...          ...   \n16119                                NaN  State start   \n16121                                NaN  State start   \n16123                                NaN  State start   \n16125                                NaN  State start   \n16127                                NaN  State start   \n\n                                                 Comment  Unnamed: 17  \\\n0                                                    NaN          NaN   \n3                                                    NaN          NaN   \n5                                                    NaN          NaN   \n169    *did not capture the final time change; 13 sec...          NaN   \n171                                                  NaN          NaN   \n...                                                  ...          ...   \n16119                                                NaN          NaN   \n16121                                                NaN          NaN   \n16123                                                NaN          NaN   \n16125                                                NaN          NaN   \n16127                                                NaN          NaN   \n\n       Unnamed: 18   id  do  \n0              NaN  102   1  \n3              NaN  102   1  \n5              NaN  102   1  \n169            NaN  102   1  \n171            NaN  102   1  \n...            ...  ...  ..  \n16119          NaN  154   2  \n16121          NaN  154   2  \n16123          NaN  154   2  \n16125          NaN  154   2  \n16127          NaN  154   2  \n\n[7888 rows x 17 columns]",
      "text/html": "<div>\n<style scoped>\n    .dataframe tbody tr th:only-of-type {\n        vertical-align: middle;\n    }\n\n    .dataframe tbody tr th {\n        vertical-align: top;\n    }\n\n    .dataframe thead th {\n        text-align: right;\n    }\n</style>\n<table border=\"1\" class=\"dataframe\">\n  <thead>\n    <tr style=\"text-align: right;\">\n      <th></th>\n      <th>Time_Relative_hmsf</th>\n      <th>Time_Relative_hms</th>\n      <th>Time_Relative_f</th>\n      <th>Time_Relative_sf</th>\n      <th>Duration_sf</th>\n      <th>Observation</th>\n      <th>Event_Log</th>\n      <th>Behavior</th>\n      <th>Modifier_1</th>\n      <th>Modifier_2</th>\n      <th>Modifier_3</th>\n      <th>Event_Type</th>\n      <th>Comment</th>\n      <th>Unnamed: 17</th>\n      <th>Unnamed: 18</th>\n      <th>id</th>\n      <th>do</th>\n    </tr>\n  </thead>\n  <tbody>\n    <tr>\n      <th>0</th>\n      <td>##############################################...</td>\n      <td>0:00:00</td>\n      <td>1</td>\n      <td>0.00137</td>\n      <td>42.59830</td>\n      <td>ID_102_01_C</td>\n      <td>Event log</td>\n      <td>LA- stand</td>\n      <td>NaN</td>\n      <td>NaN</td>\n      <td>NaN</td>\n      <td>State start</td>\n      <td>NaN</td>\n      <td>NaN</td>\n      <td>NaN</td>\n      <td>102</td>\n      <td>1</td>\n    </tr>\n    <tr>\n      <th>3</th>\n      <td>##############################################...</td>\n      <td>0:00:00</td>\n      <td>1</td>\n      <td>0.00137</td>\n      <td>53.71450</td>\n      <td>ID_102_01_C</td>\n      <td>Event log</td>\n      <td>WRK- general</td>\n      <td>NaN</td>\n      <td>NaN</td>\n      <td>SP- Education and Health Services</td>\n      <td>State start</td>\n      <td>NaN</td>\n      <td>NaN</td>\n      <td>NaN</td>\n      <td>102</td>\n      <td>1</td>\n    </tr>\n    <tr>\n      <th>5</th>\n      <td>00:42.6</td>\n      <td>0:00:42</td>\n      <td>597</td>\n      <td>42.59690</td>\n      <td>17.31600</td>\n      <td>ID_102_01_C</td>\n      <td>Event log</td>\n      <td>WA- walk</td>\n      <td>NaN</td>\n      <td>moderate</td>\n      <td>NaN</td>\n      <td>State start</td>\n      <td>NaN</td>\n      <td>NaN</td>\n      <td>NaN</td>\n      <td>102</td>\n      <td>1</td>\n    </tr>\n    <tr>\n      <th>169</th>\n      <td>00:52.4</td>\n      <td>3:00:52</td>\n      <td>448</td>\n      <td>10852.40000</td>\n      <td>1.66215</td>\n      <td>ID_102_01_C</td>\n      <td>Event log</td>\n      <td>OTHER- non codable</td>\n      <td>NaN</td>\n      <td>NaN</td>\n      <td>NaN</td>\n      <td>State start</td>\n      <td>*did not capture the final time change; 13 sec...</td>\n      <td>NaN</td>\n      <td>NaN</td>\n      <td>102</td>\n      <td>1</td>\n    </tr>\n    <tr>\n      <th>171</th>\n      <td>00:52.4</td>\n      <td>3:00:52</td>\n      <td>449</td>\n      <td>10852.40000</td>\n      <td>1.66137</td>\n      <td>ID_102_01_C</td>\n      <td>Event log</td>\n      <td>private/not coded</td>\n      <td>NaN</td>\n      <td>NaN</td>\n      <td>NaN</td>\n      <td>State start</td>\n      <td>NaN</td>\n      <td>NaN</td>\n      <td>NaN</td>\n      <td>102</td>\n      <td>1</td>\n    </tr>\n    <tr>\n      <th>...</th>\n      <td>...</td>\n      <td>...</td>\n      <td>...</td>\n      <td>...</td>\n      <td>...</td>\n      <td>...</td>\n      <td>...</td>\n      <td>...</td>\n      <td>...</td>\n      <td>...</td>\n      <td>...</td>\n      <td>...</td>\n      <td>...</td>\n      <td>...</td>\n      <td>...</td>\n      <td>...</td>\n      <td>...</td>\n    </tr>\n    <tr>\n      <th>16119</th>\n      <td>00:49.3</td>\n      <td>0:00:49</td>\n      <td>298</td>\n      <td>49.29830</td>\n      <td>9.20902</td>\n      <td>ID_154_02_R</td>\n      <td>Event log</td>\n      <td>WA-walk with load</td>\n      <td>NaN</td>\n      <td>moderate</td>\n      <td>NaN</td>\n      <td>State start</td>\n      <td>NaN</td>\n      <td>NaN</td>\n      <td>NaN</td>\n      <td>154</td>\n      <td>2</td>\n    </tr>\n    <tr>\n      <th>16121</th>\n      <td>00:58.5</td>\n      <td>0:00:58</td>\n      <td>507</td>\n      <td>58.50730</td>\n      <td>37.72030</td>\n      <td>ID_154_02_R</td>\n      <td>Event log</td>\n      <td>WA- ascend stairs</td>\n      <td>NaN</td>\n      <td>vigorous</td>\n      <td>NaN</td>\n      <td>State start</td>\n      <td>NaN</td>\n      <td>NaN</td>\n      <td>NaN</td>\n      <td>154</td>\n      <td>2</td>\n    </tr>\n    <tr>\n      <th>16123</th>\n      <td>01:36.2</td>\n      <td>0:01:36</td>\n      <td>228</td>\n      <td>96.22750</td>\n      <td>33.36600</td>\n      <td>ID_154_02_R</td>\n      <td>Event log</td>\n      <td>WA-walk with load</td>\n      <td>NaN</td>\n      <td>moderate</td>\n      <td>NaN</td>\n      <td>State start</td>\n      <td>NaN</td>\n      <td>NaN</td>\n      <td>NaN</td>\n      <td>154</td>\n      <td>2</td>\n    </tr>\n    <tr>\n      <th>16125</th>\n      <td>02:09.6</td>\n      <td>0:02:09</td>\n      <td>594</td>\n      <td>129.59400</td>\n      <td>5.42198</td>\n      <td>ID_154_02_R</td>\n      <td>Event log</td>\n      <td>LA- stand and move</td>\n      <td>NaN</td>\n      <td>light</td>\n      <td>NaN</td>\n      <td>State start</td>\n      <td>NaN</td>\n      <td>NaN</td>\n      <td>NaN</td>\n      <td>154</td>\n      <td>2</td>\n    </tr>\n    <tr>\n      <th>16127</th>\n      <td>02:15.0</td>\n      <td>0:02:15</td>\n      <td>16</td>\n      <td>135.01600</td>\n      <td>10065.00000</td>\n      <td>ID_154_02_R</td>\n      <td>Event log</td>\n      <td>SB-sitting</td>\n      <td>NaN</td>\n      <td>NaN</td>\n      <td>NaN</td>\n      <td>State start</td>\n      <td>NaN</td>\n      <td>NaN</td>\n      <td>NaN</td>\n      <td>154</td>\n      <td>2</td>\n    </tr>\n  </tbody>\n</table>\n<p>7888 rows × 17 columns</p>\n</div>"
     },
     "execution_count": 5,
     "metadata": {},
     "output_type": "execute_result"
    }
   ],
   "source": [
    "# Remove unwanted columns. Filter to state start\n",
    "act24 = act24_event.iloc[:,4:][act24_event[\"Event_Type\"]==\"State start\"]\n",
    "# Get id and do columns\n",
    "act24[\"id\"] = act24[\"Observation\"].str.split(\"_\").apply(lambda x: x[1]).astype(int)\n",
    "act24[\"do\"] = act24[\"Observation\"].str.split(\"_\").apply(lambda x: x[2]).astype(int)\n",
    "# Display and sort for review\n",
    "act24.sort_values([\"id\", \"do\", \"Time_Relative_hmsf\"])"
   ],
   "metadata": {
    "colab": {
     "base_uri": "https://localhost:8080/",
     "height": 704
    },
    "id": "b83a5aecebcd456d",
    "outputId": "8fc377b9-6673-4dce-e9fc-2725a71ac05e",
    "ExecuteTime": {
     "end_time": "2024-02-14T22:11:08.308330400Z",
     "start_time": "2024-02-14T22:11:08.040444Z"
    }
   },
   "id": "b83a5aecebcd456d"
  },
  {
   "cell_type": "markdown",
   "source": [
    "**Step 2:** Merge date info from `log` with time and ground truth coding from `act24`. Use this to calculate `date` and `date_time` columns."
   ],
   "metadata": {
    "collapsed": false,
    "id": "c4675376481bdd06"
   },
   "id": "c4675376481bdd06"
  },
  {
   "cell_type": "markdown",
   "source": [
    "**NOTE: Need information from `Time_Relative_hmsf` to deal with duplicate postures**\n",
    "\n",
    "* Used the milliseconds of duplicate postures to determine which posture to code inplace\n",
    "* Changed the `date_time` column back to hms format so we are not getting a millisecond-by-millisecond file"
   ],
   "metadata": {
    "id": "mbvxzfsdWnS5"
   },
   "id": "mbvxzfsdWnS5"
  },
  {
   "cell_type": "code",
   "source": [
    "# Need to fix Time_Relative_hmsf to not contain weird stuff like #######\n",
    "def fix_milli_errs(row):\n",
    "  if \"#\" in row:\n",
    "    return '00:00.0'\n",
    "  else:\n",
    "    return row"
   ],
   "metadata": {
    "id": "gsFuLgwUXhGL",
    "ExecuteTime": {
     "end_time": "2024-02-14T22:11:08.332165900Z",
     "start_time": "2024-02-14T22:11:08.120779900Z"
    }
   },
   "id": "gsFuLgwUXhGL",
   "execution_count": 6,
   "outputs": []
  },
  {
   "cell_type": "code",
   "source": [
    "act24_2 = act24.copy()\n",
    "act24_2[\"Time_Relative_hmsf\"] = act24_2[\"Time_Relative_hmsf\"].apply(fix_milli_errs)"
   ],
   "metadata": {
    "id": "Vwi-jUygX-B7",
    "ExecuteTime": {
     "end_time": "2024-02-14T22:11:08.398218500Z",
     "start_time": "2024-02-14T22:11:08.129415900Z"
    }
   },
   "id": "Vwi-jUygX-B7",
   "execution_count": 7,
   "outputs": []
  },
  {
   "cell_type": "code",
   "execution_count": 8,
   "outputs": [
    {
     "data": {
      "text/plain": "       id  do        date           date_time  milliseconds  \\\n0     102   1  2019-07-24 2019-07-24 08:20:19           0.0   \n1     102   1  2019-07-24 2019-07-24 08:20:19           0.0   \n2     102   1  2019-07-24 2019-07-24 08:21:01           0.6   \n3     102   1  2019-07-24 2019-07-24 08:21:12           0.7   \n4     102   1  2019-07-24 2019-07-24 08:21:18           0.9   \n...   ...  ..         ...                 ...           ...   \n7883  154   2  2020-02-23 2020-02-23 13:04:58           0.3   \n7884  154   2  2020-02-23 2020-02-23 13:05:07           0.5   \n7885  154   2  2020-02-23 2020-02-23 13:05:45           0.2   \n7886  154   2  2020-02-23 2020-02-23 13:06:18           0.6   \n7887  154   2  2020-02-23 2020-02-23 13:06:24           0.0   \n\n                Behavior Modifier_1 Modifier_2  \\\n0              LA- stand        NaN        NaN   \n1           WRK- general        NaN        NaN   \n2               WA- walk        NaN   moderate   \n3          TRAV- walking        NaN        NaN   \n4     WA- descend stairs        NaN   moderate   \n...                  ...        ...        ...   \n7883   WA-walk with load        NaN   moderate   \n7884   WA- ascend stairs        NaN   vigorous   \n7885   WA-walk with load        NaN   moderate   \n7886  LA- stand and move        NaN      light   \n7887          SB-sitting        NaN        NaN   \n\n                             Modifier_3  \n0                                   NaN  \n1     SP- Education and Health Services  \n2                                   NaN  \n3                                   NaN  \n4                                   NaN  \n...                                 ...  \n7883                                NaN  \n7884                                NaN  \n7885                                NaN  \n7886                                NaN  \n7887                                NaN  \n\n[7888 rows x 9 columns]",
      "text/html": "<div>\n<style scoped>\n    .dataframe tbody tr th:only-of-type {\n        vertical-align: middle;\n    }\n\n    .dataframe tbody tr th {\n        vertical-align: top;\n    }\n\n    .dataframe thead th {\n        text-align: right;\n    }\n</style>\n<table border=\"1\" class=\"dataframe\">\n  <thead>\n    <tr style=\"text-align: right;\">\n      <th></th>\n      <th>id</th>\n      <th>do</th>\n      <th>date</th>\n      <th>date_time</th>\n      <th>milliseconds</th>\n      <th>Behavior</th>\n      <th>Modifier_1</th>\n      <th>Modifier_2</th>\n      <th>Modifier_3</th>\n    </tr>\n  </thead>\n  <tbody>\n    <tr>\n      <th>0</th>\n      <td>102</td>\n      <td>1</td>\n      <td>2019-07-24</td>\n      <td>2019-07-24 08:20:19</td>\n      <td>0.0</td>\n      <td>LA- stand</td>\n      <td>NaN</td>\n      <td>NaN</td>\n      <td>NaN</td>\n    </tr>\n    <tr>\n      <th>1</th>\n      <td>102</td>\n      <td>1</td>\n      <td>2019-07-24</td>\n      <td>2019-07-24 08:20:19</td>\n      <td>0.0</td>\n      <td>WRK- general</td>\n      <td>NaN</td>\n      <td>NaN</td>\n      <td>SP- Education and Health Services</td>\n    </tr>\n    <tr>\n      <th>2</th>\n      <td>102</td>\n      <td>1</td>\n      <td>2019-07-24</td>\n      <td>2019-07-24 08:21:01</td>\n      <td>0.6</td>\n      <td>WA- walk</td>\n      <td>NaN</td>\n      <td>moderate</td>\n      <td>NaN</td>\n    </tr>\n    <tr>\n      <th>3</th>\n      <td>102</td>\n      <td>1</td>\n      <td>2019-07-24</td>\n      <td>2019-07-24 08:21:12</td>\n      <td>0.7</td>\n      <td>TRAV- walking</td>\n      <td>NaN</td>\n      <td>NaN</td>\n      <td>NaN</td>\n    </tr>\n    <tr>\n      <th>4</th>\n      <td>102</td>\n      <td>1</td>\n      <td>2019-07-24</td>\n      <td>2019-07-24 08:21:18</td>\n      <td>0.9</td>\n      <td>WA- descend stairs</td>\n      <td>NaN</td>\n      <td>moderate</td>\n      <td>NaN</td>\n    </tr>\n    <tr>\n      <th>...</th>\n      <td>...</td>\n      <td>...</td>\n      <td>...</td>\n      <td>...</td>\n      <td>...</td>\n      <td>...</td>\n      <td>...</td>\n      <td>...</td>\n      <td>...</td>\n    </tr>\n    <tr>\n      <th>7883</th>\n      <td>154</td>\n      <td>2</td>\n      <td>2020-02-23</td>\n      <td>2020-02-23 13:04:58</td>\n      <td>0.3</td>\n      <td>WA-walk with load</td>\n      <td>NaN</td>\n      <td>moderate</td>\n      <td>NaN</td>\n    </tr>\n    <tr>\n      <th>7884</th>\n      <td>154</td>\n      <td>2</td>\n      <td>2020-02-23</td>\n      <td>2020-02-23 13:05:07</td>\n      <td>0.5</td>\n      <td>WA- ascend stairs</td>\n      <td>NaN</td>\n      <td>vigorous</td>\n      <td>NaN</td>\n    </tr>\n    <tr>\n      <th>7885</th>\n      <td>154</td>\n      <td>2</td>\n      <td>2020-02-23</td>\n      <td>2020-02-23 13:05:45</td>\n      <td>0.2</td>\n      <td>WA-walk with load</td>\n      <td>NaN</td>\n      <td>moderate</td>\n      <td>NaN</td>\n    </tr>\n    <tr>\n      <th>7886</th>\n      <td>154</td>\n      <td>2</td>\n      <td>2020-02-23</td>\n      <td>2020-02-23 13:06:18</td>\n      <td>0.6</td>\n      <td>LA- stand and move</td>\n      <td>NaN</td>\n      <td>light</td>\n      <td>NaN</td>\n    </tr>\n    <tr>\n      <th>7887</th>\n      <td>154</td>\n      <td>2</td>\n      <td>2020-02-23</td>\n      <td>2020-02-23 13:06:24</td>\n      <td>0.0</td>\n      <td>SB-sitting</td>\n      <td>NaN</td>\n      <td>NaN</td>\n      <td>NaN</td>\n    </tr>\n  </tbody>\n</table>\n<p>7888 rows × 9 columns</p>\n</div>"
     },
     "execution_count": 8,
     "metadata": {},
     "output_type": "execute_result"
    }
   ],
   "source": [
    "# Join log and act24 data on id, do\n",
    "sbs_1 = pd.merge(left=log, right=act24_2[[\"id\", \"do\", \"Time_Relative_hms\", \"Time_Relative_hmsf\", \"Behavior\", \"Modifier_1\", 'Modifier_2', 'Modifier_3']], how=\"left\", on=[\"id\", \"do\"])\n",
    "\n",
    "# Join starting date time columns as string, then convert it to datetime object\n",
    "sbs_1[\"start\"] = pd.to_datetime(sbs_1[\"start_month\"].astype(str) + \"/\" + sbs_1[\"start_day\"].astype(str) + \"/\" + sbs_1[\"start_year\"].astype(str) + \" \" + sbs_1[\"start_time\"], errors='coerce')\n",
    "\n",
    "# Convert relative time to timedelta, which measures change in time from starting point. We assume missing values are 00:00:00 relative time\n",
    "sbs_1[\"time_rel_ms\"] = pd.to_timedelta(\"00:\" + sbs_1[\"Time_Relative_hmsf\"], errors='coerce').fillna(pd.to_timedelta(\"00:00:00.0\"))\n",
    "sbs_1[\"time_rel\"] = pd.to_timedelta(sbs_1[\"Time_Relative_hms\"], errors='coerce').fillna(pd.to_timedelta(\"00:00:00\"))\n",
    "\n",
    "# Calculate final date time column by adding relative time to starting datetime\n",
    "sbs_1[\"date_time\"] = sbs_1[\"start\"] + sbs_1[\"time_rel\"]\n",
    "\n",
    "# Get column to store milliseconds since provided second, this will help us later when removing duplicate postures\n",
    "ms = sbs_1[\"start\"] + sbs_1[\"time_rel_ms\"]\n",
    "sbs_1[\"milliseconds\"] = ms.dt.microsecond.astype(str).str[0].astype(int) * 0.1\n",
    "\n",
    "# Get date from date time\n",
    "sbs_1[\"date\"] = sbs_1[\"date_time\"].dt.date\n",
    "\n",
    "# Filter columns\n",
    "sbs_1 = sbs_1[[\"id\", \"do\", \"date\", \"date_time\", \"milliseconds\", \"Behavior\", \"Modifier_1\", \"Modifier_2\", \"Modifier_3\"]]\n",
    "\n",
    "# Display for review\n",
    "sbs_1.sort_values(\"date_time\")"
   ],
   "metadata": {
    "colab": {
     "base_uri": "https://localhost:8080/",
     "height": 424
    },
    "id": "655a6e3febbda2e5",
    "outputId": "c8ab6771-78ab-4d10-d2ba-a25ab6b260c2",
    "ExecuteTime": {
     "end_time": "2024-02-14T22:11:08.571340700Z",
     "start_time": "2024-02-14T22:11:08.155468100Z"
    }
   },
   "id": "655a6e3febbda2e5"
  },
  {
   "cell_type": "markdown",
   "source": [
    "**Step 3:** Separate posture and activity coding into 2 separate tables. Ignore codes that are to be dropped."
   ],
   "metadata": {
    "collapsed": false,
    "id": "f6d84d47bd1c71cc"
   },
   "id": "f6d84d47bd1c71cc"
  },
  {
   "cell_type": "code",
   "execution_count": 9,
   "outputs": [],
   "source": [
    "# This function splits out states into activity or posture\n",
    "def get_coding(s):\n",
    "    s_type = s.split(\"-\")[0].strip()\n",
    "    if s_type in [\"SL\", \"PC\", \"HA\", \"CA\", \"WRK\", \"EDU\",\n",
    "                  \"ORG\", \"PUR\", \"EAT\", \"LES\", \"EX\", \"TRAV\"]:\n",
    "        return \"activity_type\"\n",
    "    elif s_type in [\"SB\", \"LA\", \"WA\", \"SP\"]:\n",
    "        return \"posture_type\"\n",
    "    return np.nan"
   ],
   "metadata": {
    "id": "3aca31eb5088988b",
    "ExecuteTime": {
     "end_time": "2024-02-14T22:11:08.630329300Z",
     "start_time": "2024-02-14T22:11:08.268540100Z"
    }
   },
   "id": "3aca31eb5088988b"
  },
  {
   "cell_type": "code",
   "execution_count": 10,
   "outputs": [
    {
     "data": {
      "text/plain": "       id  do        date           date_time  milliseconds  \\\n0     102   1  2019-07-24 2019-07-24 08:20:19           0.0   \n1     102   1  2019-07-24 2019-07-24 08:20:19           0.0   \n2     102   1  2019-07-24 2019-07-24 08:21:01           0.6   \n3     102   1  2019-07-24 2019-07-24 08:21:12           0.7   \n4     102   1  2019-07-24 2019-07-24 08:21:18           0.9   \n...   ...  ..         ...                 ...           ...   \n7883  154   2  2020-02-23 2020-02-23 13:04:58           0.3   \n7884  154   2  2020-02-23 2020-02-23 13:05:07           0.5   \n7885  154   2  2020-02-23 2020-02-23 13:05:45           0.2   \n7886  154   2  2020-02-23 2020-02-23 13:06:18           0.6   \n7887  154   2  2020-02-23 2020-02-23 13:06:24           0.0   \n\n                Behavior Modifier_1 Modifier_2  \\\n0              LA- stand        NaN        NaN   \n1           WRK- general        NaN        NaN   \n2               WA- walk        NaN   moderate   \n3          TRAV- walking        NaN        NaN   \n4     WA- descend stairs        NaN   moderate   \n...                  ...        ...        ...   \n7883   WA-walk with load        NaN   moderate   \n7884   WA- ascend stairs        NaN   vigorous   \n7885   WA-walk with load        NaN   moderate   \n7886  LA- stand and move        NaN      light   \n7887          SB-sitting        NaN        NaN   \n\n                             Modifier_3         coding  \n0                                   NaN   posture_type  \n1     SP- Education and Health Services  activity_type  \n2                                   NaN   posture_type  \n3                                   NaN  activity_type  \n4                                   NaN   posture_type  \n...                                 ...            ...  \n7883                                NaN   posture_type  \n7884                                NaN   posture_type  \n7885                                NaN   posture_type  \n7886                                NaN   posture_type  \n7887                                NaN   posture_type  \n\n[7888 rows x 10 columns]",
      "text/html": "<div>\n<style scoped>\n    .dataframe tbody tr th:only-of-type {\n        vertical-align: middle;\n    }\n\n    .dataframe tbody tr th {\n        vertical-align: top;\n    }\n\n    .dataframe thead th {\n        text-align: right;\n    }\n</style>\n<table border=\"1\" class=\"dataframe\">\n  <thead>\n    <tr style=\"text-align: right;\">\n      <th></th>\n      <th>id</th>\n      <th>do</th>\n      <th>date</th>\n      <th>date_time</th>\n      <th>milliseconds</th>\n      <th>Behavior</th>\n      <th>Modifier_1</th>\n      <th>Modifier_2</th>\n      <th>Modifier_3</th>\n      <th>coding</th>\n    </tr>\n  </thead>\n  <tbody>\n    <tr>\n      <th>0</th>\n      <td>102</td>\n      <td>1</td>\n      <td>2019-07-24</td>\n      <td>2019-07-24 08:20:19</td>\n      <td>0.0</td>\n      <td>LA- stand</td>\n      <td>NaN</td>\n      <td>NaN</td>\n      <td>NaN</td>\n      <td>posture_type</td>\n    </tr>\n    <tr>\n      <th>1</th>\n      <td>102</td>\n      <td>1</td>\n      <td>2019-07-24</td>\n      <td>2019-07-24 08:20:19</td>\n      <td>0.0</td>\n      <td>WRK- general</td>\n      <td>NaN</td>\n      <td>NaN</td>\n      <td>SP- Education and Health Services</td>\n      <td>activity_type</td>\n    </tr>\n    <tr>\n      <th>2</th>\n      <td>102</td>\n      <td>1</td>\n      <td>2019-07-24</td>\n      <td>2019-07-24 08:21:01</td>\n      <td>0.6</td>\n      <td>WA- walk</td>\n      <td>NaN</td>\n      <td>moderate</td>\n      <td>NaN</td>\n      <td>posture_type</td>\n    </tr>\n    <tr>\n      <th>3</th>\n      <td>102</td>\n      <td>1</td>\n      <td>2019-07-24</td>\n      <td>2019-07-24 08:21:12</td>\n      <td>0.7</td>\n      <td>TRAV- walking</td>\n      <td>NaN</td>\n      <td>NaN</td>\n      <td>NaN</td>\n      <td>activity_type</td>\n    </tr>\n    <tr>\n      <th>4</th>\n      <td>102</td>\n      <td>1</td>\n      <td>2019-07-24</td>\n      <td>2019-07-24 08:21:18</td>\n      <td>0.9</td>\n      <td>WA- descend stairs</td>\n      <td>NaN</td>\n      <td>moderate</td>\n      <td>NaN</td>\n      <td>posture_type</td>\n    </tr>\n    <tr>\n      <th>...</th>\n      <td>...</td>\n      <td>...</td>\n      <td>...</td>\n      <td>...</td>\n      <td>...</td>\n      <td>...</td>\n      <td>...</td>\n      <td>...</td>\n      <td>...</td>\n      <td>...</td>\n    </tr>\n    <tr>\n      <th>7883</th>\n      <td>154</td>\n      <td>2</td>\n      <td>2020-02-23</td>\n      <td>2020-02-23 13:04:58</td>\n      <td>0.3</td>\n      <td>WA-walk with load</td>\n      <td>NaN</td>\n      <td>moderate</td>\n      <td>NaN</td>\n      <td>posture_type</td>\n    </tr>\n    <tr>\n      <th>7884</th>\n      <td>154</td>\n      <td>2</td>\n      <td>2020-02-23</td>\n      <td>2020-02-23 13:05:07</td>\n      <td>0.5</td>\n      <td>WA- ascend stairs</td>\n      <td>NaN</td>\n      <td>vigorous</td>\n      <td>NaN</td>\n      <td>posture_type</td>\n    </tr>\n    <tr>\n      <th>7885</th>\n      <td>154</td>\n      <td>2</td>\n      <td>2020-02-23</td>\n      <td>2020-02-23 13:05:45</td>\n      <td>0.2</td>\n      <td>WA-walk with load</td>\n      <td>NaN</td>\n      <td>moderate</td>\n      <td>NaN</td>\n      <td>posture_type</td>\n    </tr>\n    <tr>\n      <th>7886</th>\n      <td>154</td>\n      <td>2</td>\n      <td>2020-02-23</td>\n      <td>2020-02-23 13:06:18</td>\n      <td>0.6</td>\n      <td>LA- stand and move</td>\n      <td>NaN</td>\n      <td>light</td>\n      <td>NaN</td>\n      <td>posture_type</td>\n    </tr>\n    <tr>\n      <th>7887</th>\n      <td>154</td>\n      <td>2</td>\n      <td>2020-02-23</td>\n      <td>2020-02-23 13:06:24</td>\n      <td>0.0</td>\n      <td>SB-sitting</td>\n      <td>NaN</td>\n      <td>NaN</td>\n      <td>NaN</td>\n      <td>posture_type</td>\n    </tr>\n  </tbody>\n</table>\n<p>7888 rows × 10 columns</p>\n</div>"
     },
     "execution_count": 10,
     "metadata": {},
     "output_type": "execute_result"
    }
   ],
   "source": [
    "# Remove empty behavior\n",
    "sbs_2 = sbs_1.copy().dropna(subset=\"Behavior\")\n",
    "# Get coding using the custom function\n",
    "sbs_2[\"coding\"] = sbs_2[\"Behavior\"].fillna(\"\").apply(get_coding)\n",
    "# Display for review\n",
    "sbs_2"
   ],
   "metadata": {
    "colab": {
     "base_uri": "https://localhost:8080/",
     "height": 424
    },
    "id": "9827d437e92d8595",
    "outputId": "9b09467f-20f9-4995-bd89-f24764064cd2",
    "ExecuteTime": {
     "end_time": "2024-02-14T22:11:08.778471800Z",
     "start_time": "2024-02-14T22:11:08.274281800Z"
    }
   },
   "id": "9827d437e92d8595"
  },
  {
   "cell_type": "code",
   "execution_count": 11,
   "outputs": [
    {
     "data": {
      "text/plain": "       id  do        date           date_time  milliseconds  \\\n0     102   1  2019-07-24 2019-07-24 08:20:19           0.0   \n2     102   1  2019-07-24 2019-07-24 08:21:01           0.6   \n4     102   1  2019-07-24 2019-07-24 08:21:18           0.9   \n5     102   1  2019-07-24 2019-07-24 08:21:32           0.9   \n6     102   1  2019-07-24 2019-07-24 08:21:39           0.9   \n...   ...  ..         ...                 ...           ...   \n7883  154   2  2020-02-23 2020-02-23 13:04:58           0.3   \n7884  154   2  2020-02-23 2020-02-23 13:05:07           0.5   \n7885  154   2  2020-02-23 2020-02-23 13:05:45           0.2   \n7886  154   2  2020-02-23 2020-02-23 13:06:18           0.6   \n7887  154   2  2020-02-23 2020-02-23 13:06:24           0.0   \n\n            posture_type activity_intensity  \n0              LA- stand                NaN  \n2               WA- walk           moderate  \n4     WA- descend stairs           moderate  \n5               WA- walk           moderate  \n6     WA- descend stairs           moderate  \n...                  ...                ...  \n7883   WA-walk with load           moderate  \n7884   WA- ascend stairs           vigorous  \n7885   WA-walk with load           moderate  \n7886  LA- stand and move              light  \n7887          SB-sitting                NaN  \n\n[6904 rows x 7 columns]",
      "text/html": "<div>\n<style scoped>\n    .dataframe tbody tr th:only-of-type {\n        vertical-align: middle;\n    }\n\n    .dataframe tbody tr th {\n        vertical-align: top;\n    }\n\n    .dataframe thead th {\n        text-align: right;\n    }\n</style>\n<table border=\"1\" class=\"dataframe\">\n  <thead>\n    <tr style=\"text-align: right;\">\n      <th></th>\n      <th>id</th>\n      <th>do</th>\n      <th>date</th>\n      <th>date_time</th>\n      <th>milliseconds</th>\n      <th>posture_type</th>\n      <th>activity_intensity</th>\n    </tr>\n  </thead>\n  <tbody>\n    <tr>\n      <th>0</th>\n      <td>102</td>\n      <td>1</td>\n      <td>2019-07-24</td>\n      <td>2019-07-24 08:20:19</td>\n      <td>0.0</td>\n      <td>LA- stand</td>\n      <td>NaN</td>\n    </tr>\n    <tr>\n      <th>2</th>\n      <td>102</td>\n      <td>1</td>\n      <td>2019-07-24</td>\n      <td>2019-07-24 08:21:01</td>\n      <td>0.6</td>\n      <td>WA- walk</td>\n      <td>moderate</td>\n    </tr>\n    <tr>\n      <th>4</th>\n      <td>102</td>\n      <td>1</td>\n      <td>2019-07-24</td>\n      <td>2019-07-24 08:21:18</td>\n      <td>0.9</td>\n      <td>WA- descend stairs</td>\n      <td>moderate</td>\n    </tr>\n    <tr>\n      <th>5</th>\n      <td>102</td>\n      <td>1</td>\n      <td>2019-07-24</td>\n      <td>2019-07-24 08:21:32</td>\n      <td>0.9</td>\n      <td>WA- walk</td>\n      <td>moderate</td>\n    </tr>\n    <tr>\n      <th>6</th>\n      <td>102</td>\n      <td>1</td>\n      <td>2019-07-24</td>\n      <td>2019-07-24 08:21:39</td>\n      <td>0.9</td>\n      <td>WA- descend stairs</td>\n      <td>moderate</td>\n    </tr>\n    <tr>\n      <th>...</th>\n      <td>...</td>\n      <td>...</td>\n      <td>...</td>\n      <td>...</td>\n      <td>...</td>\n      <td>...</td>\n      <td>...</td>\n    </tr>\n    <tr>\n      <th>7883</th>\n      <td>154</td>\n      <td>2</td>\n      <td>2020-02-23</td>\n      <td>2020-02-23 13:04:58</td>\n      <td>0.3</td>\n      <td>WA-walk with load</td>\n      <td>moderate</td>\n    </tr>\n    <tr>\n      <th>7884</th>\n      <td>154</td>\n      <td>2</td>\n      <td>2020-02-23</td>\n      <td>2020-02-23 13:05:07</td>\n      <td>0.5</td>\n      <td>WA- ascend stairs</td>\n      <td>vigorous</td>\n    </tr>\n    <tr>\n      <th>7885</th>\n      <td>154</td>\n      <td>2</td>\n      <td>2020-02-23</td>\n      <td>2020-02-23 13:05:45</td>\n      <td>0.2</td>\n      <td>WA-walk with load</td>\n      <td>moderate</td>\n    </tr>\n    <tr>\n      <th>7886</th>\n      <td>154</td>\n      <td>2</td>\n      <td>2020-02-23</td>\n      <td>2020-02-23 13:06:18</td>\n      <td>0.6</td>\n      <td>LA- stand and move</td>\n      <td>light</td>\n    </tr>\n    <tr>\n      <th>7887</th>\n      <td>154</td>\n      <td>2</td>\n      <td>2020-02-23</td>\n      <td>2020-02-23 13:06:24</td>\n      <td>0.0</td>\n      <td>SB-sitting</td>\n      <td>NaN</td>\n    </tr>\n  </tbody>\n</table>\n<p>6904 rows × 7 columns</p>\n</div>"
     },
     "execution_count": 11,
     "metadata": {},
     "output_type": "execute_result"
    }
   ],
   "source": [
    "# Get table of postures only\n",
    "sbs_posture = sbs_2[sbs_2[\"coding\"] == \"posture_type\"]\n",
    "sbs_posture[\"posture_type\"] = sbs_posture[\"Behavior\"]\n",
    "# Rename relevant modifier columns for clarity\n",
    "sbs_posture[\"activity_intensity\"] = sbs_posture[\"Modifier_2\"]\n",
    "# Subset columns to relevent ones, drop duplicates if they exist\n",
    "sbs_posture = sbs_posture[[\"id\", \"do\", \"date\", \"date_time\", \"milliseconds\", \"posture_type\",\n",
    "                           \"activity_intensity\"]].drop_duplicates()\n",
    "# Display and review\n",
    "sbs_posture"
   ],
   "metadata": {
    "colab": {
     "base_uri": "https://localhost:8080/",
     "height": 424
    },
    "id": "d56283c5768b9fc7",
    "outputId": "804dba92-c8cd-4c35-af81-2e2b46e3e1fa",
    "ExecuteTime": {
     "end_time": "2024-02-14T22:11:08.890029400Z",
     "start_time": "2024-02-14T22:11:08.312730400Z"
    }
   },
   "id": "d56283c5768b9fc7"
  },
  {
   "cell_type": "code",
   "execution_count": 12,
   "outputs": [
    {
     "data": {
      "text/plain": "       id  do        date           date_time  \\\n1     102   1  2019-07-24 2019-07-24 08:20:19   \n3     102   1  2019-07-24 2019-07-24 08:21:12   \n12    102   1  2019-07-24 2019-07-24 08:30:08   \n21    102   1  2019-07-24 2019-07-24 08:33:55   \n28    102   1  2019-07-24 2019-07-24 08:42:43   \n...   ...  ..         ...                 ...   \n7727  154   1  2020-02-22 2020-02-22 14:11:08   \n7728  154   1  2020-02-22 2020-02-22 14:13:53   \n7737  154   1  2020-02-22 2020-02-22 15:11:44   \n7879  154   1  2020-02-22 2020-02-22 16:04:53   \n7880  154   2  2020-02-23 2020-02-23 13:04:09   \n\n                                          activity_type exercise_modifier  \\\n1                                          WRK- general               NaN   \n3                                         TRAV- walking               NaN   \n12                   PUR- purchasing goods and services               NaN   \n21                                        TRAV- walking               NaN   \n28                                         WRK- general               NaN   \n...                                                 ...               ...   \n7727  LES- screen based leisure time (TV, video game...               NaN   \n7728  EX- participating in sport, exercise or recrea...   weight training   \n7737  EX- participating in sport, exercise or recrea...   weight training   \n7879                                      TRAV- walking               NaN   \n7880              EDU- taking class, research, homework               NaN   \n\n                                              work_type  \n1                     SP- Education and Health Services  \n3                                                   NaN  \n12                                                  NaN  \n21                                                  NaN  \n28    SP- Office (business, professional services, f...  \n...                                                 ...  \n7727                                                NaN  \n7728                                                NaN  \n7737                                                NaN  \n7879                                                NaN  \n7880                                                NaN  \n\n[743 rows x 7 columns]",
      "text/html": "<div>\n<style scoped>\n    .dataframe tbody tr th:only-of-type {\n        vertical-align: middle;\n    }\n\n    .dataframe tbody tr th {\n        vertical-align: top;\n    }\n\n    .dataframe thead th {\n        text-align: right;\n    }\n</style>\n<table border=\"1\" class=\"dataframe\">\n  <thead>\n    <tr style=\"text-align: right;\">\n      <th></th>\n      <th>id</th>\n      <th>do</th>\n      <th>date</th>\n      <th>date_time</th>\n      <th>activity_type</th>\n      <th>exercise_modifier</th>\n      <th>work_type</th>\n    </tr>\n  </thead>\n  <tbody>\n    <tr>\n      <th>1</th>\n      <td>102</td>\n      <td>1</td>\n      <td>2019-07-24</td>\n      <td>2019-07-24 08:20:19</td>\n      <td>WRK- general</td>\n      <td>NaN</td>\n      <td>SP- Education and Health Services</td>\n    </tr>\n    <tr>\n      <th>3</th>\n      <td>102</td>\n      <td>1</td>\n      <td>2019-07-24</td>\n      <td>2019-07-24 08:21:12</td>\n      <td>TRAV- walking</td>\n      <td>NaN</td>\n      <td>NaN</td>\n    </tr>\n    <tr>\n      <th>12</th>\n      <td>102</td>\n      <td>1</td>\n      <td>2019-07-24</td>\n      <td>2019-07-24 08:30:08</td>\n      <td>PUR- purchasing goods and services</td>\n      <td>NaN</td>\n      <td>NaN</td>\n    </tr>\n    <tr>\n      <th>21</th>\n      <td>102</td>\n      <td>1</td>\n      <td>2019-07-24</td>\n      <td>2019-07-24 08:33:55</td>\n      <td>TRAV- walking</td>\n      <td>NaN</td>\n      <td>NaN</td>\n    </tr>\n    <tr>\n      <th>28</th>\n      <td>102</td>\n      <td>1</td>\n      <td>2019-07-24</td>\n      <td>2019-07-24 08:42:43</td>\n      <td>WRK- general</td>\n      <td>NaN</td>\n      <td>SP- Office (business, professional services, f...</td>\n    </tr>\n    <tr>\n      <th>...</th>\n      <td>...</td>\n      <td>...</td>\n      <td>...</td>\n      <td>...</td>\n      <td>...</td>\n      <td>...</td>\n      <td>...</td>\n    </tr>\n    <tr>\n      <th>7727</th>\n      <td>154</td>\n      <td>1</td>\n      <td>2020-02-22</td>\n      <td>2020-02-22 14:11:08</td>\n      <td>LES- screen based leisure time (TV, video game...</td>\n      <td>NaN</td>\n      <td>NaN</td>\n    </tr>\n    <tr>\n      <th>7728</th>\n      <td>154</td>\n      <td>1</td>\n      <td>2020-02-22</td>\n      <td>2020-02-22 14:13:53</td>\n      <td>EX- participating in sport, exercise or recrea...</td>\n      <td>weight training</td>\n      <td>NaN</td>\n    </tr>\n    <tr>\n      <th>7737</th>\n      <td>154</td>\n      <td>1</td>\n      <td>2020-02-22</td>\n      <td>2020-02-22 15:11:44</td>\n      <td>EX- participating in sport, exercise or recrea...</td>\n      <td>weight training</td>\n      <td>NaN</td>\n    </tr>\n    <tr>\n      <th>7879</th>\n      <td>154</td>\n      <td>1</td>\n      <td>2020-02-22</td>\n      <td>2020-02-22 16:04:53</td>\n      <td>TRAV- walking</td>\n      <td>NaN</td>\n      <td>NaN</td>\n    </tr>\n    <tr>\n      <th>7880</th>\n      <td>154</td>\n      <td>2</td>\n      <td>2020-02-23</td>\n      <td>2020-02-23 13:04:09</td>\n      <td>EDU- taking class, research, homework</td>\n      <td>NaN</td>\n      <td>NaN</td>\n    </tr>\n  </tbody>\n</table>\n<p>743 rows × 7 columns</p>\n</div>"
     },
     "execution_count": 12,
     "metadata": {},
     "output_type": "execute_result"
    }
   ],
   "source": [
    "# Get table of activities only\n",
    "sbs_activity = sbs_2[sbs_2[\"coding\"] == \"activity_type\"]\n",
    "sbs_activity[\"activity_type\"] = sbs_activity[\"Behavior\"]\n",
    "# Rename relevant modifier columns for clarity\n",
    "sbs_activity[\"exercise_modifier\"] = sbs_activity[\"Modifier_1\"]\n",
    "sbs_activity[\"work_type\"] = sbs_activity[\"Modifier_3\"]\n",
    "# Subset columns to relevent ones, drop duplicates if they exist\n",
    "sbs_activity = sbs_activity[[\"id\", \"do\", \"date\", \"date_time\", \"activity_type\",\n",
    "                             \"exercise_modifier\", \"work_type\"]].drop_duplicates()\n",
    "sbs_activity"
   ],
   "metadata": {
    "colab": {
     "base_uri": "https://localhost:8080/",
     "height": 424
    },
    "id": "ca9c7a21801aed37",
    "outputId": "a208d4db-6939-4ee6-f49e-29587b875583",
    "ExecuteTime": {
     "end_time": "2024-02-14T22:11:08.924960100Z",
     "start_time": "2024-02-14T22:11:08.351105200Z"
    }
   },
   "id": "ca9c7a21801aed37"
  },
  {
   "cell_type": "markdown",
   "source": [
    "**Step 4:** Aggregate states so that there is only one row per `id`-`do`-`date_time`. Generally, there should only be at most one `posture_type` per row and one `activity_type` per row. However, there exist 3 rows where there are 2 `posture_type` states in the same second."
   ],
   "metadata": {
    "collapsed": false,
    "id": "6e5a9b6e89dd8ad2"
   },
   "id": "6e5a9b6e89dd8ad2"
  },
  {
   "cell_type": "markdown",
   "source": [
    "Dealing with Duplicate Postures in a Given Second\n",
    "- \"If a particular second has two postures assign the most prevalent (>50% of the second).\""
   ],
   "metadata": {
    "id": "2XsJ9qXfeFt9"
   },
   "id": "2XsJ9qXfeFt9"
  },
  {
   "cell_type": "code",
   "execution_count": 13,
   "outputs": [],
   "source": [
    "def time_elapse_map(ms, minGrp, maxGrp):\n",
    "  if minGrp == maxGrp:\n",
    "    return 0\n",
    "  else:\n",
    "    if ms == minGrp:\n",
    "      time_elapse = maxGrp - minGrp\n",
    "    else:\n",
    "      time_elapse = 1 - maxGrp\n",
    "  return time_elapse"
   ],
   "metadata": {
    "id": "TCFAM2dX0F8x",
    "ExecuteTime": {
     "end_time": "2024-02-14T22:11:08.929213500Z",
     "start_time": "2024-02-14T22:11:08.381201700Z"
    }
   },
   "id": "TCFAM2dX0F8x"
  },
  {
   "cell_type": "code",
   "execution_count": 14,
   "outputs": [],
   "source": [
    "sbs_posture_1 = sbs_posture.copy()\n",
    "sbs_posture_1[\"maxGroupValue\"] = sbs_posture_1.groupby([\"id\", \"do\", \"date_time\"])[\"milliseconds\"].transform('max')\n",
    "sbs_posture_1[\"minGroupValue\"] = sbs_posture_1.groupby([\"id\", \"do\", \"date_time\"])[\"milliseconds\"].transform('min')\n",
    "\n",
    "sbs_posture_1[\"timeOfPosture\"] = sbs_posture_1.apply(lambda x: time_elapse_map(x[\"milliseconds\"], x[\"minGroupValue\"], x[\"maxGroupValue\"]), axis = 1)\n",
    "sbs_posture_1[\"maxIdx\"] = sbs_posture_1.groupby([\"id\", \"do\", \"date_time\"])[\"timeOfPosture\"].transform('idxmax')\n",
    "\n",
    "#Keep only rows with most frequent posture\n",
    "sbs_posture_1 = sbs_posture_1[sbs_posture_1[\"maxIdx\"] == sbs_posture_1.index]\n",
    "\n",
    "#Get rid of uneccesary columns\n",
    "sbs_posture_1.drop(columns=[\"milliseconds\", \"maxGroupValue\", \"minGroupValue\", \"timeOfPosture\"], inplace=True)"
   ],
   "metadata": {
    "id": "8BOMOxVL-QHj",
    "ExecuteTime": {
     "end_time": "2024-02-14T22:11:09.182013200Z",
     "start_time": "2024-02-14T22:11:08.396094200Z"
    }
   },
   "id": "8BOMOxVL-QHj"
  },
  {
   "cell_type": "code",
   "execution_count": 15,
   "outputs": [
    {
     "data": {
      "text/plain": "       id  do           date_time        posture_type  count\n0     102   1 2019-07-24 08:20:19           LA- stand      1\n4606  138   2 2019-11-02 10:22:40  LA- stand and move      1\n4605  138   2 2019-11-02 10:20:54          SB-sitting      1\n4604  138   2 2019-11-02 10:20:26            WA- walk      1\n4603  138   2 2019-11-02 10:20:05         WA- running      1\n...   ...  ..                 ...                 ...    ...\n2294  131   1 2019-09-12 11:27:40           LA- stand      1\n2293  131   1 2019-09-12 11:27:14            WA- walk      1\n2292  131   1 2019-09-12 11:24:47           LA- stand      1\n2290  131   1 2019-09-12 11:24:22  LA- stand and move      1\n6900  154   2 2020-02-23 13:06:24          SB-sitting      1\n\n[6901 rows x 5 columns]",
      "text/html": "<div>\n<style scoped>\n    .dataframe tbody tr th:only-of-type {\n        vertical-align: middle;\n    }\n\n    .dataframe tbody tr th {\n        vertical-align: top;\n    }\n\n    .dataframe thead th {\n        text-align: right;\n    }\n</style>\n<table border=\"1\" class=\"dataframe\">\n  <thead>\n    <tr style=\"text-align: right;\">\n      <th></th>\n      <th>id</th>\n      <th>do</th>\n      <th>date_time</th>\n      <th>posture_type</th>\n      <th>count</th>\n    </tr>\n  </thead>\n  <tbody>\n    <tr>\n      <th>0</th>\n      <td>102</td>\n      <td>1</td>\n      <td>2019-07-24 08:20:19</td>\n      <td>LA- stand</td>\n      <td>1</td>\n    </tr>\n    <tr>\n      <th>4606</th>\n      <td>138</td>\n      <td>2</td>\n      <td>2019-11-02 10:22:40</td>\n      <td>LA- stand and move</td>\n      <td>1</td>\n    </tr>\n    <tr>\n      <th>4605</th>\n      <td>138</td>\n      <td>2</td>\n      <td>2019-11-02 10:20:54</td>\n      <td>SB-sitting</td>\n      <td>1</td>\n    </tr>\n    <tr>\n      <th>4604</th>\n      <td>138</td>\n      <td>2</td>\n      <td>2019-11-02 10:20:26</td>\n      <td>WA- walk</td>\n      <td>1</td>\n    </tr>\n    <tr>\n      <th>4603</th>\n      <td>138</td>\n      <td>2</td>\n      <td>2019-11-02 10:20:05</td>\n      <td>WA- running</td>\n      <td>1</td>\n    </tr>\n    <tr>\n      <th>...</th>\n      <td>...</td>\n      <td>...</td>\n      <td>...</td>\n      <td>...</td>\n      <td>...</td>\n    </tr>\n    <tr>\n      <th>2294</th>\n      <td>131</td>\n      <td>1</td>\n      <td>2019-09-12 11:27:40</td>\n      <td>LA- stand</td>\n      <td>1</td>\n    </tr>\n    <tr>\n      <th>2293</th>\n      <td>131</td>\n      <td>1</td>\n      <td>2019-09-12 11:27:14</td>\n      <td>WA- walk</td>\n      <td>1</td>\n    </tr>\n    <tr>\n      <th>2292</th>\n      <td>131</td>\n      <td>1</td>\n      <td>2019-09-12 11:24:47</td>\n      <td>LA- stand</td>\n      <td>1</td>\n    </tr>\n    <tr>\n      <th>2290</th>\n      <td>131</td>\n      <td>1</td>\n      <td>2019-09-12 11:24:22</td>\n      <td>LA- stand and move</td>\n      <td>1</td>\n    </tr>\n    <tr>\n      <th>6900</th>\n      <td>154</td>\n      <td>2</td>\n      <td>2020-02-23 13:06:24</td>\n      <td>SB-sitting</td>\n      <td>1</td>\n    </tr>\n  </tbody>\n</table>\n<p>6901 rows × 5 columns</p>\n</div>"
     },
     "execution_count": 15,
     "metadata": {},
     "output_type": "execute_result"
    }
   ],
   "source": [
    "#Check that each second now only has one per timestamp\n",
    "sbs_posture_1.groupby([\"id\", \"do\", \"date_time\"])[\"posture_type\"].value_counts().to_frame(name=\"count\").reset_index().sort_values(by=\"count\")"
   ],
   "metadata": {
    "colab": {
     "base_uri": "https://localhost:8080/",
     "height": 424
    },
    "id": "Yx4yBfFu_xOf",
    "outputId": "6fd5758e-f550-4649-e663-467800bd231c",
    "ExecuteTime": {
     "end_time": "2024-02-14T22:11:09.463315300Z",
     "start_time": "2024-02-14T22:11:08.551021200Z"
    }
   },
   "id": "Yx4yBfFu_xOf"
  },
  {
   "cell_type": "markdown",
   "source": [
    "**Above code fixes issue with more than two postures in a given second**"
   ],
   "metadata": {
    "id": "Fc6lhIoD_dDR"
   },
   "id": "Fc6lhIoD_dDR"
  },
  {
   "cell_type": "code",
   "execution_count": 16,
   "outputs": [],
   "source": [
    "# This function helps us aggregate so there is only one row per unique datetime, especially if there are multiple states in a second\n",
    "def unique_list(x):\n",
    "    listx = pd.Series(list(x)).dropna().unique().tolist()\n",
    "    if len(listx) > 1:\n",
    "        return listx\n",
    "    elif len(listx) == 1:\n",
    "        return listx[0]\n",
    "    return np.nan"
   ],
   "metadata": {
    "id": "684da0b56c4a88f",
    "ExecuteTime": {
     "end_time": "2024-02-14T22:11:09.507320300Z",
     "start_time": "2024-02-14T22:11:08.587399700Z"
    }
   },
   "id": "684da0b56c4a88f"
  },
  {
   "cell_type": "code",
   "execution_count": 17,
   "outputs": [
    {
     "data": {
      "text/plain": "       id  do        date           date_time        posture_type  \\\n0     102   1  2019-07-24 2019-07-24 08:20:19           LA- stand   \n1     102   1  2019-07-24 2019-07-24 08:21:01            WA- walk   \n2     102   1  2019-07-24 2019-07-24 08:21:12                 NaN   \n3     102   1  2019-07-24 2019-07-24 08:21:18  WA- descend stairs   \n4     102   1  2019-07-24 2019-07-24 08:21:32            WA- walk   \n...   ...  ..         ...                 ...                 ...   \n7183  154   2  2020-02-23 2020-02-23 13:04:58   WA-walk with load   \n7184  154   2  2020-02-23 2020-02-23 13:05:07   WA- ascend stairs   \n7185  154   2  2020-02-23 2020-02-23 13:05:45   WA-walk with load   \n7186  154   2  2020-02-23 2020-02-23 13:06:18  LA- stand and move   \n7187  154   2  2020-02-23 2020-02-23 13:06:24          SB-sitting   \n\n     activity_intensity  maxIdx  activity_type exercise_modifier  \\\n0                   NaN     0.0   WRK- general               NaN   \n1              moderate     2.0            NaN               NaN   \n2                   NaN     NaN  TRAV- walking               NaN   \n3              moderate     4.0            NaN               NaN   \n4              moderate     5.0            NaN               NaN   \n...                 ...     ...            ...               ...   \n7183           moderate  7883.0            NaN               NaN   \n7184           vigorous  7884.0            NaN               NaN   \n7185           moderate  7885.0            NaN               NaN   \n7186              light  7886.0            NaN               NaN   \n7187                NaN  7887.0            NaN               NaN   \n\n                              work_type  \n0     SP- Education and Health Services  \n1                                   NaN  \n2                                   NaN  \n3                                   NaN  \n4                                   NaN  \n...                                 ...  \n7183                                NaN  \n7184                                NaN  \n7185                                NaN  \n7186                                NaN  \n7187                                NaN  \n\n[7188 rows x 10 columns]",
      "text/html": "<div>\n<style scoped>\n    .dataframe tbody tr th:only-of-type {\n        vertical-align: middle;\n    }\n\n    .dataframe tbody tr th {\n        vertical-align: top;\n    }\n\n    .dataframe thead th {\n        text-align: right;\n    }\n</style>\n<table border=\"1\" class=\"dataframe\">\n  <thead>\n    <tr style=\"text-align: right;\">\n      <th></th>\n      <th>id</th>\n      <th>do</th>\n      <th>date</th>\n      <th>date_time</th>\n      <th>posture_type</th>\n      <th>activity_intensity</th>\n      <th>maxIdx</th>\n      <th>activity_type</th>\n      <th>exercise_modifier</th>\n      <th>work_type</th>\n    </tr>\n  </thead>\n  <tbody>\n    <tr>\n      <th>0</th>\n      <td>102</td>\n      <td>1</td>\n      <td>2019-07-24</td>\n      <td>2019-07-24 08:20:19</td>\n      <td>LA- stand</td>\n      <td>NaN</td>\n      <td>0.0</td>\n      <td>WRK- general</td>\n      <td>NaN</td>\n      <td>SP- Education and Health Services</td>\n    </tr>\n    <tr>\n      <th>1</th>\n      <td>102</td>\n      <td>1</td>\n      <td>2019-07-24</td>\n      <td>2019-07-24 08:21:01</td>\n      <td>WA- walk</td>\n      <td>moderate</td>\n      <td>2.0</td>\n      <td>NaN</td>\n      <td>NaN</td>\n      <td>NaN</td>\n    </tr>\n    <tr>\n      <th>2</th>\n      <td>102</td>\n      <td>1</td>\n      <td>2019-07-24</td>\n      <td>2019-07-24 08:21:12</td>\n      <td>NaN</td>\n      <td>NaN</td>\n      <td>NaN</td>\n      <td>TRAV- walking</td>\n      <td>NaN</td>\n      <td>NaN</td>\n    </tr>\n    <tr>\n      <th>3</th>\n      <td>102</td>\n      <td>1</td>\n      <td>2019-07-24</td>\n      <td>2019-07-24 08:21:18</td>\n      <td>WA- descend stairs</td>\n      <td>moderate</td>\n      <td>4.0</td>\n      <td>NaN</td>\n      <td>NaN</td>\n      <td>NaN</td>\n    </tr>\n    <tr>\n      <th>4</th>\n      <td>102</td>\n      <td>1</td>\n      <td>2019-07-24</td>\n      <td>2019-07-24 08:21:32</td>\n      <td>WA- walk</td>\n      <td>moderate</td>\n      <td>5.0</td>\n      <td>NaN</td>\n      <td>NaN</td>\n      <td>NaN</td>\n    </tr>\n    <tr>\n      <th>...</th>\n      <td>...</td>\n      <td>...</td>\n      <td>...</td>\n      <td>...</td>\n      <td>...</td>\n      <td>...</td>\n      <td>...</td>\n      <td>...</td>\n      <td>...</td>\n      <td>...</td>\n    </tr>\n    <tr>\n      <th>7183</th>\n      <td>154</td>\n      <td>2</td>\n      <td>2020-02-23</td>\n      <td>2020-02-23 13:04:58</td>\n      <td>WA-walk with load</td>\n      <td>moderate</td>\n      <td>7883.0</td>\n      <td>NaN</td>\n      <td>NaN</td>\n      <td>NaN</td>\n    </tr>\n    <tr>\n      <th>7184</th>\n      <td>154</td>\n      <td>2</td>\n      <td>2020-02-23</td>\n      <td>2020-02-23 13:05:07</td>\n      <td>WA- ascend stairs</td>\n      <td>vigorous</td>\n      <td>7884.0</td>\n      <td>NaN</td>\n      <td>NaN</td>\n      <td>NaN</td>\n    </tr>\n    <tr>\n      <th>7185</th>\n      <td>154</td>\n      <td>2</td>\n      <td>2020-02-23</td>\n      <td>2020-02-23 13:05:45</td>\n      <td>WA-walk with load</td>\n      <td>moderate</td>\n      <td>7885.0</td>\n      <td>NaN</td>\n      <td>NaN</td>\n      <td>NaN</td>\n    </tr>\n    <tr>\n      <th>7186</th>\n      <td>154</td>\n      <td>2</td>\n      <td>2020-02-23</td>\n      <td>2020-02-23 13:06:18</td>\n      <td>LA- stand and move</td>\n      <td>light</td>\n      <td>7886.0</td>\n      <td>NaN</td>\n      <td>NaN</td>\n      <td>NaN</td>\n    </tr>\n    <tr>\n      <th>7187</th>\n      <td>154</td>\n      <td>2</td>\n      <td>2020-02-23</td>\n      <td>2020-02-23 13:06:24</td>\n      <td>SB-sitting</td>\n      <td>NaN</td>\n      <td>7887.0</td>\n      <td>NaN</td>\n      <td>NaN</td>\n      <td>NaN</td>\n    </tr>\n  </tbody>\n</table>\n<p>7188 rows × 10 columns</p>\n</div>"
     },
     "execution_count": 17,
     "metadata": {},
     "output_type": "execute_result"
    }
   ],
   "source": [
    "# Merge posture data and activity data\n",
    "sbs_3 = sbs_posture_1.merge(right=sbs_activity, on=[\"id\", \"do\", \"date\", \"date_time\"], how=\"outer\")\n",
    "# Aggregate\n",
    "sbs_3 = sbs_3.groupby([\"id\", \"do\", \"date\", \"date_time\"]).agg(unique_list).reset_index()\n",
    "# Display for review\n",
    "sbs_3.sort_values([\"id\", \"do\", \"date_time\"])"
   ],
   "metadata": {
    "colab": {
     "base_uri": "https://localhost:8080/",
     "height": 424
    },
    "id": "e4ddea3f30e914ea",
    "outputId": "bd22e3b9-3249-4101-d5da-ccc50a64a6f5",
    "ExecuteTime": {
     "end_time": "2024-02-14T22:11:22.003588800Z",
     "start_time": "2024-02-14T22:11:08.599439800Z"
    }
   },
   "id": "e4ddea3f30e914ea"
  },
  {
   "cell_type": "code",
   "execution_count": 18,
   "outputs": [
    {
     "data": {
      "text/plain": "Empty DataFrame\nColumns: [id, do, date, date_time, posture_type, activity_intensity, maxIdx, activity_type, exercise_modifier, work_type]\nIndex: []",
      "text/html": "<div>\n<style scoped>\n    .dataframe tbody tr th:only-of-type {\n        vertical-align: middle;\n    }\n\n    .dataframe tbody tr th {\n        vertical-align: top;\n    }\n\n    .dataframe thead th {\n        text-align: right;\n    }\n</style>\n<table border=\"1\" class=\"dataframe\">\n  <thead>\n    <tr style=\"text-align: right;\">\n      <th></th>\n      <th>id</th>\n      <th>do</th>\n      <th>date</th>\n      <th>date_time</th>\n      <th>posture_type</th>\n      <th>activity_intensity</th>\n      <th>maxIdx</th>\n      <th>activity_type</th>\n      <th>exercise_modifier</th>\n      <th>work_type</th>\n    </tr>\n  </thead>\n  <tbody>\n  </tbody>\n</table>\n</div>"
     },
     "execution_count": 18,
     "metadata": {},
     "output_type": "execute_result"
    }
   ],
   "source": [
    "# Show rows where there are multiple posture types per datetime (should be none now)\n",
    "sbs_3[sbs_3['posture_type'].apply(type) == list]"
   ],
   "metadata": {
    "colab": {
     "base_uri": "https://localhost:8080/",
     "height": 53
    },
    "id": "c21c205f022e8117",
    "outputId": "a22fde3e-41e7-4dfd-cc4f-ef0603a7edc5",
    "ExecuteTime": {
     "end_time": "2024-02-14T22:11:22.048125400Z",
     "start_time": "2024-02-14T22:11:22.002473100Z"
    }
   },
   "id": "c21c205f022e8117"
  },
  {
   "cell_type": "code",
   "execution_count": 19,
   "outputs": [
    {
     "data": {
      "text/plain": "Empty DataFrame\nColumns: [id, do, date, date_time, posture_type, activity_intensity, maxIdx, activity_type, exercise_modifier, work_type]\nIndex: []",
      "text/html": "<div>\n<style scoped>\n    .dataframe tbody tr th:only-of-type {\n        vertical-align: middle;\n    }\n\n    .dataframe tbody tr th {\n        vertical-align: top;\n    }\n\n    .dataframe thead th {\n        text-align: right;\n    }\n</style>\n<table border=\"1\" class=\"dataframe\">\n  <thead>\n    <tr style=\"text-align: right;\">\n      <th></th>\n      <th>id</th>\n      <th>do</th>\n      <th>date</th>\n      <th>date_time</th>\n      <th>posture_type</th>\n      <th>activity_intensity</th>\n      <th>maxIdx</th>\n      <th>activity_type</th>\n      <th>exercise_modifier</th>\n      <th>work_type</th>\n    </tr>\n  </thead>\n  <tbody>\n  </tbody>\n</table>\n</div>"
     },
     "execution_count": 19,
     "metadata": {},
     "output_type": "execute_result"
    }
   ],
   "source": [
    "# Show rows where there are multiple activity types per datetime\n",
    "sbs_3[sbs_3['activity_type'].apply(type) == list]"
   ],
   "metadata": {
    "colab": {
     "base_uri": "https://localhost:8080/",
     "height": 53
    },
    "id": "890652a270f062ef",
    "outputId": "9688e656-4917-47d2-b38d-d89e129a1cc6",
    "ExecuteTime": {
     "end_time": "2024-02-14T22:11:22.136801600Z",
     "start_time": "2024-02-14T22:11:22.023534200Z"
    }
   },
   "id": "890652a270f062ef"
  },
  {
   "cell_type": "markdown",
   "source": [
    "**Step 5:** Get min and max datetime timestamps for each session using the `log` file"
   ],
   "metadata": {
    "collapsed": false,
    "id": "51901c458afbdd6e"
   },
   "id": "51901c458afbdd6e"
  },
  {
   "cell_type": "code",
   "execution_count": 20,
   "outputs": [
    {
     "data": {
      "text/plain": "     id  do        date       date_time_min       date_time_max\n0   102   1  2019-07-24 2019-07-24 08:20:19 2019-07-24 11:21:14\n1   102   2  2019-07-25 2019-07-25 12:42:08 2019-07-25 15:42:01\n2   116   1  2019-08-20 2019-08-20 08:08:45 2019-08-20 11:09:01\n3   116   2  2019-08-21 2019-08-21 11:09:47 2019-08-21 13:28:01\n4   117   1  2019-08-20 2019-08-20 15:17:46 2019-08-20 18:18:01\n5   117   2  2019-08-21 2019-08-21 07:11:45 2019-08-21 10:13:01\n6   122   1  2019-08-28 2019-08-28 10:06:41 2019-08-28 13:07:01\n7   122   2  2019-08-29 2019-08-29 15:19:51 2019-08-29 18:23:01\n8   124   1  2019-08-28 2019-08-28 14:59:09 2019-08-28 17:59:06\n9   124   2  2019-08-29 2019-08-29 09:31:00 2019-08-29 12:31:01\n10  126   1  2019-09-02 2019-09-02 11:14:51 2019-09-02 14:15:01\n11  126   2  2019-09-06 2019-09-06 10:36:00 2019-09-06 13:36:01\n12  127   1  2019-09-05 2019-09-05 16:07:56 2019-09-05 19:08:01\n13  127   2  2019-09-09 2019-09-09 10:56:00 2019-09-09 13:56:01\n14  128   1  2019-09-06 2019-09-06 07:00:01 2019-09-06 10:00:01\n15  128   2  2019-09-10 2019-09-10 13:21:00 2019-09-10 16:17:01\n16  129   1  2019-09-07 2019-09-07 08:55:00 2019-09-07 11:55:01\n17  129   2  2019-09-10 2019-09-10 16:31:46 2019-09-10 19:32:01\n18  130   1  2019-09-08 2019-09-08 17:28:00 2019-09-08 20:28:01\n19  130   2  2019-09-10 2019-09-10 08:02:01 2019-09-10 11:02:01\n20  131   1  2019-09-12 2019-09-12 10:57:42 2019-09-12 13:58:01\n21  131   2  2019-09-16 2019-09-16 09:04:54 2019-09-16 11:55:01\n22  132   1  2019-10-04 2019-10-04 13:31:18 2019-10-04 16:31:01\n23  132   2  2019-10-10 2019-10-10 09:24:44 2019-10-10 12:07:01\n24  133   1  2019-10-10 2019-10-10 14:31:56 2019-10-10 17:31:27\n25  133   2  2019-10-11 2019-10-11 10:23:20 2019-10-11 13:23:01\n26  134   1  2019-10-09 2019-10-09 12:57:15 2019-10-09 15:42:01\n27  134   2  2019-10-13 2019-10-13 12:56:53 2019-10-13 15:57:01\n28  135   1  2019-10-15 2019-10-15 15:32:01 2019-10-15 18:32:01\n29  135   2  2019-10-19 2019-10-19 12:49:51 2019-10-19 15:50:02\n30  136   1  2019-10-17 2019-10-17 13:41:00 2019-10-17 16:41:01\n31  136   2  2019-10-19 2019-10-19 09:00:51 2019-10-19 12:01:01\n32  138   1  2019-11-01 2019-11-01 16:11:00 2019-11-01 18:01:01\n33  138   2  2019-11-02 2019-11-02 09:23:00 2019-11-02 12:24:01\n34  139   1  2019-11-03 2019-11-03 14:19:51 2019-11-03 17:20:01\n35  139   2  2019-11-05 2019-11-05 15:04:47 2019-11-05 18:05:01\n36  140   1  2019-11-09 2019-11-09 08:59:21 2019-11-09 11:59:01\n37  140   2  2019-11-09 2019-11-09 13:04:00 2019-11-09 16:04:01\n38  141   1  2019-11-06 2019-11-06 12:27:52 2019-11-06 15:29:01\n39  141   2  2019-11-10 2019-11-10 10:01:00 2019-11-10 13:01:01\n40  143   1  2019-11-16 2019-11-16 10:07:00 2019-11-16 13:07:01\n41  143   2  2019-11-18 2019-11-18 13:02:00 2019-11-18 16:02:01\n42  144   1  2019-11-22 2019-11-22 12:38:00 2019-11-22 15:39:01\n43  144   2  2019-11-23 2019-11-23 16:35:01 2019-11-23 19:35:01\n44  150   1  2020-01-19 2020-01-19 09:29:05 2020-01-19 13:18:26\n45  150   2  2020-01-21 2020-01-21 19:31:52 2020-01-21 22:32:01\n46  154   1  2020-02-22 2020-02-22 13:07:59 2020-02-22 16:07:00\n47  154   2  2020-02-23 2020-02-23 13:04:09 2020-02-23 15:56:01",
      "text/html": "<div>\n<style scoped>\n    .dataframe tbody tr th:only-of-type {\n        vertical-align: middle;\n    }\n\n    .dataframe tbody tr th {\n        vertical-align: top;\n    }\n\n    .dataframe thead th {\n        text-align: right;\n    }\n</style>\n<table border=\"1\" class=\"dataframe\">\n  <thead>\n    <tr style=\"text-align: right;\">\n      <th></th>\n      <th>id</th>\n      <th>do</th>\n      <th>date</th>\n      <th>date_time_min</th>\n      <th>date_time_max</th>\n    </tr>\n  </thead>\n  <tbody>\n    <tr>\n      <th>0</th>\n      <td>102</td>\n      <td>1</td>\n      <td>2019-07-24</td>\n      <td>2019-07-24 08:20:19</td>\n      <td>2019-07-24 11:21:14</td>\n    </tr>\n    <tr>\n      <th>1</th>\n      <td>102</td>\n      <td>2</td>\n      <td>2019-07-25</td>\n      <td>2019-07-25 12:42:08</td>\n      <td>2019-07-25 15:42:01</td>\n    </tr>\n    <tr>\n      <th>2</th>\n      <td>116</td>\n      <td>1</td>\n      <td>2019-08-20</td>\n      <td>2019-08-20 08:08:45</td>\n      <td>2019-08-20 11:09:01</td>\n    </tr>\n    <tr>\n      <th>3</th>\n      <td>116</td>\n      <td>2</td>\n      <td>2019-08-21</td>\n      <td>2019-08-21 11:09:47</td>\n      <td>2019-08-21 13:28:01</td>\n    </tr>\n    <tr>\n      <th>4</th>\n      <td>117</td>\n      <td>1</td>\n      <td>2019-08-20</td>\n      <td>2019-08-20 15:17:46</td>\n      <td>2019-08-20 18:18:01</td>\n    </tr>\n    <tr>\n      <th>5</th>\n      <td>117</td>\n      <td>2</td>\n      <td>2019-08-21</td>\n      <td>2019-08-21 07:11:45</td>\n      <td>2019-08-21 10:13:01</td>\n    </tr>\n    <tr>\n      <th>6</th>\n      <td>122</td>\n      <td>1</td>\n      <td>2019-08-28</td>\n      <td>2019-08-28 10:06:41</td>\n      <td>2019-08-28 13:07:01</td>\n    </tr>\n    <tr>\n      <th>7</th>\n      <td>122</td>\n      <td>2</td>\n      <td>2019-08-29</td>\n      <td>2019-08-29 15:19:51</td>\n      <td>2019-08-29 18:23:01</td>\n    </tr>\n    <tr>\n      <th>8</th>\n      <td>124</td>\n      <td>1</td>\n      <td>2019-08-28</td>\n      <td>2019-08-28 14:59:09</td>\n      <td>2019-08-28 17:59:06</td>\n    </tr>\n    <tr>\n      <th>9</th>\n      <td>124</td>\n      <td>2</td>\n      <td>2019-08-29</td>\n      <td>2019-08-29 09:31:00</td>\n      <td>2019-08-29 12:31:01</td>\n    </tr>\n    <tr>\n      <th>10</th>\n      <td>126</td>\n      <td>1</td>\n      <td>2019-09-02</td>\n      <td>2019-09-02 11:14:51</td>\n      <td>2019-09-02 14:15:01</td>\n    </tr>\n    <tr>\n      <th>11</th>\n      <td>126</td>\n      <td>2</td>\n      <td>2019-09-06</td>\n      <td>2019-09-06 10:36:00</td>\n      <td>2019-09-06 13:36:01</td>\n    </tr>\n    <tr>\n      <th>12</th>\n      <td>127</td>\n      <td>1</td>\n      <td>2019-09-05</td>\n      <td>2019-09-05 16:07:56</td>\n      <td>2019-09-05 19:08:01</td>\n    </tr>\n    <tr>\n      <th>13</th>\n      <td>127</td>\n      <td>2</td>\n      <td>2019-09-09</td>\n      <td>2019-09-09 10:56:00</td>\n      <td>2019-09-09 13:56:01</td>\n    </tr>\n    <tr>\n      <th>14</th>\n      <td>128</td>\n      <td>1</td>\n      <td>2019-09-06</td>\n      <td>2019-09-06 07:00:01</td>\n      <td>2019-09-06 10:00:01</td>\n    </tr>\n    <tr>\n      <th>15</th>\n      <td>128</td>\n      <td>2</td>\n      <td>2019-09-10</td>\n      <td>2019-09-10 13:21:00</td>\n      <td>2019-09-10 16:17:01</td>\n    </tr>\n    <tr>\n      <th>16</th>\n      <td>129</td>\n      <td>1</td>\n      <td>2019-09-07</td>\n      <td>2019-09-07 08:55:00</td>\n      <td>2019-09-07 11:55:01</td>\n    </tr>\n    <tr>\n      <th>17</th>\n      <td>129</td>\n      <td>2</td>\n      <td>2019-09-10</td>\n      <td>2019-09-10 16:31:46</td>\n      <td>2019-09-10 19:32:01</td>\n    </tr>\n    <tr>\n      <th>18</th>\n      <td>130</td>\n      <td>1</td>\n      <td>2019-09-08</td>\n      <td>2019-09-08 17:28:00</td>\n      <td>2019-09-08 20:28:01</td>\n    </tr>\n    <tr>\n      <th>19</th>\n      <td>130</td>\n      <td>2</td>\n      <td>2019-09-10</td>\n      <td>2019-09-10 08:02:01</td>\n      <td>2019-09-10 11:02:01</td>\n    </tr>\n    <tr>\n      <th>20</th>\n      <td>131</td>\n      <td>1</td>\n      <td>2019-09-12</td>\n      <td>2019-09-12 10:57:42</td>\n      <td>2019-09-12 13:58:01</td>\n    </tr>\n    <tr>\n      <th>21</th>\n      <td>131</td>\n      <td>2</td>\n      <td>2019-09-16</td>\n      <td>2019-09-16 09:04:54</td>\n      <td>2019-09-16 11:55:01</td>\n    </tr>\n    <tr>\n      <th>22</th>\n      <td>132</td>\n      <td>1</td>\n      <td>2019-10-04</td>\n      <td>2019-10-04 13:31:18</td>\n      <td>2019-10-04 16:31:01</td>\n    </tr>\n    <tr>\n      <th>23</th>\n      <td>132</td>\n      <td>2</td>\n      <td>2019-10-10</td>\n      <td>2019-10-10 09:24:44</td>\n      <td>2019-10-10 12:07:01</td>\n    </tr>\n    <tr>\n      <th>24</th>\n      <td>133</td>\n      <td>1</td>\n      <td>2019-10-10</td>\n      <td>2019-10-10 14:31:56</td>\n      <td>2019-10-10 17:31:27</td>\n    </tr>\n    <tr>\n      <th>25</th>\n      <td>133</td>\n      <td>2</td>\n      <td>2019-10-11</td>\n      <td>2019-10-11 10:23:20</td>\n      <td>2019-10-11 13:23:01</td>\n    </tr>\n    <tr>\n      <th>26</th>\n      <td>134</td>\n      <td>1</td>\n      <td>2019-10-09</td>\n      <td>2019-10-09 12:57:15</td>\n      <td>2019-10-09 15:42:01</td>\n    </tr>\n    <tr>\n      <th>27</th>\n      <td>134</td>\n      <td>2</td>\n      <td>2019-10-13</td>\n      <td>2019-10-13 12:56:53</td>\n      <td>2019-10-13 15:57:01</td>\n    </tr>\n    <tr>\n      <th>28</th>\n      <td>135</td>\n      <td>1</td>\n      <td>2019-10-15</td>\n      <td>2019-10-15 15:32:01</td>\n      <td>2019-10-15 18:32:01</td>\n    </tr>\n    <tr>\n      <th>29</th>\n      <td>135</td>\n      <td>2</td>\n      <td>2019-10-19</td>\n      <td>2019-10-19 12:49:51</td>\n      <td>2019-10-19 15:50:02</td>\n    </tr>\n    <tr>\n      <th>30</th>\n      <td>136</td>\n      <td>1</td>\n      <td>2019-10-17</td>\n      <td>2019-10-17 13:41:00</td>\n      <td>2019-10-17 16:41:01</td>\n    </tr>\n    <tr>\n      <th>31</th>\n      <td>136</td>\n      <td>2</td>\n      <td>2019-10-19</td>\n      <td>2019-10-19 09:00:51</td>\n      <td>2019-10-19 12:01:01</td>\n    </tr>\n    <tr>\n      <th>32</th>\n      <td>138</td>\n      <td>1</td>\n      <td>2019-11-01</td>\n      <td>2019-11-01 16:11:00</td>\n      <td>2019-11-01 18:01:01</td>\n    </tr>\n    <tr>\n      <th>33</th>\n      <td>138</td>\n      <td>2</td>\n      <td>2019-11-02</td>\n      <td>2019-11-02 09:23:00</td>\n      <td>2019-11-02 12:24:01</td>\n    </tr>\n    <tr>\n      <th>34</th>\n      <td>139</td>\n      <td>1</td>\n      <td>2019-11-03</td>\n      <td>2019-11-03 14:19:51</td>\n      <td>2019-11-03 17:20:01</td>\n    </tr>\n    <tr>\n      <th>35</th>\n      <td>139</td>\n      <td>2</td>\n      <td>2019-11-05</td>\n      <td>2019-11-05 15:04:47</td>\n      <td>2019-11-05 18:05:01</td>\n    </tr>\n    <tr>\n      <th>36</th>\n      <td>140</td>\n      <td>1</td>\n      <td>2019-11-09</td>\n      <td>2019-11-09 08:59:21</td>\n      <td>2019-11-09 11:59:01</td>\n    </tr>\n    <tr>\n      <th>37</th>\n      <td>140</td>\n      <td>2</td>\n      <td>2019-11-09</td>\n      <td>2019-11-09 13:04:00</td>\n      <td>2019-11-09 16:04:01</td>\n    </tr>\n    <tr>\n      <th>38</th>\n      <td>141</td>\n      <td>1</td>\n      <td>2019-11-06</td>\n      <td>2019-11-06 12:27:52</td>\n      <td>2019-11-06 15:29:01</td>\n    </tr>\n    <tr>\n      <th>39</th>\n      <td>141</td>\n      <td>2</td>\n      <td>2019-11-10</td>\n      <td>2019-11-10 10:01:00</td>\n      <td>2019-11-10 13:01:01</td>\n    </tr>\n    <tr>\n      <th>40</th>\n      <td>143</td>\n      <td>1</td>\n      <td>2019-11-16</td>\n      <td>2019-11-16 10:07:00</td>\n      <td>2019-11-16 13:07:01</td>\n    </tr>\n    <tr>\n      <th>41</th>\n      <td>143</td>\n      <td>2</td>\n      <td>2019-11-18</td>\n      <td>2019-11-18 13:02:00</td>\n      <td>2019-11-18 16:02:01</td>\n    </tr>\n    <tr>\n      <th>42</th>\n      <td>144</td>\n      <td>1</td>\n      <td>2019-11-22</td>\n      <td>2019-11-22 12:38:00</td>\n      <td>2019-11-22 15:39:01</td>\n    </tr>\n    <tr>\n      <th>43</th>\n      <td>144</td>\n      <td>2</td>\n      <td>2019-11-23</td>\n      <td>2019-11-23 16:35:01</td>\n      <td>2019-11-23 19:35:01</td>\n    </tr>\n    <tr>\n      <th>44</th>\n      <td>150</td>\n      <td>1</td>\n      <td>2020-01-19</td>\n      <td>2020-01-19 09:29:05</td>\n      <td>2020-01-19 13:18:26</td>\n    </tr>\n    <tr>\n      <th>45</th>\n      <td>150</td>\n      <td>2</td>\n      <td>2020-01-21</td>\n      <td>2020-01-21 19:31:52</td>\n      <td>2020-01-21 22:32:01</td>\n    </tr>\n    <tr>\n      <th>46</th>\n      <td>154</td>\n      <td>1</td>\n      <td>2020-02-22</td>\n      <td>2020-02-22 13:07:59</td>\n      <td>2020-02-22 16:07:00</td>\n    </tr>\n    <tr>\n      <th>47</th>\n      <td>154</td>\n      <td>2</td>\n      <td>2020-02-23</td>\n      <td>2020-02-23 13:04:09</td>\n      <td>2020-02-23 15:56:01</td>\n    </tr>\n  </tbody>\n</table>\n</div>"
     },
     "execution_count": 20,
     "metadata": {},
     "output_type": "execute_result"
    }
   ],
   "source": [
    "# Get relevant info from log\n",
    "sbs_time = log[[\"id\", \"do\", \"start_month\", \"start_day\", \"start_year\", \"start_time\", \"stop_time\"]]\n",
    "# Concatenate min date time into string and then convert that string to datetime object\n",
    "sbs_time[\"date_time_min\"] = pd.to_datetime(sbs_time[\"start_month\"].astype(str) + \"/\" + sbs_time[\"start_day\"].astype(str) + \"/\" +\n",
    "                                        sbs_time[\"start_year\"].astype(str) + \" \" + sbs_time[\"start_time\"])\n",
    "# Concatenate max date time into string and then convert that string to datetime object\n",
    "sbs_time[\"date_time_max\"] = pd.to_datetime(sbs_time[\"start_month\"].astype(str) + \"/\" + sbs_time[\"start_day\"].astype(str) + \"/\" +\n",
    "                                        sbs_time[\"start_year\"].astype(str) + \" \" + sbs_time[\"stop_time\"]) + pd.to_timedelta(1, unit=\"seconds\")\n",
    "# Recreate date column for joining purposes\n",
    "sbs_time[\"date\"] = sbs_time[\"date_time_min\"].dt.date\n",
    "# Subset columns\n",
    "sbs_time = sbs_time[[\"id\", \"do\", \"date\", \"date_time_min\", \"date_time_max\"]]\n",
    "# Display for review\n",
    "sbs_time"
   ],
   "metadata": {
    "colab": {
     "base_uri": "https://localhost:8080/",
     "height": 1000
    },
    "id": "8e366739645bb8ed",
    "outputId": "6c024ee7-47e6-4897-de8c-869ae0fa4ea8",
    "ExecuteTime": {
     "end_time": "2024-02-14T22:11:22.224220Z",
     "start_time": "2024-02-14T22:11:22.046030200Z"
    }
   },
   "id": "8e366739645bb8ed"
  },
  {
   "cell_type": "markdown",
   "source": [
    "**Step 6:** Get timestamps for posture states. Fill the time stamps in between so there is one row for every second between start and end of the session. This will result in a second by second table for the posture states."
   ],
   "metadata": {
    "collapsed": false,
    "id": "85cef92af950b174"
   },
   "id": "85cef92af950b174"
  },
  {
   "cell_type": "code",
   "execution_count": 21,
   "outputs": [
    {
     "data": {
      "text/plain": "       id  do        date           date_time        posture_type  \\\n0     102   1  2019-07-24 2019-07-24 08:20:19           LA- stand   \n1     102   1  2019-07-24 2019-07-24 08:21:01            WA- walk   \n3     102   1  2019-07-24 2019-07-24 08:21:18  WA- descend stairs   \n4     102   1  2019-07-24 2019-07-24 08:21:32            WA- walk   \n5     102   1  2019-07-24 2019-07-24 08:21:39  WA- descend stairs   \n...   ...  ..         ...                 ...                 ...   \n7183  154   2  2020-02-23 2020-02-23 13:04:58   WA-walk with load   \n7184  154   2  2020-02-23 2020-02-23 13:05:07   WA- ascend stairs   \n7185  154   2  2020-02-23 2020-02-23 13:05:45   WA-walk with load   \n7186  154   2  2020-02-23 2020-02-23 13:06:18  LA- stand and move   \n7187  154   2  2020-02-23 2020-02-23 13:06:24          SB-sitting   \n\n     activity_intensity  \n0                   NaN  \n1              moderate  \n3              moderate  \n4              moderate  \n5              moderate  \n...                 ...  \n7183           moderate  \n7184           vigorous  \n7185           moderate  \n7186              light  \n7187                NaN  \n\n[6901 rows x 6 columns]",
      "text/html": "<div>\n<style scoped>\n    .dataframe tbody tr th:only-of-type {\n        vertical-align: middle;\n    }\n\n    .dataframe tbody tr th {\n        vertical-align: top;\n    }\n\n    .dataframe thead th {\n        text-align: right;\n    }\n</style>\n<table border=\"1\" class=\"dataframe\">\n  <thead>\n    <tr style=\"text-align: right;\">\n      <th></th>\n      <th>id</th>\n      <th>do</th>\n      <th>date</th>\n      <th>date_time</th>\n      <th>posture_type</th>\n      <th>activity_intensity</th>\n    </tr>\n  </thead>\n  <tbody>\n    <tr>\n      <th>0</th>\n      <td>102</td>\n      <td>1</td>\n      <td>2019-07-24</td>\n      <td>2019-07-24 08:20:19</td>\n      <td>LA- stand</td>\n      <td>NaN</td>\n    </tr>\n    <tr>\n      <th>1</th>\n      <td>102</td>\n      <td>1</td>\n      <td>2019-07-24</td>\n      <td>2019-07-24 08:21:01</td>\n      <td>WA- walk</td>\n      <td>moderate</td>\n    </tr>\n    <tr>\n      <th>3</th>\n      <td>102</td>\n      <td>1</td>\n      <td>2019-07-24</td>\n      <td>2019-07-24 08:21:18</td>\n      <td>WA- descend stairs</td>\n      <td>moderate</td>\n    </tr>\n    <tr>\n      <th>4</th>\n      <td>102</td>\n      <td>1</td>\n      <td>2019-07-24</td>\n      <td>2019-07-24 08:21:32</td>\n      <td>WA- walk</td>\n      <td>moderate</td>\n    </tr>\n    <tr>\n      <th>5</th>\n      <td>102</td>\n      <td>1</td>\n      <td>2019-07-24</td>\n      <td>2019-07-24 08:21:39</td>\n      <td>WA- descend stairs</td>\n      <td>moderate</td>\n    </tr>\n    <tr>\n      <th>...</th>\n      <td>...</td>\n      <td>...</td>\n      <td>...</td>\n      <td>...</td>\n      <td>...</td>\n      <td>...</td>\n    </tr>\n    <tr>\n      <th>7183</th>\n      <td>154</td>\n      <td>2</td>\n      <td>2020-02-23</td>\n      <td>2020-02-23 13:04:58</td>\n      <td>WA-walk with load</td>\n      <td>moderate</td>\n    </tr>\n    <tr>\n      <th>7184</th>\n      <td>154</td>\n      <td>2</td>\n      <td>2020-02-23</td>\n      <td>2020-02-23 13:05:07</td>\n      <td>WA- ascend stairs</td>\n      <td>vigorous</td>\n    </tr>\n    <tr>\n      <th>7185</th>\n      <td>154</td>\n      <td>2</td>\n      <td>2020-02-23</td>\n      <td>2020-02-23 13:05:45</td>\n      <td>WA-walk with load</td>\n      <td>moderate</td>\n    </tr>\n    <tr>\n      <th>7186</th>\n      <td>154</td>\n      <td>2</td>\n      <td>2020-02-23</td>\n      <td>2020-02-23 13:06:18</td>\n      <td>LA- stand and move</td>\n      <td>light</td>\n    </tr>\n    <tr>\n      <th>7187</th>\n      <td>154</td>\n      <td>2</td>\n      <td>2020-02-23</td>\n      <td>2020-02-23 13:06:24</td>\n      <td>SB-sitting</td>\n      <td>NaN</td>\n    </tr>\n  </tbody>\n</table>\n<p>6901 rows × 6 columns</p>\n</div>"
     },
     "execution_count": 21,
     "metadata": {},
     "output_type": "execute_result"
    }
   ],
   "source": [
    "# Get postures from aggregated table\n",
    "sbs_posture_2 = sbs_3[['id', 'do', 'date', 'date_time', 'posture_type', 'activity_intensity']].dropna(subset=\"posture_type\")\n",
    "sbs_posture_2"
   ],
   "metadata": {
    "colab": {
     "base_uri": "https://localhost:8080/",
     "height": 424
    },
    "id": "4ff53214e1416833",
    "outputId": "0f02ddbb-c460-44f8-cfa9-d3f25fdce6aa",
    "ExecuteTime": {
     "end_time": "2024-02-14T22:11:22.430654700Z",
     "start_time": "2024-02-14T22:11:22.081317800Z"
    }
   },
   "id": "4ff53214e1416833"
  },
  {
   "cell_type": "code",
   "execution_count": 22,
   "outputs": [
    {
     "data": {
      "text/plain": "       id  do        date       date_time_min           date_time\n0     102   1  2019-07-24 2019-07-24 08:20:19 2019-07-24 08:20:19\n0     102   1  2019-07-24 2019-07-24 08:20:19 2019-07-24 08:20:20\n0     102   1  2019-07-24 2019-07-24 08:20:19 2019-07-24 08:20:21\n0     102   1  2019-07-24 2019-07-24 08:20:19 2019-07-24 08:20:22\n0     102   1  2019-07-24 2019-07-24 08:20:19 2019-07-24 08:20:23\n...   ...  ..         ...                 ...                 ...\n6900  154   2  2020-02-23 2020-02-23 13:06:24 2020-02-23 15:55:56\n6900  154   2  2020-02-23 2020-02-23 13:06:24 2020-02-23 15:55:57\n6900  154   2  2020-02-23 2020-02-23 13:06:24 2020-02-23 15:55:58\n6900  154   2  2020-02-23 2020-02-23 13:06:24 2020-02-23 15:55:59\n6900  154   2  2020-02-23 2020-02-23 13:06:24 2020-02-23 15:56:00\n\n[509949 rows x 5 columns]",
      "text/html": "<div>\n<style scoped>\n    .dataframe tbody tr th:only-of-type {\n        vertical-align: middle;\n    }\n\n    .dataframe tbody tr th {\n        vertical-align: top;\n    }\n\n    .dataframe thead th {\n        text-align: right;\n    }\n</style>\n<table border=\"1\" class=\"dataframe\">\n  <thead>\n    <tr style=\"text-align: right;\">\n      <th></th>\n      <th>id</th>\n      <th>do</th>\n      <th>date</th>\n      <th>date_time_min</th>\n      <th>date_time</th>\n    </tr>\n  </thead>\n  <tbody>\n    <tr>\n      <th>0</th>\n      <td>102</td>\n      <td>1</td>\n      <td>2019-07-24</td>\n      <td>2019-07-24 08:20:19</td>\n      <td>2019-07-24 08:20:19</td>\n    </tr>\n    <tr>\n      <th>0</th>\n      <td>102</td>\n      <td>1</td>\n      <td>2019-07-24</td>\n      <td>2019-07-24 08:20:19</td>\n      <td>2019-07-24 08:20:20</td>\n    </tr>\n    <tr>\n      <th>0</th>\n      <td>102</td>\n      <td>1</td>\n      <td>2019-07-24</td>\n      <td>2019-07-24 08:20:19</td>\n      <td>2019-07-24 08:20:21</td>\n    </tr>\n    <tr>\n      <th>0</th>\n      <td>102</td>\n      <td>1</td>\n      <td>2019-07-24</td>\n      <td>2019-07-24 08:20:19</td>\n      <td>2019-07-24 08:20:22</td>\n    </tr>\n    <tr>\n      <th>0</th>\n      <td>102</td>\n      <td>1</td>\n      <td>2019-07-24</td>\n      <td>2019-07-24 08:20:19</td>\n      <td>2019-07-24 08:20:23</td>\n    </tr>\n    <tr>\n      <th>...</th>\n      <td>...</td>\n      <td>...</td>\n      <td>...</td>\n      <td>...</td>\n      <td>...</td>\n    </tr>\n    <tr>\n      <th>6900</th>\n      <td>154</td>\n      <td>2</td>\n      <td>2020-02-23</td>\n      <td>2020-02-23 13:06:24</td>\n      <td>2020-02-23 15:55:56</td>\n    </tr>\n    <tr>\n      <th>6900</th>\n      <td>154</td>\n      <td>2</td>\n      <td>2020-02-23</td>\n      <td>2020-02-23 13:06:24</td>\n      <td>2020-02-23 15:55:57</td>\n    </tr>\n    <tr>\n      <th>6900</th>\n      <td>154</td>\n      <td>2</td>\n      <td>2020-02-23</td>\n      <td>2020-02-23 13:06:24</td>\n      <td>2020-02-23 15:55:58</td>\n    </tr>\n    <tr>\n      <th>6900</th>\n      <td>154</td>\n      <td>2</td>\n      <td>2020-02-23</td>\n      <td>2020-02-23 13:06:24</td>\n      <td>2020-02-23 15:55:59</td>\n    </tr>\n    <tr>\n      <th>6900</th>\n      <td>154</td>\n      <td>2</td>\n      <td>2020-02-23</td>\n      <td>2020-02-23 13:06:24</td>\n      <td>2020-02-23 15:56:00</td>\n    </tr>\n  </tbody>\n</table>\n<p>509949 rows × 5 columns</p>\n</div>"
     },
     "execution_count": 22,
     "metadata": {},
     "output_type": "execute_result"
    }
   ],
   "source": [
    "# Merge min max datetime data with posture data\n",
    "sbs_posture_3 = sbs_time.merge(sbs_posture_2[[\"id\", \"do\", \"date\", \"date_time\"]], on=[\"id\", \"do\", \"date\"])\n",
    "# Get end times of states - it is just the start time of the next state\n",
    "sbs_posture_3[\"date_time_shift\"] = sbs_posture_3.groupby(['id', 'do', 'date'])['date_time'].apply(lambda x: x.shift(-1)).reset_index(drop=True)\n",
    "# Calculate start of the states and store in date time min. It is the max of the session start or the state start.\n",
    "sbs_posture_3[\"date_time_min\"] = sbs_posture_3[[\"date_time_min\", \"date_time\"]].max(axis=1, skipna=True)\n",
    "# Calculate end of the states and store in date time max. It is the minimum of the session end or the next state start.\n",
    "sbs_posture_3[\"date_time_max\"] = sbs_posture_3[[\"date_time_max\", \"date_time_shift\"]].min(axis=1, skipna=True)\n",
    "# Subset columns\n",
    "sbs_posture_3 = sbs_posture_3[[\"id\", \"do\", \"date\", \"date_time_min\", \"date_time_max\"]]\n",
    "# Calculate time in between states\n",
    "sbs_posture_3['time_delta'] = sbs_posture_3['date_time_max'] - sbs_posture_3['date_time_min']\n",
    "# Get a sequence list of all seconds since the start of the state until the end of the state. It will look like [0, 1, 2,...]\n",
    "sbs_posture_3['seconds_sequence'] = sbs_posture_3['time_delta'].apply(lambda x: list(range(int(x.total_seconds()))))\n",
    "# Explode the sequence of seconds. We add each second in the list to the start time\n",
    "# This should result in one row per second for every second in between the session start and end - a second by second table\n",
    "sbs_posture_3 = sbs_posture_3.drop(['time_delta', 'date_time_max'], axis=1).explode('seconds_sequence')\n",
    "sbs_posture_3['date_time'] = sbs_posture_3['date_time_min'] + pd.to_timedelta(sbs_posture_3['seconds_sequence'], unit=\"seconds\")\n",
    "# Subset columns\n",
    "sbs_posture_3 = sbs_posture_3.drop(['seconds_sequence'], axis=1)\n",
    "# Display for review\n",
    "sbs_posture_3"
   ],
   "metadata": {
    "colab": {
     "base_uri": "https://localhost:8080/",
     "height": 424
    },
    "id": "ee3277fc0cee8583",
    "outputId": "af7a0c13-83c5-4f33-f6a9-90c43a5dfe97",
    "ExecuteTime": {
     "end_time": "2024-02-14T22:11:25.503427900Z",
     "start_time": "2024-02-14T22:11:22.111252800Z"
    }
   },
   "id": "ee3277fc0cee8583"
  },
  {
   "cell_type": "code",
   "execution_count": 23,
   "outputs": [
    {
     "data": {
      "text/plain": "         id  observation        date           date_time posture_type  \\\n0       102            1  2019-07-24 2019-07-24 08:20:19    LA- stand   \n1       102            1  2019-07-24 2019-07-24 08:20:20    LA- stand   \n2       102            1  2019-07-24 2019-07-24 08:20:21    LA- stand   \n3       102            1  2019-07-24 2019-07-24 08:20:22    LA- stand   \n4       102            1  2019-07-24 2019-07-24 08:20:23    LA- stand   \n...     ...          ...         ...                 ...          ...   \n509944  154            2  2020-02-23 2020-02-23 15:55:56   SB-sitting   \n509945  154            2  2020-02-23 2020-02-23 15:55:57   SB-sitting   \n509946  154            2  2020-02-23 2020-02-23 15:55:58   SB-sitting   \n509947  154            2  2020-02-23 2020-02-23 15:55:59   SB-sitting   \n509948  154            2  2020-02-23 2020-02-23 15:56:00   SB-sitting   \n\n       activity_intensity  \n0                     NaN  \n1                     NaN  \n2                     NaN  \n3                     NaN  \n4                     NaN  \n...                   ...  \n509944                NaN  \n509945                NaN  \n509946                NaN  \n509947                NaN  \n509948                NaN  \n\n[509949 rows x 6 columns]",
      "text/html": "<div>\n<style scoped>\n    .dataframe tbody tr th:only-of-type {\n        vertical-align: middle;\n    }\n\n    .dataframe tbody tr th {\n        vertical-align: top;\n    }\n\n    .dataframe thead th {\n        text-align: right;\n    }\n</style>\n<table border=\"1\" class=\"dataframe\">\n  <thead>\n    <tr style=\"text-align: right;\">\n      <th></th>\n      <th>id</th>\n      <th>observation</th>\n      <th>date</th>\n      <th>date_time</th>\n      <th>posture_type</th>\n      <th>activity_intensity</th>\n    </tr>\n  </thead>\n  <tbody>\n    <tr>\n      <th>0</th>\n      <td>102</td>\n      <td>1</td>\n      <td>2019-07-24</td>\n      <td>2019-07-24 08:20:19</td>\n      <td>LA- stand</td>\n      <td>NaN</td>\n    </tr>\n    <tr>\n      <th>1</th>\n      <td>102</td>\n      <td>1</td>\n      <td>2019-07-24</td>\n      <td>2019-07-24 08:20:20</td>\n      <td>LA- stand</td>\n      <td>NaN</td>\n    </tr>\n    <tr>\n      <th>2</th>\n      <td>102</td>\n      <td>1</td>\n      <td>2019-07-24</td>\n      <td>2019-07-24 08:20:21</td>\n      <td>LA- stand</td>\n      <td>NaN</td>\n    </tr>\n    <tr>\n      <th>3</th>\n      <td>102</td>\n      <td>1</td>\n      <td>2019-07-24</td>\n      <td>2019-07-24 08:20:22</td>\n      <td>LA- stand</td>\n      <td>NaN</td>\n    </tr>\n    <tr>\n      <th>4</th>\n      <td>102</td>\n      <td>1</td>\n      <td>2019-07-24</td>\n      <td>2019-07-24 08:20:23</td>\n      <td>LA- stand</td>\n      <td>NaN</td>\n    </tr>\n    <tr>\n      <th>...</th>\n      <td>...</td>\n      <td>...</td>\n      <td>...</td>\n      <td>...</td>\n      <td>...</td>\n      <td>...</td>\n    </tr>\n    <tr>\n      <th>509944</th>\n      <td>154</td>\n      <td>2</td>\n      <td>2020-02-23</td>\n      <td>2020-02-23 15:55:56</td>\n      <td>SB-sitting</td>\n      <td>NaN</td>\n    </tr>\n    <tr>\n      <th>509945</th>\n      <td>154</td>\n      <td>2</td>\n      <td>2020-02-23</td>\n      <td>2020-02-23 15:55:57</td>\n      <td>SB-sitting</td>\n      <td>NaN</td>\n    </tr>\n    <tr>\n      <th>509946</th>\n      <td>154</td>\n      <td>2</td>\n      <td>2020-02-23</td>\n      <td>2020-02-23 15:55:58</td>\n      <td>SB-sitting</td>\n      <td>NaN</td>\n    </tr>\n    <tr>\n      <th>509947</th>\n      <td>154</td>\n      <td>2</td>\n      <td>2020-02-23</td>\n      <td>2020-02-23 15:55:59</td>\n      <td>SB-sitting</td>\n      <td>NaN</td>\n    </tr>\n    <tr>\n      <th>509948</th>\n      <td>154</td>\n      <td>2</td>\n      <td>2020-02-23</td>\n      <td>2020-02-23 15:56:00</td>\n      <td>SB-sitting</td>\n      <td>NaN</td>\n    </tr>\n  </tbody>\n</table>\n<p>509949 rows × 6 columns</p>\n</div>"
     },
     "execution_count": 23,
     "metadata": {},
     "output_type": "execute_result"
    }
   ],
   "source": [
    "# Merge with posture states ground truth. The date time min in the second by second table should match up with the date time in the event table\n",
    "sbs_posture_4 = sbs_posture_3.merge(sbs_posture_2, left_on=[\"id\", \"do\", \"date\", \"date_time_min\"], right_on=[\"id\", \"do\", \"date\", \"date_time\"])\n",
    "# Subset and rename columns\n",
    "sbs_posture_4 = sbs_posture_4.drop([\"date_time_min\", \"date_time_y\"], axis=1).rename(columns={\n",
    "    'date_time_x': 'date_time',\n",
    "    'do': 'observation'\n",
    "})\n",
    "# Display for review\n",
    "sbs_posture_4"
   ],
   "metadata": {
    "colab": {
     "base_uri": "https://localhost:8080/",
     "height": 424
    },
    "id": "532460be38eafc36",
    "outputId": "99b6739b-435c-4743-ded4-8c6358531357",
    "ExecuteTime": {
     "end_time": "2024-02-14T22:11:25.918634100Z",
     "start_time": "2024-02-14T22:11:25.513707400Z"
    }
   },
   "id": "532460be38eafc36"
  },
  {
   "cell_type": "markdown",
   "source": [
    "**Step 7:** Get timestamps for activity states. Fill the time stamps in between so there is one row for every second between start and end of the session. This will result in a second by second table for the activity states."
   ],
   "metadata": {
    "collapsed": false,
    "id": "93ee6710b1de51b5"
   },
   "id": "93ee6710b1de51b5"
  },
  {
   "cell_type": "code",
   "execution_count": 24,
   "outputs": [
    {
     "data": {
      "text/plain": "       id  do        date           date_time  \\\n0     102   1  2019-07-24 2019-07-24 08:20:19   \n2     102   1  2019-07-24 2019-07-24 08:21:12   \n11    102   1  2019-07-24 2019-07-24 08:30:08   \n20    102   1  2019-07-24 2019-07-24 08:33:55   \n27    102   1  2019-07-24 2019-07-24 08:42:43   \n...   ...  ..         ...                 ...   \n7029  154   1  2020-02-22 2020-02-22 14:11:08   \n7030  154   1  2020-02-22 2020-02-22 14:13:53   \n7038  154   1  2020-02-22 2020-02-22 15:11:44   \n7180  154   1  2020-02-22 2020-02-22 16:04:53   \n7181  154   2  2020-02-23 2020-02-23 13:04:09   \n\n                                          activity_type exercise_modifier  \\\n0                                          WRK- general               NaN   \n2                                         TRAV- walking               NaN   \n11                   PUR- purchasing goods and services               NaN   \n20                                        TRAV- walking               NaN   \n27                                         WRK- general               NaN   \n...                                                 ...               ...   \n7029  LES- screen based leisure time (TV, video game...               NaN   \n7030  EX- participating in sport, exercise or recrea...   weight training   \n7038  EX- participating in sport, exercise or recrea...   weight training   \n7180                                      TRAV- walking               NaN   \n7181              EDU- taking class, research, homework               NaN   \n\n                                              work_type  \n0                     SP- Education and Health Services  \n2                                                   NaN  \n11                                                  NaN  \n20                                                  NaN  \n27    SP- Office (business, professional services, f...  \n...                                                 ...  \n7029                                                NaN  \n7030                                                NaN  \n7038                                                NaN  \n7180                                                NaN  \n7181                                                NaN  \n\n[743 rows x 7 columns]",
      "text/html": "<div>\n<style scoped>\n    .dataframe tbody tr th:only-of-type {\n        vertical-align: middle;\n    }\n\n    .dataframe tbody tr th {\n        vertical-align: top;\n    }\n\n    .dataframe thead th {\n        text-align: right;\n    }\n</style>\n<table border=\"1\" class=\"dataframe\">\n  <thead>\n    <tr style=\"text-align: right;\">\n      <th></th>\n      <th>id</th>\n      <th>do</th>\n      <th>date</th>\n      <th>date_time</th>\n      <th>activity_type</th>\n      <th>exercise_modifier</th>\n      <th>work_type</th>\n    </tr>\n  </thead>\n  <tbody>\n    <tr>\n      <th>0</th>\n      <td>102</td>\n      <td>1</td>\n      <td>2019-07-24</td>\n      <td>2019-07-24 08:20:19</td>\n      <td>WRK- general</td>\n      <td>NaN</td>\n      <td>SP- Education and Health Services</td>\n    </tr>\n    <tr>\n      <th>2</th>\n      <td>102</td>\n      <td>1</td>\n      <td>2019-07-24</td>\n      <td>2019-07-24 08:21:12</td>\n      <td>TRAV- walking</td>\n      <td>NaN</td>\n      <td>NaN</td>\n    </tr>\n    <tr>\n      <th>11</th>\n      <td>102</td>\n      <td>1</td>\n      <td>2019-07-24</td>\n      <td>2019-07-24 08:30:08</td>\n      <td>PUR- purchasing goods and services</td>\n      <td>NaN</td>\n      <td>NaN</td>\n    </tr>\n    <tr>\n      <th>20</th>\n      <td>102</td>\n      <td>1</td>\n      <td>2019-07-24</td>\n      <td>2019-07-24 08:33:55</td>\n      <td>TRAV- walking</td>\n      <td>NaN</td>\n      <td>NaN</td>\n    </tr>\n    <tr>\n      <th>27</th>\n      <td>102</td>\n      <td>1</td>\n      <td>2019-07-24</td>\n      <td>2019-07-24 08:42:43</td>\n      <td>WRK- general</td>\n      <td>NaN</td>\n      <td>SP- Office (business, professional services, f...</td>\n    </tr>\n    <tr>\n      <th>...</th>\n      <td>...</td>\n      <td>...</td>\n      <td>...</td>\n      <td>...</td>\n      <td>...</td>\n      <td>...</td>\n      <td>...</td>\n    </tr>\n    <tr>\n      <th>7029</th>\n      <td>154</td>\n      <td>1</td>\n      <td>2020-02-22</td>\n      <td>2020-02-22 14:11:08</td>\n      <td>LES- screen based leisure time (TV, video game...</td>\n      <td>NaN</td>\n      <td>NaN</td>\n    </tr>\n    <tr>\n      <th>7030</th>\n      <td>154</td>\n      <td>1</td>\n      <td>2020-02-22</td>\n      <td>2020-02-22 14:13:53</td>\n      <td>EX- participating in sport, exercise or recrea...</td>\n      <td>weight training</td>\n      <td>NaN</td>\n    </tr>\n    <tr>\n      <th>7038</th>\n      <td>154</td>\n      <td>1</td>\n      <td>2020-02-22</td>\n      <td>2020-02-22 15:11:44</td>\n      <td>EX- participating in sport, exercise or recrea...</td>\n      <td>weight training</td>\n      <td>NaN</td>\n    </tr>\n    <tr>\n      <th>7180</th>\n      <td>154</td>\n      <td>1</td>\n      <td>2020-02-22</td>\n      <td>2020-02-22 16:04:53</td>\n      <td>TRAV- walking</td>\n      <td>NaN</td>\n      <td>NaN</td>\n    </tr>\n    <tr>\n      <th>7181</th>\n      <td>154</td>\n      <td>2</td>\n      <td>2020-02-23</td>\n      <td>2020-02-23 13:04:09</td>\n      <td>EDU- taking class, research, homework</td>\n      <td>NaN</td>\n      <td>NaN</td>\n    </tr>\n  </tbody>\n</table>\n<p>743 rows × 7 columns</p>\n</div>"
     },
     "execution_count": 24,
     "metadata": {},
     "output_type": "execute_result"
    }
   ],
   "source": [
    "# Repeat for activities\n",
    "# Get activities from aggregated table\n",
    "sbs_activity_2 = sbs_3[['id', 'do', 'date', 'date_time', 'activity_type', 'exercise_modifier', 'work_type']].dropna(subset=\"activity_type\")\n",
    "sbs_activity_2"
   ],
   "metadata": {
    "colab": {
     "base_uri": "https://localhost:8080/",
     "height": 424
    },
    "id": "5850efe19193287e",
    "outputId": "aaf2ee2f-26f4-43d1-8758-0e18a85dbb0f",
    "ExecuteTime": {
     "end_time": "2024-02-14T22:11:25.971809900Z",
     "start_time": "2024-02-14T22:11:25.855089900Z"
    }
   },
   "id": "5850efe19193287e"
  },
  {
   "cell_type": "code",
   "execution_count": 25,
   "outputs": [
    {
     "data": {
      "text/plain": "      id  do        date       date_time_min           date_time\n0    102   1  2019-07-24 2019-07-24 08:20:19 2019-07-24 08:20:19\n0    102   1  2019-07-24 2019-07-24 08:20:19 2019-07-24 08:20:20\n0    102   1  2019-07-24 2019-07-24 08:20:19 2019-07-24 08:20:21\n0    102   1  2019-07-24 2019-07-24 08:20:19 2019-07-24 08:20:22\n0    102   1  2019-07-24 2019-07-24 08:20:19 2019-07-24 08:20:23\n..   ...  ..         ...                 ...                 ...\n742  154   2  2020-02-23 2020-02-23 13:04:09 2020-02-23 15:55:56\n742  154   2  2020-02-23 2020-02-23 13:04:09 2020-02-23 15:55:57\n742  154   2  2020-02-23 2020-02-23 13:04:09 2020-02-23 15:55:58\n742  154   2  2020-02-23 2020-02-23 13:04:09 2020-02-23 15:55:59\n742  154   2  2020-02-23 2020-02-23 13:04:09 2020-02-23 15:56:00\n\n[511819 rows x 5 columns]",
      "text/html": "<div>\n<style scoped>\n    .dataframe tbody tr th:only-of-type {\n        vertical-align: middle;\n    }\n\n    .dataframe tbody tr th {\n        vertical-align: top;\n    }\n\n    .dataframe thead th {\n        text-align: right;\n    }\n</style>\n<table border=\"1\" class=\"dataframe\">\n  <thead>\n    <tr style=\"text-align: right;\">\n      <th></th>\n      <th>id</th>\n      <th>do</th>\n      <th>date</th>\n      <th>date_time_min</th>\n      <th>date_time</th>\n    </tr>\n  </thead>\n  <tbody>\n    <tr>\n      <th>0</th>\n      <td>102</td>\n      <td>1</td>\n      <td>2019-07-24</td>\n      <td>2019-07-24 08:20:19</td>\n      <td>2019-07-24 08:20:19</td>\n    </tr>\n    <tr>\n      <th>0</th>\n      <td>102</td>\n      <td>1</td>\n      <td>2019-07-24</td>\n      <td>2019-07-24 08:20:19</td>\n      <td>2019-07-24 08:20:20</td>\n    </tr>\n    <tr>\n      <th>0</th>\n      <td>102</td>\n      <td>1</td>\n      <td>2019-07-24</td>\n      <td>2019-07-24 08:20:19</td>\n      <td>2019-07-24 08:20:21</td>\n    </tr>\n    <tr>\n      <th>0</th>\n      <td>102</td>\n      <td>1</td>\n      <td>2019-07-24</td>\n      <td>2019-07-24 08:20:19</td>\n      <td>2019-07-24 08:20:22</td>\n    </tr>\n    <tr>\n      <th>0</th>\n      <td>102</td>\n      <td>1</td>\n      <td>2019-07-24</td>\n      <td>2019-07-24 08:20:19</td>\n      <td>2019-07-24 08:20:23</td>\n    </tr>\n    <tr>\n      <th>...</th>\n      <td>...</td>\n      <td>...</td>\n      <td>...</td>\n      <td>...</td>\n      <td>...</td>\n    </tr>\n    <tr>\n      <th>742</th>\n      <td>154</td>\n      <td>2</td>\n      <td>2020-02-23</td>\n      <td>2020-02-23 13:04:09</td>\n      <td>2020-02-23 15:55:56</td>\n    </tr>\n    <tr>\n      <th>742</th>\n      <td>154</td>\n      <td>2</td>\n      <td>2020-02-23</td>\n      <td>2020-02-23 13:04:09</td>\n      <td>2020-02-23 15:55:57</td>\n    </tr>\n    <tr>\n      <th>742</th>\n      <td>154</td>\n      <td>2</td>\n      <td>2020-02-23</td>\n      <td>2020-02-23 13:04:09</td>\n      <td>2020-02-23 15:55:58</td>\n    </tr>\n    <tr>\n      <th>742</th>\n      <td>154</td>\n      <td>2</td>\n      <td>2020-02-23</td>\n      <td>2020-02-23 13:04:09</td>\n      <td>2020-02-23 15:55:59</td>\n    </tr>\n    <tr>\n      <th>742</th>\n      <td>154</td>\n      <td>2</td>\n      <td>2020-02-23</td>\n      <td>2020-02-23 13:04:09</td>\n      <td>2020-02-23 15:56:00</td>\n    </tr>\n  </tbody>\n</table>\n<p>511819 rows × 5 columns</p>\n</div>"
     },
     "execution_count": 25,
     "metadata": {},
     "output_type": "execute_result"
    }
   ],
   "source": [
    "# Merge min max datetime data with activities data\n",
    "sbs_activity_3 = sbs_time.merge(sbs_activity_2[[\"id\", \"do\", \"date\", \"date_time\"]], on=[\"id\", \"do\", \"date\"])\n",
    "# Get end times of states - it is just the start time of the next state\n",
    "sbs_activity_3[\"date_time_shift\"] = sbs_activity_3.groupby(['id', 'do', 'date'])['date_time'].apply(lambda x: x.shift(-1)).reset_index(drop=True)\n",
    "# Calculate start of the states and store in date time min. It is the max of the session start or the state start.\n",
    "sbs_activity_3[\"date_time_min\"] = sbs_activity_3[[\"date_time_min\", \"date_time\"]].max(axis=1, skipna=True)\n",
    "# Calculate end of the states and store in date time max. It is the minimum of the session end or the next state start.\n",
    "sbs_activity_3[\"date_time_max\"] = sbs_activity_3[[\"date_time_max\", \"date_time_shift\"]].min(axis=1, skipna=True)\n",
    "# Subset columns\n",
    "sbs_activity_3 = sbs_activity_3[[\"id\", \"do\", \"date\", \"date_time_min\", \"date_time_max\"]]\n",
    "# Calculate time in between states\n",
    "sbs_activity_3['time_delta'] = sbs_activity_3['date_time_max'] - sbs_activity_3['date_time_min']\n",
    "# Get a sequence list of all seconds since the start of the state until the end of the state. It will look like [0, 1, 2,...]\n",
    "sbs_activity_3['seconds_sequence'] = sbs_activity_3['time_delta'].apply(lambda x: list(range(int(x.total_seconds()))))\n",
    "# Explode the sequence of seconds. We add each second in the list to the start time\n",
    "# This should result in one row per second for every second in between the session start and end - a second by second table\n",
    "sbs_activity_3 = sbs_activity_3.drop(['time_delta', 'date_time_max'], axis=1).explode('seconds_sequence')\n",
    "sbs_activity_3['date_time'] = sbs_activity_3['date_time_min'] + pd.to_timedelta(sbs_activity_3['seconds_sequence'], unit=\"seconds\")\n",
    "# Subset columns\n",
    "sbs_activity_3 = sbs_activity_3.drop(['seconds_sequence'], axis=1)\n",
    "# Display for review\n",
    "sbs_activity_3"
   ],
   "metadata": {
    "colab": {
     "base_uri": "https://localhost:8080/",
     "height": 424
    },
    "id": "580e361ab28f8389",
    "outputId": "d30e50fd-c991-4648-d379-4401542bd4b8",
    "ExecuteTime": {
     "end_time": "2024-02-14T22:11:29.251899Z",
     "start_time": "2024-02-14T22:11:25.884393300Z"
    }
   },
   "id": "580e361ab28f8389"
  },
  {
   "cell_type": "code",
   "execution_count": 26,
   "outputs": [
    {
     "data": {
      "text/plain": "         id  observation        date           date_time  \\\n0       102            1  2019-07-24 2019-07-24 08:20:19   \n1       102            1  2019-07-24 2019-07-24 08:20:20   \n2       102            1  2019-07-24 2019-07-24 08:20:21   \n3       102            1  2019-07-24 2019-07-24 08:20:22   \n4       102            1  2019-07-24 2019-07-24 08:20:23   \n...     ...          ...         ...                 ...   \n511814  154            2  2020-02-23 2020-02-23 15:55:56   \n511815  154            2  2020-02-23 2020-02-23 15:55:57   \n511816  154            2  2020-02-23 2020-02-23 15:55:58   \n511817  154            2  2020-02-23 2020-02-23 15:55:59   \n511818  154            2  2020-02-23 2020-02-23 15:56:00   \n\n                                activity_type exercise_modifier  \\\n0                                WRK- general               NaN   \n1                                WRK- general               NaN   \n2                                WRK- general               NaN   \n3                                WRK- general               NaN   \n4                                WRK- general               NaN   \n...                                       ...               ...   \n511814  EDU- taking class, research, homework               NaN   \n511815  EDU- taking class, research, homework               NaN   \n511816  EDU- taking class, research, homework               NaN   \n511817  EDU- taking class, research, homework               NaN   \n511818  EDU- taking class, research, homework               NaN   \n\n                                work_type  \n0       SP- Education and Health Services  \n1       SP- Education and Health Services  \n2       SP- Education and Health Services  \n3       SP- Education and Health Services  \n4       SP- Education and Health Services  \n...                                   ...  \n511814                                NaN  \n511815                                NaN  \n511816                                NaN  \n511817                                NaN  \n511818                                NaN  \n\n[511819 rows x 7 columns]",
      "text/html": "<div>\n<style scoped>\n    .dataframe tbody tr th:only-of-type {\n        vertical-align: middle;\n    }\n\n    .dataframe tbody tr th {\n        vertical-align: top;\n    }\n\n    .dataframe thead th {\n        text-align: right;\n    }\n</style>\n<table border=\"1\" class=\"dataframe\">\n  <thead>\n    <tr style=\"text-align: right;\">\n      <th></th>\n      <th>id</th>\n      <th>observation</th>\n      <th>date</th>\n      <th>date_time</th>\n      <th>activity_type</th>\n      <th>exercise_modifier</th>\n      <th>work_type</th>\n    </tr>\n  </thead>\n  <tbody>\n    <tr>\n      <th>0</th>\n      <td>102</td>\n      <td>1</td>\n      <td>2019-07-24</td>\n      <td>2019-07-24 08:20:19</td>\n      <td>WRK- general</td>\n      <td>NaN</td>\n      <td>SP- Education and Health Services</td>\n    </tr>\n    <tr>\n      <th>1</th>\n      <td>102</td>\n      <td>1</td>\n      <td>2019-07-24</td>\n      <td>2019-07-24 08:20:20</td>\n      <td>WRK- general</td>\n      <td>NaN</td>\n      <td>SP- Education and Health Services</td>\n    </tr>\n    <tr>\n      <th>2</th>\n      <td>102</td>\n      <td>1</td>\n      <td>2019-07-24</td>\n      <td>2019-07-24 08:20:21</td>\n      <td>WRK- general</td>\n      <td>NaN</td>\n      <td>SP- Education and Health Services</td>\n    </tr>\n    <tr>\n      <th>3</th>\n      <td>102</td>\n      <td>1</td>\n      <td>2019-07-24</td>\n      <td>2019-07-24 08:20:22</td>\n      <td>WRK- general</td>\n      <td>NaN</td>\n      <td>SP- Education and Health Services</td>\n    </tr>\n    <tr>\n      <th>4</th>\n      <td>102</td>\n      <td>1</td>\n      <td>2019-07-24</td>\n      <td>2019-07-24 08:20:23</td>\n      <td>WRK- general</td>\n      <td>NaN</td>\n      <td>SP- Education and Health Services</td>\n    </tr>\n    <tr>\n      <th>...</th>\n      <td>...</td>\n      <td>...</td>\n      <td>...</td>\n      <td>...</td>\n      <td>...</td>\n      <td>...</td>\n      <td>...</td>\n    </tr>\n    <tr>\n      <th>511814</th>\n      <td>154</td>\n      <td>2</td>\n      <td>2020-02-23</td>\n      <td>2020-02-23 15:55:56</td>\n      <td>EDU- taking class, research, homework</td>\n      <td>NaN</td>\n      <td>NaN</td>\n    </tr>\n    <tr>\n      <th>511815</th>\n      <td>154</td>\n      <td>2</td>\n      <td>2020-02-23</td>\n      <td>2020-02-23 15:55:57</td>\n      <td>EDU- taking class, research, homework</td>\n      <td>NaN</td>\n      <td>NaN</td>\n    </tr>\n    <tr>\n      <th>511816</th>\n      <td>154</td>\n      <td>2</td>\n      <td>2020-02-23</td>\n      <td>2020-02-23 15:55:58</td>\n      <td>EDU- taking class, research, homework</td>\n      <td>NaN</td>\n      <td>NaN</td>\n    </tr>\n    <tr>\n      <th>511817</th>\n      <td>154</td>\n      <td>2</td>\n      <td>2020-02-23</td>\n      <td>2020-02-23 15:55:59</td>\n      <td>EDU- taking class, research, homework</td>\n      <td>NaN</td>\n      <td>NaN</td>\n    </tr>\n    <tr>\n      <th>511818</th>\n      <td>154</td>\n      <td>2</td>\n      <td>2020-02-23</td>\n      <td>2020-02-23 15:56:00</td>\n      <td>EDU- taking class, research, homework</td>\n      <td>NaN</td>\n      <td>NaN</td>\n    </tr>\n  </tbody>\n</table>\n<p>511819 rows × 7 columns</p>\n</div>"
     },
     "execution_count": 26,
     "metadata": {},
     "output_type": "execute_result"
    }
   ],
   "source": [
    "# Merge with activity states ground truth. The date time min in the second by second table should match up with the date time in the event table\n",
    "sbs_activity_4 = sbs_activity_3.merge(sbs_activity_2, left_on=[\"id\", \"do\", \"date\", \"date_time_min\"], right_on=[\"id\", \"do\", \"date\", \"date_time\"])\n",
    "# Subset and rename columns\n",
    "sbs_activity_4 = sbs_activity_4.drop([\"date_time_min\", \"date_time_y\"], axis=1).rename(columns={\n",
    "    'date_time_x': 'date_time',\n",
    "    'do': 'observation'\n",
    "})\n",
    "# Display for review\n",
    "sbs_activity_4"
   ],
   "metadata": {
    "colab": {
     "base_uri": "https://localhost:8080/",
     "height": 424
    },
    "id": "5d9caa6a6edc996b",
    "outputId": "eb71f56b-87fa-4025-a7ef-cc215e86e0a7",
    "ExecuteTime": {
     "end_time": "2024-02-14T22:11:29.668899100Z",
     "start_time": "2024-02-14T22:11:29.251899Z"
    }
   },
   "id": "5d9caa6a6edc996b"
  },
  {
   "cell_type": "markdown",
   "source": [
    "**Step 8:** Merge the second by second posture states with the second by second activity states to get a final second by second file. All that is left to do is to implement the mappings."
   ],
   "metadata": {
    "collapsed": false,
    "id": "37eef6b5b0563434"
   },
   "id": "37eef6b5b0563434"
  },
  {
   "cell_type": "code",
   "execution_count": 27,
   "outputs": [
    {
     "data": {
      "text/plain": "         id  observation        date           date_time posture_type  \\\n0       102            1  2019-07-24 2019-07-24 08:20:19    LA- stand   \n1       102            1  2019-07-24 2019-07-24 08:20:20    LA- stand   \n2       102            1  2019-07-24 2019-07-24 08:20:21    LA- stand   \n3       102            1  2019-07-24 2019-07-24 08:20:22    LA- stand   \n4       102            1  2019-07-24 2019-07-24 08:20:23    LA- stand   \n...     ...          ...         ...                 ...          ...   \n509944  154            2  2020-02-23 2020-02-23 15:55:56   SB-sitting   \n509945  154            2  2020-02-23 2020-02-23 15:55:57   SB-sitting   \n509946  154            2  2020-02-23 2020-02-23 15:55:58   SB-sitting   \n509947  154            2  2020-02-23 2020-02-23 15:55:59   SB-sitting   \n509948  154            2  2020-02-23 2020-02-23 15:56:00   SB-sitting   \n\n       activity_intensity                          activity_type  \\\n0                     NaN                           WRK- general   \n1                     NaN                           WRK- general   \n2                     NaN                           WRK- general   \n3                     NaN                           WRK- general   \n4                     NaN                           WRK- general   \n...                   ...                                    ...   \n509944                NaN  EDU- taking class, research, homework   \n509945                NaN  EDU- taking class, research, homework   \n509946                NaN  EDU- taking class, research, homework   \n509947                NaN  EDU- taking class, research, homework   \n509948                NaN  EDU- taking class, research, homework   \n\n       exercise_modifier                          work_type  \n0                    NaN  SP- Education and Health Services  \n1                    NaN  SP- Education and Health Services  \n2                    NaN  SP- Education and Health Services  \n3                    NaN  SP- Education and Health Services  \n4                    NaN  SP- Education and Health Services  \n...                  ...                                ...  \n509944               NaN                                NaN  \n509945               NaN                                NaN  \n509946               NaN                                NaN  \n509947               NaN                                NaN  \n509948               NaN                                NaN  \n\n[509949 rows x 9 columns]",
      "text/html": "<div>\n<style scoped>\n    .dataframe tbody tr th:only-of-type {\n        vertical-align: middle;\n    }\n\n    .dataframe tbody tr th {\n        vertical-align: top;\n    }\n\n    .dataframe thead th {\n        text-align: right;\n    }\n</style>\n<table border=\"1\" class=\"dataframe\">\n  <thead>\n    <tr style=\"text-align: right;\">\n      <th></th>\n      <th>id</th>\n      <th>observation</th>\n      <th>date</th>\n      <th>date_time</th>\n      <th>posture_type</th>\n      <th>activity_intensity</th>\n      <th>activity_type</th>\n      <th>exercise_modifier</th>\n      <th>work_type</th>\n    </tr>\n  </thead>\n  <tbody>\n    <tr>\n      <th>0</th>\n      <td>102</td>\n      <td>1</td>\n      <td>2019-07-24</td>\n      <td>2019-07-24 08:20:19</td>\n      <td>LA- stand</td>\n      <td>NaN</td>\n      <td>WRK- general</td>\n      <td>NaN</td>\n      <td>SP- Education and Health Services</td>\n    </tr>\n    <tr>\n      <th>1</th>\n      <td>102</td>\n      <td>1</td>\n      <td>2019-07-24</td>\n      <td>2019-07-24 08:20:20</td>\n      <td>LA- stand</td>\n      <td>NaN</td>\n      <td>WRK- general</td>\n      <td>NaN</td>\n      <td>SP- Education and Health Services</td>\n    </tr>\n    <tr>\n      <th>2</th>\n      <td>102</td>\n      <td>1</td>\n      <td>2019-07-24</td>\n      <td>2019-07-24 08:20:21</td>\n      <td>LA- stand</td>\n      <td>NaN</td>\n      <td>WRK- general</td>\n      <td>NaN</td>\n      <td>SP- Education and Health Services</td>\n    </tr>\n    <tr>\n      <th>3</th>\n      <td>102</td>\n      <td>1</td>\n      <td>2019-07-24</td>\n      <td>2019-07-24 08:20:22</td>\n      <td>LA- stand</td>\n      <td>NaN</td>\n      <td>WRK- general</td>\n      <td>NaN</td>\n      <td>SP- Education and Health Services</td>\n    </tr>\n    <tr>\n      <th>4</th>\n      <td>102</td>\n      <td>1</td>\n      <td>2019-07-24</td>\n      <td>2019-07-24 08:20:23</td>\n      <td>LA- stand</td>\n      <td>NaN</td>\n      <td>WRK- general</td>\n      <td>NaN</td>\n      <td>SP- Education and Health Services</td>\n    </tr>\n    <tr>\n      <th>...</th>\n      <td>...</td>\n      <td>...</td>\n      <td>...</td>\n      <td>...</td>\n      <td>...</td>\n      <td>...</td>\n      <td>...</td>\n      <td>...</td>\n      <td>...</td>\n    </tr>\n    <tr>\n      <th>509944</th>\n      <td>154</td>\n      <td>2</td>\n      <td>2020-02-23</td>\n      <td>2020-02-23 15:55:56</td>\n      <td>SB-sitting</td>\n      <td>NaN</td>\n      <td>EDU- taking class, research, homework</td>\n      <td>NaN</td>\n      <td>NaN</td>\n    </tr>\n    <tr>\n      <th>509945</th>\n      <td>154</td>\n      <td>2</td>\n      <td>2020-02-23</td>\n      <td>2020-02-23 15:55:57</td>\n      <td>SB-sitting</td>\n      <td>NaN</td>\n      <td>EDU- taking class, research, homework</td>\n      <td>NaN</td>\n      <td>NaN</td>\n    </tr>\n    <tr>\n      <th>509946</th>\n      <td>154</td>\n      <td>2</td>\n      <td>2020-02-23</td>\n      <td>2020-02-23 15:55:58</td>\n      <td>SB-sitting</td>\n      <td>NaN</td>\n      <td>EDU- taking class, research, homework</td>\n      <td>NaN</td>\n      <td>NaN</td>\n    </tr>\n    <tr>\n      <th>509947</th>\n      <td>154</td>\n      <td>2</td>\n      <td>2020-02-23</td>\n      <td>2020-02-23 15:55:59</td>\n      <td>SB-sitting</td>\n      <td>NaN</td>\n      <td>EDU- taking class, research, homework</td>\n      <td>NaN</td>\n      <td>NaN</td>\n    </tr>\n    <tr>\n      <th>509948</th>\n      <td>154</td>\n      <td>2</td>\n      <td>2020-02-23</td>\n      <td>2020-02-23 15:56:00</td>\n      <td>SB-sitting</td>\n      <td>NaN</td>\n      <td>EDU- taking class, research, homework</td>\n      <td>NaN</td>\n      <td>NaN</td>\n    </tr>\n  </tbody>\n</table>\n<p>509949 rows × 9 columns</p>\n</div>"
     },
     "execution_count": 27,
     "metadata": {},
     "output_type": "execute_result"
    }
   ],
   "source": [
    "sbs_4 = pd.merge(sbs_posture_4, sbs_activity_4, on=['id', 'observation', 'date', 'date_time'])\n",
    "sbs_4"
   ],
   "metadata": {
    "colab": {
     "base_uri": "https://localhost:8080/",
     "height": 424
    },
    "id": "dca90a0ff675ed6a",
    "outputId": "18c83a25-233c-40a8-9abd-9cdcad8df20e",
    "ExecuteTime": {
     "end_time": "2024-02-14T22:11:30.206283800Z",
     "start_time": "2024-02-14T22:11:29.571009Z"
    }
   },
   "id": "dca90a0ff675ed6a"
  },
  {
   "cell_type": "markdown",
   "source": [
    "# Mappings"
   ],
   "metadata": {
    "id": "tlGDVRFqE1rU"
   },
   "id": "tlGDVRFqE1rU"
  },
  {
   "cell_type": "markdown",
   "source": [
    "## **Broad Activity Type Mapping**"
   ],
   "metadata": {
    "id": "FlBPvvccE3yi"
   },
   "id": "FlBPvvccE3yi"
  },
  {
   "cell_type": "code",
   "source": [
    "def broad_mapping(row):\n",
    "    hp = [\"SL- sleep\", \"PC- groom, health-related\", \"PC- other personal care\", \"HA- housework\", \"HA- food prep and cleanup\", \"HA- interior maintenance, repair, & decoration\", \"HA- animals and pets\", \"HA- household management/other household activities\",\"CA- caring for and helping children\", \"CA- caring for and helping adults\"]\n",
    "    lg = [\"HA- exterior maintenance, repair, & decoration\", \"HA- lawn, garden and houseplants\"]\n",
    "    we = [\"WRK- general\", \"WRK- desk/screen based\", \"EDU- taking class, research, homework\", \"EDU- extracurricular\", \"ORG- church, spiritual\", \"ORG- volunteer work\", \"ORG- volunteer\", \"WRK- screen based\"]\n",
    "    ex = [\"EX- participating in sport, exercise or recreation\"]\n",
    "    p = [\"PUR- purchasing goods and services\"]\n",
    "    l = [\"EAT- eating and drinking, waiting\", \"LES- socializing, communicating, non-screen based\", \"LES- screen-based(TV, video game, computer, phone)\", \"EX- Attending sport, exercise recreation event, or performance\", \"LES- screen based leisure time (TV, video game, computer)\", \"LES- socializing, communicating, leisure time not screen\", \"EX- attending sport, recreational event, or performance\"]\n",
    "    t = [\"TRAV- passenger (car/truck/motorcycle)\", \"TRAV- driver (car/truck/motorcycle)\", \"TRAV- passenger (bus, train, tram, plane, boat, ship)\", \"TRAV- general\"]\n",
    "    at = [\"TRAV- biking\", \"TRAV- walking\"]\n",
    "\n",
    "    if row in hp:\n",
    "        return \"household_personal\"\n",
    "    elif row in lg:\n",
    "        return \"lawn_garden\"\n",
    "    elif row in we:\n",
    "        return \"work_education\"\n",
    "    elif row in p:\n",
    "        return \"purchasing\"\n",
    "    elif row in l:\n",
    "        return \"leisure\"\n",
    "    elif row in ex:\n",
    "        return \"exercise\"\n",
    "    elif row in t:\n",
    "        return \"transportation\"\n",
    "    elif row in at:\n",
    "        return \"active_transportation\"\n",
    "    else:\n",
    "        return np.nan"
   ],
   "metadata": {
    "id": "zWgPf32-Fx36",
    "ExecuteTime": {
     "end_time": "2024-02-14T22:11:30.218030100Z",
     "start_time": "2024-02-14T22:11:30.138748500Z"
    }
   },
   "id": "zWgPf32-Fx36",
   "execution_count": 28,
   "outputs": []
  },
  {
   "cell_type": "markdown",
   "source": [
    "## **Change Exercise Modifiers to be More Specific**"
   ],
   "metadata": {
    "id": "poWCo1Z5F7wf"
   },
   "id": "poWCo1Z5F7wf"
  },
  {
   "cell_type": "code",
   "source": [
    "# To change exercise modifier using modifier_1 (exercise_modifier)\n",
    "def ex_mapping(behavior, modifier1):\n",
    "    if behavior == \"EX- participating in sport, exercise or recreation\":\n",
    "        return \"EX- %s\" %modifier1\n",
    "    else:\n",
    "        return behavior"
   ],
   "metadata": {
    "id": "5F3Z8z6xGBb7",
    "ExecuteTime": {
     "end_time": "2024-02-14T22:11:30.254197600Z",
     "start_time": "2024-02-14T22:11:30.151450200Z"
    }
   },
   "id": "5F3Z8z6xGBb7",
   "execution_count": 29,
   "outputs": []
  },
  {
   "cell_type": "markdown",
   "source": [
    "## **Sedentary vs Non-sedentary Mapping**"
   ],
   "metadata": {
    "id": "GZJIA3O6GHbA"
   },
   "id": "GZJIA3O6GHbA"
  },
  {
   "cell_type": "code",
   "source": [
    "# Sedentary/non-sedentary postures\n",
    "def sed_map(row):\n",
    "    sed = [\"SB-sitting\", \"SB- lying\", \"LA- kneeling/ squatting\"]\n",
    "    no_sed = [\"LA- stretching\", \"LA- stand\", \"LA- stand and move\", \"WA- walk\", \"WA-walk with load\", \"WA- ascend stairs\", \"WA- descend stairs\", \"WA- running\", \"SP- bike\", \"SP- other sport movement\", \"SP- muscle strengthening\"]\n",
    "    if row in sed:\n",
    "        return \"sedentary\"\n",
    "    elif row in no_sed:\n",
    "        return \"not_sedentary\"\n",
    "    else:\n",
    "        return np.nan"
   ],
   "metadata": {
    "id": "vO-nTHhNGSuC",
    "ExecuteTime": {
     "end_time": "2024-02-14T22:11:30.420018600Z",
     "start_time": "2024-02-14T22:11:30.166516300Z"
    }
   },
   "id": "vO-nTHhNGSuC",
   "execution_count": 30,
   "outputs": []
  },
  {
   "cell_type": "markdown",
   "source": [
    "## **Walking vs Not Walking Mapping**"
   ],
   "metadata": {
    "id": "CPMzjMheGMHH"
   },
   "id": "CPMzjMheGMHH"
  },
  {
   "cell_type": "code",
   "source": [
    "def walk_mapping(row):\n",
    "    not_walk = [\"SB-sitting\", \"SB- lying\", \"LA- kneeling/ squatting\", \"LA- stretching\", \"LA- stand\", \"LA- stand and move\",\"SP- bike\", \"SP- other sport movement\", \"SP- muscle strengthening\"]\n",
    "    if ~pd.isna(row): #To avoid errors with startswith and NaN\n",
    "      if row.startswith(\"WA\"):\n",
    "          return \"walking\"\n",
    "      elif row in not_walk:\n",
    "          return \"not_walking\"\n",
    "      else:\n",
    "          return np.nan\n",
    "    else:\n",
    "      return np.nan\n"
   ],
   "metadata": {
    "id": "1TM8racJGUM9",
    "ExecuteTime": {
     "end_time": "2024-02-14T22:11:30.468964600Z",
     "start_time": "2024-02-14T22:11:30.176707600Z"
    }
   },
   "id": "1TM8racJGUM9",
   "execution_count": 31,
   "outputs": []
  },
  {
   "cell_type": "markdown",
   "source": [
    "## **Intensity Mapping**"
   ],
   "metadata": {
    "id": "p57wSVOhGdVJ"
   },
   "id": "p57wSVOhGdVJ"
  },
  {
   "cell_type": "code",
   "source": [
    "def intensity_mapping(behavior, mod2):\n",
    "    sed = [\"SB-sitting\", \"SB- lying\", \"LA- kneeling/ squatting\"]\n",
    "    light = [\"LA- stand\", \"LA- stretching\"]\n",
    "\n",
    "    if behavior in sed:\n",
    "        return \"sedentary\"\n",
    "    elif behavior in light:\n",
    "        return \"light\"\n",
    "    else:\n",
    "        if pd.isna(mod2):\n",
    "            return np.nan\n",
    "        else:\n",
    "            return mod2"
   ],
   "metadata": {
    "id": "XzidW8zhHAOc",
    "ExecuteTime": {
     "end_time": "2024-02-14T22:11:30.472328300Z",
     "start_time": "2024-02-14T22:11:30.185069400Z"
    }
   },
   "id": "XzidW8zhHAOc",
   "execution_count": 32,
   "outputs": []
  },
  {
   "cell_type": "markdown",
   "source": [
    "## **Apply the Mappings**"
   ],
   "metadata": {
    "id": "RB-gtyeqHBuY"
   },
   "id": "RB-gtyeqHBuY"
  },
  {
   "cell_type": "code",
   "execution_count": 33,
   "outputs": [],
   "source": [
    "def posture_cleanup(s):\n",
    "    posture = s.split('-')[1].strip()\n",
    "    return posture"
   ],
   "metadata": {
    "collapsed": false,
    "ExecuteTime": {
     "end_time": "2024-02-14T22:11:30.510031700Z",
     "start_time": "2024-02-14T22:11:30.193893200Z"
    }
   },
   "id": "f5db91fbb0a48ea9"
  },
  {
   "cell_type": "code",
   "execution_count": 34,
   "outputs": [],
   "source": [
    "sbs_5 = sbs_4.copy()\n",
    "# broad activity\n",
    "sbs_5[\"broad_activity_type\"] = sbs_5[\"activity_type\"].apply(broad_mapping)\n",
    "# specific exercise mapping\n",
    "sbs_5[\"activity_type\"] = sbs_5.apply(lambda x: ex_mapping(x['activity_type'], x['exercise_modifier']), axis=1)\n",
    "# sedentary vs not\n",
    "sbs_5[\"sedentary_not\"] = sbs_5[\"posture_type\"].apply(sed_map)\n",
    "# walking vs not walking\n",
    "sbs_5[\"walking_not\"] = sbs_5[\"posture_type\"].apply(walk_mapping)\n",
    "# intensity mapping\n",
    "sbs_5[\"activity_intensity\"] = sbs_5.apply(lambda x: intensity_mapping(x['posture_type'], x['activity_intensity']), axis=1)\n",
    "sbs_5['posture'] = sbs_5['posture_type'].apply(posture_cleanup)"
   ],
   "metadata": {
    "id": "kjI3FMHbHIc0",
    "ExecuteTime": {
     "end_time": "2024-02-14T22:11:47.417011200Z",
     "start_time": "2024-02-14T22:11:30.202460800Z"
    }
   },
   "id": "kjI3FMHbHIc0"
  },
  {
   "cell_type": "code",
   "execution_count": 35,
   "outputs": [
    {
     "data": {
      "text/plain": "         id  observation        date           date_time  \\\n0       102            1  2019-07-24 2019-07-24 08:20:19   \n1       102            1  2019-07-24 2019-07-24 08:20:20   \n2       102            1  2019-07-24 2019-07-24 08:20:21   \n3       102            1  2019-07-24 2019-07-24 08:20:22   \n4       102            1  2019-07-24 2019-07-24 08:20:23   \n...     ...          ...         ...                 ...   \n509944  154            2  2020-02-23 2020-02-23 15:55:56   \n509945  154            2  2020-02-23 2020-02-23 15:55:57   \n509946  154            2  2020-02-23 2020-02-23 15:55:58   \n509947  154            2  2020-02-23 2020-02-23 15:55:59   \n509948  154            2  2020-02-23 2020-02-23 15:56:00   \n\n                                activity_type broad_activity_type  \\\n0                                WRK- general      work_education   \n1                                WRK- general      work_education   \n2                                WRK- general      work_education   \n3                                WRK- general      work_education   \n4                                WRK- general      work_education   \n...                                       ...                 ...   \n509944  EDU- taking class, research, homework      work_education   \n509945  EDU- taking class, research, homework      work_education   \n509946  EDU- taking class, research, homework      work_education   \n509947  EDU- taking class, research, homework      work_education   \n509948  EDU- taking class, research, homework      work_education   \n\n                                work_type  posture  sedentary_not  \\\n0       SP- Education and Health Services    stand  not_sedentary   \n1       SP- Education and Health Services    stand  not_sedentary   \n2       SP- Education and Health Services    stand  not_sedentary   \n3       SP- Education and Health Services    stand  not_sedentary   \n4       SP- Education and Health Services    stand  not_sedentary   \n...                                   ...      ...            ...   \n509944                                NaN  sitting      sedentary   \n509945                                NaN  sitting      sedentary   \n509946                                NaN  sitting      sedentary   \n509947                                NaN  sitting      sedentary   \n509948                                NaN  sitting      sedentary   \n\n        walking_not activity_intensity  \n0       not_walking              light  \n1       not_walking              light  \n2       not_walking              light  \n3       not_walking              light  \n4       not_walking              light  \n...             ...                ...  \n509944  not_walking          sedentary  \n509945  not_walking          sedentary  \n509946  not_walking          sedentary  \n509947  not_walking          sedentary  \n509948  not_walking          sedentary  \n\n[509949 rows x 11 columns]",
      "text/html": "<div>\n<style scoped>\n    .dataframe tbody tr th:only-of-type {\n        vertical-align: middle;\n    }\n\n    .dataframe tbody tr th {\n        vertical-align: top;\n    }\n\n    .dataframe thead th {\n        text-align: right;\n    }\n</style>\n<table border=\"1\" class=\"dataframe\">\n  <thead>\n    <tr style=\"text-align: right;\">\n      <th></th>\n      <th>id</th>\n      <th>observation</th>\n      <th>date</th>\n      <th>date_time</th>\n      <th>activity_type</th>\n      <th>broad_activity_type</th>\n      <th>work_type</th>\n      <th>posture</th>\n      <th>sedentary_not</th>\n      <th>walking_not</th>\n      <th>activity_intensity</th>\n    </tr>\n  </thead>\n  <tbody>\n    <tr>\n      <th>0</th>\n      <td>102</td>\n      <td>1</td>\n      <td>2019-07-24</td>\n      <td>2019-07-24 08:20:19</td>\n      <td>WRK- general</td>\n      <td>work_education</td>\n      <td>SP- Education and Health Services</td>\n      <td>stand</td>\n      <td>not_sedentary</td>\n      <td>not_walking</td>\n      <td>light</td>\n    </tr>\n    <tr>\n      <th>1</th>\n      <td>102</td>\n      <td>1</td>\n      <td>2019-07-24</td>\n      <td>2019-07-24 08:20:20</td>\n      <td>WRK- general</td>\n      <td>work_education</td>\n      <td>SP- Education and Health Services</td>\n      <td>stand</td>\n      <td>not_sedentary</td>\n      <td>not_walking</td>\n      <td>light</td>\n    </tr>\n    <tr>\n      <th>2</th>\n      <td>102</td>\n      <td>1</td>\n      <td>2019-07-24</td>\n      <td>2019-07-24 08:20:21</td>\n      <td>WRK- general</td>\n      <td>work_education</td>\n      <td>SP- Education and Health Services</td>\n      <td>stand</td>\n      <td>not_sedentary</td>\n      <td>not_walking</td>\n      <td>light</td>\n    </tr>\n    <tr>\n      <th>3</th>\n      <td>102</td>\n      <td>1</td>\n      <td>2019-07-24</td>\n      <td>2019-07-24 08:20:22</td>\n      <td>WRK- general</td>\n      <td>work_education</td>\n      <td>SP- Education and Health Services</td>\n      <td>stand</td>\n      <td>not_sedentary</td>\n      <td>not_walking</td>\n      <td>light</td>\n    </tr>\n    <tr>\n      <th>4</th>\n      <td>102</td>\n      <td>1</td>\n      <td>2019-07-24</td>\n      <td>2019-07-24 08:20:23</td>\n      <td>WRK- general</td>\n      <td>work_education</td>\n      <td>SP- Education and Health Services</td>\n      <td>stand</td>\n      <td>not_sedentary</td>\n      <td>not_walking</td>\n      <td>light</td>\n    </tr>\n    <tr>\n      <th>...</th>\n      <td>...</td>\n      <td>...</td>\n      <td>...</td>\n      <td>...</td>\n      <td>...</td>\n      <td>...</td>\n      <td>...</td>\n      <td>...</td>\n      <td>...</td>\n      <td>...</td>\n      <td>...</td>\n    </tr>\n    <tr>\n      <th>509944</th>\n      <td>154</td>\n      <td>2</td>\n      <td>2020-02-23</td>\n      <td>2020-02-23 15:55:56</td>\n      <td>EDU- taking class, research, homework</td>\n      <td>work_education</td>\n      <td>NaN</td>\n      <td>sitting</td>\n      <td>sedentary</td>\n      <td>not_walking</td>\n      <td>sedentary</td>\n    </tr>\n    <tr>\n      <th>509945</th>\n      <td>154</td>\n      <td>2</td>\n      <td>2020-02-23</td>\n      <td>2020-02-23 15:55:57</td>\n      <td>EDU- taking class, research, homework</td>\n      <td>work_education</td>\n      <td>NaN</td>\n      <td>sitting</td>\n      <td>sedentary</td>\n      <td>not_walking</td>\n      <td>sedentary</td>\n    </tr>\n    <tr>\n      <th>509946</th>\n      <td>154</td>\n      <td>2</td>\n      <td>2020-02-23</td>\n      <td>2020-02-23 15:55:58</td>\n      <td>EDU- taking class, research, homework</td>\n      <td>work_education</td>\n      <td>NaN</td>\n      <td>sitting</td>\n      <td>sedentary</td>\n      <td>not_walking</td>\n      <td>sedentary</td>\n    </tr>\n    <tr>\n      <th>509947</th>\n      <td>154</td>\n      <td>2</td>\n      <td>2020-02-23</td>\n      <td>2020-02-23 15:55:59</td>\n      <td>EDU- taking class, research, homework</td>\n      <td>work_education</td>\n      <td>NaN</td>\n      <td>sitting</td>\n      <td>sedentary</td>\n      <td>not_walking</td>\n      <td>sedentary</td>\n    </tr>\n    <tr>\n      <th>509948</th>\n      <td>154</td>\n      <td>2</td>\n      <td>2020-02-23</td>\n      <td>2020-02-23 15:56:00</td>\n      <td>EDU- taking class, research, homework</td>\n      <td>work_education</td>\n      <td>NaN</td>\n      <td>sitting</td>\n      <td>sedentary</td>\n      <td>not_walking</td>\n      <td>sedentary</td>\n    </tr>\n  </tbody>\n</table>\n<p>509949 rows × 11 columns</p>\n</div>"
     },
     "execution_count": 35,
     "metadata": {},
     "output_type": "execute_result"
    }
   ],
   "source": [
    "sbs = sbs_5[['id', 'observation', 'date', 'date_time', 'activity_type', 'broad_activity_type', 'work_type', 'posture', 'sedentary_not', 'walking_not', 'activity_intensity']]\n",
    "sbs"
   ],
   "metadata": {
    "colab": {
     "base_uri": "https://localhost:8080/",
     "height": 597
    },
    "id": "eKBkhMwFHwYc",
    "outputId": "7ebff585-684f-487a-eb95-9afd55ed85a1",
    "ExecuteTime": {
     "end_time": "2024-02-14T22:11:47.505201500Z",
     "start_time": "2024-02-14T22:11:47.425157500Z"
    }
   },
   "id": "eKBkhMwFHwYc"
  },
  {
   "cell_type": "code",
   "execution_count": 36,
   "outputs": [
    {
     "data": {
      "text/plain": "Empty DataFrame\nColumns: [id, observation, date, date_time, activity_type, broad_activity_type, work_type, posture, sedentary_not, walking_not, activity_intensity]\nIndex: []",
      "text/html": "<div>\n<style scoped>\n    .dataframe tbody tr th:only-of-type {\n        vertical-align: middle;\n    }\n\n    .dataframe tbody tr th {\n        vertical-align: top;\n    }\n\n    .dataframe thead th {\n        text-align: right;\n    }\n</style>\n<table border=\"1\" class=\"dataframe\">\n  <thead>\n    <tr style=\"text-align: right;\">\n      <th></th>\n      <th>id</th>\n      <th>observation</th>\n      <th>date</th>\n      <th>date_time</th>\n      <th>activity_type</th>\n      <th>broad_activity_type</th>\n      <th>work_type</th>\n      <th>posture</th>\n      <th>sedentary_not</th>\n      <th>walking_not</th>\n      <th>activity_intensity</th>\n    </tr>\n  </thead>\n  <tbody>\n  </tbody>\n</table>\n</div>"
     },
     "execution_count": 36,
     "metadata": {},
     "output_type": "execute_result"
    }
   ],
   "source": [
    "# Check if there are any NaNs where there shouldn't be\n",
    "sbs[sbs[[\"broad_activity_type\", \"activity_type\", \"sedentary_not\", \"walking_not\", \"activity_intensity\", \"posture\"]].isna().any(axis=1)]"
   ],
   "metadata": {
    "id": "IMUmKBOhHv8F",
    "ExecuteTime": {
     "end_time": "2024-02-14T22:11:47.707575900Z",
     "start_time": "2024-02-14T22:11:47.528537700Z"
    }
   },
   "id": "IMUmKBOhHv8F"
  },
  {
   "cell_type": "code",
   "execution_count": 54,
   "outputs": [
    {
     "data": {
      "text/plain": "0 days 00:00:01    509901\nName: count, dtype: int64"
     },
     "execution_count": 54,
     "metadata": {},
     "output_type": "execute_result"
    }
   ],
   "source": [
    "# Check to make sure every time is incremented by 1 second\n",
    "sbs_check_time = sbs.copy()\n",
    "sbs_check_time[\"shift\"] = sbs_check_time.groupby([\"id\", \"observation\"])[\"date_time\"].shift(-1)\n",
    "(sbs_check_time[\"shift\"] - sbs_check_time[\"date_time\"]).value_counts()"
   ],
   "metadata": {
    "collapsed": false,
    "ExecuteTime": {
     "end_time": "2024-02-14T22:40:11.647382300Z",
     "start_time": "2024-02-14T22:40:11.446952100Z"
    }
   },
   "id": "ca667ebd8d1a4ca8"
  },
  {
   "cell_type": "code",
   "execution_count": 37,
   "outputs": [],
   "source": [
    "sbs.to_csv(\"ACT24_groundtruth_secbysec.csv\", index=False)"
   ],
   "metadata": {
    "collapsed": false,
    "ExecuteTime": {
     "end_time": "2024-02-14T22:11:53.305437500Z",
     "start_time": "2024-02-14T22:11:47.709739800Z"
    }
   },
   "id": "c4c44dba859437ea"
  },
  {
   "cell_type": "code",
   "execution_count": 56,
   "outputs": [
    {
     "data": {
      "text/plain": "id\n102    21648\n116    19069\n117    21691\n122    21810\n124    21598\n126    21611\n127    21602\n128    21361\n129    21616\n130    21601\n131    21026\n132    20506\n133    21552\n134    20694\n135    21611\n136    21611\n138    15608\n139    21604\n140    21581\n141    21670\n143    21602\n144    21661\n150    24563\n154    21053\nName: count, dtype: int64"
     },
     "execution_count": 56,
     "metadata": {},
     "output_type": "execute_result"
    }
   ],
   "source": [
    "sbs[\"id\"].value_counts().sort_index()"
   ],
   "metadata": {
    "collapsed": false,
    "ExecuteTime": {
     "end_time": "2024-02-14T23:15:26.795275500Z",
     "start_time": "2024-02-14T23:15:26.700185700Z"
    }
   },
   "id": "8e7e3a001cbf16f"
  },
  {
   "cell_type": "code",
   "execution_count": null,
   "outputs": [],
   "source": [],
   "metadata": {
    "collapsed": false
   },
   "id": "6b491491bfbc799d"
  }
 ],
 "metadata": {
  "kernelspec": {
   "display_name": "Python 3",
   "language": "python",
   "name": "python3"
  },
  "language_info": {
   "codemirror_mode": {
    "name": "ipython",
    "version": 2
   },
   "file_extension": ".py",
   "mimetype": "text/x-python",
   "name": "python",
   "nbconvert_exporter": "python",
   "pygments_lexer": "ipython2",
   "version": "2.7.6"
  },
  "colab": {
   "provenance": []
  }
 },
 "nbformat": 4,
 "nbformat_minor": 5
}
